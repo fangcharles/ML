{
 "cells": [
  {
   "cell_type": "markdown",
   "metadata": {},
   "source": [
    "# Toxic comments\n",
    "\n",
    "This notebook takes you though a complete iteration of Machine Learning Assignment 1 - Toxic comments. The assignment details (including links to download the data) can be found [here](https://docs.google.com/document/d/1WGYw99e5q6j5V0Zrf2HveagU6URt_kVvdR8B9HYQ99E/edit?usp=sharing). "
   ]
  },
  {
   "cell_type": "code",
   "execution_count": 1,
   "metadata": {},
   "outputs": [],
   "source": [
    "# all imports and magic commands\n",
    "import numpy as np\n",
    "import pandas as pd\n",
    "import matplotlib.pyplot as plt\n",
    "from my_measures import BinaryClassificationPerformance\n",
    "from sklearn.feature_extraction.text import HashingVectorizer\n",
    "from sklearn.feature_extraction.text import TfidfTransformer\n",
    "from scipy.sparse import csr_matrix, hstack\n",
    "from sklearn.preprocessing import StandardScaler\n",
    "from sklearn.preprocessing import PolynomialFeatures\n",
    "from sklearn.kernel_approximation import RBFSampler\n",
    "from sklearn.model_selection import train_test_split\n",
    "%matplotlib inline"
   ]
  },
  {
   "cell_type": "markdown",
   "metadata": {},
   "source": [
    "### IMPORTANT!!! Make sure you are using `BinaryClassificationPerformance` v1.02"
   ]
  },
  {
   "cell_type": "code",
   "execution_count": null,
   "metadata": {},
   "outputs": [],
   "source": [
    "help(BinaryClassificationPerformance)"
   ]
  },
  {
   "cell_type": "markdown",
   "metadata": {},
   "source": [
    "# Function for feature building and extraction on natural language data"
   ]
  },
  {
   "cell_type": "code",
   "execution_count": 2,
   "metadata": {},
   "outputs": [],
   "source": [
    "# function that takes raw data and completes all preprocessing required before model fits\n",
    "def process_raw_data(fn, my_random_seed, test=False):\n",
    "    toxic_data = pd.read_csv(fn)\n",
    "    if (not test):\n",
    "        # add an indicator for any toxic, severe toxic, obscene, threat, insult, or indentity hate\n",
    "        toxic_data['any_toxic'] = (toxic_data['toxic'] + toxic_data['severe_toxic'] + toxic_data['obscene'] + toxic_data['threat'] + toxic_data['insult'] + toxic_data['identity_hate'] > 0)\n",
    "    print(\"toxic_data is:\", type(toxic_data))\n",
    "    print(\"toxic_data has\", toxic_data.shape[0], \"rows and\", toxic_data.shape[1], \"columns\", \"\\n\")\n",
    "    print(\"the data types for each of the columns in toxic_data:\")\n",
    "    print(toxic_data.dtypes, \"\\n\")\n",
    "    print(\"the first 5 rows in toxic_data:\")\n",
    "    print(toxic_data.head(5))\n",
    "\n",
    "    if (not test):\n",
    "        print(\"The rate of 'toxic' Wikipedia comments in the dataset: \")\n",
    "        print(toxic_data['any_toxic'].mean())\n",
    "\n",
    "    if (not test): # fit_transform()\n",
    "        hv = HashingVectorizer(n_features=2 ** 14, alternate_sign=False, ngram_range=(1,2), token_pattern=r'\\b\\w+\\b', stop_words='english')       \n",
    "        X_hv = hv.fit_transform(toxic_data.comment_text)\n",
    "        fitted_transformations.append(hv)\n",
    "        print(\"Shape of HashingVectorizer X:\")\n",
    "        print(X_hv.shape)\n",
    "    else: # transform() \n",
    "        X_hv = fitted_transformations[0].transform(toxic_data.comment_text)\n",
    "        print(\"Shape of HashingVectorizer X:\")\n",
    "        print(X_hv.shape)\n",
    "    # submission condition is test: what's the diff between test and not test here?  \n",
    "    # 'fitted_transformations.append' vs. '.transform'.  Why in the test condition does transform the data\n",
    "    # \"fit\" computes the mean and std to be used for later scaling. (just a computation) \n",
    "    # \"transform\" uses a previously computed mean and std to autoscale the data\n",
    "        \n",
    "    if (not test):\n",
    "        chv = HashingVectorizer(n_features=2 ** 14, alternate_sign=False, analyzer='char_wb', ngram_range=(2,4))\n",
    "        X_chv = chv.fit_transform(toxic_data.comment_text)\n",
    "        fitted_transformations.append(chv)\n",
    "        print(\"Shape of HashingVectorizer char n_gram X:\")\n",
    "        print(X_chv.shape)\n",
    "    else:\n",
    "        X_chv = fitted_transformations[1].transform(toxic_data.comment_text)\n",
    "        print(\"Shape of HashingVectorizer char n_gram X:\")\n",
    "        print(X_chv.shape)\n",
    "    \n",
    "#     X_cv = hstack([X_hv, X_chv])\n",
    "#     print(\"Shape of Vectorizer combined X:\")\n",
    "#     print(X_cv.shape)\n",
    "    \n",
    "    # http://scikit-learn.org/stable/modules/generated/sklearn.feature_extraction.text.TfidfTransformer.html\n",
    "#     if (not test):\n",
    "#         transformer = TfidfTransformer()\n",
    "#         X_tfidf = transformer.fit_transform(X_cv)\n",
    "#         fitted_transformations.append(transformer)\n",
    "#     else:\n",
    "#         X_tfidf = fitted_transformations[1].transform(X_cv)\n",
    "    \n",
    "    if (not test):\n",
    "        transformer = TfidfTransformer()\n",
    "        X_tfidf = transformer.fit_transform(X_hv)\n",
    "        fitted_transformations.append(transformer)\n",
    "    else:\n",
    "        X_tfidf = fitted_transformations[2].transform(X_hv)\n",
    "\n",
    "    # character n-grams   \n",
    "    if (not test):\n",
    "        transformer_chv = TfidfTransformer()\n",
    "        X_tfidf_chv = transformer_chv.fit_transform(X_chv)\n",
    "        fitted_transformations.append(transformer_chv)\n",
    "    else:\n",
    "        X_tfidf_chv = fitted_transformations[3].transform(X_chv)\n",
    "    \n",
    "    # create additional quantitative features\n",
    "\n",
    "    # what does the form toxic_data['comment_text'] mean?\n",
    "    toxic_data['char_count'] = toxic_data['comment_text'].str.len()\n",
    "    toxic_data['Caps_count'] = toxic_data['comment_text'].str.count(r'[A-Z]')\n",
    "    toxic_data['Caps_ratio'] = pow((toxic_data['Caps_count']+1)/toxic_data['char_count'], 3)\n",
    "    \n",
    "    toxic_data['word_count'] = toxic_data['comment_text'].str.split(' ').str.len()\n",
    "    toxic_data['char_ratio'] = toxic_data['char_count']/toxic_data['word_count']\n",
    "    \n",
    "    toxic_data['punc_count_p'] = toxic_data['comment_text'].str.count(\"\\.\")\n",
    "    toxic_data['punc_count_exc'] = toxic_data['comment_text'].str.count(\"\\!\")\n",
    "    toxic_data['punc_count_q'] = toxic_data['comment_text'].str.count(\"\\?\")\n",
    "    toxic_data['punc_count_c'] = toxic_data['comment_text'].str.count(\"\\,\")\n",
    "    toxic_data['punc_count_a'] = toxic_data['comment_text'].str.count(\"\\*\")\n",
    "    toxic_data['punc_count_s'] = toxic_data['comment_text'].str.count(\"\\;\")\n",
    "    \n",
    "    toxic_data['punc_count'] = toxic_data['punc_count_s'] + toxic_data['punc_count_a'] + toxic_data['punc_count_c'] + toxic_data['punc_count_p'] + toxic_data['punc_count_exc'] + toxic_data['punc_count_q']\n",
    "    toxic_data['punc_ratio'] = toxic_data['punc_count']/toxic_data['word_count']\n",
    "    toxic_data['punc_exc_ratio'] = (toxic_data['punc_count_exc']+0.1) / (toxic_data['punc_count']+0.1)\n",
    "    toxic_data['punc_q_ratio'] = (toxic_data['punc_count_q']+0.1) / (toxic_data['punc_count']+0.1)\n",
    "    \n",
    "    toxic_data['Capsword_ratio'] = (toxic_data['Caps_count'] + toxic_data['punc_count'])/toxic_data['word_count']\n",
    "    \n",
    "    toxic_data['spaces_count'] = toxic_data['comment_text'].str.count(\" \")\n",
    "    toxic_data['spaces_ratio'] = toxic_data['spaces_count']/toxic_data['char_count']\n",
    "    toxic_data['spaceswords_ratio'] = toxic_data['spaces_count']/toxic_data['word_count']\n",
    "    \n",
    "    # count the number of consecutive caps letters\n",
    "    toxic_data['consCaps_count'] = toxic_data['comment_text'].str.count(r'[A-Z]{3}')\n",
    "    toxic_data['consCaps_ratio'] = toxic_data['consCaps_count']/toxic_data['char_count']\n",
    "    toxic_data['consCapsword_ratio'] = toxic_data['consCaps_count']/toxic_data['word_count']\n",
    "    \n",
    "#     toxic_data['word_count_f'] =(toxic_data['comment_text'].str.lower().str.count(\"fuck\"))\n",
    "#     toxic_data['word_count_s'] =(toxic_data['comment_text'].str.lower().str.count(\"shit\"))\n",
    "#     toxic_data['word_count_h'] =(toxic_data['comment_text'].str.lower().str.count(\"hell\"))\n",
    "    \n",
    "    # current count: 22 quant features\n",
    "    X_quant_features = toxic_data[[\"punc_q_ratio\", \"punc_exc_ratio\", \"punc_count_s\", \"punc_count_a\", \"punc_count_c\", \"consCapsword_ratio\", \"consCaps_ratio\", \"consCaps_count\", \"spaceswords_ratio\", \"spaces_ratio\", \"spaces_count\", \"char_count\", \"Caps_count\", \"Caps_ratio\", \"word_count\", \"char_ratio\", \"punc_count_p\", \"punc_count_exc\", \"punc_count_q\", \"punc_count\", \"punc_ratio\", \"Capsword_ratio\"]]\n",
    "    print(\"Look at a few rows of the new quantitative features: \")\n",
    "    print(X_quant_features.head(10))\n",
    "    \n",
    "    # Combine all quantitative features into a single sparse matrix\n",
    "    X_quant_features_csr = csr_matrix(X_quant_features)\n",
    "#     X_combined = hstack([X_tfidf, X_quant_features_csr])\n",
    "    X_combined = hstack([X_tfidf, X_tfidf_chv, X_quant_features_csr])\n",
    "    X_matrix = csr_matrix(X_combined) # convert to sparse matrix\n",
    "    print(\"Size of combined bag of words and new quantitative variables matrix:\")\n",
    "    print(X_matrix.shape)\n",
    "    \n",
    "    # Create `X`, scaled matrix of features\n",
    "    # feature scaling\n",
    "    if (not test):\n",
    "        sc = StandardScaler(with_mean=False)\n",
    "        X = sc.fit_transform(X_matrix)\n",
    "        fitted_transformations.append(sc)\n",
    "        print(X.shape)\n",
    "        y = toxic_data['any_toxic']\n",
    "    else:\n",
    "        X = fitted_transformations[4].transform(X_matrix)\n",
    "        print(X.shape)\n",
    "    \n",
    "\n",
    "#     # polynomialregression\n",
    "#     if (not test):\n",
    "#         poly = PolynomialFeatures(degree=2, interaction_only=True, order='F')\n",
    "#         X = poly.fit_transform(X_matrix)\n",
    "#         fitted_transformations.append(poly)\n",
    "#         print(X.shape)\n",
    "#         y = toxic_data['any_toxic']\n",
    "#     else:\n",
    "#         X = fitted_transformations[4].transform(X_matrix)\n",
    "#         print(X.shape)\n",
    "    \n",
    "    \n",
    "    # Create Training and Test Sets\n",
    "    # enter an integer for the random_state parameter; any integer will work\n",
    "    if (test):\n",
    "        X_submission_test = X\n",
    "        print(\"Shape of X_test for submission:\")\n",
    "        print(X_submission_test.shape)\n",
    "        print('SUCCESS!')\n",
    "        return(toxic_data, X_submission_test)\n",
    "    else: \n",
    "        X_train, X_test, y_train, y_test, X_raw_train, X_raw_test = train_test_split(X, y, toxic_data, test_size=0.2, random_state=my_random_seed)\n",
    "        print(\"Shape of X_train and X_test:\")\n",
    "        print(X_train.shape)\n",
    "        print(X_test.shape)\n",
    "        print(\"Shape of y_train and y_test:\")\n",
    "        print(y_train.shape)\n",
    "        print(y_test.shape)\n",
    "        print(\"Shape of X_raw_train and X_raw_test:\")\n",
    "        print(X_raw_train.shape)\n",
    "        print(X_raw_test.shape)\n",
    "        print('SUCCESS!')\n",
    "        return(X_train, X_test, y_train, y_test, X_raw_train, X_raw_test)"
   ]
  },
  {
   "cell_type": "markdown",
   "metadata": {},
   "source": [
    "# Create training and test sets from function"
   ]
  },
  {
   "cell_type": "code",
   "execution_count": 3,
   "metadata": {},
   "outputs": [
    {
     "name": "stdout",
     "output_type": "stream",
     "text": [
      "toxic_data is: <class 'pandas.core.frame.DataFrame'>\n",
      "toxic_data has 159571 rows and 9 columns \n",
      "\n",
      "the data types for each of the columns in toxic_data:\n",
      "id               object\n",
      "comment_text     object\n",
      "toxic             int64\n",
      "severe_toxic      int64\n",
      "obscene           int64\n",
      "threat            int64\n",
      "insult            int64\n",
      "identity_hate     int64\n",
      "any_toxic          bool\n",
      "dtype: object \n",
      "\n",
      "the first 5 rows in toxic_data:\n",
      "                 id                                       comment_text  toxic  \\\n",
      "0  0000997932d777bf  Explanation\\nWhy the edits made under my usern...      0   \n",
      "1  000103f0d9cfb60f  D'aww! He matches this background colour I'm s...      0   \n",
      "2  000113f07ec002fd  Hey man, I'm really not trying to edit war. It...      0   \n",
      "3  0001b41b1c6bb37e  \"\\nMore\\nI can't make any real suggestions on ...      0   \n",
      "4  0001d958c54c6e35  You, sir, are my hero. Any chance you remember...      0   \n",
      "\n",
      "   severe_toxic  obscene  threat  insult  identity_hate  any_toxic  \n",
      "0             0        0       0       0              0      False  \n",
      "1             0        0       0       0              0      False  \n",
      "2             0        0       0       0              0      False  \n",
      "3             0        0       0       0              0      False  \n",
      "4             0        0       0       0              0      False  \n",
      "The rate of 'toxic' Wikipedia comments in the dataset: \n",
      "0.10167887648758234\n",
      "Shape of HashingVectorizer X:\n",
      "(159571, 16384)\n",
      "Shape of HashingVectorizer char n_gram X:\n",
      "(159571, 16384)\n",
      "Look at a few rows of the new quantitative features: \n",
      "   punc_q_ratio  punc_exc_ratio  punc_count_s  punc_count_a  punc_count_c  \\\n",
      "0      0.154930        0.014085             0             0             1   \n",
      "1      0.019608        0.215686             0             0             2   \n",
      "2      0.024390        0.024390             0             0             1   \n",
      "3      0.019608        0.019608             0             0             2   \n",
      "4      0.268293        0.024390             0             0             2   \n",
      "5      0.047619        0.047619             0             0             1   \n",
      "6      1.000000        1.000000             0             0             0   \n",
      "7      0.032258        0.032258             0             0             1   \n",
      "8      0.108911        0.009901             0             0             2   \n",
      "9      1.000000        1.000000             0             0             0   \n",
      "\n",
      "   consCapsword_ratio  consCaps_ratio  consCaps_count  spaceswords_ratio  \\\n",
      "0            0.023810        0.003788               1           0.976190   \n",
      "1            0.055556        0.008929               1           0.944444   \n",
      "2            0.000000        0.000000               0           0.976190   \n",
      "3            0.000000        0.000000               0           0.991071   \n",
      "4            0.000000        0.000000               0           0.923077   \n",
      "5            0.000000        0.000000               0           0.916667   \n",
      "6            1.250000        0.227273              10           0.875000   \n",
      "7            0.000000        0.000000               0           0.952381   \n",
      "8            0.000000        0.000000               0           0.987952   \n",
      "9            0.000000        0.000000               0           0.916667   \n",
      "\n",
      "   spaces_ratio  ...  Caps_count  Caps_ratio  word_count  char_ratio  \\\n",
      "0      0.155303  ...          17    0.000317          42    6.285714   \n",
      "1      0.151786  ...           8    0.000519          18    6.222222   \n",
      "2      0.175966  ...           4    0.000010          42    5.547619   \n",
      "3      0.178457  ...          11    0.000007         112    5.553571   \n",
      "4      0.179104  ...           2    0.000090          13    5.153846   \n",
      "5      0.169231  ...           1    0.000029          12    5.416667   \n",
      "6      0.159091  ...          37    0.644159           8    5.500000   \n",
      "7      0.173913  ...           4    0.000082          21    5.476190   \n",
      "8      0.173729  ...           7    0.000005          83    5.686747   \n",
      "9      0.157143  ...           2    0.000079          12    5.833333   \n",
      "\n",
      "   punc_count_p  punc_count_exc  punc_count_q  punc_count  punc_ratio  \\\n",
      "0             5               0             1           7    0.166667   \n",
      "1             2               1             0           5    0.277778   \n",
      "2             3               0             0           4    0.095238   \n",
      "3             3               0             0           5    0.044643   \n",
      "4             1               0             1           4    0.307692   \n",
      "5             1               0             0           2    0.166667   \n",
      "6             0               0             0           0    0.000000   \n",
      "7             2               0             0           3    0.142857   \n",
      "8             7               0             1          10    0.120482   \n",
      "9             0               0             0           0    0.000000   \n",
      "\n",
      "   Capsword_ratio  \n",
      "0        0.571429  \n",
      "1        0.722222  \n",
      "2        0.190476  \n",
      "3        0.142857  \n",
      "4        0.461538  \n",
      "5        0.250000  \n",
      "6        4.625000  \n",
      "7        0.333333  \n",
      "8        0.204819  \n",
      "9        0.166667  \n",
      "\n",
      "[10 rows x 22 columns]\n",
      "Size of combined bag of words and new quantitative variables matrix:\n",
      "(159571, 32790)\n",
      "(159571, 32790)\n",
      "Shape of X_train and X_test:\n",
      "(127656, 32790)\n",
      "(31915, 32790)\n",
      "Shape of y_train and y_test:\n",
      "(127656,)\n",
      "(31915,)\n",
      "Shape of X_raw_train and X_raw_test:\n",
      "(127656, 31)\n",
      "(31915, 31)\n",
      "SUCCESS!\n",
      "Number of fits stored in `fitted_transformations` list: \n",
      "5\n"
     ]
    }
   ],
   "source": [
    "# create an empty list to store any use of fit_transform() to transform() later\n",
    "# it is a global list to store model and feature extraction fits\n",
    "fitted_transformations = []\n",
    "\n",
    "# CHANGE FILE PATH and my_random_seed number (any integer other than 74 will do): \n",
    "X_train, X_test, y_train, y_test, X_raw_train, X_raw_test = process_raw_data(fn='/Users/Charles/Desktop/ML/A1/toxiccomments_train.csv', my_random_seed=36)\n",
    "\n",
    "print(\"Number of fits stored in `fitted_transformations` list: \")\n",
    "print(len(fitted_transformations))"
   ]
  },
  {
   "cell_type": "markdown",
   "metadata": {},
   "source": [
    "# Fit (and tune) Various Models"
   ]
  },
  {
   "cell_type": "markdown",
   "metadata": {},
   "source": [
    "### MODEL: ordinary least squares"
   ]
  },
  {
   "cell_type": "code",
   "execution_count": 182,
   "metadata": {},
   "outputs": [
    {
     "name": "stderr",
     "output_type": "stream",
     "text": [
      "C:\\ProgramData\\Anaconda3\\lib\\site-packages\\sklearn\\linear_model\\_stochastic_gradient.py:570: ConvergenceWarning: Maximum number of iteration reached before convergence. Consider increasing max_iter to improve the fit.\n",
      "  warnings.warn(\"Maximum number of iteration reached before \"\n"
     ]
    },
    {
     "name": "stdout",
     "output_type": "stream",
     "text": [
      "{'Pos': 12951, 'Neg': 114705, 'TP': 6811, 'TN': 53846, 'FP': 60859, 'FN': 6140, 'Accuracy': 0.47515980447452527, 'Precision': 0.10065021427515886, 'Recall': 0.5259053354953286, 'desc': 'ols_train'}\n",
      "False Positive Rate:\n",
      "0.5305697223311974\n",
      "True Positive Rate:\n",
      "0.5259053354953286\n"
     ]
    }
   ],
   "source": [
    "from sklearn import linear_model\n",
    "ols = linear_model.SGDClassifier(loss=\"squared_loss\")\n",
    "ols.fit(X_train, y_train)\n",
    "\n",
    "ols_performance_train = BinaryClassificationPerformance(ols.predict(X_train), y_train, 'ols_train')\n",
    "ols_performance_train.compute_measures()\n",
    "print(ols_performance_train.performance_measures)\n",
    "print(\"False Positive Rate:\")\n",
    "print(ols_performance_train.performance_measures['FP'] / ols_performance_train.performance_measures['Neg'])\n",
    "print(\"True Positive Rate:\")\n",
    "print(ols_performance_train.performance_measures['TP'] / ols_performance_train.performance_measures['Pos'])"
   ]
  },
  {
   "cell_type": "markdown",
   "metadata": {},
   "source": [
    "### MODEL: SVM, linear"
   ]
  },
  {
   "cell_type": "code",
   "execution_count": 252,
   "metadata": {},
   "outputs": [
    {
     "name": "stdout",
     "output_type": "stream",
     "text": [
      "{'Pos': 12951, 'Neg': 114705, 'TP': 12930, 'TN': 114651, 'FP': 54, 'FN': 21, 'Accuracy': 0.9994124835495394, 'Precision': 0.9958410351201479, 'Recall': 0.9983785035904563, 'desc': 'svm_train'}\n",
      "False Positive Rate:\n",
      "0.0004707728520988623\n",
      "True Positive Rate:\n",
      "0.9983785035904563\n"
     ]
    }
   ],
   "source": [
    "from sklearn import linear_model\n",
    "svm = linear_model.SGDClassifier()\n",
    "svm.fit(X_train, y_train)\n",
    "\n",
    "svm_performance_train = BinaryClassificationPerformance(svm.predict(X_train), y_train, 'svm_train')\n",
    "svm_performance_train.compute_measures()\n",
    "print(svm_performance_train.performance_measures)\n",
    "print(\"False Positive Rate:\")\n",
    "print(svm_performance_train.performance_measures['FP'] / svm_performance_train.performance_measures['Neg'])\n",
    "print(\"True Positive Rate:\")\n",
    "print(svm_performance_train.performance_measures['TP'] / svm_performance_train.performance_measures['Pos'])"
   ]
  },
  {
   "cell_type": "markdown",
   "metadata": {},
   "source": [
    "### MODEL: logistic regression"
   ]
  },
  {
   "cell_type": "code",
   "execution_count": 253,
   "metadata": {},
   "outputs": [
    {
     "name": "stdout",
     "output_type": "stream",
     "text": [
      "{'Pos': 12951, 'Neg': 114705, 'TP': 12931, 'TN': 114687, 'FP': 18, 'FN': 20, 'Accuracy': 0.9997023249984333, 'Precision': 0.9986099312688238, 'Recall': 0.9984557177051965, 'desc': 'lgs_train'}\n",
      "False Positive Rate:\n",
      "0.0001569242840329541\n",
      "True Positive Rate:\n",
      "0.9984557177051965\n"
     ]
    }
   ],
   "source": [
    "from sklearn import linear_model\n",
    "lgs = linear_model.SGDClassifier(loss='log')\n",
    "lgs.fit(X_train, y_train)\n",
    "\n",
    "lgs_performance_train = BinaryClassificationPerformance(lgs.predict(X_train), y_train, 'lgs_train')\n",
    "lgs_performance_train.compute_measures()\n",
    "print(lgs_performance_train.performance_measures)\n",
    "print(\"False Positive Rate:\")\n",
    "print(lgs_performance_train.performance_measures['FP'] / lgs_performance_train.performance_measures['Neg'])\n",
    "print(\"True Positive Rate:\")\n",
    "print(lgs_performance_train.performance_measures['TP'] / lgs_performance_train.performance_measures['Pos'])"
   ]
  },
  {
   "cell_type": "markdown",
   "metadata": {},
   "source": [
    "### MODEL: Naive Bayes"
   ]
  },
  {
   "cell_type": "code",
   "execution_count": 18,
   "metadata": {},
   "outputs": [
    {
     "name": "stdout",
     "output_type": "stream",
     "text": [
      "{'Pos': 12951, 'Neg': 114705, 'TP': 11339, 'TN': 103400, 'FP': 11305, 'FN': 1612, 'Accuracy': 0.8988140001253369, 'Precision': 0.5007507507507507, 'Recall': 0.8755308470388387, 'desc': 'nbs_train'}\n",
      "False Positive Rate:\n",
      "0.09855716838847478\n",
      "True Positive Rate:\n",
      "0.8755308470388387\n"
     ]
    }
   ],
   "source": [
    "from sklearn.naive_bayes import MultinomialNB\n",
    "nbs = MultinomialNB()\n",
    "nbs.fit(X_train, y_train)\n",
    "\n",
    "nbs_performance_train = BinaryClassificationPerformance(nbs.predict(X_train), y_train, 'nbs_train')\n",
    "nbs_performance_train.compute_measures()\n",
    "print(nbs_performance_train.performance_measures)\n",
    "print(\"False Positive Rate:\")\n",
    "print(nbs_performance_train.performance_measures['FP'] / nbs_performance_train.performance_measures['Neg'])\n",
    "print(\"True Positive Rate:\")\n",
    "print(nbs_performance_train.performance_measures['TP'] / nbs_performance_train.performance_measures['Pos'])"
   ]
  },
  {
   "cell_type": "markdown",
   "metadata": {},
   "source": [
    "### MODEL: Perceptron"
   ]
  },
  {
   "cell_type": "code",
   "execution_count": 254,
   "metadata": {},
   "outputs": [
    {
     "name": "stdout",
     "output_type": "stream",
     "text": [
      "{'Pos': 12951, 'Neg': 114705, 'TP': 12914, 'TN': 114623, 'FP': 82, 'FN': 37, 'Accuracy': 0.9990678072319358, 'Precision': 0.9936903662665435, 'Recall': 0.9971430777546135, 'desc': 'prc_train'}\n",
      "False Positive Rate:\n",
      "0.000714877293927902\n",
      "True Positive Rate:\n",
      "0.9971430777546135\n"
     ]
    }
   ],
   "source": [
    "from sklearn import linear_model\n",
    "prc = linear_model.SGDClassifier(loss='perceptron')\n",
    "prc.fit(X_train, y_train)\n",
    "\n",
    "prc_performance_train = BinaryClassificationPerformance(prc.predict(X_train), y_train, 'prc_train')\n",
    "prc_performance_train.compute_measures()\n",
    "print(prc_performance_train.performance_measures)\n",
    "print(\"False Positive Rate:\")\n",
    "print(prc_performance_train.performance_measures['FP'] / prc_performance_train.performance_measures['Neg'])\n",
    "print(\"True Positive Rate:\")\n",
    "print(prc_performance_train.performance_measures['TP'] / prc_performance_train.performance_measures['Pos'])"
   ]
  },
  {
   "cell_type": "markdown",
   "metadata": {},
   "source": [
    "### MODEL: Ridge Regression Classifier"
   ]
  },
  {
   "cell_type": "code",
   "execution_count": 102,
   "metadata": {},
   "outputs": [
    {
     "name": "stdout",
     "output_type": "stream",
     "text": [
      "{'Pos': 12951, 'Neg': 114705, 'TP': 12487, 'TN': 114655, 'FP': 50, 'FN': 464, 'Accuracy': 0.9959735539261766, 'Precision': 0.9960118050570312, 'Recall': 0.964172650760559, 'desc': 'tr0'}\n"
     ]
    }
   ],
   "source": [
    "from sklearn import linear_model\n",
    "rdg = linear_model.RidgeClassifier(alpha=1.0)\n",
    "rdg.fit(X_train, y_train)\n",
    "\n",
    "rdg_performance_train = BinaryClassificationPerformance(rdg.predict(X_train), y_train, 'tr0')\n",
    "rdg_performance_train.compute_measures()\n",
    "print(rdg_performance_train.performance_measures)"
   ]
  },
  {
   "cell_type": "code",
   "execution_count": 19,
   "metadata": {},
   "outputs": [
    {
     "name": "stdout",
     "output_type": "stream",
     "text": [
      "{'Pos': 12951, 'Neg': 114705, 'TP': 12465, 'TN': 114656, 'FP': 49, 'FN': 486, 'Accuracy': 0.9958090493200477, 'Precision': 0.9960843854882532, 'Recall': 0.9624739402362752, 'desc': 'tr1'}\n"
     ]
    }
   ],
   "source": [
    "from sklearn import linear_model\n",
    "rdg1 = linear_model.RidgeClassifier(alpha=10)\n",
    "rdg1.fit(X_train, y_train)\n",
    "\n",
    "rdg_performance_train_1 = BinaryClassificationPerformance(rdg1.predict(X_train), y_train, 'tr1')\n",
    "rdg_performance_train_1.compute_measures()\n",
    "print(rdg_performance_train_1.performance_measures)"
   ]
  },
  {
   "cell_type": "code",
   "execution_count": 20,
   "metadata": {},
   "outputs": [
    {
     "name": "stdout",
     "output_type": "stream",
     "text": [
      "{'Pos': 12951, 'Neg': 114705, 'TP': 12452, 'TN': 114656, 'FP': 49, 'FN': 499, 'Accuracy': 0.9957072131353011, 'Precision': 0.996080313574914, 'Recall': 0.961470156744653, 'desc': 'tr2'}\n"
     ]
    }
   ],
   "source": [
    "from sklearn import linear_model\n",
    "rdg2 = linear_model.RidgeClassifier(alpha=100)\n",
    "rdg2.fit(X_train, y_train)\n",
    "\n",
    "rdg_performance_train_2 = BinaryClassificationPerformance(rdg2.predict(X_train), y_train, 'tr2')\n",
    "rdg_performance_train_2.compute_measures()\n",
    "print(rdg_performance_train_2.performance_measures)"
   ]
  },
  {
   "cell_type": "code",
   "execution_count": 21,
   "metadata": {},
   "outputs": [
    {
     "name": "stdout",
     "output_type": "stream",
     "text": [
      "{'Pos': 12951, 'Neg': 114705, 'TP': 9419, 'TN': 114629, 'FP': 76, 'FN': 3532, 'Accuracy': 0.9717365419565082, 'Precision': 0.9919957872564508, 'Recall': 0.7272797467377037, 'desc': 'tr5'}\n"
     ]
    }
   ],
   "source": [
    "from sklearn import linear_model\n",
    "rdg5 = linear_model.RidgeClassifier(alpha=100000)\n",
    "rdg5.fit(X_train, y_train)\n",
    "\n",
    "rdg_performance_train_5 = BinaryClassificationPerformance(rdg5.predict(X_train), y_train, 'tr5')\n",
    "rdg_performance_train_5.compute_measures()\n",
    "print(rdg_performance_train_5.performance_measures)"
   ]
  },
  {
   "cell_type": "code",
   "execution_count": 22,
   "metadata": {},
   "outputs": [
    {
     "name": "stdout",
     "output_type": "stream",
     "text": [
      "{'Pos': 12951, 'Neg': 114705, 'TP': 12466, 'TN': 114656, 'FP': 49, 'FN': 485, 'Accuracy': 0.9958168828727204, 'Precision': 0.9960846983619657, 'Recall': 0.9625511543510153, 'desc': 'tr-7'}\n"
     ]
    }
   ],
   "source": [
    "from sklearn import linear_model\n",
    "rdg7 = linear_model.RidgeClassifier(alpha=0.0000001)\n",
    "rdg7.fit(X_train, y_train)\n",
    "\n",
    "rdg_performance_train_7 = BinaryClassificationPerformance(rdg7.predict(X_train), y_train, 'tr-7')\n",
    "rdg_performance_train_7.compute_measures()\n",
    "print(rdg_performance_train_7.performance_measures)"
   ]
  },
  {
   "cell_type": "code",
   "execution_count": 31,
   "metadata": {},
   "outputs": [
    {
     "name": "stdout",
     "output_type": "stream",
     "text": [
      "{'Pos': 12951, 'Neg': 114705, 'TP': 12468, 'TN': 114657, 'FP': 48, 'FN': 483, 'Accuracy': 0.9958403835307389, 'Precision': 0.9961649089165868, 'Recall': 0.9627055825804958, 'desc': 'tr-13'}\n"
     ]
    }
   ],
   "source": [
    "from sklearn import linear_model\n",
    "rdg9 = linear_model.RidgeClassifier(alpha=0.000000001)\n",
    "rdg9.fit(X_train, y_train)\n",
    "\n",
    "rdg_performance_train_9 = BinaryClassificationPerformance(rdg9.predict(X_train), y_train, 'tr-9')\n",
    "rdg_performance_train_9.compute_measures()\n",
    "print(rdg_performance_train_9.performance_measures)"
   ]
  },
  {
   "cell_type": "code",
   "execution_count": 44,
   "metadata": {},
   "outputs": [
    {
     "name": "stdout",
     "output_type": "stream",
     "text": [
      "{'Pos': 12951, 'Neg': 114705, 'TP': 12465, 'TN': 114656, 'FP': 49, 'FN': 486, 'Accuracy': 0.9958090493200477, 'Precision': 0.9960843854882532, 'Recall': 0.9624739402362752, 'desc': 'tr-11'}\n"
     ]
    }
   ],
   "source": [
    "from sklearn import linear_model\n",
    "rdg11 = linear_model.RidgeClassifier(alpha=0.00000000001)\n",
    "rdg11.fit(X_train, y_train)\n",
    "\n",
    "rdg_performance_train_11 = BinaryClassificationPerformance(rdg11.predict(X_train), y_train, 'tr-11')\n",
    "rdg_performance_train_11.compute_measures()\n",
    "print(rdg_performance_train_11.performance_measures)"
   ]
  },
  {
   "cell_type": "code",
   "execution_count": 31,
   "metadata": {},
   "outputs": [
    {
     "name": "stdout",
     "output_type": "stream",
     "text": [
      "{'Pos': 12951, 'Neg': 114705, 'TP': 12468, 'TN': 114657, 'FP': 48, 'FN': 483, 'Accuracy': 0.9958403835307389, 'Precision': 0.9961649089165868, 'Recall': 0.9627055825804958, 'desc': 'tr-13'}\n"
     ]
    }
   ],
   "source": [
    "from sklearn import linear_model\n",
    "rdg13 = linear_model.RidgeClassifier(alpha=0.0000000000001)\n",
    "rdg13.fit(X_train, y_train)\n",
    "\n",
    "rdg_performance_train_13 = BinaryClassificationPerformance(rdg13.predict(X_train), y_train, 'tr-13')\n",
    "rdg_performance_train_13.compute_measures()\n",
    "print(rdg_performance_train_13.performance_measures)"
   ]
  },
  {
   "cell_type": "code",
   "execution_count": 45,
   "metadata": {},
   "outputs": [
    {
     "name": "stdout",
     "output_type": "stream",
     "text": [
      "{'Pos': 12951, 'Neg': 114705, 'TP': 12468, 'TN': 114657, 'FP': 48, 'FN': 483, 'Accuracy': 0.9958403835307389, 'Precision': 0.9961649089165868, 'Recall': 0.9627055825804958, 'desc': 'tr-13'}\n"
     ]
    }
   ],
   "source": [
    "from sklearn import linear_model\n",
    "rdg19 = linear_model.RidgeClassifier(alpha=0.0000000000000000001)\n",
    "rdg19.fit(X_train, y_train)\n",
    "\n",
    "rdg_performance_train_19 = BinaryClassificationPerformance(rdg19.predict(X_train), y_train, 'tr-19')\n",
    "rdg_performance_train_19.compute_measures()\n",
    "print(rdg_performance_train_13.performance_measures)"
   ]
  },
  {
   "cell_type": "markdown",
   "metadata": {},
   "source": [
    "### MODEL: Random Forest Classifier"
   ]
  },
  {
   "cell_type": "code",
   "execution_count": 52,
   "metadata": {},
   "outputs": [
    {
     "name": "stdout",
     "output_type": "stream",
     "text": [
      "{'Pos': 12951, 'Neg': 114705, 'TP': 12914, 'TN': 114704, 'FP': 1, 'FN': 37, 'Accuracy': 0.9997023249984333, 'Precision': 0.9999225706542779, 'Recall': 0.9971430777546135, 'desc': 'rdf_train_50'}\n"
     ]
    }
   ],
   "source": [
    "from sklearn.ensemble import RandomForestClassifier\n",
    "rdf_50 = RandomForestClassifier(n_estimators=50, random_state=0)\n",
    "# manipulate max_depth\n",
    "rdf_50.fit(X_train, y_train)\n",
    "\n",
    "rdf_performance_train_50 = BinaryClassificationPerformance(rdf_50.predict(X_train), y_train, 'rdf_train_50')\n",
    "rdf_performance_train_50.compute_measures()\n",
    "print(rdf_performance_train_50.performance_measures)"
   ]
  },
  {
   "cell_type": "code",
   "execution_count": 51,
   "metadata": {},
   "outputs": [
    {
     "name": "stdout",
     "output_type": "stream",
     "text": [
      "{'Pos': 12951, 'Neg': 114705, 'TP': 8632, 'TN': 114705, 'FP': 0, 'FN': 4319, 'Accuracy': 0.9661668860061415, 'Precision': 1.0, 'Recall': 0.6665122384371863, 'desc': 'rdf_train_100'}\n"
     ]
    }
   ],
   "source": [
    "from sklearn.ensemble import RandomForestClassifier\n",
    "rdf_100 = RandomForestClassifier(max_depth=40, n_estimators=100, random_state=0)\n",
    "# manipulate max_depth\n",
    "rdf_100.fit(X_train, y_train)\n",
    "\n",
    "rdf_performance_train_100 = BinaryClassificationPerformance(rdf_100.predict(X_train), y_train, 'rdf_train_100')\n",
    "rdf_performance_train_100.compute_measures()\n",
    "print(rdf_performance_train_100.performance_measures)"
   ]
  },
  {
   "cell_type": "code",
   "execution_count": 48,
   "metadata": {},
   "outputs": [
    {
     "name": "stdout",
     "output_type": "stream",
     "text": [
      "{'Pos': 12951, 'Neg': 114705, 'TP': 12914, 'TN': 114704, 'FP': 1, 'FN': 37, 'Accuracy': 0.9997023249984333, 'Precision': 0.9999225706542779, 'Recall': 0.9971430777546135, 'desc': 'rdf_train_50'}\n"
     ]
    }
   ],
   "source": [
    "from sklearn.ensemble import RandomForestClassifier\n",
    "rdf_150 = RandomForestClassifier(max_depth=40, n_estimators=125, random_state=0)\n",
    "# manipulate max_depth\n",
    "rdf_150.fit(X_train, y_train)\n",
    "\n",
    "rdf_performance_train_150 = BinaryClassificationPerformance(rdf_150.predict(X_train), y_train, 'rdf_train_150')\n",
    "rdf_performance_train_150.compute_measures()\n",
    "print(rdf_performance_train_150.performance_measures)"
   ]
  },
  {
   "cell_type": "code",
   "execution_count": 48,
   "metadata": {},
   "outputs": [
    {
     "name": "stdout",
     "output_type": "stream",
     "text": [
      "{'Pos': 12951, 'Neg': 114705, 'TP': 12914, 'TN': 114704, 'FP': 1, 'FN': 37, 'Accuracy': 0.9997023249984333, 'Precision': 0.9999225706542779, 'Recall': 0.9971430777546135, 'desc': 'rdf_train_50'}\n"
     ]
    }
   ],
   "source": [
    "from sklearn.ensemble import RandomForestClassifier\n",
    "rdf_200 = RandomForestClassifier(n_estimators=150, random_state=0)\n",
    "# manipulate max_depth\n",
    "rdf_200.fit(X_train, y_train)\n",
    "\n",
    "rdf_performance_train_200 = BinaryClassificationPerformance(rdf_200.predict(X_train), y_train, 'rdf_train_200')\n",
    "rdf_performance_train_200.compute_measures()\n",
    "print(rdf_performance_train_200.performance_measures)"
   ]
  },
  {
   "cell_type": "markdown",
   "metadata": {},
   "source": [
    "### MODEL: Random Forest Classifier"
   ]
  },
  {
   "cell_type": "code",
   "execution_count": 6,
   "metadata": {},
   "outputs": [
    {
     "name": "stdout",
     "output_type": "stream",
     "text": [
      "{'Pos': 12951, 'Neg': 114705, 'TP': 10637, 'TN': 114705, 'FP': 0, 'FN': 2314, 'Accuracy': 0.9818731591151219, 'Precision': 1.0, 'Recall': 0.8213265384912362, 'desc': 'rdf_train_60'}\n"
     ]
    }
   ],
   "source": [
    "from sklearn.ensemble import RandomForestClassifier\n",
    "rdf_60 = RandomForestClassifier(max_depth=60, random_state=0)\n",
    "# manipulate max_depth\n",
    "rdf_60.fit(X_train, y_train)\n",
    "\n",
    "rdf_performance_train_60 = BinaryClassificationPerformance(rdf_60.predict(X_train), y_train, 'rdf_train_60')\n",
    "rdf_performance_train_60.compute_measures()\n",
    "print(rdf_performance_train_60.performance_measures)"
   ]
  },
  {
   "cell_type": "code",
   "execution_count": 7,
   "metadata": {},
   "outputs": [
    {
     "name": "stdout",
     "output_type": "stream",
     "text": [
      "{'Pos': 12951, 'Neg': 114705, 'TP': 11756, 'TN': 114705, 'FP': 0, 'FN': 1195, 'Accuracy': 0.9906389045559942, 'Precision': 1.0, 'Recall': 0.9077291328854915, 'desc': 'rdf_train_80'}\n"
     ]
    }
   ],
   "source": [
    "from sklearn.ensemble import RandomForestClassifier\n",
    "rdf_80 = RandomForestClassifier(max_depth=80, random_state=0)\n",
    "# manipulate max_depth\n",
    "rdf_80.fit(X_train, y_train)\n",
    "\n",
    "rdf_performance_train_80 = BinaryClassificationPerformance(rdf_80.predict(X_train), y_train, 'rdf_train_80')\n",
    "rdf_performance_train_80.compute_measures()\n",
    "print(rdf_performance_train_80.performance_measures)"
   ]
  },
  {
   "cell_type": "code",
   "execution_count": 9,
   "metadata": {},
   "outputs": [
    {
     "name": "stdout",
     "output_type": "stream",
     "text": [
      "{'Pos': 12951, 'Neg': 114705, 'TP': 12493, 'TN': 114705, 'FP': 0, 'FN': 458, 'Accuracy': 0.9964122328758539, 'Precision': 1.0, 'Recall': 0.9646359354490001, 'desc': 'rdf_train_100'}\n"
     ]
    }
   ],
   "source": [
    "from sklearn.ensemble import RandomForestClassifier\n",
    "rdf_100 = RandomForestClassifier(max_depth=100, random_state=0)\n",
    "# manipulate max_depth\n",
    "rdf_100.fit(X_train, y_train)\n",
    "\n",
    "rdf_performance_train_100 = BinaryClassificationPerformance(rdf_100.predict(X_train), y_train, 'rdf_train_100')\n",
    "rdf_performance_train_100.compute_measures()\n",
    "print(rdf_performance_train_100.performance_measures)"
   ]
  },
  {
   "cell_type": "code",
   "execution_count": 24,
   "metadata": {},
   "outputs": [
    {
     "name": "stdout",
     "output_type": "stream",
     "text": [
      "{'Pos': 12951, 'Neg': 114705, 'TP': 12761, 'TN': 114705, 'FP': 0, 'FN': 190, 'Accuracy': 0.9985116249921665, 'Precision': 1.0, 'Recall': 0.9853293181993669, 'desc': 'rdf_train_120'}\n"
     ]
    }
   ],
   "source": [
    "from sklearn.ensemble import RandomForestClassifier\n",
    "rdf_120 = RandomForestClassifier(max_depth=120, random_state=0)\n",
    "# manipulate max_depth\n",
    "rdf_120.fit(X_train, y_train)\n",
    "\n",
    "rdf_performance_train_120 = BinaryClassificationPerformance(rdf_120.predict(X_train), y_train, 'rdf_train_120')\n",
    "rdf_performance_train_120.compute_measures()\n",
    "print(rdf_performance_train_120.performance_measures)"
   ]
  },
  {
   "cell_type": "code",
   "execution_count": 14,
   "metadata": {},
   "outputs": [
    {
     "name": "stdout",
     "output_type": "stream",
     "text": [
      "{'Pos': 12951, 'Neg': 114705, 'TP': 12906, 'TN': 114705, 'FP': 0, 'FN': 45, 'Accuracy': 0.9996474901297236, 'Precision': 1.0, 'Recall': 0.9965253648366922, 'desc': 'rdf_train_140'}\n"
     ]
    }
   ],
   "source": [
    "from sklearn.ensemble import RandomForestClassifier\n",
    "rdf_140 = RandomForestClassifier(max_depth=140, random_state=0)\n",
    "# manipulate max_depth\n",
    "rdf_140.fit(X_train, y_train)\n",
    "\n",
    "rdf_performance_train_140 = BinaryClassificationPerformance(rdf_140.predict(X_train), y_train, 'rdf_train_140')\n",
    "rdf_performance_train_140.compute_measures()\n",
    "print(rdf_performance_train_140.performance_measures)"
   ]
  },
  {
   "cell_type": "code",
   "execution_count": 40,
   "metadata": {},
   "outputs": [
    {
     "name": "stdout",
     "output_type": "stream",
     "text": [
      "{'Pos': 12951, 'Neg': 114705, 'TP': 5246, 'TN': 114705, 'FP': 0, 'FN': 7705, 'Accuracy': 0.9396424766560131, 'Precision': 1.0, 'Recall': 0.4050652459269555, 'desc': 'rdf_train_20e'}\n"
     ]
    }
   ],
   "source": [
    "from sklearn.ensemble import RandomForestClassifier\n",
    "rdf_20e = RandomForestClassifier(max_depth=20, criterion=\"entropy\", random_state=0)\n",
    "# manipulate max_depth\n",
    "rdf_20e.fit(X_train, y_train)\n",
    "\n",
    "rdf_performance_train_20e = BinaryClassificationPerformance(rdf_20e.predict(X_train), y_train, 'rdf_train_20e')\n",
    "rdf_performance_train_20e.compute_measures()\n",
    "print(rdf_performance_train_20e.performance_measures)"
   ]
  },
  {
   "cell_type": "code",
   "execution_count": null,
   "metadata": {},
   "outputs": [],
   "source": [
    "from sklearn.ensemble import RandomForestClassifier\n",
    "rdf_140e = RandomForestClassifier(max_depth=140, class_weight=\"balanced\", random_state=0)\n",
    "# manipulate max_depth\n",
    "rdf_140e.fit(X_train, y_train)\n",
    "\n",
    "rdf_performance_train_140e = BinaryClassificationPerformance(rdf_140e.predict(X_train), y_train, 'rdf_train_140e')\n",
    "rdf_performance_train_140e.compute_measures()\n",
    "print(rdf_performance_train_140e.performance_measures)"
   ]
  },
  {
   "cell_type": "markdown",
   "metadata": {},
   "source": [
    "### ROC plot to compare performance of various models and fits"
   ]
  },
  {
   "cell_type": "code",
   "execution_count": null,
   "metadata": {
    "scrolled": false
   },
   "outputs": [],
   "source": [
    "fits = [ols_performance_train, svm_performance_train, lgs_performance_train, nbs_performance_train, prc_performance_train]\n",
    "\n",
    "for fit in fits:\n",
    "    plt.plot(fit.performance_measures['FP'] / fit.performance_measures['Neg'], \n",
    "             fit.performance_measures['TP'] / fit.performance_measures['Pos'], 'bo')\n",
    "    plt.text(fit.performance_measures['FP'] / fit.performance_measures['Neg'], \n",
    "             fit.performance_measures['TP'] / fit.performance_measures['Pos'], fit.desc)\n",
    "plt.axis([0, 1, 0, 1])\n",
    "plt.title('ROC plot: training set')\n",
    "plt.xlabel('False positive rate')\n",
    "plt.ylabel('True positive rate')\n",
    "plt.show()"
   ]
  },
  {
   "cell_type": "code",
   "execution_count": null,
   "metadata": {
    "scrolled": false
   },
   "outputs": [],
   "source": [
    "fits = [rdg_performance_train, rdg_performance_train_1, rdg_performance_train_2, rdg_performance_train_7, rdg_performance_train_9, rdg_performance_train_13, rdg_performance_train_19]\n",
    "\n",
    "for fit in fits:\n",
    "    plt.plot(fit.performance_measures['FP'] / fit.performance_measures['Neg'], \n",
    "             fit.performance_measures['TP'] / fit.performance_measures['Pos'], 'bo')\n",
    "    plt.text(fit.performance_measures['FP'] / fit.performance_measures['Neg'], \n",
    "             fit.performance_measures['TP'] / fit.performance_measures['Pos'], fit.desc)\n",
    "plt.axis([0.000415, 0.00043, 0.961, .963])\n",
    "plt.title('ROC plot Ridge Regression: training set')\n",
    "plt.xlabel('False positive rate')\n",
    "plt.ylabel('True positive rate')\n",
    "plt.show()"
   ]
  },
  {
   "cell_type": "markdown",
   "metadata": {},
   "source": [
    "### ROC plot: Random Forest Experiment - Training"
   ]
  },
  {
   "cell_type": "code",
   "execution_count": null,
   "metadata": {
    "scrolled": false
   },
   "outputs": [],
   "source": [
    "# test max_depth\n",
    "fits = [rdf_performance_train_20, rdf_performance_train_40, rdf_performance_train_60, rdf_performance_train_80, rdf_performance_train_100, rdf_performance_train_120, rdf_performance_train_140]\n",
    "\n",
    "for fit in fits:\n",
    "    plt.plot(fit.performance_measures['FP'] / fit.performance_measures['Neg'], \n",
    "             fit.performance_measures['TP'] / fit.performance_measures['Pos'], 'bo')\n",
    "    plt.text(fit.performance_measures['FP'] / fit.performance_measures['Neg'], \n",
    "             fit.performance_measures['TP'] / fit.performance_measures['Pos'], fit.desc)\n",
    "plt.axis([0, 1, 0, 1])\n",
    "plt.title('ROC plot Ridge Regression: training set')\n",
    "plt.xlabel('False positive rate')\n",
    "plt.ylabel('True positive rate')\n",
    "plt.rcParams['figure.figsize'] = (15, 15)\n",
    "plt.show()"
   ]
  },
  {
   "cell_type": "code",
   "execution_count": 31,
   "metadata": {
    "scrolled": false
   },
   "outputs": [
    {
     "data": {
      "image/png": "[encoded data removed]",
      "text/plain": [
       "<Figure size 1080x1080 with 1 Axes>"
      ]
     },
     "metadata": {
      "needs_background": "light"
     },
     "output_type": "display_data"
    }
   ],
   "source": [
    "# test criterion\n",
    "fits = [rdf_performance_train_20, rdf_performance_train_140, rdf_performance_train_20e, rdf_performance_train_140e]\n",
    "\n",
    "for fit in fits:\n",
    "    plt.plot(fit.performance_measures['FP'] / fit.performance_measures['Neg'], \n",
    "             fit.performance_measures['TP'] / fit.performance_measures['Pos'], 'bo')\n",
    "    plt.text(fit.performance_measures['FP'] / fit.performance_measures['Neg'], \n",
    "             fit.performance_measures['TP'] / fit.performance_measures['Pos'], fit.desc)\n",
    "plt.axis([0, 1, 0, 1])\n",
    "plt.title('ROC plot Ridge Regression: training set')\n",
    "plt.xlabel('False positive rate')\n",
    "plt.ylabel('True positive rate')\n",
    "plt.rcParams['figure.figsize'] = (15, 15)\n",
    "plt.show()"
   ]
  },
  {
   "cell_type": "markdown",
   "metadata": {},
   "source": [
    "### looking at reviews based on their classification\n",
    "\n",
    "Let's say we decide that Ordinary Least Squares (OLS) Regression is the best model for generalization. Let's take a look at some of the reviews and try to make a (subjective) determination of whether it's generalizing well. "
   ]
  },
  {
   "cell_type": "markdown",
   "metadata": {},
   "source": [
    "### let's look at some examples of classification:"
   ]
  },
  {
   "cell_type": "code",
   "execution_count": null,
   "metadata": {},
   "outputs": [],
   "source": [
    "# false positives\n",
    "\n",
    "print(\"Examples of false positives:\")\n",
    "\n",
    "import random, time\n",
    "\n",
    "for i in range(0, len(nbs_predictions)):\n",
    "    if (nbs_predictions[i] == 1):\n",
    "        if (X_raw_train.iloc[i]['any_toxic'] == 0):\n",
    "            if (random.uniform(0, 1) < 0.05): # to print only 5% of the false positives\n",
    "                print(i)\n",
    "                print(X_raw_train.iloc[i]['comment_text'])\n",
    "                print('* * * * * * * * * ')\n"
   ]
  },
  {
   "cell_type": "code",
   "execution_count": null,
   "metadata": {},
   "outputs": [],
   "source": [
    "# true positives\n",
    "\n",
    "print(\"Examples of true positives:\")\n",
    "\n",
    "import random, time\n",
    "\n",
    "for i in range(0, len(nbs_predictions)):\n",
    "    if (ols_predictions[i] == 1):\n",
    "        if (X_raw_train.iloc[i]['any_toxic'] == 1):\n",
    "            if (random.uniform(0, 1) < 0.05): # to print only 5% of the false positives\n",
    "                print(i)\n",
    "                print(X_raw_train.iloc[i]['comment_text'])\n",
    "                print('* * * * * * * * * ')\n"
   ]
  },
  {
   "cell_type": "code",
   "execution_count": null,
   "metadata": {},
   "outputs": [],
   "source": [
    "# false negatives\n",
    "\n",
    "print(\"Examples of false negatives:\")\n",
    "\n",
    "import random, time\n",
    "\n",
    "for i in range(0, len(nbs_predictions)):\n",
    "    if (nbs_predictions[i] == 0):\n",
    "    # model predicts negative\n",
    "        if (X_raw_train.iloc[i]['any_toxic'] == 1):\n",
    "        # but training data says should have been positive; thus, false negative\n",
    "            if (random.uniform(0, 1) < 0.05): # to print only 5% of the false positives\n",
    "                print(i)\n",
    "                print(X_raw_train.iloc[i]['comment_text'])\n",
    "                print('* * * * * * * * * ')\n"
   ]
  },
  {
   "cell_type": "markdown",
   "metadata": {},
   "source": [
    "---\n",
    "\n",
    "# <span style=\"color:red\">WARNING: Don't look at test set performance too much!</span>\n",
    "\n",
    "---\n",
    "\n",
    "The following cells show performance on your test set. Do not look at this too often! "
   ]
  },
  {
   "cell_type": "markdown",
   "metadata": {},
   "source": [
    "# Look at performance on the test set"
   ]
  },
  {
   "cell_type": "markdown",
   "metadata": {},
   "source": [
    "### MODEL: ordinary least squares"
   ]
  },
  {
   "cell_type": "code",
   "execution_count": null,
   "metadata": {},
   "outputs": [],
   "source": [
    "ols_performance_test = BinaryClassificationPerformance(ols.predict(X_test), y_test, 'ols_test')\n",
    "ols_performance_test.compute_measures()\n",
    "print(ols_performance_test.performance_measures)\n",
    "print(\"False Positive Rate:\")\n",
    "print(ols_performance_test.performance_measures['FP'] / ols_performance_test.performance_measures['Neg'])\n",
    "print(\"True Positive Rate:\")\n",
    "print(ols_performance_test.performance_measures['TP'] / ols_performance_test.performance_measures['Pos'])"
   ]
  },
  {
   "cell_type": "markdown",
   "metadata": {},
   "source": [
    "### MODEL: SVM, linear"
   ]
  },
  {
   "cell_type": "code",
   "execution_count": 255,
   "metadata": {},
   "outputs": [
    {
     "name": "stdout",
     "output_type": "stream",
     "text": [
      "{'Pos': 3274, 'Neg': 28641, 'TP': 2373, 'TN': 27733, 'FP': 908, 'FN': 901, 'Accuracy': 0.9433181889393703, 'Precision': 0.7232551051508687, 'Recall': 0.724801466096518, 'desc': 'svm_test'}\n",
      "False Positive Rate:\n",
      "0.031702803673056106\n",
      "True Positive Rate:\n",
      "0.724801466096518\n"
     ]
    }
   ],
   "source": [
    "svm_performance_test = BinaryClassificationPerformance(svm.predict(X_test), y_test, 'svm_test')\n",
    "svm_performance_test.compute_measures()\n",
    "print(svm_performance_test.performance_measures)\n",
    "print(\"False Positive Rate:\")\n",
    "print(svm_performance_test.performance_measures['FP'] / svm_performance_test.performance_measures['Neg'])\n",
    "print(\"True Positive Rate:\")\n",
    "print(svm_performance_test.performance_measures['TP'] / svm_performance_test.performance_measures['Pos'])"
   ]
  },
  {
   "cell_type": "markdown",
   "metadata": {},
   "source": [
    "### MODEL: logistic regression"
   ]
  },
  {
   "cell_type": "code",
   "execution_count": 256,
   "metadata": {},
   "outputs": [
    {
     "name": "stdout",
     "output_type": "stream",
     "text": [
      "{'Pos': 3274, 'Neg': 28641, 'TP': 2337, 'TN': 27829, 'FP': 812, 'FN': 937, 'Accuracy': 0.9451981826727244, 'Precision': 0.7421403620196888, 'Recall': 0.7138057422113623, 'desc': 'lgs_test'}\n",
      "False Positive Rate:\n",
      "0.02835096539925282\n",
      "True Positive Rate:\n",
      "0.7138057422113623\n"
     ]
    }
   ],
   "source": [
    "lgs_performance_test = BinaryClassificationPerformance(lgs.predict(X_test), y_test, 'lgs_test')\n",
    "lgs_performance_test.compute_measures()\n",
    "print(lgs_performance_test.performance_measures)\n",
    "print(\"False Positive Rate:\")\n",
    "print(lgs_performance_test.performance_measures['FP'] / lgs_performance_test.performance_measures['Neg'])\n",
    "print(\"True Positive Rate:\")\n",
    "print(lgs_performance_test.performance_measures['TP'] / lgs_performance_test.performance_measures['Pos'])"
   ]
  },
  {
   "cell_type": "markdown",
   "metadata": {},
   "source": [
    "### MODEL: Naive Bayes"
   ]
  },
  {
   "cell_type": "code",
   "execution_count": 19,
   "metadata": {},
   "outputs": [
    {
     "name": "stdout",
     "output_type": "stream",
     "text": [
      "{'Pos': 3274, 'Neg': 28641, 'TP': 2705, 'TN': 25715, 'FP': 2926, 'FN': 569, 'Accuracy': 0.8904903650321165, 'Precision': 0.480376487302433, 'Recall': 0.8262064752596212, 'desc': 'nbs_test'}\n",
      "False Positive Rate:\n",
      "0.10216123738696274\n",
      "True Positive Rate:\n",
      "0.8262064752596212\n"
     ]
    }
   ],
   "source": [
    "nbs_performance_test = BinaryClassificationPerformance(nbs.predict(X_test), y_test, 'nbs_test')\n",
    "nbs_performance_test.compute_measures()\n",
    "print(nbs_performance_test.performance_measures)\n",
    "print(\"False Positive Rate:\")\n",
    "print(nbs_performance_test.performance_measures['FP'] / nbs_performance_test.performance_measures['Neg'])\n",
    "print(\"True Positive Rate:\")\n",
    "print(nbs_performance_test.performance_measures['TP'] / nbs_performance_test.performance_measures['Pos'])"
   ]
  },
  {
   "cell_type": "markdown",
   "metadata": {},
   "source": [
    "### MODEL: Perceptron"
   ]
  },
  {
   "cell_type": "code",
   "execution_count": 257,
   "metadata": {},
   "outputs": [
    {
     "name": "stdout",
     "output_type": "stream",
     "text": [
      "{'Pos': 3274, 'Neg': 28641, 'TP': 2367, 'TN': 27728, 'FP': 913, 'FN': 907, 'Accuracy': 0.9429735234215886, 'Precision': 0.7216463414634147, 'Recall': 0.7229688454489921, 'desc': 'prc_test'}\n",
      "False Positive Rate:\n",
      "0.03187737858315003\n",
      "True Positive Rate:\n",
      "0.7229688454489921\n"
     ]
    }
   ],
   "source": [
    "prc_performance_test = BinaryClassificationPerformance(prc.predict(X_test), y_test, 'prc_test')\n",
    "prc_performance_test.compute_measures()\n",
    "print(prc_performance_test.performance_measures)\n",
    "print(\"False Positive Rate:\")\n",
    "print(prc_performance_test.performance_measures['FP'] / prc_performance_test.performance_measures['Neg'])\n",
    "print(\"True Positive Rate:\")\n",
    "print(prc_performance_test.performance_measures['TP'] / prc_performance_test.performance_measures['Pos'])"
   ]
  },
  {
   "cell_type": "markdown",
   "metadata": {},
   "source": [
    "### MODEL: Ridge Regression Classifier"
   ]
  },
  {
   "cell_type": "code",
   "execution_count": 107,
   "metadata": {},
   "outputs": [
    {
     "name": "stdout",
     "output_type": "stream",
     "text": [
      "{'Pos': 3274, 'Neg': 28641, 'TP': 2044, 'TN': 27778, 'FP': 863, 'FN': 1230, 'Accuracy': 0.9344195519348268, 'Precision': 0.7031303749570004, 'Recall': 0.6243127672571778, 'desc': 'test_0'}\n"
     ]
    }
   ],
   "source": [
    "rdg_performance_test = BinaryClassificationPerformance(rdg.predict(X_test), y_test, 'test_0')\n",
    "rdg_performance_test.compute_measures()\n",
    "print(rdg_performance_test.performance_measures)"
   ]
  },
  {
   "cell_type": "code",
   "execution_count": 24,
   "metadata": {},
   "outputs": [
    {
     "name": "stdout",
     "output_type": "stream",
     "text": [
      "{'Pos': 3274, 'Neg': 28641, 'TP': 2028, 'TN': 27700, 'FP': 941, 'FN': 1246, 'Accuracy': 0.9314742284192385, 'Precision': 0.6830582687773661, 'Recall': 0.6194257788637751, 'desc': 'test_1'}\n"
     ]
    }
   ],
   "source": [
    "rdg_performance_test1 = BinaryClassificationPerformance(rdg1.predict(X_test), y_test, 'test_1')\n",
    "rdg_performance_test1.compute_measures()\n",
    "print(rdg_performance_test1.performance_measures)"
   ]
  },
  {
   "cell_type": "code",
   "execution_count": 25,
   "metadata": {},
   "outputs": [
    {
     "name": "stdout",
     "output_type": "stream",
     "text": [
      "{'Pos': 3274, 'Neg': 28641, 'TP': 2026, 'TN': 27730, 'FP': 911, 'FN': 1248, 'Accuracy': 0.9323515588281373, 'Precision': 0.6898195437521281, 'Recall': 0.6188149053145999, 'desc': 'test_2'}\n"
     ]
    }
   ],
   "source": [
    "rdg_performance_test2 = BinaryClassificationPerformance(rdg2.predict(X_test), y_test, 'test_2')\n",
    "rdg_performance_test2.compute_measures()\n",
    "print(rdg_performance_test2.performance_measures)"
   ]
  },
  {
   "cell_type": "code",
   "execution_count": 26,
   "metadata": {},
   "outputs": [
    {
     "name": "stdout",
     "output_type": "stream",
     "text": [
      "{'Pos': 3274, 'Neg': 28641, 'TP': 1765, 'TN': 28557, 'FP': 84, 'FN': 1509, 'Accuracy': 0.9500861663794454, 'Precision': 0.9545700378583017, 'Recall': 0.5390959071472206, 'desc': 'test_5'}\n"
     ]
    }
   ],
   "source": [
    "rdg_performance_test5 = BinaryClassificationPerformance(rdg5.predict(X_test), y_test, 'test_5')\n",
    "rdg_performance_test5.compute_measures()\n",
    "print(rdg_performance_test5.performance_measures)"
   ]
  },
  {
   "cell_type": "code",
   "execution_count": 27,
   "metadata": {},
   "outputs": [
    {
     "name": "stdout",
     "output_type": "stream",
     "text": [
      "{'Pos': 3274, 'Neg': 28641, 'TP': 2027, 'TN': 27696, 'FP': 945, 'FN': 1247, 'Accuracy': 0.9313175622747925, 'Precision': 0.6820323014804845, 'Recall': 0.6191203420891875, 'desc': 'test_7'}\n"
     ]
    }
   ],
   "source": [
    "rdg_performance_test7 = BinaryClassificationPerformance(rdg7.predict(X_test), y_test, 'test_7')\n",
    "rdg_performance_test7.compute_measures()\n",
    "print(rdg_performance_test7.performance_measures)"
   ]
  },
  {
   "cell_type": "code",
   "execution_count": 47,
   "metadata": {},
   "outputs": [
    {
     "name": "stdout",
     "output_type": "stream",
     "text": [
      "{'Pos': 3274, 'Neg': 28641, 'TP': 2028, 'TN': 27692, 'FP': 949, 'FN': 1246, 'Accuracy': 0.9312235625881247, 'Precision': 0.6812227074235808, 'Recall': 0.6194257788637751, 'desc': 'test_9'}\n"
     ]
    }
   ],
   "source": [
    "rdg_performance_test9 = BinaryClassificationPerformance(rdg9.predict(X_test), y_test, 'test_9')\n",
    "rdg_performance_test9.compute_measures()\n",
    "print(rdg_performance_test9.performance_measures)"
   ]
  },
  {
   "cell_type": "code",
   "execution_count": 48,
   "metadata": {},
   "outputs": [
    {
     "name": "stdout",
     "output_type": "stream",
     "text": [
      "{'Pos': 3274, 'Neg': 28641, 'TP': 2026, 'TN': 27695, 'FP': 946, 'FN': 1248, 'Accuracy': 0.9312548958170139, 'Precision': 0.6816958277254375, 'Recall': 0.6188149053145999, 'desc': 'test_11'}\n"
     ]
    }
   ],
   "source": [
    "rdg_performance_test11 = BinaryClassificationPerformance(rdg11.predict(X_test), y_test, 'test_11')\n",
    "rdg_performance_test11.compute_measures()\n",
    "print(rdg_performance_test11.performance_measures)"
   ]
  },
  {
   "cell_type": "code",
   "execution_count": 49,
   "metadata": {},
   "outputs": [
    {
     "name": "stdout",
     "output_type": "stream",
     "text": [
      "{'Pos': 3274, 'Neg': 28641, 'TP': 2028, 'TN': 27692, 'FP': 949, 'FN': 1246, 'Accuracy': 0.9312235625881247, 'Precision': 0.6812227074235808, 'Recall': 0.6194257788637751, 'desc': 'test_13'}\n"
     ]
    }
   ],
   "source": [
    "rdg_performance_test13 = BinaryClassificationPerformance(rdg13.predict(X_test), y_test, 'test_13')\n",
    "rdg_performance_test13.compute_measures()\n",
    "print(rdg_performance_test13.performance_measures)"
   ]
  },
  {
   "cell_type": "code",
   "execution_count": 50,
   "metadata": {},
   "outputs": [
    {
     "name": "stdout",
     "output_type": "stream",
     "text": [
      "{'Pos': 3274, 'Neg': 28641, 'TP': 2027, 'TN': 27692, 'FP': 949, 'FN': 1247, 'Accuracy': 0.9311922293592355, 'Precision': 0.6811155913978495, 'Recall': 0.6191203420891875, 'desc': 'test_19'}\n"
     ]
    }
   ],
   "source": [
    "rdg_performance_test19 = BinaryClassificationPerformance(rdg19.predict(X_test), y_test, 'test_19')\n",
    "rdg_performance_test19.compute_measures()\n",
    "print(rdg_performance_test19.performance_measures)"
   ]
  },
  {
   "cell_type": "markdown",
   "metadata": {},
   "source": [
    "### MODEL: Random Forest Classifier"
   ]
  },
  {
   "cell_type": "code",
   "execution_count": 15,
   "metadata": {},
   "outputs": [
    {
     "name": "stdout",
     "output_type": "stream",
     "text": [
      "{'Pos': 3274, 'Neg': 28641, 'TP': 949, 'TN': 28638, 'FP': 3, 'FN': 2325, 'Accuracy': 0.9270562431458562, 'Precision': 0.9968487394957983, 'Recall': 0.2898594990836897, 'desc': 'rdf_test_20'}\n"
     ]
    }
   ],
   "source": [
    "rdf_performance_test_20 = BinaryClassificationPerformance(rdf_20.predict(X_test), y_test, 'rdf_test_20')\n",
    "rdf_performance_test_20.compute_measures()\n",
    "print(rdf_performance_test_20.performance_measures)"
   ]
  },
  {
   "cell_type": "code",
   "execution_count": 16,
   "metadata": {},
   "outputs": [
    {
     "name": "stdout",
     "output_type": "stream",
     "text": [
      "{'Pos': 3274, 'Neg': 28641, 'TP': 1287, 'TN': 28628, 'FP': 13, 'FN': 1987, 'Accuracy': 0.9373335422215259, 'Precision': 0.99, 'Recall': 0.39309712889431886, 'desc': 'rdf_test_40'}\n"
     ]
    }
   ],
   "source": [
    "rdf_performance_test_40 = BinaryClassificationPerformance(rdf_40.predict(X_test), y_test, 'rdf_test_40')\n",
    "rdf_performance_test_40.compute_measures()\n",
    "print(rdf_performance_test_40.performance_measures)"
   ]
  },
  {
   "cell_type": "code",
   "execution_count": 17,
   "metadata": {},
   "outputs": [
    {
     "name": "stdout",
     "output_type": "stream",
     "text": [
      "{'Pos': 3274, 'Neg': 28641, 'TP': 1396, 'TN': 28613, 'FP': 28, 'FN': 1878, 'Accuracy': 0.9402788657371142, 'Precision': 0.9803370786516854, 'Recall': 0.42638973732437385, 'desc': 'rdf_test_60'}\n"
     ]
    }
   ],
   "source": [
    "rdf_performance_test_60 = BinaryClassificationPerformance(rdf_60.predict(X_test), y_test, 'rdf_test_60')\n",
    "rdf_performance_test_60.compute_measures()\n",
    "print(rdf_performance_test_60.performance_measures)"
   ]
  },
  {
   "cell_type": "code",
   "execution_count": 18,
   "metadata": {},
   "outputs": [
    {
     "name": "stdout",
     "output_type": "stream",
     "text": [
      "{'Pos': 3274, 'Neg': 28641, 'TP': 1436, 'TN': 28611, 'FP': 30, 'FN': 1838, 'Accuracy': 0.9414695284349052, 'Precision': 0.9795361527967258, 'Recall': 0.43860720830788025, 'desc': 'rdf_test_80'}\n"
     ]
    }
   ],
   "source": [
    "rdf_performance_test_80 = BinaryClassificationPerformance(rdf_80.predict(X_test), y_test, 'rdf_test_80')\n",
    "rdf_performance_test_80.compute_measures()\n",
    "print(rdf_performance_test_80.performance_measures)"
   ]
  },
  {
   "cell_type": "code",
   "execution_count": 19,
   "metadata": {},
   "outputs": [
    {
     "name": "stdout",
     "output_type": "stream",
     "text": [
      "{'Pos': 3274, 'Neg': 28641, 'TP': 1452, 'TN': 28608, 'FP': 33, 'FN': 1822, 'Accuracy': 0.9418768604104653, 'Precision': 0.9777777777777777, 'Recall': 0.4434941967012828, 'desc': 'rdf_test_100'}\n"
     ]
    }
   ],
   "source": [
    "rdf_performance_test_100 = BinaryClassificationPerformance(rdf_100.predict(X_test), y_test, 'rdf_test_100')\n",
    "rdf_performance_test_100.compute_measures()\n",
    "print(rdf_performance_test_100.performance_measures)"
   ]
  },
  {
   "cell_type": "code",
   "execution_count": 26,
   "metadata": {},
   "outputs": [
    {
     "name": "stdout",
     "output_type": "stream",
     "text": [
      "{'Pos': 3274, 'Neg': 28641, 'TP': 1487, 'TN': 28611, 'FP': 30, 'FN': 1787, 'Accuracy': 0.9430675231082563, 'Precision': 0.98022412656559, 'Recall': 0.45418448381185095, 'desc': 'rdf_test_120'}\n"
     ]
    }
   ],
   "source": [
    "rdf_performance_test_120 = BinaryClassificationPerformance(rdf_120.predict(X_test), y_test, 'rdf_test_120')\n",
    "rdf_performance_test_120.compute_measures()\n",
    "print(rdf_performance_test_120.performance_measures)"
   ]
  },
  {
   "cell_type": "code",
   "execution_count": 22,
   "metadata": {},
   "outputs": [
    {
     "name": "stdout",
     "output_type": "stream",
     "text": [
      "{'Pos': 3274, 'Neg': 28641, 'TP': 1489, 'TN': 28604, 'FP': 37, 'FN': 1785, 'Accuracy': 0.9429108569638102, 'Precision': 0.9757536041939712, 'Recall': 0.4547953573610263, 'desc': 'rdf_test_140'}\n"
     ]
    }
   ],
   "source": [
    "rdf_performance_test_140 = BinaryClassificationPerformance(rdf_140.predict(X_test), y_test, 'rdf_test_140')\n",
    "rdf_performance_test_140.compute_measures()\n",
    "print(rdf_performance_test_140.performance_measures)"
   ]
  },
  {
   "cell_type": "markdown",
   "metadata": {},
   "source": [
    "### MODEL: RDF -- Criterion"
   ]
  },
  {
   "cell_type": "code",
   "execution_count": 43,
   "metadata": {},
   "outputs": [
    {
     "name": "stdout",
     "output_type": "stream",
     "text": [
      "{'Pos': 3274, 'Neg': 28641, 'TP': 923, 'TN': 28637, 'FP': 4, 'FN': 2351, 'Accuracy': 0.9262102459658468, 'Precision': 0.9956850053937433, 'Recall': 0.28191814294441053, 'desc': 'rdf_test_20e'}\n"
     ]
    }
   ],
   "source": [
    "rdf_performance_test_20e = BinaryClassificationPerformance(rdf_20e.predict(X_test), y_test, 'rdf_test_20e')\n",
    "rdf_performance_test_20e.compute_measures()\n",
    "print(rdf_performance_test_20e.performance_measures)"
   ]
  },
  {
   "cell_type": "code",
   "execution_count": 44,
   "metadata": {},
   "outputs": [
    {
     "name": "stdout",
     "output_type": "stream",
     "text": [
      "{'Pos': 3274, 'Neg': 28641, 'TP': 1262, 'TN': 28620, 'FP': 21, 'FN': 2012, 'Accuracy': 0.9362995456681811, 'Precision': 0.9836321122369447, 'Recall': 0.38546120952962737, 'desc': 'rdf_test_140e'}\n"
     ]
    }
   ],
   "source": [
    "rdf_performance_test_140e = BinaryClassificationPerformance(rdf_140e.predict(X_test), y_test, 'rdf_test_140e')\n",
    "rdf_performance_test_140e.compute_measures()\n",
    "print(rdf_performance_test_140e.performance_measures)"
   ]
  },
  {
   "cell_type": "markdown",
   "metadata": {},
   "source": [
    "### MODEL: RDF -- N_estimators"
   ]
  },
  {
   "cell_type": "code",
   "execution_count": 53,
   "metadata": {},
   "outputs": [
    {
     "name": "stdout",
     "output_type": "stream",
     "text": [
      "{'Pos': 3274, 'Neg': 28641, 'TP': 1449, 'TN': 28607, 'FP': 34, 'FN': 1825, 'Accuracy': 0.9417515274949083, 'Precision': 0.9770734996628456, 'Recall': 0.4425778863775199, 'desc': 'rdf_test_50'}\n"
     ]
    }
   ],
   "source": [
    "rdf_performance_test_50 = BinaryClassificationPerformance(rdf_50.predict(X_test), y_test, 'rdf_test_50')\n",
    "rdf_performance_test_50.compute_measures()\n",
    "print(rdf_performance_test_50.performance_measures)"
   ]
  },
  {
   "cell_type": "markdown",
   "metadata": {},
   "source": [
    "### ROC plot: Random Forest -- test"
   ]
  },
  {
   "cell_type": "code",
   "execution_count": 47,
   "metadata": {},
   "outputs": [
    {
     "data": {
      "image/png": "[encoded data removed]",
      "text/plain": [
       "<Figure size 1080x1080 with 1 Axes>"
      ]
     },
     "metadata": {
      "needs_background": "light"
     },
     "output_type": "display_data"
    }
   ],
   "source": [
    "fits = [rdf_performance_test_20, rdf_performance_test_140]\n",
    "\n",
    "for fit in fits:\n",
    "    plt.plot(fit.performance_measures['FP'] / fit.performance_measures['Neg'], \n",
    "             fit.performance_measures['TP'] / fit.performance_measures['Pos'], 'bo')\n",
    "    plt.text(fit.performance_measures['FP'] / fit.performance_measures['Neg'], \n",
    "             fit.performance_measures['TP'] / fit.performance_measures['Pos'], fit.desc)\n",
    "    \n",
    "fits = [rdf_performance_test_20e, rdf_performance_test_140e]\n",
    "\n",
    "for fit in fits:\n",
    "    plt.plot(fit.performance_measures['FP'] / fit.performance_measures['Neg'], \n",
    "             fit.performance_measures['TP'] / fit.performance_measures['Pos'], 'yo')\n",
    "    plt.text(fit.performance_measures['FP'] / fit.performance_measures['Neg'], \n",
    "             fit.performance_measures['TP'] / fit.performance_measures['Pos'], fit.desc)\n",
    "    \n",
    "fits = [rdf_performance_train_20, rdf_performance_train_140]\n",
    "\n",
    "for fit in fits:\n",
    "    plt.plot(fit.performance_measures['FP'] / fit.performance_measures['Neg'], \n",
    "             fit.performance_measures['TP'] / fit.performance_measures['Pos'], 'rx')\n",
    "    plt.text(fit.performance_measures['FP'] / fit.performance_measures['Neg'], \n",
    "             fit.performance_measures['TP'] / fit.performance_measures['Pos'], fit.desc)  \n",
    "    \n",
    "fits = [rdf_performance_train_20e, rdf_performance_train_140e]\n",
    "\n",
    "for fit in fits:\n",
    "    plt.plot(fit.performance_measures['FP'] / fit.performance_measures['Neg'], \n",
    "             fit.performance_measures['TP'] / fit.performance_measures['Pos'], 'gx')\n",
    "    plt.text(fit.performance_measures['FP'] / fit.performance_measures['Neg'], \n",
    "             fit.performance_measures['TP'] / fit.performance_measures['Pos'], fit.desc) \n",
    "\n",
    "plt.axis([0, 0.002, 0, 1.05])\n",
    "plt.title('ROC plot: test set')\n",
    "plt.xlabel('False positive rate')\n",
    "plt.ylabel('True positive rate')\n",
    "plt.rcParams['figure.figsize'] = (15, 15)\n",
    "plt.show()"
   ]
  },
  {
   "cell_type": "markdown",
   "metadata": {},
   "source": [
    "### ROC plot to compare performance of various models and fits"
   ]
  },
  {
   "cell_type": "code",
   "execution_count": null,
   "metadata": {},
   "outputs": [],
   "source": [
    "fits = [svm_performance_test, lgs_performance_test, nbs_performance_test, prc_performance_test]\n",
    "\n",
    "for fit in fits:\n",
    "    plt.plot(fit.performance_measures['FP'] / fit.performance_measures['Neg'], \n",
    "             fit.performance_measures['TP'] / fit.performance_measures['Pos'], 'bo')\n",
    "    plt.text(fit.performance_measures['FP'] / fit.performance_measures['Neg'], \n",
    "             fit.performance_measures['TP'] / fit.performance_measures['Pos'], fit.desc)\n",
    "plt.axis([0, .125, 0.685, 0.79])\n",
    "plt.title('ROC plot: test set')\n",
    "plt.xlabel('False positive rate')\n",
    "plt.ylabel('True positive rate')\n",
    "plt.show()"
   ]
  },
  {
   "cell_type": "code",
   "execution_count": null,
   "metadata": {},
   "outputs": [],
   "source": [
    "fits = [svm_performance_test, lgs_performance_test, nbs_performance_test, prc_performance_test]\n",
    "\n",
    "for fit in fits:\n",
    "    plt.plot(fit.performance_measures['FP'] / fit.performance_measures['Neg'], \n",
    "             fit.performance_measures['TP'] / fit.performance_measures['Pos'], 'bo')\n",
    "    plt.text(fit.performance_measures['FP'] / fit.performance_measures['Neg'], \n",
    "             fit.performance_measures['TP'] / fit.performance_measures['Pos'], fit.desc)\n",
    "plt.axis([0, 1, 0, 1])\n",
    "plt.title('ROC plot: test set')\n",
    "plt.xlabel('False positive rate')\n",
    "plt.ylabel('True positive rate')\n",
    "plt.rcParams['figure.figsize'] = (15, 15)\n",
    "plt.show()"
   ]
  },
  {
   "cell_type": "markdown",
   "metadata": {},
   "source": [
    "---\n",
    "\n",
    "# <span style=\"color:red\">SUBMISSION</span>\n",
    "\n",
    "---"
   ]
  },
  {
   "cell_type": "code",
   "execution_count": 258,
   "metadata": {},
   "outputs": [
    {
     "name": "stdout",
     "output_type": "stream",
     "text": [
      "toxic_data is: <class 'pandas.core.frame.DataFrame'>\n",
      "toxic_data has 153164 rows and 2 columns \n",
      "\n",
      "the data types for each of the columns in toxic_data:\n",
      "id              object\n",
      "comment_text    object\n",
      "dtype: object \n",
      "\n",
      "the first 5 rows in toxic_data:\n",
      "                 id                                       comment_text\n",
      "0  00001cee341fdb12  Yo bitch Ja Rule is more succesful then you'll...\n",
      "1  0000247867823ef7  == From RfC == \\n\\n The title is fine as it is...\n",
      "2  00013b17ad220c46  \" \\n\\n == Sources == \\n\\n * Zawe Ashton on Lap...\n",
      "3  00017563c3f7919a  :If you have a look back at the source, the in...\n",
      "4  00017695ad8997eb          I don't anonymously edit articles at all.\n",
      "Shape of HashingVectorizer X:\n",
      "(153164, 16384)\n",
      "Shape of HashingVectorizer char n_gram X:\n",
      "(153164, 16384)\n",
      "Look at a few rows of the new quantitative features: \n",
      "   word_count_h  word_count_s  word_count_f  punc_q_ratio  punc_exc_ratio  \\\n",
      "0             0             1             2      0.009009        0.009009   \n",
      "1             0             0             0      0.047619        0.047619   \n",
      "2             0             0             0      0.090909        0.090909   \n",
      "3             0             0             0      0.024390        0.024390   \n",
      "4             0             0             0      0.090909        0.090909   \n",
      "5             0             0             0      0.047619        0.047619   \n",
      "6             0             0             0      0.019608        0.019608   \n",
      "7             0             0             0      0.090909        0.090909   \n",
      "8             0             0             0      0.009901        0.009901   \n",
      "9             0             0             0      0.019608        0.019608   \n",
      "\n",
      "   punc_count_s  punc_count_a  punc_count_c  consCapsword_ratio  \\\n",
      "0             0             0             1            0.000000   \n",
      "1             0             0             1            0.076923   \n",
      "2             0             1             0            0.000000   \n",
      "3             0             0             1            0.000000   \n",
      "4             0             0             0            0.000000   \n",
      "5             0             0             0            0.000000   \n",
      "6             0             0             1            0.000000   \n",
      "7             0             0             0            0.000000   \n",
      "8             0             0             1            0.073394   \n",
      "9             0             0             5            0.000000   \n",
      "\n",
      "   consCaps_ratio  ...  Caps_count  Caps_ratio  word_count  char_ratio  \\\n",
      "0        0.000000  ...           4    0.000003          72    5.097222   \n",
      "1        0.020000  ...           7    0.004096          13    3.846154   \n",
      "2        0.000000  ...           4    0.000794          16    3.375000   \n",
      "3        0.000000  ...           4    0.000015          38    5.394737   \n",
      "4        0.000000  ...           1    0.000116           7    5.857143   \n",
      "5        0.000000  ...           2    0.000031          16    6.000000   \n",
      "6        0.000000  ...           5    0.000040          31    5.677419   \n",
      "7        0.000000  ...           1    0.000244           6    5.333333   \n",
      "8        0.014388  ...          41    0.000431         109    5.100917   \n",
      "9        0.000000  ...           7    0.000046          41    5.463415   \n",
      "\n",
      "   punc_count_p  punc_count_exc  punc_count_q  punc_count  punc_ratio  \\\n",
      "0            10               0             0          11    0.152778   \n",
      "1             1               0             0           2    0.153846   \n",
      "2             0               0             0           1    0.062500   \n",
      "3             3               0             0           4    0.105263   \n",
      "4             1               0             0           1    0.142857   \n",
      "5             2               0             0           2    0.125000   \n",
      "6             4               0             0           5    0.161290   \n",
      "7             1               0             0           1    0.166667   \n",
      "8             9               0             0          10    0.091743   \n",
      "9             0               0             0           5    0.121951   \n",
      "\n",
      "   Capsword_ratio  \n",
      "0        0.208333  \n",
      "1        0.692308  \n",
      "2        0.312500  \n",
      "3        0.210526  \n",
      "4        0.285714  \n",
      "5        0.250000  \n",
      "6        0.322581  \n",
      "7        0.333333  \n",
      "8        0.467890  \n",
      "9        0.292683  \n",
      "\n",
      "[10 rows x 25 columns]\n",
      "Size of combined bag of words and new quantitative variables matrix:\n",
      "(153164, 32793)\n",
      "(153164, 32793)\n",
      "Shape of X_test for submission:\n",
      "(153164, 32793)\n",
      "SUCCESS!\n",
      "Number of rows in the submission test set (should be 153,164): \n"
     ]
    }
   ],
   "source": [
    "# read in test data for submission\n",
    "# CHANGE FILE PATH and my_random_seed number (any integer other than 74 will do): \n",
    "raw_data, X_test_submission = process_raw_data(fn='/Users/Charles/Desktop/ML/A1/toxiccomments_test.csv', my_random_seed=36, test=True)\n",
    "print(\"Number of rows in the submission test set (should be 153,164): \")"
   ]
  },
  {
   "cell_type": "code",
   "execution_count": null,
   "metadata": {},
   "outputs": [],
   "source": [
    "# for 2 HashingV passed through respective tfidf transformer and then hstacked with quantfeat: AttributeError: lower not found\n",
    "# for 2 HashingV hstacked and passed through tfidf transformer: TypeError: 'coo_matrix' object is not subscriptable"
   ]
  },
  {
   "cell_type": "markdown",
   "metadata": {},
   "source": [
    "---\n",
    "\n",
    "Choose a <span style=\"color:red\">*single*</span> model for your submission. In this code, I am choosing the Ordinary Least Squares model fit, which is in the `ols` object. But you should choose the model that is performing the best for you! "
   ]
  },
  {
   "cell_type": "code",
   "execution_count": 259,
   "metadata": {},
   "outputs": [
    {
     "name": "stdout",
     "output_type": "stream",
     "text": [
      "0.2801637460499856\n"
     ]
    }
   ],
   "source": [
    "# store the id from the raw data\n",
    "my_submission = pd.DataFrame(raw_data[\"id\"])\n",
    "# concatenate predictions to the id\n",
    "my_submission[\"prediction\"] = nbs.predict(X_test_submission)\n",
    "# look at the proportion of positive predictions\n",
    "print(my_submission['prediction'].mean())"
   ]
  },
  {
   "cell_type": "code",
   "execution_count": 260,
   "metadata": {},
   "outputs": [
    {
     "data": {
      "text/html": [
       "<div>\n",
       "<style scoped>\n",
       "    .dataframe tbody tr th:only-of-type {\n",
       "        vertical-align: middle;\n",
       "    }\n",
       "\n",
       "    .dataframe tbody tr th {\n",
       "        vertical-align: top;\n",
       "    }\n",
       "\n",
       "    .dataframe thead th {\n",
       "        text-align: right;\n",
       "    }\n",
       "</style>\n",
       "<table border=\"1\" class=\"dataframe\">\n",
       "  <thead>\n",
       "    <tr style=\"text-align: right;\">\n",
       "      <th></th>\n",
       "      <th>id</th>\n",
       "      <th>comment_text</th>\n",
       "      <th>char_count</th>\n",
       "      <th>Caps_count</th>\n",
       "      <th>Caps_ratio</th>\n",
       "      <th>word_count</th>\n",
       "      <th>char_ratio</th>\n",
       "      <th>punc_count_p</th>\n",
       "      <th>punc_count_exc</th>\n",
       "      <th>punc_count_q</th>\n",
       "      <th>...</th>\n",
       "      <th>Capsword_ratio</th>\n",
       "      <th>spaces_count</th>\n",
       "      <th>spaces_ratio</th>\n",
       "      <th>spaceswords_ratio</th>\n",
       "      <th>consCaps_count</th>\n",
       "      <th>consCaps_ratio</th>\n",
       "      <th>consCapsword_ratio</th>\n",
       "      <th>word_count_f</th>\n",
       "      <th>word_count_s</th>\n",
       "      <th>word_count_h</th>\n",
       "    </tr>\n",
       "  </thead>\n",
       "  <tbody>\n",
       "    <tr>\n",
       "      <th>0</th>\n",
       "      <td>00001cee341fdb12</td>\n",
       "      <td>Yo bitch Ja Rule is more succesful then you'll...</td>\n",
       "      <td>367</td>\n",
       "      <td>4</td>\n",
       "      <td>0.000003</td>\n",
       "      <td>72</td>\n",
       "      <td>5.097222</td>\n",
       "      <td>10</td>\n",
       "      <td>0</td>\n",
       "      <td>0</td>\n",
       "      <td>...</td>\n",
       "      <td>0.208333</td>\n",
       "      <td>71</td>\n",
       "      <td>0.193460</td>\n",
       "      <td>0.986111</td>\n",
       "      <td>0</td>\n",
       "      <td>0.00</td>\n",
       "      <td>0.000000</td>\n",
       "      <td>2</td>\n",
       "      <td>1</td>\n",
       "      <td>0</td>\n",
       "    </tr>\n",
       "    <tr>\n",
       "      <th>1</th>\n",
       "      <td>0000247867823ef7</td>\n",
       "      <td>== From RfC == \\n\\n The title is fine as it is...</td>\n",
       "      <td>50</td>\n",
       "      <td>7</td>\n",
       "      <td>0.004096</td>\n",
       "      <td>13</td>\n",
       "      <td>3.846154</td>\n",
       "      <td>1</td>\n",
       "      <td>0</td>\n",
       "      <td>0</td>\n",
       "      <td>...</td>\n",
       "      <td>0.692308</td>\n",
       "      <td>12</td>\n",
       "      <td>0.240000</td>\n",
       "      <td>0.923077</td>\n",
       "      <td>1</td>\n",
       "      <td>0.02</td>\n",
       "      <td>0.076923</td>\n",
       "      <td>0</td>\n",
       "      <td>0</td>\n",
       "      <td>0</td>\n",
       "    </tr>\n",
       "    <tr>\n",
       "      <th>2</th>\n",
       "      <td>00013b17ad220c46</td>\n",
       "      <td>\" \\n\\n == Sources == \\n\\n * Zawe Ashton on Lap...</td>\n",
       "      <td>54</td>\n",
       "      <td>4</td>\n",
       "      <td>0.000794</td>\n",
       "      <td>16</td>\n",
       "      <td>3.375000</td>\n",
       "      <td>0</td>\n",
       "      <td>0</td>\n",
       "      <td>0</td>\n",
       "      <td>...</td>\n",
       "      <td>0.312500</td>\n",
       "      <td>15</td>\n",
       "      <td>0.277778</td>\n",
       "      <td>0.937500</td>\n",
       "      <td>0</td>\n",
       "      <td>0.00</td>\n",
       "      <td>0.000000</td>\n",
       "      <td>0</td>\n",
       "      <td>0</td>\n",
       "      <td>0</td>\n",
       "    </tr>\n",
       "    <tr>\n",
       "      <th>3</th>\n",
       "      <td>00017563c3f7919a</td>\n",
       "      <td>:If you have a look back at the source, the in...</td>\n",
       "      <td>205</td>\n",
       "      <td>4</td>\n",
       "      <td>0.000015</td>\n",
       "      <td>38</td>\n",
       "      <td>5.394737</td>\n",
       "      <td>3</td>\n",
       "      <td>0</td>\n",
       "      <td>0</td>\n",
       "      <td>...</td>\n",
       "      <td>0.210526</td>\n",
       "      <td>37</td>\n",
       "      <td>0.180488</td>\n",
       "      <td>0.973684</td>\n",
       "      <td>0</td>\n",
       "      <td>0.00</td>\n",
       "      <td>0.000000</td>\n",
       "      <td>0</td>\n",
       "      <td>0</td>\n",
       "      <td>0</td>\n",
       "    </tr>\n",
       "    <tr>\n",
       "      <th>4</th>\n",
       "      <td>00017695ad8997eb</td>\n",
       "      <td>I don't anonymously edit articles at all.</td>\n",
       "      <td>41</td>\n",
       "      <td>1</td>\n",
       "      <td>0.000116</td>\n",
       "      <td>7</td>\n",
       "      <td>5.857143</td>\n",
       "      <td>1</td>\n",
       "      <td>0</td>\n",
       "      <td>0</td>\n",
       "      <td>...</td>\n",
       "      <td>0.285714</td>\n",
       "      <td>6</td>\n",
       "      <td>0.146341</td>\n",
       "      <td>0.857143</td>\n",
       "      <td>0</td>\n",
       "      <td>0.00</td>\n",
       "      <td>0.000000</td>\n",
       "      <td>0</td>\n",
       "      <td>0</td>\n",
       "      <td>0</td>\n",
       "    </tr>\n",
       "  </tbody>\n",
       "</table>\n",
       "<p>5 rows × 27 columns</p>\n",
       "</div>"
      ],
      "text/plain": [
       "                 id                                       comment_text  \\\n",
       "0  00001cee341fdb12  Yo bitch Ja Rule is more succesful then you'll...   \n",
       "1  0000247867823ef7  == From RfC == \\n\\n The title is fine as it is...   \n",
       "2  00013b17ad220c46  \" \\n\\n == Sources == \\n\\n * Zawe Ashton on Lap...   \n",
       "3  00017563c3f7919a  :If you have a look back at the source, the in...   \n",
       "4  00017695ad8997eb          I don't anonymously edit articles at all.   \n",
       "\n",
       "   char_count  Caps_count  Caps_ratio  word_count  char_ratio  punc_count_p  \\\n",
       "0         367           4    0.000003          72    5.097222            10   \n",
       "1          50           7    0.004096          13    3.846154             1   \n",
       "2          54           4    0.000794          16    3.375000             0   \n",
       "3         205           4    0.000015          38    5.394737             3   \n",
       "4          41           1    0.000116           7    5.857143             1   \n",
       "\n",
       "   punc_count_exc  punc_count_q  ...  Capsword_ratio  spaces_count  \\\n",
       "0               0             0  ...        0.208333            71   \n",
       "1               0             0  ...        0.692308            12   \n",
       "2               0             0  ...        0.312500            15   \n",
       "3               0             0  ...        0.210526            37   \n",
       "4               0             0  ...        0.285714             6   \n",
       "\n",
       "   spaces_ratio  spaceswords_ratio  consCaps_count  consCaps_ratio  \\\n",
       "0      0.193460           0.986111               0            0.00   \n",
       "1      0.240000           0.923077               1            0.02   \n",
       "2      0.277778           0.937500               0            0.00   \n",
       "3      0.180488           0.973684               0            0.00   \n",
       "4      0.146341           0.857143               0            0.00   \n",
       "\n",
       "   consCapsword_ratio  word_count_f  word_count_s  word_count_h  \n",
       "0            0.000000             2             1             0  \n",
       "1            0.076923             0             0             0  \n",
       "2            0.000000             0             0             0  \n",
       "3            0.000000             0             0             0  \n",
       "4            0.000000             0             0             0  \n",
       "\n",
       "[5 rows x 27 columns]"
      ]
     },
     "execution_count": 260,
     "metadata": {},
     "output_type": "execute_result"
    }
   ],
   "source": [
    "raw_data.head()"
   ]
  },
  {
   "cell_type": "code",
   "execution_count": 92,
   "metadata": {},
   "outputs": [
    {
     "data": {
      "text/html": [
       "<div>\n",
       "<style scoped>\n",
       "    .dataframe tbody tr th:only-of-type {\n",
       "        vertical-align: middle;\n",
       "    }\n",
       "\n",
       "    .dataframe tbody tr th {\n",
       "        vertical-align: top;\n",
       "    }\n",
       "\n",
       "    .dataframe thead th {\n",
       "        text-align: right;\n",
       "    }\n",
       "</style>\n",
       "<table border=\"1\" class=\"dataframe\">\n",
       "  <thead>\n",
       "    <tr style=\"text-align: right;\">\n",
       "      <th></th>\n",
       "      <th>id</th>\n",
       "      <th>prediction</th>\n",
       "    </tr>\n",
       "  </thead>\n",
       "  <tbody>\n",
       "    <tr>\n",
       "      <th>0</th>\n",
       "      <td>00001cee341fdb12</td>\n",
       "      <td>True</td>\n",
       "    </tr>\n",
       "    <tr>\n",
       "      <th>1</th>\n",
       "      <td>0000247867823ef7</td>\n",
       "      <td>False</td>\n",
       "    </tr>\n",
       "    <tr>\n",
       "      <th>2</th>\n",
       "      <td>00013b17ad220c46</td>\n",
       "      <td>False</td>\n",
       "    </tr>\n",
       "    <tr>\n",
       "      <th>3</th>\n",
       "      <td>00017563c3f7919a</td>\n",
       "      <td>False</td>\n",
       "    </tr>\n",
       "    <tr>\n",
       "      <th>4</th>\n",
       "      <td>00017695ad8997eb</td>\n",
       "      <td>False</td>\n",
       "    </tr>\n",
       "  </tbody>\n",
       "</table>\n",
       "</div>"
      ],
      "text/plain": [
       "                 id  prediction\n",
       "0  00001cee341fdb12        True\n",
       "1  0000247867823ef7       False\n",
       "2  00013b17ad220c46       False\n",
       "3  00017563c3f7919a       False\n",
       "4  00017695ad8997eb       False"
      ]
     },
     "execution_count": 92,
     "metadata": {},
     "output_type": "execute_result"
    }
   ],
   "source": [
    "my_submission.head()"
   ]
  },
  {
   "cell_type": "code",
   "execution_count": 261,
   "metadata": {},
   "outputs": [
    {
     "data": {
      "text/plain": [
       "(153164, 2)"
      ]
     },
     "execution_count": 261,
     "metadata": {},
     "output_type": "execute_result"
    }
   ],
   "source": [
    "my_submission.shape"
   ]
  },
  {
   "cell_type": "code",
   "execution_count": 262,
   "metadata": {},
   "outputs": [],
   "source": [
    "# export submission file as pdf\n",
    "# CHANGE FILE PATH: \n",
    "my_submission.to_csv('/Users/Charles/Desktop/ML/A1/toxiccomments_submission.csv', index=False)"
   ]
  },
  {
   "cell_type": "markdown",
   "metadata": {},
   "source": [
    "# Submit to Canvas: 1) the CSV file that was written in the previous cell and 2) the url to the repository (GitHub or other) that contains your code and documentation"
   ]
  }
 ],
 "metadata": {
  "kernelspec": {
   "display_name": "Python 3",
   "language": "python",
   "name": "python3"
  },
  "language_info": {
   "codemirror_mode": {
    "name": "ipython",
    "version": 3
   },
   "file_extension": ".py",
   "mimetype": "text/x-python",
   "name": "python",
   "nbconvert_exporter": "python",
   "pygments_lexer": "ipython3",
   "version": "3.8.3"
  }
 },
 "nbformat": 4,
 "nbformat_minor": 2
}
