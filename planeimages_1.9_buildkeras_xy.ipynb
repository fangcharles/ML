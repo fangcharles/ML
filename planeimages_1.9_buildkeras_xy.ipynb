{
 "cells": [
  {
   "cell_type": "code",
   "execution_count": 1,
   "metadata": {},
   "outputs": [
    {
     "name": "stdout",
     "output_type": "stream",
     "text": [
      "Tensor Flow Version: 2.1.0\n",
      "Keras Version: 2.2.4-tf\n",
      "\n",
      "Python 3.7.9 (default, Aug 31 2020, 17:10:11) [MSC v.1916 64 bit (AMD64)]\n",
      "Pandas 1.1.3\n",
      "Scikit-Learn 0.23.2\n",
      "GPU is NOT AVAILABLE\n",
      "Wall time: 8.76 s\n"
     ]
    }
   ],
   "source": [
    "%%time\n",
    "# What version of Python do you have?\n",
    "import sys\n",
    "\n",
    "import numpy as np\n",
    "import pandas as pd\n",
    "import matplotlib.pyplot as plt\n",
    "import pickle\n",
    "import warnings\n",
    "warnings.simplefilter(action='ignore', category=FutureWarning)\n",
    "from skimage import io, color, transform, feature, data, exposure, filters\n",
    "from skimage.feature import hog\n",
    "from my_measures import BinaryClassificationPerformance  \n",
    "from sklearn.model_selection import train_test_split\n",
    "\n",
    "\n",
    "import matplotlib\n",
    "matplotlib.use(\"Agg\")\n",
    "\n",
    "import sklearn as sk\n",
    "import tensorflow as tf\n",
    "from tensorflow import keras\n",
    "from sklearn.preprocessing import LabelBinarizer\n",
    "from sklearn.model_selection import train_test_split\n",
    "from sklearn.metrics import classification_report\n",
    "from sklearn.metrics import confusion_matrix\n",
    "from tensorflow.keras.models import Sequential\n",
    "from tensorflow.keras.layers import Activation, Dense, Flatten, BatchNormalization, Conv2D, MaxPool2D, Dropout\n",
    "from tensorflow.keras.preprocessing.image import ImageDataGenerator\n",
    "from tensorflow.keras.preprocessing.image import img_to_array, load_img\n",
    "from tensorflow.keras.optimizers import Adam, RMSprop\n",
    "from tensorflow.keras.metrics import categorical_crossentropy\n",
    "from tensorflow.keras.regularizers import l2\n",
    "import itertools\n",
    "import shutil\n",
    "import random\n",
    "import glob\n",
    "from imutils import paths\n",
    "import argparse\n",
    "import cv2\n",
    "import os\n",
    "\n",
    "\n",
    "print(f\"Tensor Flow Version: {tf.__version__}\")\n",
    "print(f\"Keras Version: {tf.keras.__version__}\")\n",
    "print()\n",
    "print(f\"Python {sys.version}\")\n",
    "print(f\"Pandas {pd.__version__}\")\n",
    "print(f\"Scikit-Learn {sk.__version__}\")\n",
    "gpu = len(tf.config.list_physical_devices('GPU'))>0\n",
    "print(\"GPU is\", \"available\" if gpu else \"NOT AVAILABLE\")\n",
    "\n",
    "%matplotlib inline"
   ]
  },
  {
   "cell_type": "markdown",
   "metadata": {},
   "source": [
    "### IMPORTANT!!! Make sure you are using BinaryClassificationPerformance v1.03\n"
   ]
  },
  {
   "cell_type": "code",
   "execution_count": null,
   "metadata": {},
   "outputs": [],
   "source": [
    "help(BinaryClassificationPerformance)"
   ]
  },
  {
   "cell_type": "markdown",
   "metadata": {},
   "source": [
    "### file paths and names"
   ]
  },
  {
   "cell_type": "code",
   "execution_count": 2,
   "metadata": {},
   "outputs": [],
   "source": [
    "ci_path = '/Users/Charles/Desktop/ML/A2/plane_data/cropped_images/' # file path for cropped images for training\n",
    "l_file = '/Users/Charles/Desktop/ML/A2/plane_data/plane_labels.csv' # file path and file name for csv with labels"
   ]
  },
  {
   "cell_type": "markdown",
   "metadata": {},
   "source": [
    "# Function for feature building and extraction on photographs¶\n",
    "\n",
    "scikit-image documentation on methods used for feature extraction:  \n",
    "\n",
    "* http://scikit-image.org/docs/dev/api/skimage.color.html#rgb2gray  \n",
    "* http://scikit-image.org/docs/dev/api/skimage.transform.html#skimage.transform.resize  \n",
    "* http://scikit-image.org/docs/stable/api/skimage.feature.html#skimage.feature.canny"
   ]
  },
  {
   "cell_type": "code",
   "execution_count": 2,
   "metadata": {},
   "outputs": [],
   "source": [
    "# in downscaling the image, what do you want the new dimensions to be?\n",
    "# the original dimensions of cropped images: (60, 140), which is 8,400 pixels\n",
    "dims = (60, 140) # 50% of the original size, 2100 pixels"
   ]
  },
  {
   "cell_type": "code",
   "execution_count": 4,
   "metadata": {},
   "outputs": [
    {
     "name": "stdout",
     "output_type": "stream",
     "text": [
      "downscaled image shape: \n",
      "(60, 140)\n",
      "image representation (first row of pixels): \n",
      "[0. 0. 0. 0. 0. 0. 0. 0. 0. 0. 0. 0. 0. 0. 0. 0. 0. 0. 0. 0. 0. 0. 0. 0.\n",
      " 0. 0. 0. 0. 0. 0. 0. 0. 0. 0. 0. 0. 0. 0. 0. 0. 0. 0. 0. 0. 0. 0. 0. 0.\n",
      " 0. 0. 0. 0. 0. 0. 0. 0. 0. 0. 0. 0. 0. 0. 0. 0. 0. 0. 0. 0. 0. 0. 0. 0.\n",
      " 0. 0. 0. 0. 0. 0. 0. 0. 0. 0. 0. 0. 0. 0. 0. 0. 0. 0. 0. 0. 0. 0. 0. 0.\n",
      " 0. 0. 0. 0. 0. 0. 0. 0. 0. 0. 0. 0. 0. 0. 0. 0. 0. 0. 0. 0. 0. 0. 0. 0.\n",
      " 0. 0. 0. 0. 0. 0. 0. 0. 0. 0. 0. 0. 0. 0. 0. 0. 0. 0. 0. 0.]\n",
      "\n",
      "\n",
      "example of transformation: \n"
     ]
    },
    {
     "data": {
      "image/png": "[encoded data removed]",
      "text/plain": [
       "<Figure size 432x288 with 2 Axes>"
      ]
     },
     "metadata": {
      "needs_background": "light"
     },
     "output_type": "display_data"
    }
   ],
   "source": [
    "# def image_manipulation_canny(imname, imgs_path, imview=False):\n",
    "#     warnings.filterwarnings('ignore')\n",
    "#     imname = imgs_path + imname + '.png'\n",
    "#     img_raw = io.imread(imname, as_gray=True)\n",
    "#     downscaled = transform.resize(img_raw, (dims[0], dims[1])) # downscale image\n",
    "#     final_image = feature.canny(downscaled) # edge filter image with Canny algorithm\n",
    "#     if imview==True:\n",
    "#         io.imshow(final_image)\n",
    "#     warnings.filterwarnings('always')\n",
    "#     return final_image_canny\n",
    "\n",
    "def image_manipulation_hog(imname, imgs_path, imview=False):\n",
    "    warnings.filterwarnings('ignore')\n",
    "    imname = imgs_path + imname + '.png' # define file path\n",
    "#     img_raw = io.imread(imname, as_gray=True) # reads the image from file path\n",
    "    img_raw = io.imread(imname) # reads the image from file path\n",
    "    # what are the ramifications of 'multichannel=True' processing color image?  \n",
    "    # (c) The last image dimension where rbga, a is last dimension.  Then, do these images have a?\n",
    "    # blocks are many cells and cells are many pixels.  \n",
    "    # (c) Blocks may overlap and cells are rep more than once in final distribution.\n",
    "    # is there a way to do a C-Hog with sklearn?\n",
    "    fd, final_image_hog = hog(img_raw, orientations=9, pixels_per_cell=(16, 16), \n",
    "                          cells_per_block=(4, 4), visualize=True, multichannel=True)\n",
    "    final_image = np.array([final_image_hog])\n",
    "    if imview==True:\n",
    "        io.imshow(final_image_hog)\n",
    "    warnings.filterwarnings('always')\n",
    "    return final_image_hog\n",
    "\n",
    "\n",
    "# test the function, look at input/output\n",
    "test_image = image_manipulation_hog('2017-08-25T23+24+13_390Z', ci_path, True)\n",
    "print('downscaled image shape: ')\n",
    "print(test_image.shape)\n",
    "print('image representation (first row of pixels): ')\n",
    "print(test_image[0])\n",
    "print('\\n')\n",
    "print('example of transformation: ')"
   ]
  },
  {
   "cell_type": "markdown",
   "metadata": {},
   "source": [
    "for comparison, look at original image:"
   ]
  },
  {
   "cell_type": "code",
   "execution_count": null,
   "metadata": {},
   "outputs": [],
   "source": [
    "this_imname = ci_path + '2017-08-25T23+24+13_390Z.png'\n",
    "io.imshow(io.imread(this_imname))"
   ]
  },
  {
   "cell_type": "markdown",
   "metadata": {},
   "source": [
    "# tensorflow"
   ]
  },
  {
   "cell_type": "code",
   "execution_count": 52,
   "metadata": {
    "scrolled": false
   },
   "outputs": [
    {
     "name": "stderr",
     "output_type": "stream",
     "text": [
      "C:\\ProgramData\\Anaconda3\\envs\\deeplearning\\lib\\site-packages\\ipykernel\\ipkernel.py:287: DeprecationWarning: `should_run_async` will not call `transform_cell` automatically in the future. Please pass the result to `transformed_cell` argument and any exception that happen during thetransform in `preprocessing_exc_tuple` in IPython 7.17 and above.\n",
      "  and should_run_async(code)\n"
     ]
    },
    {
     "name": "stdout",
     "output_type": "stream",
     "text": [
      "(6758, 1)\n",
      "[INFO] compiling model...\n"
     ]
    },
    {
     "ename": "TypeError",
     "evalue": "'StridedNet' object is not callable",
     "output_type": "error",
     "traceback": [
      "\u001b[1;31m---------------------------------------------------------------------------\u001b[0m",
      "\u001b[1;31mTypeError\u001b[0m                                 Traceback (most recent call last)",
      "\u001b[1;32m<timed exec>\u001b[0m in \u001b[0;36m<module>\u001b[1;34m\u001b[0m\n",
      "\u001b[1;31mTypeError\u001b[0m: 'StridedNet' object is not callable"
     ]
    }
   ],
   "source": [
    "%%time\n",
    "# the original dimensions of cropped images: (60, 140), which is 8,400 pixels\n",
    "# USAGE\n",
    "# python train.py --dataset 101_ObjectCategories\n",
    "\n",
    "# import the necessary packages\n",
    "from tensorflow.keras.models import Sequential\n",
    "from tensorflow.keras.layers import BatchNormalization\n",
    "from tensorflow.keras.layers import Conv2D\n",
    "from tensorflow.keras.layers import Activation\n",
    "from tensorflow.keras.layers import Flatten\n",
    "from tensorflow.keras.layers import Dropout\n",
    "from tensorflow.keras.layers import Dense\n",
    "from tensorflow.keras import backend as K\n",
    "\n",
    "class StridedNet(object):\n",
    "#     @staticmethod\n",
    "    def build(width, height, depth, classes, reg, init=\"he_normal\"):\n",
    "        # initialize the model along with the input shape to be\n",
    "        # \"channels last\" and the channels dimension itself\n",
    "        model = Sequential()\n",
    "        inputShape = (height, width, depth)\n",
    "        chanDim = -1\n",
    "\n",
    "        # if we are using \"channels first\", update the input shape\n",
    "        # and channels dimension\n",
    "        if K.image_data_format() == \"channels_first\":\n",
    "            inputShape = (depth, height, width)\n",
    "            chanDim = 1\n",
    "\n",
    "        # our first CONV layer will learn a total of 16 filters, each\n",
    "        # Of which are 7x7 -- we'll then apply 2x2 strides to reduce\n",
    "        # the spatial dimensions of the volume\n",
    "        model.add(Conv2D(16, (7, 7), strides=(2, 2), padding=\"valid\",\n",
    "            kernel_initializer=init, kernel_regularizer=reg,\n",
    "            input_shape=inputShape))\n",
    "\n",
    "        # here we stack two CONV layers on top of each other where\n",
    "        # each layer will learn a total of 32 (3x3) filters\n",
    "        model.add(Conv2D(32, (3, 3), padding=\"same\",\n",
    "            kernel_initializer=init, kernel_regularizer=reg))\n",
    "        model.add(Activation(\"relu\"))\n",
    "        model.add(BatchNormalization(axis=chanDim))\n",
    "        model.add(Conv2D(32, (3, 3), strides=(2, 2), padding=\"same\",\n",
    "            kernel_initializer=init, kernel_regularizer=reg))\n",
    "        model.add(Activation(\"relu\"))\n",
    "        model.add(BatchNormalization(axis=chanDim))\n",
    "        model.add(Dropout(0.25))\n",
    "\n",
    "        # stack two more CONV layers, keeping the size of each filter\n",
    "        # as 3x3 but increasing to 64 total learned filters\n",
    "        model.add(Conv2D(64, (3, 3), padding=\"same\",\n",
    "            kernel_initializer=init, kernel_regularizer=reg))\n",
    "        model.add(Activation(\"relu\"))\n",
    "        model.add(BatchNormalization(axis=chanDim))\n",
    "        model.add(Conv2D(64, (3, 3), strides=(2, 2), padding=\"same\",\n",
    "            kernel_initializer=init, kernel_regularizer=reg))\n",
    "        model.add(Activation(\"relu\"))\n",
    "        model.add(BatchNormalization(axis=chanDim))\n",
    "        model.add(Dropout(0.25))\n",
    "\n",
    "        # increase the number of filters again, this time to 128\n",
    "        model.add(Conv2D(128, (3, 3), padding=\"same\",\n",
    "            kernel_initializer=init, kernel_regularizer=reg))\n",
    "        model.add(Activation(\"relu\"))\n",
    "        model.add(BatchNormalization(axis=chanDim))\n",
    "        model.add(Conv2D(128, (3, 3), strides=(2, 2), padding=\"same\",\n",
    "            kernel_initializer=init, kernel_regularizer=reg))\n",
    "        model.add(Activation(\"relu\"))\n",
    "        model.add(BatchNormalization(axis=chanDim))\n",
    "        model.add(Dropout(0.25))\n",
    "\n",
    "        # fully-connected layer\n",
    "        model.add(Flatten())\n",
    "        model.add(Dense(512, kernel_initializer=init))\n",
    "        model.add(Activation(\"relu\"))\n",
    "        model.add(BatchNormalization())\n",
    "        model.add(Dropout(0.5))\n",
    "\n",
    "        # softmax classifier\n",
    "        model.add(Dense(classes))\n",
    "        model.add(Activation(\"softmax\"))\n",
    "\n",
    "        # return the constructed network architecture\n",
    "        return model\n",
    "\n",
    "# # construct the argument parser and parse the arguments\n",
    "# ap = argparse.ArgumentParser()\n",
    "# ap.add_argument(\"-d\", \"--dataset\", required=True,\n",
    "#     help=\"path to input dataset\")\n",
    "# ap.add_argument(\"-e\", \"--epochs\", type=int, default=50,\n",
    "#     help=\"# of epochs to train our network for\")\n",
    "# ap.add_argument(\"-p\", \"--plot\", type=str, default=\"plot1.png\",\n",
    "#     help=\"C:/Users/Charles/Downloads/keras-conv2d-example\")\n",
    "# args = vars(ap.parse_args())\n",
    "# argparse gave (input filepath?, # of epochs, plot result)\n",
    "    \n",
    "# A alternative for argument parser; directly feed file paths into function\n",
    "# def process_raw_data(labels_fn, images_fp, my_random_seed, imview=False, test=False):\n",
    "# def process_raw_data(labels_fn=l_file, images_fp=ci_path, my_random_seed, imview=False, test=False):\n",
    "plane_data = pd.read_csv(l_file) # read in photograph labels\n",
    "\n",
    "features_list = []\n",
    "image_list = []\n",
    "\n",
    "# for index, row in plane_data.iterrows():\n",
    "# #         features_list.append(image_manipulation_hog(row['img_name'], images_fp))\n",
    "# # grab the list of images in our dataset directory, then initialize\n",
    "# # the list of data (i.e., images) and class images\n",
    "# #     print(\"[INFO] loading images...\")\n",
    "# # C\n",
    "#     fullimpath = ci_path + row['img_name'] + '.png'\n",
    "#     image_list.append(fullimpath)\n",
    "# imagePaths = image_list\n",
    "\n",
    "data = []\n",
    "# in orig, labels is y_list\n",
    "labels = []\n",
    "\n",
    "# initialize the set of labels from the CALTECH-101 dataset we are\n",
    "# going to train our network on\n",
    "# LABELS = set([\"TRUE\"])\n",
    "\n",
    "\n",
    "# loop over the image paths\n",
    "#     for imagePath in imagePaths:\n",
    "for index, row in plane_data.iterrows():\n",
    "    # extract the class label from the filename\n",
    "#         label = imagePath.split(os.path.sep)[-2]\n",
    "#         # extract the class label from csv column\n",
    "#     label = row['img_name']\n",
    "    label = row['plane']\n",
    "    \n",
    "    # if the label of the current image is not part of of the labels\n",
    "    # are interested in, then ignore the image\n",
    "#         if label not in LABELS:\n",
    "#     if row['plane'] = 'False': #invalid syntax\n",
    "    if label == \"TRUE\":\n",
    "        continue\n",
    "\n",
    "    # load the image and resize it to be a fixed 96x96 pixels,\n",
    "    # ignoring aspect ratio\n",
    "    # for our data set, no need to resize\n",
    "    # cv2 or Opencv analyzes images\n",
    "    # does same function as HOG (?)\n",
    "    fullimpath = ci_path + row['img_name'] + '.png'\n",
    "\n",
    "    \n",
    "    image = cv2.imread(fullimpath)\n",
    "#         image = cv2.resize(image, (96, 96))\n",
    "\n",
    "    # update the data and labels lists, respectively\n",
    "    # D\n",
    "    data.append(image)\n",
    "    labels.append(label)\n",
    "\n",
    "    \n",
    "# convert the data into a NumPy array, then preprocess it by scaling\n",
    "# all pixel intensities to the range [0, 1]\n",
    "# what does 255.0 refer to?\n",
    "# E\n",
    "data = np.array(data, dtype=\"float\") / 255.0\n",
    "\n",
    "# perform one-hot encoding on the labels\n",
    "lb = LabelBinarizer()\n",
    "labels = lb.fit_transform(labels)\n",
    "print(labels.shape)\n",
    "# partition the data into training and testing splits using 75% of\n",
    "# the data for training and the remaining 25% for testing\n",
    "# F\n",
    "data_train, data_test, y_train, y_test = train_test_split(data, labels,\n",
    "    test_size=0.25, stratify=labels, random_state=42)   \n",
    "\n",
    "# construct the training image generator for data augmentation\n",
    "aug = ImageDataGenerator(rotation_range=20, zoom_range=0.15,\n",
    "    width_shift_range=0.2, height_shift_range=0.2, shear_range=0.15,\n",
    "    horizontal_flip=True, fill_mode=\"nearest\")\n",
    "\n",
    "# initialize the optimizer and model\n",
    "print(\"[INFO] compiling model...\")\n",
    "# opt = Adam(lr=1e-4, decay=1e-4 / args[\"epochs\"])\n",
    "# w/o args, just use 50 for \"epochs\"\n",
    "opt = Adam(lr=1e-4, decay=1e-4 / 50)\n",
    "sn = StridedNet()\n",
    "model = sn(width=70, height=30, depth=3,\n",
    "    classes=len(lb.classes_), reg=l2(0.0005))\n",
    "model.compile(loss=\"categorical_crossentropy\", optimizer=opt,\n",
    "    metrics=[\"accuracy\"])\n"
   ]
  },
  {
   "cell_type": "code",
   "execution_count": null,
   "metadata": {},
   "outputs": [],
   "source": [
    "%%time\n",
    "data_train, data_test, y_train, y_test, imgs_train, imgs_test = process_raw_data(l_file, ci_path, \n",
    "    my_random_seed=72, imview=False, test=False)"
   ]
  },
  {
   "cell_type": "code",
   "execution_count": null,
   "metadata": {},
   "outputs": [],
   "source": [
    "# train the network\n",
    "print(\"[INFO] training network for {} epochs...\".format(\n",
    "    args[\"epochs\"]))\n",
    "# what is batch_size=32?\n",
    "H = model.fit(x=aug.flow(data_train, y_train, batch_size=32),\n",
    "    validation_data=(data_test, y_test), steps_per_epoch=len(trainX) // 32,\n",
    "    epochs=args[\"epochs\"])"
   ]
  },
  {
   "cell_type": "code",
   "execution_count": 50,
   "metadata": {},
   "outputs": [
    {
     "name": "stderr",
     "output_type": "stream",
     "text": [
      "C:\\ProgramData\\Anaconda3\\envs\\deeplearning\\lib\\site-packages\\ipykernel\\ipkernel.py:287: DeprecationWarning: `should_run_async` will not call `transform_cell` automatically in the future. Please pass the result to `transformed_cell` argument and any exception that happen during thetransform in `preprocessing_exc_tuple` in IPython 7.17 and above.\n",
      "  and should_run_async(code)\n"
     ]
    },
    {
     "ename": "AttributeError",
     "evalue": "'StridedNet' object has no attribute 'fit'",
     "output_type": "error",
     "traceback": [
      "\u001b[1;31m---------------------------------------------------------------------------\u001b[0m",
      "\u001b[1;31mAttributeError\u001b[0m                            Traceback (most recent call last)",
      "\u001b[1;32m<timed exec>\u001b[0m in \u001b[0;36m<module>\u001b[1;34m\u001b[0m\n",
      "\u001b[1;31mAttributeError\u001b[0m: 'StridedNet' object has no attribute 'fit'"
     ]
    }
   ],
   "source": [
    "%%time\n",
    "\n",
    "# TF Convolutional Neural Network\n",
    "# from: https://www.pyimagesearch.com/2018/12/31/keras-conv2d-and-convolutional-layers/\n",
    "\n",
    "# import the necessary packages\n",
    "from tensorflow.keras.models import Sequential\n",
    "from tensorflow.keras.layers import BatchNormalization\n",
    "from tensorflow.keras.layers import Conv2D\n",
    "from tensorflow.keras.layers import Activation\n",
    "from tensorflow.keras.layers import Flatten\n",
    "from tensorflow.keras.layers import Dropout\n",
    "from tensorflow.keras.layers import Dense\n",
    "from tensorflow.keras import backend as K\n",
    "\n",
    "class StridedNet:\n",
    "    @staticmethod\n",
    "    def build(width, height, depth, classes, reg, init=\"he_normal\"):\n",
    "        # initialize the model along with the input shape to be\n",
    "        # \"channels last\" and the channels dimension itself\n",
    "        model = Sequential()\n",
    "        inputShape = (height, width, depth)\n",
    "        chanDim = -1\n",
    "\n",
    "        # if we are using \"channels first\", update the input shape\n",
    "        # and channels dimension\n",
    "        if K.image_data_format() == \"channels_first\":\n",
    "            inputShape = (depth, height, width)\n",
    "            chanDim = 1\n",
    "\n",
    "        # our first CONV layer will learn a total of 16 filters, each\n",
    "        # Of which are 7x7 -- we'll then apply 2x2 strides to reduce\n",
    "        # the spatial dimensions of the volume\n",
    "        model.add(Conv2D(16, (7, 7), strides=(2, 2), padding=\"valid\",\n",
    "            kernel_initializer=init, kernel_regularizer=reg,\n",
    "            input_shape=inputShape))\n",
    "\n",
    "        # here we stack two CONV layers on top of each other where\n",
    "        # each layer will learn a total of 32 (3x3) filters\n",
    "        model.add(Conv2D(32, (3, 3), padding=\"same\",\n",
    "            kernel_initializer=init, kernel_regularizer=reg))\n",
    "        model.add(Activation(\"relu\"))\n",
    "        model.add(BatchNormalization(axis=chanDim))\n",
    "        model.add(Conv2D(32, (3, 3), strides=(2, 2), padding=\"same\",\n",
    "            kernel_initializer=init, kernel_regularizer=reg))\n",
    "        model.add(Activation(\"relu\"))\n",
    "        model.add(BatchNormalization(axis=chanDim))\n",
    "        model.add(Dropout(0.25))\n",
    "\n",
    "        # stack two more CONV layers, keeping the size of each filter\n",
    "        # as 3x3 but increasing to 64 total learned filters\n",
    "        model.add(Conv2D(64, (3, 3), padding=\"same\",\n",
    "            kernel_initializer=init, kernel_regularizer=reg))\n",
    "        model.add(Activation(\"relu\"))\n",
    "        model.add(BatchNormalization(axis=chanDim))\n",
    "        model.add(Conv2D(64, (3, 3), strides=(2, 2), padding=\"same\",\n",
    "            kernel_initializer=init, kernel_regularizer=reg))\n",
    "        model.add(Activation(\"relu\"))\n",
    "        model.add(BatchNormalization(axis=chanDim))\n",
    "        model.add(Dropout(0.25))\n",
    "\n",
    "        # increase the number of filters again, this time to 128\n",
    "        model.add(Conv2D(128, (3, 3), padding=\"same\",\n",
    "            kernel_initializer=init, kernel_regularizer=reg))\n",
    "        model.add(Activation(\"relu\"))\n",
    "        model.add(BatchNormalization(axis=chanDim))\n",
    "        model.add(Conv2D(128, (3, 3), strides=(2, 2), padding=\"same\",\n",
    "            kernel_initializer=init, kernel_regularizer=reg))\n",
    "        model.add(Activation(\"relu\"))\n",
    "        model.add(BatchNormalization(axis=chanDim))\n",
    "        model.add(Dropout(0.25))\n",
    "\n",
    "        # fully-connected layer\n",
    "        model.add(Flatten())\n",
    "        model.add(Dense(512, kernel_initializer=init))\n",
    "        model.add(Activation(\"relu\"))\n",
    "        model.add(BatchNormalization())\n",
    "        model.add(Dropout(0.5))\n",
    "\n",
    "        # softmax classifier\n",
    "        model.add(Dense(classes))\n",
    "        model.add(Activation(\"softmax\"))\n",
    "\n",
    "        # return the constructed network architecture\n",
    "        return model\n",
    "\n",
    "sn = StridedNet()\n",
    "sn.fit(data_train, y_train)\n",
    "\n",
    "# evaluate the network\n",
    "print(\"[INFO] evaluating network...\")\n",
    "predictions = model.predict(x=testX, batch_size=32)\n",
    "print(classification_report(testY.argmax(axis=1),\n",
    "    predictions.argmax(axis=1), target_names=lb.classes_))"
   ]
  },
  {
   "cell_type": "code",
   "execution_count": 50,
   "metadata": {},
   "outputs": [
    {
     "name": "stderr",
     "output_type": "stream",
     "text": [
      "C:\\ProgramData\\Anaconda3\\envs\\deeplearning\\lib\\site-packages\\ipykernel\\ipkernel.py:287: DeprecationWarning: `should_run_async` will not call `transform_cell` automatically in the future. Please pass the result to `transformed_cell` argument and any exception that happen during thetransform in `preprocessing_exc_tuple` in IPython 7.17 and above.\n",
      "  and should_run_async(code)\n"
     ]
    },
    {
     "ename": "AttributeError",
     "evalue": "'StridedNet' object has no attribute 'fit'",
     "output_type": "error",
     "traceback": [
      "\u001b[1;31m---------------------------------------------------------------------------\u001b[0m",
      "\u001b[1;31mAttributeError\u001b[0m                            Traceback (most recent call last)",
      "\u001b[1;32m<timed exec>\u001b[0m in \u001b[0;36m<module>\u001b[1;34m\u001b[0m\n",
      "\u001b[1;31mAttributeError\u001b[0m: 'StridedNet' object has no attribute 'fit'"
     ]
    }
   ],
   "source": [
    "%%time\n",
    "\n",
    "# TF Convolutional Neural Network\n",
    "# from: https://www.pyimagesearch.com/2018/12/31/keras-conv2d-and-convolutional-layers/\n",
    "\n",
    "# import the necessary packages\n",
    "from tensorflow.keras.models import Sequential\n",
    "from tensorflow.keras.layers import BatchNormalization\n",
    "from tensorflow.keras.layers import Conv2D\n",
    "from tensorflow.keras.layers import Activation\n",
    "from tensorflow.keras.layers import Flatten\n",
    "from tensorflow.keras.layers import Dropout\n",
    "from tensorflow.keras.layers import Dense\n",
    "from tensorflow.keras import backend as K\n",
    "\n",
    "class StridedNet:\n",
    "    @staticmethod\n",
    "    def build(width, height, depth, classes, reg, init=\"he_normal\"):\n",
    "        # initialize the model along with the input shape to be\n",
    "        # \"channels last\" and the channels dimension itself\n",
    "        model = Sequential()\n",
    "        inputShape = (height, width, depth)\n",
    "        chanDim = -1\n",
    "\n",
    "        # if we are using \"channels first\", update the input shape\n",
    "        # and channels dimension\n",
    "        if K.image_data_format() == \"channels_first\":\n",
    "            inputShape = (depth, height, width)\n",
    "            chanDim = 1\n",
    "\n",
    "        # our first CONV layer will learn a total of 16 filters, each\n",
    "        # Of which are 7x7 -- we'll then apply 2x2 strides to reduce\n",
    "        # the spatial dimensions of the volume\n",
    "        model.add(Conv2D(16, (7, 7), strides=(2, 2), padding=\"valid\",\n",
    "            kernel_initializer=init, kernel_regularizer=reg,\n",
    "            input_shape=inputShape))\n",
    "\n",
    "        # here we stack two CONV layers on top of each other where\n",
    "        # each layer will learn a total of 32 (3x3) filters\n",
    "        model.add(Conv2D(32, (3, 3), padding=\"same\",\n",
    "            kernel_initializer=init, kernel_regularizer=reg))\n",
    "        model.add(Activation(\"relu\"))\n",
    "        model.add(BatchNormalization(axis=chanDim))\n",
    "        model.add(Conv2D(32, (3, 3), strides=(2, 2), padding=\"same\",\n",
    "            kernel_initializer=init, kernel_regularizer=reg))\n",
    "        model.add(Activation(\"relu\"))\n",
    "        model.add(BatchNormalization(axis=chanDim))\n",
    "        model.add(Dropout(0.25))\n",
    "\n",
    "        # stack two more CONV layers, keeping the size of each filter\n",
    "        # as 3x3 but increasing to 64 total learned filters\n",
    "        model.add(Conv2D(64, (3, 3), padding=\"same\",\n",
    "            kernel_initializer=init, kernel_regularizer=reg))\n",
    "        model.add(Activation(\"relu\"))\n",
    "        model.add(BatchNormalization(axis=chanDim))\n",
    "        model.add(Conv2D(64, (3, 3), strides=(2, 2), padding=\"same\",\n",
    "            kernel_initializer=init, kernel_regularizer=reg))\n",
    "        model.add(Activation(\"relu\"))\n",
    "        model.add(BatchNormalization(axis=chanDim))\n",
    "        model.add(Dropout(0.25))\n",
    "\n",
    "        # increase the number of filters again, this time to 128\n",
    "        model.add(Conv2D(128, (3, 3), padding=\"same\",\n",
    "            kernel_initializer=init, kernel_regularizer=reg))\n",
    "        model.add(Activation(\"relu\"))\n",
    "        model.add(BatchNormalization(axis=chanDim))\n",
    "        model.add(Conv2D(128, (3, 3), strides=(2, 2), padding=\"same\",\n",
    "            kernel_initializer=init, kernel_regularizer=reg))\n",
    "        model.add(Activation(\"relu\"))\n",
    "        model.add(BatchNormalization(axis=chanDim))\n",
    "        model.add(Dropout(0.25))\n",
    "\n",
    "        # fully-connected layer\n",
    "        model.add(Flatten())\n",
    "        model.add(Dense(512, kernel_initializer=init))\n",
    "        model.add(Activation(\"relu\"))\n",
    "        model.add(BatchNormalization())\n",
    "        model.add(Dropout(0.5))\n",
    "\n",
    "        # softmax classifier\n",
    "        model.add(Dense(classes))\n",
    "        model.add(Activation(\"softmax\"))\n",
    "\n",
    "        # return the constructed network architecture\n",
    "        return model\n",
    "\n",
    "sn = StridedNet()\n",
    "sn.fit(data_train, y_train)\n",
    "\n",
    "# evaluate the network\n",
    "print(\"[INFO] evaluating network...\")\n",
    "predictions = model.predict(x=testX, batch_size=32)\n",
    "print(classification_report(testY.argmax(axis=1),\n",
    "    predictions.argmax(axis=1), target_names=lb.classes_))"
   ]
  },
  {
   "cell_type": "code",
   "execution_count": null,
   "metadata": {},
   "outputs": [],
   "source": [
    "# plot the training loss and accuracy\n",
    "N = args[\"epochs\"]\n",
    "plt.style.use(\"ggplot\")\n",
    "plt.figure()\n",
    "plt.plot(np.arange(0, N), H.history[\"loss\"], label=\"train_loss\")\n",
    "plt.plot(np.arange(0, N), H.history[\"val_loss\"], label=\"val_loss\")\n",
    "plt.plot(np.arange(0, N), H.history[\"accuracy\"], label=\"train_acc\")\n",
    "plt.plot(np.arange(0, N), H.history[\"val_accuracy\"], label=\"val_acc\")\n",
    "plt.title(\"Training Loss and Accuracy on Dataset\")\n",
    "plt.xlabel(\"Epoch #\")\n",
    "plt.ylabel(\"Loss/Accuracy\")\n",
    "plt.legend(loc=\"lower left\")\n",
    "plt.savefig(args[\"plot\"])"
   ]
  },
  {
   "cell_type": "markdown",
   "metadata": {},
   "source": [
    "# tf 2.0"
   ]
  },
  {
   "cell_type": "code",
   "execution_count": 2,
   "metadata": {},
   "outputs": [],
   "source": [
    "cc_path = '/Users/Charles/Desktop/ML/A2/dump_folder/cropped_images/' # file path for cropped images for training\n",
    "ll_file = '/Users/Charles/Desktop/ML/A2/dump_folder/plane_labels.csv' # file path and file name for csv with labels\n",
    "\n",
    "os.chdir(cc_path)\n",
    "# if folders don't exist, make folders\n",
    "if os.path.isdir('train/TRUE') is False:\n",
    "    print('NO')\n",
    "    \n",
    "    \n",
    "    "
   ]
  },
  {
   "cell_type": "code",
   "execution_count": 3,
   "metadata": {},
   "outputs": [],
   "source": [
    "# https://www.youtube.com/watch?v=qFJeN9V1ZsI\n",
    "cc_path = '/Users/Charles/Desktop/ML/A2/dump_folder/cropped_images/' # file path for cropped images for training\n",
    "ll_file = '/Users/Charles/Desktop/ML/A2/dump_folder/plane_labels.csv' # file path and file name for csv with labels\n",
    "\n",
    "os.chdir(cc_path)\n",
    "# if folders don't exist, make folders\n",
    "if os.path.isdir('train/TRUE') is False:\n",
    "    os.makedirs('train/TRUE')\n",
    "    os.makedirs('train/FALSE')\n",
    "    os.makedirs('valid/TRUE')\n",
    "    os.makedirs('valid/FALSE')\n",
    "    os.makedirs('test/TRUE')\n",
    "    os.makedirs('test/FALSE')\n",
    "\n",
    "# elif os.path.isdir('train/TRUE') is True:\n",
    "    \n",
    "#     plane_data = pd.read_csv(ll_file) # read in photograph labels\n",
    "\n",
    "#     features_list = []\n",
    "#     image_list = []\n",
    "#     data = []\n",
    "#     labels = []\n",
    "    \n",
    "#     LABELS = set([True]) # True/False in the csv is read as Boolean and not string\n",
    "\n",
    "#     for index, row in plane_data.iterrows():\n",
    "        \n",
    "#         label = row['plane']\n",
    "#         fullimpath = cc_path + row['img_name'] + '.png'\n",
    "        \n",
    "#         if label not in LABELS:\n",
    "# #         if label == \"TRUE\":\n",
    "\n",
    "#             newimpath = cc_path + 'FALSE.' + row['img_name'] + '.png'\n",
    "#             os.rename(fullimpath, newimpath)\n",
    "\n",
    "#         else:\n",
    "# #         elif label == \"FALSE\":\n",
    "#             newimpath = cc_path + 'TRUE.' + row['img_name'] + '.png'\n",
    "#             os.rename(fullimpath, newimpath)\n",
    "\n",
    "#     counter = len(glob.glob('FALSE*'))\n",
    "#     print(counter)\n",
    "\n",
    "#     for c in random.sample(glob.glob('TRUE*'), 66):\n",
    "#         shutil.move(c, 'train/TRUE')\n",
    "#     for c in random.sample(glob.glob('FALSE*'), 4327):\n",
    "#         shutil.move(c, 'train/FALSE')\n",
    "#     for c in random.sample(glob.glob('TRUE*'), 25):\n",
    "#         shutil.move(c, 'valid/TRUE')\n",
    "#     for c in random.sample(glob.glob('FALSE*'), 1664):\n",
    "#         shutil.move(c, 'valid/FALSE')\n",
    "#     for c in random.sample(glob.glob('TRUE*'), 10):\n",
    "#         shutil.move(c, 'test/TRUE')\n",
    "#     for c in random.sample(glob.glob('FALSE*'), 666):\n",
    "#         shutil.move(c, 'test/FALSE')\n",
    "\n",
    "#change directory, for what?\n",
    "os.chdir('../../')"
   ]
  },
  {
   "cell_type": "code",
   "execution_count": 4,
   "metadata": {},
   "outputs": [
    {
     "name": "stdout",
     "output_type": "stream",
     "text": [
      "Wall time: 0 ns\n"
     ]
    }
   ],
   "source": [
    "%%time\n",
    "train_path = 'dump_folder/cropped_images/train'\n",
    "valid_path = 'dump_folder/cropped_images/valid'\n",
    "test_path = 'dump_folder/test'"
   ]
  },
  {
   "cell_type": "code",
   "execution_count": 7,
   "metadata": {},
   "outputs": [
    {
     "name": "stdout",
     "output_type": "stream",
     "text": [
      "Found 6758 images belonging to 2 classes.\n",
      "Found 914 images belonging to 2 classes.\n",
      "Found 1523 images belonging to 2 classes.\n",
      "Wall time: 1.02 s\n"
     ]
    }
   ],
   "source": [
    "%%time\n",
    "# https://www.youtube.com/watch?v=qFJeN9V1ZsI\n",
    "\n",
    "# pre-processing\n",
    "train_batches = ImageDataGenerator(preprocessing_function=tf.keras.applications.vgg16.preprocess_input) \\\n",
    "    .flow_from_directory(directory=train_path, target_size=(60, 140), classes=['FALSE', 'TRUE'], batch_size=10)\n",
    "valid_batches = ImageDataGenerator(preprocessing_function=tf.keras.applications.vgg16.preprocess_input) \\\n",
    "    .flow_from_directory(directory=valid_path, target_size=(60, 140), classes=['FALSE', 'TRUE'], batch_size=10)\n",
    "test_batches = ImageDataGenerator(preprocessing_function=tf.keras.applications.vgg16.preprocess_input) \\\n",
    "    .flow_from_directory(directory=test_path, target_size=(60, 140), classes=['FALSE', 'TRUE'], batch_size=10, shuffle=False)"
   ]
  },
  {
   "cell_type": "code",
   "execution_count": 102,
   "metadata": {},
   "outputs": [],
   "source": [
    "# confirming the sizes of ea batch(?) and no. of classes in ea batch\n",
    "# assert train_batches.n == 4393\n",
    "# assert valid_batches.n == 1689\n",
    "# assert test_batches.n == 676\n",
    "# assert train_batches.num_classes == valid_batches.num_classes == test_batches.num_classes == 2"
   ]
  },
  {
   "cell_type": "code",
   "execution_count": 8,
   "metadata": {},
   "outputs": [],
   "source": [
    "# grab a batch from training, processing every ten images and corresponding labels\n",
    "imgs, labels = next(train_batches)"
   ]
  },
  {
   "cell_type": "code",
   "execution_count": 9,
   "metadata": {},
   "outputs": [],
   "source": [
    "# This function will plot images in the form of a grid with 1 row and 10 columns where images are placed\n",
    "def plotImages(images_arr):\n",
    "    fig, axes = plt.subplots(1, 10, figsize=(20, 20))\n",
    "    axes = axes.flatten()\n",
    "    for img, ax in zip(images_arr, axes):\n",
    "        ax.imshow(img)\n",
    "        ax.axis('off')\n",
    "    plt.tight_layout()\n",
    "    plt.show()"
   ]
  },
  {
   "cell_type": "code",
   "execution_count": 10,
   "metadata": {},
   "outputs": [
    {
     "name": "stderr",
     "output_type": "stream",
     "text": [
      "Clipping input data to the valid range for imshow with RGB data ([0..1] for floats or [0..255] for integers).\n",
      "Clipping input data to the valid range for imshow with RGB data ([0..1] for floats or [0..255] for integers).\n",
      "Clipping input data to the valid range for imshow with RGB data ([0..1] for floats or [0..255] for integers).\n",
      "Clipping input data to the valid range for imshow with RGB data ([0..1] for floats or [0..255] for integers).\n",
      "Clipping input data to the valid range for imshow with RGB data ([0..1] for floats or [0..255] for integers).\n",
      "Clipping input data to the valid range for imshow with RGB data ([0..1] for floats or [0..255] for integers).\n",
      "Clipping input data to the valid range for imshow with RGB data ([0..1] for floats or [0..255] for integers).\n",
      "Clipping input data to the valid range for imshow with RGB data ([0..1] for floats or [0..255] for integers).\n",
      "Clipping input data to the valid range for imshow with RGB data ([0..1] for floats or [0..255] for integers).\n",
      "Clipping input data to the valid range for imshow with RGB data ([0..1] for floats or [0..255] for integers).\n"
     ]
    },
    {
     "data": {
      "image/png": "[encoded data removed]",
      "text/plain": [
       "<Figure size 1440x1440 with 10 Axes>"
      ]
     },
     "metadata": {
      "needs_background": "light"
     },
     "output_type": "display_data"
    },
    {
     "name": "stdout",
     "output_type": "stream",
     "text": [
      "[[1. 0.]\n",
      " [1. 0.]\n",
      " [1. 0.]\n",
      " [1. 0.]\n",
      " [1. 0.]\n",
      " [1. 0.]\n",
      " [1. 0.]\n",
      " [1. 0.]\n",
      " [1. 0.]\n",
      " [1. 0.]]\n",
      "Wall time: 548 ms\n"
     ]
    }
   ],
   "source": [
    "%%time\n",
    "plotImages(imgs)\n",
    "print(labels)"
   ]
  },
  {
   "cell_type": "code",
   "execution_count": 11,
   "metadata": {
    "scrolled": false
   },
   "outputs": [
    {
     "name": "stdout",
     "output_type": "stream",
     "text": [
      "Model: \"sequential\"\n",
      "_________________________________________________________________\n",
      "Layer (type)                 Output Shape              Param #   \n",
      "=================================================================\n",
      "conv2d (Conv2D)              (None, 60, 140, 32)       896       \n",
      "_________________________________________________________________\n",
      "max_pooling2d (MaxPooling2D) (None, 30, 70, 32)        0         \n",
      "_________________________________________________________________\n",
      "conv2d_1 (Conv2D)            (None, 30, 70, 64)        18496     \n",
      "_________________________________________________________________\n",
      "max_pooling2d_1 (MaxPooling2 (None, 15, 35, 64)        0         \n",
      "_________________________________________________________________\n",
      "conv2d_2 (Conv2D)            (None, 15, 35, 128)       73856     \n",
      "_________________________________________________________________\n",
      "max_pooling2d_2 (MaxPooling2 (None, 7, 17, 128)        0         \n",
      "_________________________________________________________________\n",
      "flatten (Flatten)            (None, 15232)             0         \n",
      "_________________________________________________________________\n",
      "dense (Dense)                (None, 128)               1949824   \n",
      "_________________________________________________________________\n",
      "dense_1 (Dense)              (None, 2)                 258       \n",
      "=================================================================\n",
      "Total params: 2,043,330\n",
      "Trainable params: 2,043,330\n",
      "Non-trainable params: 0\n",
      "_________________________________________________________________\n",
      "WARNING:tensorflow:sample_weight modes were coerced from\n",
      "  ...\n",
      "    to  \n",
      "  ['...']\n",
      "WARNING:tensorflow:sample_weight modes were coerced from\n",
      "  ...\n",
      "    to  \n",
      "  ['...']\n",
      "Train for 676 steps, validate for 92 steps\n",
      "Epoch 1/10\n",
      "676/676 - 157s - loss: 0.1257 - accuracy: 0.9900 - val_loss: 0.0102 - val_accuracy: 0.9967\n",
      "Epoch 2/10\n",
      "676/676 - 154s - loss: 0.0146 - accuracy: 0.9974 - val_loss: 0.0068 - val_accuracy: 0.9995\n",
      "Epoch 3/10\n",
      "676/676 - 123s - loss: 0.0081 - accuracy: 0.9983 - val_loss: 0.0085 - val_accuracy: 0.9984\n",
      "Epoch 4/10\n",
      "676/676 - 132s - loss: 0.0098 - accuracy: 0.9982 - val_loss: 0.0030 - val_accuracy: 0.9989\n",
      "Epoch 5/10\n",
      "676/676 - 157s - loss: 0.0052 - accuracy: 0.9989 - val_loss: 0.0094 - val_accuracy: 0.9967\n",
      "Epoch 6/10\n",
      "676/676 - 167s - loss: 0.0014 - accuracy: 0.9996 - val_loss: 2.8714e-04 - val_accuracy: 1.0000\n",
      "Epoch 7/10\n",
      "676/676 - 121s - loss: 6.1096e-04 - accuracy: 0.9997 - val_loss: 6.2211e-05 - val_accuracy: 1.0000\n",
      "Epoch 8/10\n",
      "676/676 - 137s - loss: 2.2705e-05 - accuracy: 1.0000 - val_loss: 2.7023e-05 - val_accuracy: 1.0000\n",
      "Epoch 9/10\n",
      "676/676 - 135s - loss: 8.4877e-06 - accuracy: 1.0000 - val_loss: 1.5385e-05 - val_accuracy: 1.0000\n",
      "Epoch 10/10\n",
      "676/676 - 119s - loss: 4.3614e-06 - accuracy: 1.0000 - val_loss: 1.0166e-05 - val_accuracy: 1.0000\n",
      "Wall time: 23min 21s\n"
     ]
    },
    {
     "data": {
      "text/plain": [
       "<tensorflow.python.keras.callbacks.History at 0x25e547f80c8>"
      ]
     },
     "execution_count": 11,
     "metadata": {},
     "output_type": "execute_result"
    }
   ],
   "source": [
    "%%time\n",
    "# this is the CNN model\n",
    "# training and validation\n",
    "num_classes = 2\n",
    "\n",
    "model = Sequential([\n",
    "    Conv2D(filters=32, kernel_size=(3, 3), activation='relu', padding='same', input_shape=(60, 140, 3)), # 3 is no. color channels\n",
    "    MaxPool2D(pool_size=(2, 2), strides=2), # what does maxpool do?\n",
    "    Conv2D(filters=64, kernel_size=(3, 3), activation='relu', padding='same'),\n",
    "    MaxPool2D(pool_size=(2, 2), strides=2),\n",
    "    Conv2D(filters=128, kernel_size=(3, 3), activation='relu', padding='same'),\n",
    "    MaxPool2D(pool_size=(2, 2), strides=2),\n",
    "    Flatten(),\n",
    "#     Dense(units=2, activation='softmax'), # 2 units refers to classes or labels, in this case, T/F\n",
    "    Dense(units=128, activation='relu'),\n",
    "    Dense(units=num_classes, activation='sigmoid')\n",
    "])\n",
    "\n",
    "model.summary()\n",
    "\n",
    "# def tp_rate(y_true, y_pred):\n",
    "#     tp = tf.keras.metrics.Recall()\n",
    "#     return tp\n",
    "    \n",
    "\n",
    "model.compile(optimizer=Adam(learning_rate=0.0001), loss='binary_crossentropy', metrics=['accuracy'])\n",
    "# instead of adam, could use a sigmoid with binary crossentropy\n",
    "\n",
    "model.fit(x=train_batches, validation_data=valid_batches, epochs=10, verbose=2)"
   ]
  },
  {
   "cell_type": "code",
   "execution_count": 12,
   "metadata": {},
   "outputs": [
    {
     "name": "stderr",
     "output_type": "stream",
     "text": [
      "Clipping input data to the valid range for imshow with RGB data ([0..1] for floats or [0..255] for integers).\n",
      "Clipping input data to the valid range for imshow with RGB data ([0..1] for floats or [0..255] for integers).\n",
      "Clipping input data to the valid range for imshow with RGB data ([0..1] for floats or [0..255] for integers).\n",
      "Clipping input data to the valid range for imshow with RGB data ([0..1] for floats or [0..255] for integers).\n",
      "Clipping input data to the valid range for imshow with RGB data ([0..1] for floats or [0..255] for integers).\n",
      "Clipping input data to the valid range for imshow with RGB data ([0..1] for floats or [0..255] for integers).\n",
      "Clipping input data to the valid range for imshow with RGB data ([0..1] for floats or [0..255] for integers).\n",
      "Clipping input data to the valid range for imshow with RGB data ([0..1] for floats or [0..255] for integers).\n",
      "Clipping input data to the valid range for imshow with RGB data ([0..1] for floats or [0..255] for integers).\n",
      "Clipping input data to the valid range for imshow with RGB data ([0..1] for floats or [0..255] for integers).\n"
     ]
    },
    {
     "data": {
      "image/png": "[encoded data removed]",
      "text/plain": [
       "<Figure size 1440x1440 with 10 Axes>"
      ]
     },
     "metadata": {
      "needs_background": "light"
     },
     "output_type": "display_data"
    },
    {
     "name": "stdout",
     "output_type": "stream",
     "text": [
      "[[1. 0.]\n",
      " [1. 0.]\n",
      " [1. 0.]\n",
      " [1. 0.]\n",
      " [1. 0.]\n",
      " [1. 0.]\n",
      " [1. 0.]\n",
      " [1. 0.]\n",
      " [1. 0.]\n",
      " [1. 0.]]\n"
     ]
    }
   ],
   "source": [
    "# test set\n",
    "test_imgs, test_labels = next(test_batches)\n",
    "plotImages(test_imgs)\n",
    "print(test_labels)"
   ]
  },
  {
   "cell_type": "code",
   "execution_count": 13,
   "metadata": {},
   "outputs": [
    {
     "name": "stdout",
     "output_type": "stream",
     "text": [
      "[[1. 0.]\n",
      " [1. 0.]\n",
      " [1. 0.]\n",
      " ...\n",
      " [1. 0.]\n",
      " [1. 0.]\n",
      " [1. 0.]]\n"
     ]
    }
   ],
   "source": [
    "# test_batches.classes\n",
    "\n",
    "predictions = model.predict(x=test_batches, verbose=0)\n",
    "predictions = np.round(predictions)\n",
    "print(predictions)"
   ]
  },
  {
   "cell_type": "code",
   "execution_count": 24,
   "metadata": {},
   "outputs": [
    {
     "name": "stdout",
     "output_type": "stream",
     "text": [
      "                      img_name prediction\n",
      "0     2016-08-02T13+50+24_430Z      False\n",
      "1     2016-08-02T14+12+37_390Z      False\n",
      "2     2016-08-03T12+32+21_790Z      False\n",
      "3     2016-08-03T13+19+28_320Z      False\n",
      "4     2016-08-05T15+24+58_670Z      False\n",
      "...                        ...        ...\n",
      "1518  2018-03-10T15+26+19_760Z      False\n",
      "1519  2018-03-10T15+48+42_550Z      False\n",
      "1520  2018-03-13T12+22+18_290Z      False\n",
      "1521  2018-03-13T12+57+53_900Z      False\n",
      "1522  2018-03-13T13+00+55_600Z      False\n",
      "\n",
      "[1523 rows x 2 columns]\n"
     ]
    }
   ],
   "source": [
    "# print submission\n",
    "\n",
    "ci_path = '/Users/Charles/Desktop/ML/A2/plane_data/cropped_images/' # file path for cropped images for training\n",
    "l_file = '/Users/Charles/Desktop/ML/A2/test_data_for_grading/test_plane_labels.csv' # file path and file name for csv with labels\n",
    "\n",
    "plane_data = pd.read_csv(l_file)\n",
    "# print(plane_data['img_name'])\n",
    "\n",
    "df = pd.DataFrame(data=predictions, columns=[\"False\", \"prediction\"])\n",
    "df[\"prediction\"] = df[\"prediction\"].replace({0: \"False\", 1: \"True\"})\n",
    "# print(df[\"prediction\"])\n",
    "\n",
    "final = pd.concat([plane_data['img_name'], df[\"prediction\"]], axis=1)\n",
    "\n",
    "print(final)\n",
    "final.to_csv('airplane_submission_final.csv', index=False)"
   ]
  },
  {
   "cell_type": "code",
   "execution_count": 18,
   "metadata": {},
   "outputs": [
    {
     "name": "stdout",
     "output_type": "stream",
     "text": [
      "[0 0 0 0 0 0 0 0 0 0 0 0 0 0 0 0 0 0 0 0 0 0 0 0 0 0 0 0 0 0 0 0 0 0 0 0 0\n",
      " 0 0 0 0 0 0 0 0 0 0 0 0 0 0 0 0 0 0 0 0 0 0 0 0 0 0 0 0 0 0 0 0 0 0 0 0 0\n",
      " 0 0 0 0 0 0 0 0 0 0 0 0 0 0 0 0 0 0 0 0 0 0 0 0 0 0 0 0 0 0 0 0 0 0 0 0 0\n",
      " 0 0 0 0 0 0 0 0 0 0 0 0 0 0 0 0 0 0 0 0 0 0 0 0 0 0 0 0 0 0 0 0 0 0 0 0 0\n",
      " 0 0 0 0 0 0 0 0 0 0 0 0 0 0 0 0 0 0 0 0 0 0 0 0 0 0 0 0 0 0 0 0 0 0 0 0 0\n",
      " 0 0 0 0 0 0 0 0 0 0 0 0 0 0 0 0 0 0 0 0 0 0 0 0 0 0 0 0 0 0 0 0 0 0 0 0 0\n",
      " 0 0 0 0 0 0 0 0 0 0 0 0 0 0 0 0 0 0 0 0 0 0 0 0 0 0 0 0 0 0 0 0 0 0 0 0 0\n",
      " 0 0 0 0 0 0 0 0 0 0 0 0 0 0 0 0 0 0 0 0 0 0 0 0 0 0 0 0 0 0 0 0 0 0 0 0 0\n",
      " 0 0 0 0 0 0 0 0 0 0 0 0 0 0 0 0 0 0 0 0 0 0 0 0 0 0 0 0 0 0 0 0 0 0 0 0 0\n",
      " 0 0 0 0 0 0 0 0 0 0 0 0 0 0 0 0 0 0 0 0 0 0 0 0 0 0 0 0 0 0 0 0 0 0 0 0 0\n",
      " 0 0 0 0 0 0 0 0 0 0 0 0 0 0 0 0 0 0 0 0 0 0 0 0 0 0 0 0 0 0 0 0 0 0 0 0 0\n",
      " 0 0 0 0 0 0 0 0 0 0 0 0 0 0 0 0 0 0 0 0 0 0 0 0 0 0 0 0 0 0 0 0 0 0 0 0 0\n",
      " 0 0 0 0 0 0 0 0 0 0 0 0 0 0 0 0 0 0 0 0 0 0 0 0 0 0 0 0 0 0 0 0 0 0 0 0 0\n",
      " 0 0 0 0 0 0 0 0 0 0 0 0 0 0 0 0 0 0 0 0 0 0 0 0 0 0 0 0 0 0 0 0 0 0 0 0 0\n",
      " 0 0 0 0 0 0 0 0 0 0 0 0 0 0 0 0 0 0 0 0 0 0 0 0 0 0 0 0 0 0 0 0 0 0 0 0 0\n",
      " 0 0 0 0 0 0 0 0 0 0 0 0 0 0 0 0 0 0 0 0 0 0 0 0 0 0 0 0 0 0 0 0 0 0 0 0 0\n",
      " 0 0 0 0 0 0 0 0 0 0 0 0 0 0 0 0 0 0 0 0 0 0 0 0 0 0 0 0 0 0 0 0 0 0 0 0 0\n",
      " 0 0 0 0 0 0 0 0 0 0 0 0 0 0 0 0 0 0 0 0 0 0 0 0 0 0 0 0 0 0 0 0 0 0 0 0 0\n",
      " 1 1 1 1 1 0 1 1 1 1 1 1]\n"
     ]
    }
   ],
   "source": [
    "y_pred=np.argmax(predictions, axis=1)\n",
    "print(y_pred)"
   ]
  },
  {
   "cell_type": "code",
   "execution_count": 19,
   "metadata": {},
   "outputs": [
    {
     "name": "stdout",
     "output_type": "stream",
     "text": [
      "[0 0 0 0 0 0 0 0 0 0 0 0 0 0 0 0 0 0 0 0 0 0 0 0 0 0 0 0 0 0 0 0 0 0 0 0 0\n",
      " 0 0 0 0 0 0 0 0 0 0 0 0 0 0 0 0 0 0 0 0 0 0 0 0 0 0 0 0 0 0 0 0 0 0 0 0 0\n",
      " 0 0 0 0 0 0 0 0 0 0 0 0 0 0 0 0 0 0 0 0 0 0 0 0 0 0 0 0 0 0 0 0 0 0 0 0 0\n",
      " 0 0 0 0 0 0 0 0 0 0 0 0 0 0 0 0 0 0 0 0 0 0 0 0 0 0 0 0 0 0 0 0 0 0 0 0 0\n",
      " 0 0 0 0 0 0 0 0 0 0 0 0 0 0 0 0 0 0 0 0 0 0 0 0 0 0 0 0 0 0 0 0 0 0 0 0 0\n",
      " 0 0 0 0 0 0 0 0 0 0 0 0 0 0 0 0 0 0 0 0 0 0 0 0 0 0 0 0 0 0 0 0 0 0 0 0 0\n",
      " 0 0 0 0 0 0 0 0 0 0 0 0 0 0 0 0 0 0 0 0 0 0 0 0 0 0 0 0 0 0 0 0 0 0 0 0 0\n",
      " 0 0 0 0 0 0 0 0 0 0 0 0 0 0 0 0 0 0 0 0 0 0 0 0 0 0 0 0 0 0 0 0 0 0 0 0 0\n",
      " 0 0 0 0 0 0 0 0 0 0 0 0 0 0 0 0 0 0 0 0 0 0 0 0 0 0 0 0 0 0 0 0 0 0 0 0 0\n",
      " 0 0 0 0 0 0 0 0 0 0 0 0 0 0 0 0 0 0 0 0 0 0 0 0 0 0 0 0 0 0 0 0 0 0 0 0 0\n",
      " 0 0 0 0 0 0 0 0 0 0 0 0 0 0 0 0 0 0 0 0 0 0 0 0 0 0 0 0 0 0 0 0 0 0 0 0 0\n",
      " 0 0 0 0 0 0 0 0 0 0 0 0 0 0 0 0 0 0 0 0 0 0 0 0 0 0 0 0 0 0 0 0 0 0 0 0 0\n",
      " 0 0 0 0 0 0 0 0 0 0 0 0 0 0 0 0 0 0 0 0 0 0 0 0 0 0 0 0 0 0 0 0 0 0 0 0 0\n",
      " 0 0 0 0 0 0 0 0 0 0 0 0 0 0 0 0 0 0 0 0 0 0 0 0 0 0 0 0 0 0 0 0 0 0 0 0 0\n",
      " 0 0 0 0 0 0 0 0 0 0 0 0 0 0 0 0 0 0 0 0 0 0 0 0 0 0 0 0 0 0 0 0 0 0 0 0 0\n",
      " 0 0 0 0 0 0 0 0 0 0 0 0 0 0 0 0 0 0 0 0 0 0 0 0 0 0 0 0 0 0 0 0 0 0 0 0 0\n",
      " 0 0 0 0 0 0 0 0 0 0 0 0 0 0 0 0 0 0 0 0 0 0 0 0 0 0 0 0 0 0 0 0 0 0 0 0 0\n",
      " 0 0 0 0 0 0 0 0 0 0 0 0 0 0 0 0 0 0 0 0 0 0 0 0 0 0 0 0 0 0 0 0 0 0 0 0 0\n",
      " 1 1 1 1 1 0 1 1 1 1 1 1]\n",
      "Wall time: 10 ms\n"
     ]
    }
   ],
   "source": [
    "%%time\n",
    "# what's the function of a confusion matrix?\n",
    "# related to the reason for 'Shuffle=false' previously\n",
    "print(np.argmax(predictions, axis=1))\n",
    "cm = confusion_matrix(y_true=test_batches.classes, y_pred=np.argmax(predictions, axis=1))"
   ]
  },
  {
   "cell_type": "code",
   "execution_count": 20,
   "metadata": {},
   "outputs": [],
   "source": [
    "def plot_confusion_matrix(cm, classes, normalize=False, title='Confusion matrix', cmap=plt.cm.Blues):\n",
    "    \"\"\"\n",
    "    This function prints and plots the confusion matrix.\n",
    "    Normalization can be applied by setting 'normalize=True'.\n",
    "    \"\"\"\n",
    "    plt.imshow(cm, interpolation='nearest', cmap=cmap)\n",
    "    plt.title(title)\n",
    "    plt.colorbar()\n",
    "    tick_marks = np.arange(len(classes))\n",
    "    plt.xticks(tick_marks, classes, rotation=45)\n",
    "    plt.yticks(tick_marks, classes)\n",
    "    \n",
    "    if normalize:\n",
    "        cm = cm.astype('float') / cm.sum(axis=1)[:, np.newaxis]\n",
    "        print(\"Normalized confusion matrix\")\n",
    "    else:\n",
    "        print('Confusion matrix, without normalization')\n",
    "    \n",
    "    print(cm)\n",
    "    \n",
    "    thresh = cm.max() / 2.\n",
    "    for i, j in itertools.product(range(cm.shape[0]), range(cm.shape[1])):\n",
    "        plt.text(j, i, cm[i, j], \n",
    "                horizontalalignment=\"center\",\n",
    "                color=\"white\" if cm[i, j] > thresh else \"black\")\n",
    "    \n",
    "    plt.tight_layout()\n",
    "    plt.ylabel('True label')\n",
    "    plt.xlabel('Predicted label')\n",
    "    "
   ]
  },
  {
   "cell_type": "code",
   "execution_count": 21,
   "metadata": {},
   "outputs": [
    {
     "data": {
      "text/plain": [
       "{'FALSE': 0, 'TRUE': 1}"
      ]
     },
     "execution_count": 21,
     "metadata": {},
     "output_type": "execute_result"
    }
   ],
   "source": [
    "test_batches.class_indices"
   ]
  },
  {
   "cell_type": "code",
   "execution_count": 22,
   "metadata": {},
   "outputs": [
    {
     "name": "stdout",
     "output_type": "stream",
     "text": [
      "Confusion matrix, without normalization\n",
      "[[666   0]\n",
      " [  1  11]]\n"
     ]
    },
    {
     "data": {
      "image/png": "[encoded data removed]",
      "text/plain": [
       "<Figure size 432x288 with 2 Axes>"
      ]
     },
     "metadata": {
      "needs_background": "light"
     },
     "output_type": "display_data"
    }
   ],
   "source": [
    "cm_plot_labels = ['False', 'True']\n",
    "plot_confusion_matrix(cm=cm, classes=cm_plot_labels, title='Confusion Matrix')"
   ]
  },
  {
   "cell_type": "code",
   "execution_count": 23,
   "metadata": {},
   "outputs": [
    {
     "name": "stdout",
     "output_type": "stream",
     "text": [
      "Performance: \n",
      "{'Pos': 12, 'Neg': 666, 'TP': 11, 'TN': 666, 'FP': 0, 'FN': 1, 'Accuracy': 0.9985250737463127, 'Precision': 1.0, 'Recall': 0.9166666666666666, 'desc': 'tf1', 'set': 'train'}\n"
     ]
    }
   ],
   "source": [
    "# trying to compute performance metrics for this run,\n",
    "# (c) have to figure out how to match image id (in csv) with binary classification (one column in 'predictions1' array)\n",
    "# (c) and convert to dataframe.  Need dataframe to get '.compute_measures' and '.performance_measures'\n",
    "# (c) Then can perform below steps.\n",
    "# See how to feed the test images into this model.\n",
    "\n",
    "y_pred=np.argmax(predictions, axis=1)\n",
    "y_true=test_batches.classes\n",
    "tf_performance = BinaryClassificationPerformance(y_pred, y_true, 'tf1')\n",
    "tf_performance.compute_measures()\n",
    "tf_performance.performance_measures['set'] = 'train'\n",
    "print('Performance: ')\n",
    "print(tf_performance.performance_measures)\n",
    "# print(predictions1)\n",
    "# mm = pd.DataFrame(predictions1)\n",
    "\n",
    "# mm.compute_measures()\n",
    "\n",
    "# nn_performance_test.compute_measures()\n",
    "# nn_performance_test.performance_measures['set'] = 'test'\n",
    "\n",
    "# list of fits to compare: \n",
    "final_fits1 = []\n",
    "\n",
    "final_fits1.append(tf_performance.performance_measures)\n",
    "# final_fits1.append(nn_performance_test.performance_measures)"
   ]
  },
  {
   "cell_type": "code",
   "execution_count": 18,
   "metadata": {},
   "outputs": [
    {
     "data": {
      "image/png": "[encoded data removed]",
      "text/plain": [
       "<Figure size 432x288 with 1 Axes>"
      ]
     },
     "metadata": {
      "needs_background": "light"
     },
     "output_type": "display_data"
    }
   ],
   "source": [
    "# plt.figure(figsize=(10,10))\n",
    "\n",
    "for fit in final_fits1:\n",
    "    if fit['set'] == 'train':\n",
    "        color = 'co'\n",
    "    else:\n",
    "        color = 'ro'\n",
    "    plt.plot(fit['FP'] / fit['Neg'], \n",
    "             fit['TP'] / fit['Pos'], color, markersize=12)\n",
    "    plt.text(fit['FP'] / fit['Neg'], \n",
    "             fit['TP'] / fit['Pos'], fit['desc'] + ': ' + fit['set'], fontsize=16)\n",
    "plt.axis([0, 0.01, 0.5, 1])\n",
    "plt.title('ROC plot: test set')\n",
    "plt.xlabel('False positive rate')\n",
    "plt.ylabel('True positive rate')\n",
    "plt.rcParams['figure.figsize'] = (15, 15)\n",
    "plt.grid(b=True)\n",
    "plt.show()\n"
   ]
  },
  {
   "cell_type": "code",
   "execution_count": 24,
   "metadata": {},
   "outputs": [
    {
     "name": "stdout",
     "output_type": "stream",
     "text": [
      "Found 1523 images belonging to 1 classes.\n"
     ]
    }
   ],
   "source": [
    "# test set\n",
    "t1_dir = 'dump_folder/test'\n",
    "\n",
    "t1_batches = ImageDataGenerator(preprocessing_function=tf.keras.applications.vgg16.preprocess_input)\n",
    "t1_set = t1_batches.flow_from_directory(t1_dir, target_size=(60, 140), batch_size=10, class_mode='binary', shuffle=True)"
   ]
  },
  {
   "cell_type": "code",
   "execution_count": 23,
   "metadata": {},
   "outputs": [
    {
     "name": "stderr",
     "output_type": "stream",
     "text": [
      "Clipping input data to the valid range for imshow with RGB data ([0..1] for floats or [0..255] for integers).\n",
      "Clipping input data to the valid range for imshow with RGB data ([0..1] for floats or [0..255] for integers).\n",
      "Clipping input data to the valid range for imshow with RGB data ([0..1] for floats or [0..255] for integers).\n",
      "Clipping input data to the valid range for imshow with RGB data ([0..1] for floats or [0..255] for integers).\n",
      "Clipping input data to the valid range for imshow with RGB data ([0..1] for floats or [0..255] for integers).\n",
      "Clipping input data to the valid range for imshow with RGB data ([0..1] for floats or [0..255] for integers).\n",
      "Clipping input data to the valid range for imshow with RGB data ([0..1] for floats or [0..255] for integers).\n",
      "Clipping input data to the valid range for imshow with RGB data ([0..1] for floats or [0..255] for integers).\n",
      "Clipping input data to the valid range for imshow with RGB data ([0..1] for floats or [0..255] for integers).\n",
      "Clipping input data to the valid range for imshow with RGB data ([0..1] for floats or [0..255] for integers).\n"
     ]
    },
    {
     "data": {
      "image/png": "[encoded data removed]",
      "text/plain": [
       "<Figure size 1440x1440 with 10 Axes>"
      ]
     },
     "metadata": {
      "needs_background": "light"
     },
     "output_type": "display_data"
    },
    {
     "name": "stdout",
     "output_type": "stream",
     "text": [
      "[[1. 0.]\n",
      " [1. 0.]\n",
      " [1. 0.]\n",
      " [1. 0.]\n",
      " [1. 0.]\n",
      " [1. 0.]\n",
      " [1. 0.]\n",
      " [1. 0.]\n",
      " [1. 0.]\n",
      " [1. 0.]]\n"
     ]
    }
   ],
   "source": [
    "test_imgs, test_labels = next(test_batches)\n",
    "plotImages(test_imgs)\n",
    "print(test_labels)"
   ]
  },
  {
   "cell_type": "code",
   "execution_count": null,
   "metadata": {},
   "outputs": [],
   "source": [
    "predictions1 = model.predict(x=t1_batches, verbose=0)\n",
    "predictions1 = np.round(predictions1)\n",
    "print(predictions1)"
   ]
  },
  {
   "cell_type": "markdown",
   "metadata": {},
   "source": [
    "# tf 3.0"
   ]
  },
  {
   "cell_type": "code",
   "execution_count": 57,
   "metadata": {},
   "outputs": [
    {
     "name": "stdout",
     "output_type": "stream",
     "text": [
      "2\n",
      "Wall time: 51 ms\n"
     ]
    }
   ],
   "source": [
    "%%time\n",
    "\n",
    "# code from https://towardsdatascience.com/image-detection-from-scratch-in-keras-f314872006c9\n",
    "\n",
    "train_dir = '/Users/Charles/Desktop/ML/A2/dump_folder/train'\n",
    "test_dir = '/Users/Charles/Desktop/ML/A2/dump_folder/cropped_images/train/TRUE'\n",
    "\n",
    "# what does '.format(i)...' do?\n",
    "train_False = ['/Users/Charles/Desktop/ML/A2/dump_folder/train/{}'.format(i) for i in os.listdir(train_dir) if 'FALSE' in i] # get False imgs\n",
    "train_True = ['/Users/Charles/Desktop/ML/A2/dump_folder/train/{}'.format(i) for i in os.listdir(train_dir) if 'TRUE' in i] # get True imgs\n",
    "\n",
    "test_imgs = ['/Users/Charles/Desktop/ML/A2/dump_folder/cropped_images/train/TRUE/{}'.format(i) for i in os.listdir(test_dir)] # get test imgs\n",
    "\n",
    "train_imgs = train_False[:5658] + train_True[:91]\n",
    "random.shuffle(train_imgs)\n",
    "print(len(test_imgs))"
   ]
  },
  {
   "cell_type": "code",
   "execution_count": 40,
   "metadata": {},
   "outputs": [
    {
     "name": "stdout",
     "output_type": "stream",
     "text": [
      "Wall time: 3.4 s\n"
     ]
    }
   ],
   "source": [
    "%%time\n",
    "\n",
    "# Declare image dimensions\n",
    "# using coloured images\n",
    "\n",
    "nrows = 140\n",
    "ncolumns = 60\n",
    "channels = 3\n",
    "\n",
    "def read_process_image(list_of_images):\n",
    "    \"\"\"\n",
    "    Returns two arrays:\n",
    "        X is an array of resized images\n",
    "        y is an array of labels\n",
    "    \"\"\"\n",
    "    X = []\n",
    "    y = []\n",
    "    \n",
    "    for image in list_of_images:\n",
    "        X.append(cv2.resize(cv2.imread(image, cv2.IMREAD_COLOR), (nrows, ncolumns), interpolation=cv2.INTER_CUBIC)) #read img\n",
    "        \n",
    "        # get the labels, need an equation here to either get from csv or from filename\n",
    "        if 'FALSE' in image:\n",
    "            y.append(1)\n",
    "        elif 'TRUE'in image:\n",
    "            y.append(0)\n",
    "            \n",
    "    return X, y\n",
    "\n",
    "X, y = read_process_image(train_imgs)"
   ]
  },
  {
   "cell_type": "code",
   "execution_count": 41,
   "metadata": {},
   "outputs": [
    {
     "name": "stderr",
     "output_type": "stream",
     "text": [
      "C:\\ProgramData\\Anaconda3\\envs\\deeplearning\\lib\\site-packages\\ipykernel_launcher.py:4: MatplotlibDeprecationWarning: Passing non-integers as three-element position specification is deprecated since 3.3 and will be removed two minor releases later.\n",
      "  after removing the cwd from sys.path.\n"
     ]
    },
    {
     "data": {
      "image/png": "[encoded data removed]",
      "text/plain": [
       "<Figure size 1440x720 with 5 Axes>"
      ]
     },
     "metadata": {
      "needs_background": "light"
     },
     "output_type": "display_data"
    }
   ],
   "source": [
    "plt.figure(figsize=(20, 10))\n",
    "columns = 5\n",
    "for i in range (columns):\n",
    "    plt.subplot(5 / columns + 1, columns, i + 1)\n",
    "    plt.imshow(X[i])"
   ]
  },
  {
   "cell_type": "code",
   "execution_count": 42,
   "metadata": {},
   "outputs": [
    {
     "name": "stdout",
     "output_type": "stream",
     "text": [
      "Shape of train images is:  (5749, 60, 140, 3)\n",
      "Shape of labels is:  (5749,)\n"
     ]
    }
   ],
   "source": [
    "# Convert list to numpy array\n",
    "X = np.array(X)\n",
    "y = np.array(y)\n",
    "\n",
    "print(\"Shape of train images is: \", X.shape)\n",
    "print(\"Shape of labels is: \", y.shape)"
   ]
  },
  {
   "cell_type": "code",
   "execution_count": 43,
   "metadata": {},
   "outputs": [
    {
     "name": "stdout",
     "output_type": "stream",
     "text": [
      "Shape of train images is: (4599, 60, 140, 3)\n",
      "Shape of validation images is: (1150, 60, 140, 3)\n",
      "Shape of labels is: (4599,)\n",
      "Shape of labels is: (1150,)\n"
     ]
    }
   ],
   "source": [
    "X_train, X_valid, y_train, y_valid = train_test_split(X, y, test_size=0.20, random_state=36)\n",
    "\n",
    "print(\"Shape of train images is:\", X_train.shape)\n",
    "print(\"Shape of validation images is:\", X_valid.shape)\n",
    "print(\"Shape of labels is:\", y_train.shape)\n",
    "print(\"Shape of labels is:\", y_valid.shape)\n",
    "\n",
    "ntrain = len(X_train)\n",
    "nvalid = len(X_valid)\n",
    "\n",
    "batch_size = 32"
   ]
  },
  {
   "cell_type": "code",
   "execution_count": 44,
   "metadata": {},
   "outputs": [
    {
     "name": "stdout",
     "output_type": "stream",
     "text": [
      "Wall time: 538 ms\n"
     ]
    }
   ],
   "source": [
    "%%time\n",
    "\n",
    "from keras import layers\n",
    "from keras import models\n",
    "from keras import optimizers\n",
    "\n",
    "model1 = Sequential([\n",
    "    Conv2D(filters=32, kernel_size=(3, 3), activation='relu', input_shape=(60, 140, 3)), # 3 is no. color channels\n",
    "    MaxPool2D(pool_size=(2, 2)), # what does maxpool do?\n",
    "    Conv2D(filters=64, kernel_size=(3, 3), activation='relu'),\n",
    "    MaxPool2D(pool_size=(2, 2)),\n",
    "    Conv2D(filters=128, kernel_size=(3, 3), activation='relu'),\n",
    "    MaxPool2D(pool_size=(2, 2)),\n",
    "    Conv2D(filters=128, kernel_size=(3, 3), activation='relu'),\n",
    "    MaxPool2D(pool_size=(2, 2)),\n",
    "    Flatten(),\n",
    "    Dropout(0.5),\n",
    "#     Dense(units=2, activation='softmax'), # 2 units refers to classes or labels, in this case, T/F\n",
    "    Dense(units=512, activation='relu'),\n",
    "    Dense(1, activation='sigmoid')\n",
    "])"
   ]
  },
  {
   "cell_type": "code",
   "execution_count": 45,
   "metadata": {},
   "outputs": [
    {
     "name": "stdout",
     "output_type": "stream",
     "text": [
      "Wall time: 50 ms\n"
     ]
    }
   ],
   "source": [
    "%%time\n",
    "model1.compile(loss='binary_crossentropy', optimizer=RMSprop(lr=1e-4), metrics=['acc'])"
   ]
  },
  {
   "cell_type": "code",
   "execution_count": 46,
   "metadata": {},
   "outputs": [
    {
     "name": "stdout",
     "output_type": "stream",
     "text": [
      "Wall time: 234 ms\n"
     ]
    }
   ],
   "source": [
    "%%time\n",
    "\n",
    "# in this case, ImageDataGenerator is not used for preprocessing\n",
    "train_datagen = ImageDataGenerator(rescale=1./255,\n",
    "                                  rotation_range=40,\n",
    "                                  width_shift_range=0.2,\n",
    "                                  height_shift_range=0.2,\n",
    "                                  shear_range=0.2,\n",
    "                                  zoom_range=0.2,\n",
    "                                  horizontal_flip=True,)\n",
    "\n",
    "valid_datagen = ImageDataGenerator(rescale=1./255)\n",
    "\n",
    "train_generator = train_datagen.flow(X_train, y_train, batch_size=batch_size)\n",
    "valid_generator = valid_datagen.flow(X_valid, y_valid, batch_size=batch_size)"
   ]
  },
  {
   "cell_type": "code",
   "execution_count": 48,
   "metadata": {},
   "outputs": [
    {
     "name": "stdout",
     "output_type": "stream",
     "text": [
      "WARNING:tensorflow:sample_weight modes were coerced from\n",
      "  ...\n",
      "    to  \n",
      "  ['...']\n",
      "WARNING:tensorflow:sample_weight modes were coerced from\n",
      "  ...\n",
      "    to  \n",
      "  ['...']\n",
      "Train for 143 steps, validate for 35 steps\n",
      "Epoch 1/10\n",
      "143/143 - 84s - loss: 0.1187 - acc: 0.9831 - val_loss: 0.0633 - val_acc: 0.9893\n",
      "Epoch 2/10\n",
      "143/143 - 104s - loss: 0.0814 - acc: 0.9834 - val_loss: 0.0273 - val_acc: 0.9893\n",
      "Epoch 3/10\n",
      "143/143 - 111s - loss: 0.0576 - acc: 0.9836 - val_loss: 0.0178 - val_acc: 0.9955\n",
      "Epoch 4/10\n",
      "143/143 - 105s - loss: 0.0470 - acc: 0.9860 - val_loss: 0.0173 - val_acc: 0.9955\n",
      "Epoch 5/10\n",
      "143/143 - 107s - loss: 0.0420 - acc: 0.9869 - val_loss: 0.0195 - val_acc: 0.9920\n",
      "Epoch 6/10\n",
      "143/143 - 106s - loss: 0.0404 - acc: 0.9873 - val_loss: 0.0357 - val_acc: 0.9821\n",
      "Epoch 7/10\n",
      "143/143 - 105s - loss: 0.0307 - acc: 0.9906 - val_loss: 0.0124 - val_acc: 0.9946\n",
      "Epoch 8/10\n",
      "143/143 - 106s - loss: 0.0318 - acc: 0.9897 - val_loss: 0.0131 - val_acc: 0.9955\n",
      "Epoch 9/10\n",
      "143/143 - 109s - loss: 0.0335 - acc: 0.9901 - val_loss: 0.0294 - val_acc: 0.9857\n",
      "Epoch 10/10\n",
      "143/143 - 109s - loss: 0.0288 - acc: 0.9899 - val_loss: 0.0109 - val_acc: 0.9955\n",
      "Wall time: 17min 25s\n"
     ]
    }
   ],
   "source": [
    "%%time\n",
    "history = model1.fit_generator(train_generator,\n",
    "                              steps_per_epoch=ntrain // batch_size,\n",
    "                              epochs=10,\n",
    "                              validation_data=valid_generator,\n",
    "                              validation_steps=nvalid // batch_size,\n",
    "                              verbose=2)"
   ]
  },
  {
   "cell_type": "code",
   "execution_count": 58,
   "metadata": {},
   "outputs": [
    {
     "name": "stdout",
     "output_type": "stream",
     "text": [
      "Wall time: 2.01 ms\n"
     ]
    }
   ],
   "source": [
    "%%time\n",
    "\n",
    "# pass a test set without labels\n",
    "X_test, y_test = read_process_image(test_imgs[0:10])\n",
    "x = np.array(X_test)\n",
    "test_datagen = ImageDataGenerator(rescale=1./255)"
   ]
  },
  {
   "cell_type": "code",
   "execution_count": 59,
   "metadata": {},
   "outputs": [
    {
     "name": "stderr",
     "output_type": "stream",
     "text": [
      "C:\\ProgramData\\Anaconda3\\envs\\deeplearning\\lib\\site-packages\\ipykernel_launcher.py:10: MatplotlibDeprecationWarning: Passing non-integers as three-element position specification is deprecated since 3.3 and will be removed two minor releases later.\n",
      "  # Remove the CWD from sys.path while we load stuff.\n"
     ]
    },
    {
     "data": {
      "image/png": "[encoded data removed]",
      "text/plain": [
       "<Figure size 1008x432 with 10 Axes>"
      ]
     },
     "metadata": {
      "needs_background": "light"
     },
     "output_type": "display_data"
    },
    {
     "name": "stdout",
     "output_type": "stream",
     "text": [
      "Wall time: 1.21 s\n"
     ]
    }
   ],
   "source": [
    "%%time\n",
    "\n",
    "i = 0\n",
    "text_labels = []\n",
    "plt.figure(figsize=(14,6))\n",
    "for batch in test_datagen.flow(x, batch_size=1):\n",
    "    pred = model1.predict(batch)\n",
    "    if pred>0.5:\n",
    "        text_labels.append('not a plane')\n",
    "    else:\n",
    "        text_labels.append('a plane')\n",
    "    plt.subplot(5 / columns + 1, columns, i + 1)\n",
    "    plt.title('This is ' + text_labels[i])\n",
    "    imgplot = plt.imshow(batch[0])\n",
    "    i += 1\n",
    "    if i % 10 == 0:\n",
    "        break\n",
    "plt.show()\n",
    "\n",
    "# fails completely against half plane imgs in training set"
   ]
  },
  {
   "cell_type": "code",
   "execution_count": null,
   "metadata": {},
   "outputs": [],
   "source": [
    "    plane_data = pd.read_csv(ll_file) # read in photograph labels\n",
    "\n",
    "    features_list = []\n",
    "    image_list = []\n",
    "    data = []\n",
    "    labels = []\n",
    "    \n",
    "    LABELS = set([True]) # True/False in the csv is read as Boolean and not string\n",
    "\n",
    "    for index, row in plane_data.iterrows():\n",
    "        \n",
    "        label = row['plane']\n",
    "        fullimpath = cc_path + row['img_name'] + '.png'\n",
    "        \n",
    "        if label not in LABELS:\n",
    "#         if label == \"TRUE\":\n",
    "\n",
    "            newimpath = cc_path + 'FALSE.' + row['img_name'] + '.png'\n",
    "            os.rename(fullimpath, newimpath)\n",
    "\n",
    "        else:\n",
    "#         elif label == \"FALSE\":\n",
    "            newimpath = cc_path + 'TRUE.' + row['img_name'] + '.png'\n",
    "            os.rename(fullimpath, newimpath)"
   ]
  },
  {
   "cell_type": "markdown",
   "metadata": {},
   "source": [
    "# VGG16"
   ]
  },
  {
   "cell_type": "code",
   "execution_count": null,
   "metadata": {},
   "outputs": [],
   "source": [
    "vgg16_model = tf.keras.applications.vgg16.VGG16()"
   ]
  },
  {
   "cell_type": "code",
   "execution_count": null,
   "metadata": {},
   "outputs": [],
   "source": []
  },
  {
   "cell_type": "markdown",
   "metadata": {},
   "source": [
    "# function to process raw images, resulting in training and test datasets"
   ]
  },
  {
   "cell_type": "code",
   "execution_count": 57,
   "metadata": {},
   "outputs": [
    {
     "name": "stderr",
     "output_type": "stream",
     "text": [
      "C:\\ProgramData\\Anaconda3\\envs\\deeplearning\\lib\\site-packages\\ipykernel\\ipkernel.py:287: DeprecationWarning: `should_run_async` will not call `transform_cell` automatically in the future. Please pass the result to `transformed_cell` argument and any exception that happen during thetransform in `preprocessing_exc_tuple` in IPython 7.17 and above.\n",
      "  and should_run_async(code)\n"
     ]
    }
   ],
   "source": [
    "# function that takes raw images and completes all preprocessing required before model fits\n",
    "def process_raw_data(labels_fn, images_fp, my_random_seed, imview=False, test=False):\n",
    "    plane_data = pd.read_csv(labels_fn) # read in photograph labels\n",
    "    print(\"First few lines of image labels: \")\n",
    "    print(plane_data.head())\n",
    "    print(\"Size of image label dataFrame: \")\n",
    "    print(plane_data.shape)\n",
    "        \n",
    "    # construct lists for features, labels, and a crosswalk reference to image names\n",
    "    features_list = []\n",
    "    if (not test):\n",
    "        y_list = []\n",
    "    imnames_list = []\n",
    "\n",
    "    for index, row in plane_data.iterrows():\n",
    "        features_list.append(image_manipulation_hog(row['img_name'], images_fp))\n",
    "        if (not test):\n",
    "            y_list.append(row['plane'])\n",
    "        imnames_list.append(row['img_name'])\n",
    "    \n",
    "    # convert the lists to ndarrays\n",
    "    features = np.asarray(features_list)\n",
    "    if (not test):\n",
    "        Y = np.asarray(y_list)\n",
    "    imgs = np.asarray(imnames_list)\n",
    "    print('Shape of original feature representation: ')\n",
    "    print(features.shape)\n",
    "\n",
    "    # flatten the images ndarray to one row per image\n",
    "    features_flat = features.reshape((features.shape[0], -1))\n",
    "\n",
    "    print('Shape of flat feature representation: ')\n",
    "    print(features_flat.shape)\n",
    "\n",
    "    if (not test):\n",
    "        print('Shape of Y: ')\n",
    "        print(Y.shape)\n",
    "\n",
    "        print('Number of images with planes: ')\n",
    "        print(Y.sum())\n",
    "    \n",
    "        # create train and test sets\n",
    "        data_train, data_test, y_train, y_test, imgs_train, imgs_test = train_test_split(features_flat, \n",
    "            Y, imgs, test_size = 0.25, random_state = my_random_seed)\n",
    "\n",
    "        print('Shape of training set: ')\n",
    "        print(y_train.shape)\n",
    "        print('Number of training images that contain an airplane: ')\n",
    "        print(y_train.sum())\n",
    "\n",
    "        print('Shape of test set: ')\n",
    "        print(y_test.shape)\n",
    "        print('Number of test images that contain an airplane: ')\n",
    "        print(y_test.sum())\n",
    "    \n",
    "    if (test):\n",
    "        X_submission_test = features_flat\n",
    "        print(\"Shape of X_test for submission:\")\n",
    "        print(X_submission_test.shape)\n",
    "        print('SUCCESS!')\n",
    "        return(X_submission_test, plane_data)\n",
    "    else: \n",
    "        print(\"Shape of data_train and data_test:\")\n",
    "        print(data_train.shape)\n",
    "        print(data_test.shape)\n",
    "        print(\"Shape of y_train and y_test:\")\n",
    "        print(y_train.shape)\n",
    "        print(y_test.shape)\n",
    "        print(\"Shape of imgs_train and imgs_test:\")\n",
    "        print(imgs_train.shape)\n",
    "        print(imgs_test.shape)\n",
    "        print('SUCCESS!')\n",
    "        return(data_train, data_test, y_train, y_test, imgs_train, imgs_test)\n"
   ]
  },
  {
   "cell_type": "code",
   "execution_count": null,
   "metadata": {
    "scrolled": false
   },
   "outputs": [],
   "source": [
    "%%time\n",
    "data_train, data_test, y_train, y_test, imgs_train, imgs_test = process_raw_data(l_file, ci_path, \n",
    "    my_random_seed=72, imview=False, test=False)"
   ]
  },
  {
   "cell_type": "markdown",
   "metadata": {},
   "source": [
    "# train Perceptron"
   ]
  },
  {
   "cell_type": "code",
   "execution_count": 8,
   "metadata": {},
   "outputs": [
    {
     "name": "stderr",
     "output_type": "stream",
     "text": [
      "C:\\ProgramData\\Anaconda3\\envs\\deeplearning\\lib\\site-packages\\ipykernel\\ipkernel.py:287: DeprecationWarning: `should_run_async` will not call `transform_cell` automatically in the future. Please pass the result to `transformed_cell` argument and any exception that happen during thetransform in `preprocessing_exc_tuple` in IPython 7.17 and above.\n",
      "  and should_run_async(code)\n",
      "C:\\ProgramData\\Anaconda3\\envs\\deeplearning\\lib\\importlib\\_bootstrap.py:219: RuntimeWarning: numpy.ufunc size changed, may indicate binary incompatibility. Expected 192 from C header, got 216 from PyObject\n",
      "  return f(*args, **kwds)\n",
      "C:\\ProgramData\\Anaconda3\\envs\\deeplearning\\lib\\importlib\\_bootstrap.py:219: RuntimeWarning: numpy.ufunc size changed, may indicate binary incompatibility. Expected 192 from C header, got 216 from PyObject\n",
      "  return f(*args, **kwds)\n",
      "C:\\ProgramData\\Anaconda3\\envs\\deeplearning\\lib\\importlib\\_bootstrap.py:219: RuntimeWarning: numpy.ufunc size changed, may indicate binary incompatibility. Expected 192 from C header, got 216 from PyObject\n",
      "  return f(*args, **kwds)\n",
      "C:\\ProgramData\\Anaconda3\\envs\\deeplearning\\lib\\importlib\\_bootstrap.py:219: RuntimeWarning: numpy.ufunc size changed, may indicate binary incompatibility. Expected 192 from C header, got 216 from PyObject\n",
      "  return f(*args, **kwds)\n",
      "C:\\ProgramData\\Anaconda3\\envs\\deeplearning\\lib\\importlib\\_bootstrap.py:219: RuntimeWarning: numpy.ufunc size changed, may indicate binary incompatibility. Expected 192 from C header, got 216 from PyObject\n",
      "  return f(*args, **kwds)\n",
      "C:\\ProgramData\\Anaconda3\\envs\\deeplearning\\lib\\importlib\\_bootstrap.py:219: RuntimeWarning: numpy.ufunc size changed, may indicate binary incompatibility. Expected 192 from C header, got 216 from PyObject\n",
      "  return f(*args, **kwds)\n",
      "C:\\ProgramData\\Anaconda3\\envs\\deeplearning\\lib\\importlib\\_bootstrap.py:219: RuntimeWarning: numpy.ufunc size changed, may indicate binary incompatibility. Expected 192 from C header, got 216 from PyObject\n",
      "  return f(*args, **kwds)\n",
      "C:\\ProgramData\\Anaconda3\\envs\\deeplearning\\lib\\importlib\\_bootstrap.py:219: RuntimeWarning: numpy.ufunc size changed, may indicate binary incompatibility. Expected 192 from C header, got 216 from PyObject\n",
      "  return f(*args, **kwds)\n",
      "C:\\ProgramData\\Anaconda3\\envs\\deeplearning\\lib\\importlib\\_bootstrap.py:219: RuntimeWarning: numpy.ufunc size changed, may indicate binary incompatibility. Expected 192 from C header, got 216 from PyObject\n",
      "  return f(*args, **kwds)\n"
     ]
    },
    {
     "name": "stdout",
     "output_type": "stream",
     "text": [
      "TRAINING SET: \n",
      "{'Pos': 70, 'Neg': 4998, 'TP': 70, 'TN': 4998, 'FP': 0, 'FN': 0, 'Accuracy': 1.0, 'Precision': 1.0, 'Recall': 1.0, 'desc': 'prc', 'set': 'train'}\n",
      "TEST SET: \n",
      "{'Pos': 31, 'Neg': 1659, 'TP': 29, 'TN': 1658, 'FP': 1, 'FN': 2, 'Accuracy': 0.9982248520710059, 'Precision': 0.9666666666666667, 'Recall': 0.9354838709677419, 'desc': 'prc', 'set': 'test'}\n",
      "Accuracy\n",
      "99.82248520710058\n",
      "Precision\n",
      "96.66666666666667\n",
      "True Positive\n",
      "93.54838709677419\n",
      "False Positive\n",
      "0.06027727546714888\n"
     ]
    }
   ],
   "source": [
    "# MODEL: Perceptron\n",
    "from sklearn import linear_model\n",
    "prc = linear_model.SGDClassifier(loss='perceptron', max_iter=3000)\n",
    "prc.fit(data_train, y_train)\n",
    "\n",
    "prc_performance = BinaryClassificationPerformance(prc.predict(data_train), y_train, 'prc')\n",
    "prc_performance.compute_measures()\n",
    "prc_performance.performance_measures['set'] = 'train'\n",
    "print('TRAINING SET: ')\n",
    "print(prc_performance.performance_measures)\n",
    "\n",
    "prc_performance_test = BinaryClassificationPerformance(prc.predict(data_test), y_test, 'prc')\n",
    "prc_performance_test.compute_measures()\n",
    "prc_performance_test.performance_measures['set'] = 'test'\n",
    "print('TEST SET: ')\n",
    "print(prc_performance_test.performance_measures)\n",
    "print('Accuracy')\n",
    "print(prc_performance_test.performance_measures['Accuracy']*100)\n",
    "print('Precision')\n",
    "print(prc_performance_test.performance_measures['Precision']*100)\n",
    "print('True Positive')\n",
    "print(prc_performance_test.performance_measures['Recall']*100)\n",
    "print('False Positive')\n",
    "print(prc_performance_test.performance_measures['FP']/prc_performance_test.performance_measures['Neg']*100)\n",
    "\n",
    "prc_performance_test.img_indices()\n",
    "prc_img_indices_to_view = prc_performance_test.image_indices"
   ]
  },
  {
   "cell_type": "code",
   "execution_count": null,
   "metadata": {},
   "outputs": [],
   "source": [
    "def performance_examples(typ, measures):\n",
    "    iiv = ''\n",
    "    if typ == 'FP':\n",
    "        iiv = typ + '_indices'\n",
    "    elif typ == 'TP':\n",
    "        iiv = typ + '_indices'\n",
    "    elif typ == 'FN':\n",
    "        iiv = typ + '_indices'\n",
    "    else:\n",
    "        raise ValueError('input must be \"TP\", \"FP\", or \"FN\"')\n",
    "    for img in measures[iiv]:\n",
    "        warnings.filterwarnings('ignore')    \n",
    "        plt.figure()\n",
    "        lookat = ci_path + imgs_test[img] + '.png' # location of original image\n",
    "        io.imshow(lookat) # show original image\n",
    "        plt.figure()\n",
    "        io.imshow(data_test[img].reshape(dims[0], dims[1])) # show manipulation for feature representation\n",
    "        warnings.filterwarnings('always')\n"
   ]
  },
  {
   "cell_type": "markdown",
   "metadata": {},
   "source": [
    "# look at examples of Perceptron classifications"
   ]
  },
  {
   "cell_type": "markdown",
   "metadata": {},
   "source": [
    "## true positives"
   ]
  },
  {
   "cell_type": "code",
   "execution_count": null,
   "metadata": {},
   "outputs": [],
   "source": [
    "performance_examples('TP', prc_img_indices_to_view)"
   ]
  },
  {
   "cell_type": "markdown",
   "metadata": {},
   "source": [
    "## false positives"
   ]
  },
  {
   "cell_type": "code",
   "execution_count": null,
   "metadata": {},
   "outputs": [],
   "source": [
    "performance_examples('FP', prc_img_indices_to_view)"
   ]
  },
  {
   "cell_type": "markdown",
   "metadata": {},
   "source": [
    "## false negatives"
   ]
  },
  {
   "cell_type": "code",
   "execution_count": null,
   "metadata": {},
   "outputs": [],
   "source": [
    "performance_examples('FN', prc_img_indices_to_view)"
   ]
  },
  {
   "cell_type": "markdown",
   "metadata": {},
   "source": [
    "# train Multilayer Perceptron, a.k.a. neural network"
   ]
  },
  {
   "cell_type": "code",
   "execution_count": 9,
   "metadata": {},
   "outputs": [
    {
     "name": "stderr",
     "output_type": "stream",
     "text": [
      "C:\\ProgramData\\Anaconda3\\envs\\deeplearning\\lib\\site-packages\\ipykernel\\ipkernel.py:287: DeprecationWarning: `should_run_async` will not call `transform_cell` automatically in the future. Please pass the result to `transformed_cell` argument and any exception that happen during thetransform in `preprocessing_exc_tuple` in IPython 7.17 and above.\n",
      "  and should_run_async(code)\n"
     ]
    },
    {
     "name": "stdout",
     "output_type": "stream",
     "text": [
      "MLPClassifier(hidden_layer_sizes=(400, 400, 400, 400), max_iter=2000)\n",
      "TRAINING SET: \n",
      "{'Pos': 70, 'Neg': 4998, 'TP': 70, 'TN': 4998, 'FP': 0, 'FN': 0, 'Accuracy': 1.0, 'Precision': 1.0, 'Recall': 1.0, 'desc': 'nn_1234', 'set': 'train'}\n",
      "TEST SET: \n",
      "{'Pos': 31, 'Neg': 1659, 'TP': 30, 'TN': 1655, 'FP': 4, 'FN': 1, 'Accuracy': 0.9970414201183432, 'Precision': 0.8823529411764706, 'Recall': 0.967741935483871, 'desc': 'nn_test_1234', 'set': 'test'}\n",
      "True Positive\n",
      "96.7741935483871\n",
      "False Positive\n",
      "0.24110910186859552\n",
      "Wall time: 3min 56s\n"
     ]
    }
   ],
   "source": [
    "%%time\n",
    "# MODEL: Multi-layer Perceptron aka neural network\n",
    "from sklearn import neural_network\n",
    "nn = neural_network.MLPClassifier(hidden_layer_sizes=(400, 400, 400, 400), max_iter=2000)\n",
    "print(nn)\n",
    "nn.fit(data_train, y_train)\n",
    "\n",
    "nn_performance = BinaryClassificationPerformance(nn.predict(data_train), y_train, 'nn_1234')\n",
    "nn_performance.compute_measures()\n",
    "nn_performance.performance_measures['set'] = 'train'\n",
    "print('TRAINING SET: ')\n",
    "print(nn_performance.performance_measures)\n",
    "\n",
    "nn_performance_test = BinaryClassificationPerformance(nn.predict(data_test), y_test, 'nn_test_1234')\n",
    "nn_performance_test.compute_measures()\n",
    "nn_performance_test.performance_measures['set'] = 'test'\n",
    "print('TEST SET: ')\n",
    "print(nn_performance_test.performance_measures)\n",
    "print('True Positive')\n",
    "print(nn_performance_test.performance_measures['TP']/nn_performance_test.performance_measures['Pos']*100)\n",
    "print('False Positive')\n",
    "print(nn_performance_test.performance_measures['FP']/nn_performance_test.performance_measures['Neg']*100)\n",
    "\n",
    "nn_performance_test.img_indices()\n",
    "nn_img_indices_to_view = nn_performance_test.image_indices\n",
    "\n",
    "# turn off warnings\n",
    "import warnings\n",
    "warnings.filterwarnings(\"ignore\", message=\"numpy.ufunc size changed\")\n",
    "warnings.filterwarnings(\"ignore\", message=\"numpy.dtype size changed\")"
   ]
  },
  {
   "cell_type": "code",
   "execution_count": null,
   "metadata": {},
   "outputs": [],
   "source": [
    "%%time\n",
    "# 200\n",
    "# MODEL: Multi-layer Perceptron aka neural network\n",
    "from sklearn import neural_network\n",
    "nn_200 = neural_network.MLPClassifier(hidden_layer_sizes=(200), max_iter=1000)\n",
    "print(nn_200)\n",
    "nn_200.fit(data_train, y_train)\n",
    "\n",
    "nn_performance_200 = BinaryClassificationPerformance(nn_200.predict(data_train), y_train, 'nn_200')\n",
    "nn_performance_200.compute_measures()\n",
    "nn_performance_200.performance_measures['set'] = 'train'\n",
    "print('TRAINING SET: ')\n",
    "print(nn_performance_200.performance_measures)\n",
    "\n",
    "nn_performance_test_200 = BinaryClassificationPerformance(nn_200.predict(data_test), y_test, 'nn_test_200')\n",
    "nn_performance_test_200.compute_measures()\n",
    "nn_performance_test_200.performance_measures['set'] = 'test'\n",
    "print('TEST SET: ')\n",
    "print(nn_performance_test_100.performance_measures)\n",
    "print('True Positive')\n",
    "print(nn_performance_test_100.performance_measures['TP']/nn_performance_test_100.performance_measures['Pos']*100)\n",
    "print('False Positive')\n",
    "print(nn_performance_test_100.performance_measures['FP']/nn_performance_test_100.performance_measures['Neg']*100)\n",
    "\n",
    "nn_performance_test_100.img_indices()\n",
    "nn_img_indices_to_view = nn_performance_test_100.image_indices\n",
    "\n",
    "# turn off warnings\n",
    "import warnings\n",
    "warnings.filterwarnings(\"ignore\", message=\"numpy.ufunc size changed\")\n",
    "warnings.filterwarnings(\"ignore\", message=\"numpy.dtype size changed\")"
   ]
  },
  {
   "cell_type": "code",
   "execution_count": null,
   "metadata": {},
   "outputs": [],
   "source": [
    "%%time\n",
    "# 300\n",
    "# MODEL: Multi-layer Perceptron aka neural network\n",
    "from sklearn import neural_network\n",
    "nn_300 = neural_network.MLPClassifier(hidden_layer_sizes=(300))\n",
    "print(nn_300)\n",
    "nn_300.fit(data_train, y_train)\n",
    "\n",
    "nn_performance_300 = BinaryClassificationPerformance(nn_300.predict(data_train), y_train, 'nn_300')\n",
    "nn_performance_300.compute_measures()\n",
    "nn_performance_300.performance_measures['set'] = 'train'\n",
    "print('TRAINING SET: ')\n",
    "print(nn_performance_300.performance_measures)\n",
    "\n",
    "nn_performance_test_300 = BinaryClassificationPerformance(nn_300.predict(data_test), y_test, 'nn_test_300')\n",
    "nn_performance_test_300.compute_measures()\n",
    "nn_performance_test_300.performance_measures['set'] = 'test'\n",
    "print('TEST SET: ')\n",
    "print(nn_performance_test_300.performance_measures)\n",
    "print('True Positive')\n",
    "print(nn_performance_test_300.performance_measures['Recall']*100)\n",
    "print('False Positive')\n",
    "print(nn_performance_test_300.performance_measures['FP']/nn_performance_test_300.performance_measures['Neg']*100)\n",
    "\n",
    "nn_performance_test_300.img_indices()\n",
    "nn_img_indices_to_view = nn_performance_test_300.image_indices\n",
    "\n",
    "# turn off warnings\n",
    "import warnings\n",
    "warnings.filterwarnings(\"ignore\", message=\"numpy.ufunc size changed\")\n",
    "warnings.filterwarnings(\"ignore\", message=\"numpy.dtype size changed\")"
   ]
  },
  {
   "cell_type": "code",
   "execution_count": null,
   "metadata": {},
   "outputs": [],
   "source": [
    "%%time\n",
    "# 3\n",
    "# MODEL: Multi-layer Perceptron aka neural network\n",
    "from sklearn import neural_network\n",
    "nn_3 = neural_network.MLPClassifier(hidden_layer_sizes=(100, 200, 300,), max_iter=5000)\n",
    "print(nn_3)\n",
    "nn_3.fit(data_train, y_train)\n",
    "\n",
    "nn_performance_3 = BinaryClassificationPerformance(nn_3.predict(data_train), y_train, 'nn_3')\n",
    "nn_performance_3.compute_measures()\n",
    "nn_performance_3.performance_measures['set'] = 'train'\n",
    "print('TRAINING SET: ')\n",
    "print(nn_performance_3.performance_measures)\n",
    "\n",
    "nn_performance_test_3 = BinaryClassificationPerformance(nn_3.predict(data_test), y_test, 'nn_test_3')\n",
    "nn_performance_test_3.compute_measures()\n",
    "nn_performance_test_3.performance_measures['set'] = 'test'\n",
    "print('TEST SET: ')\n",
    "print(nn_performance_test_3.performance_measures)\n",
    "print('True Positive')\n",
    "print(nn_performance_test_3.performance_measures['Recall']*100)\n",
    "print('False Positive')\n",
    "print(nn_performance_test_3.performance_measures['FP']/nn_performance_test_3.performance_measures['Neg']*100)\n",
    "\n",
    "nn_performance_test_3.img_indices()\n",
    "nn_img_indices_to_view = nn_performance_test_3.image_indices\n",
    "\n",
    "# turn off warnings\n",
    "import warnings\n",
    "warnings.filterwarnings(\"ignore\", message=\"numpy.ufunc size changed\")\n",
    "warnings.filterwarnings(\"ignore\", message=\"numpy.dtype size changed\")"
   ]
  },
  {
   "cell_type": "code",
   "execution_count": null,
   "metadata": {},
   "outputs": [],
   "source": [
    "%%time\n",
    "# MODEL: Multi-layer Perceptron aka neural network\n",
    "from sklearn import neural_network\n",
    "nn_400 = neural_network.MLPClassifier(hidden_layer_sizes=(400,))\n",
    "print(nn_400)\n",
    "nn_400.fit(data_train, y_train)\n",
    "\n",
    "nn_performance_400 = BinaryClassificationPerformance(nn_400.predict(data_train), y_train, 'nn_400')\n",
    "nn_performance_400.compute_measures()\n",
    "nn_performance_400.performance_measures['set'] = 'train'\n",
    "print('TRAINING SET: ')\n",
    "print(nn_performance_400.performance_measures)\n",
    "\n",
    "nn_performance_test_400 = BinaryClassificationPerformance(nn_400.predict(data_test), y_test, 'nn_test_400')\n",
    "nn_performance_test_400.compute_measures()\n",
    "nn_performance_test_400.performance_measures['set'] = 'test'\n",
    "print('TEST SET: ')\n",
    "print(nn_performance_test_400.performance_measures)\n",
    "print('True Positive')\n",
    "print(nn_performance_test_400.performance_measures['TP']/nn_performance_test_400.performance_measures['Pos']*100)\n",
    "print('False Positive')\n",
    "print(nn_performance_test_400.performance_measures['FP']/nn_performance_test_400.performance_measures['Neg']*100)\n",
    "\n",
    "nn_performance_test_400.img_indices()\n",
    "nn_img_indices_to_view = nn_performance_test_400.image_indices\n",
    "\n",
    "# turn off warnings\n",
    "import warnings\n",
    "warnings.filterwarnings(\"ignore\", message=\"numpy.ufunc size changed\")\n",
    "warnings.filterwarnings(\"ignore\", message=\"numpy.dtype size changed\")"
   ]
  },
  {
   "cell_type": "markdown",
   "metadata": {},
   "source": [
    "# look at examples of neural network classifications"
   ]
  },
  {
   "cell_type": "markdown",
   "metadata": {},
   "source": [
    "## true positives"
   ]
  },
  {
   "cell_type": "code",
   "execution_count": null,
   "metadata": {},
   "outputs": [],
   "source": [
    "performance_examples('TP', nn_img_indices_to_view)"
   ]
  },
  {
   "cell_type": "markdown",
   "metadata": {},
   "source": [
    "## false positives"
   ]
  },
  {
   "cell_type": "code",
   "execution_count": null,
   "metadata": {},
   "outputs": [],
   "source": [
    "performance_examples('FP', nn_img_indices_to_view)"
   ]
  },
  {
   "cell_type": "markdown",
   "metadata": {},
   "source": [
    "## false negatives"
   ]
  },
  {
   "cell_type": "code",
   "execution_count": null,
   "metadata": {},
   "outputs": [],
   "source": [
    "performance_examples('FN', nn_img_indices_to_view)"
   ]
  },
  {
   "cell_type": "markdown",
   "metadata": {},
   "source": [
    "# comparisons"
   ]
  },
  {
   "cell_type": "code",
   "execution_count": 10,
   "metadata": {},
   "outputs": [
    {
     "name": "stderr",
     "output_type": "stream",
     "text": [
      "C:\\ProgramData\\Anaconda3\\envs\\deeplearning\\lib\\site-packages\\ipykernel\\ipkernel.py:287: DeprecationWarning: `should_run_async` will not call `transform_cell` automatically in the future. Please pass the result to `transformed_cell` argument and any exception that happen during thetransform in `preprocessing_exc_tuple` in IPython 7.17 and above.\n",
      "  and should_run_async(code)\n"
     ]
    }
   ],
   "source": [
    "# list of fits to compare: \n",
    "final_fits = []\n",
    "# final_fits.append(prc_performance.performance_measures)\n",
    "# final_fits.append(prc_performance_test.performance_measures)\n",
    "final_fits.append(nn_performance.performance_measures)\n",
    "final_fits.append(nn_performance_test.performance_measures)"
   ]
  },
  {
   "cell_type": "code",
   "execution_count": 12,
   "metadata": {},
   "outputs": [
    {
     "name": "stderr",
     "output_type": "stream",
     "text": [
      "C:\\ProgramData\\Anaconda3\\envs\\deeplearning\\lib\\site-packages\\ipykernel\\ipkernel.py:287: DeprecationWarning: `should_run_async` will not call `transform_cell` automatically in the future. Please pass the result to `transformed_cell` argument and any exception that happen during thetransform in `preprocessing_exc_tuple` in IPython 7.17 and above.\n",
      "  and should_run_async(code)\n"
     ]
    },
    {
     "data": {
      "image/png": "[encoded data removed]",
      "text/plain": [
       "<Figure size 1080x1080 with 1 Axes>"
      ]
     },
     "metadata": {
      "needs_background": "light"
     },
     "output_type": "display_data"
    }
   ],
   "source": [
    "# plt.figure(figsize=(10,10))\n",
    "\n",
    "for fit in final_fits:\n",
    "    if fit['set'] == 'train':\n",
    "        color = 'co'\n",
    "    else:\n",
    "        color = 'ro'\n",
    "    plt.plot(fit['FP'] / fit['Neg'], \n",
    "             fit['TP'] / fit['Pos'], color, markersize=12)\n",
    "    plt.text(fit['FP'] / fit['Neg'], \n",
    "             fit['TP'] / fit['Pos'], fit['desc'] + ': ' + fit['set'], fontsize=16)\n",
    "plt.axis([0, 0.01, 0.5, 1])\n",
    "plt.title('ROC plot: test set')\n",
    "plt.xlabel('False positive rate')\n",
    "plt.ylabel('True positive rate')\n",
    "plt.rcParams['figure.figsize'] = (15, 15)\n",
    "plt.grid(b=True)\n",
    "plt.show()\n"
   ]
  },
  {
   "cell_type": "markdown",
   "metadata": {},
   "source": [
    "# SUBMISSION\n",
    "\n",
    "### file paths and names:"
   ]
  },
  {
   "cell_type": "code",
   "execution_count": 13,
   "metadata": {},
   "outputs": [
    {
     "name": "stderr",
     "output_type": "stream",
     "text": [
      "C:\\ProgramData\\Anaconda3\\envs\\deeplearning\\lib\\site-packages\\ipykernel\\ipkernel.py:287: DeprecationWarning: `should_run_async` will not call `transform_cell` automatically in the future. Please pass the result to `transformed_cell` argument and any exception that happen during thetransform in `preprocessing_exc_tuple` in IPython 7.17 and above.\n",
      "  and should_run_async(code)\n"
     ]
    }
   ],
   "source": [
    "submission_ci_path = 'test_data_for_grading/test_cropped_images/' # file path for cropped images for training\n",
    "submission_l_file = 'test_data_for_grading/test_plane_labels.csv' # file path and file name for csv with labels"
   ]
  },
  {
   "cell_type": "code",
   "execution_count": 14,
   "metadata": {},
   "outputs": [
    {
     "name": "stderr",
     "output_type": "stream",
     "text": [
      "C:\\ProgramData\\Anaconda3\\envs\\deeplearning\\lib\\site-packages\\ipykernel\\ipkernel.py:287: DeprecationWarning: `should_run_async` will not call `transform_cell` automatically in the future. Please pass the result to `transformed_cell` argument and any exception that happen during thetransform in `preprocessing_exc_tuple` in IPython 7.17 and above.\n",
      "  and should_run_async(code)\n"
     ]
    },
    {
     "name": "stdout",
     "output_type": "stream",
     "text": [
      "First few lines of image labels: \n",
      "                   img_name\n",
      "0  2016-08-02T13+50+24_430Z\n",
      "1  2016-08-02T14+12+37_390Z\n",
      "2  2016-08-03T12+32+21_790Z\n",
      "3  2016-08-03T13+19+28_320Z\n",
      "4  2016-08-05T15+24+58_670Z\n",
      "Size of image label dataFrame: \n",
      "(1523, 1)\n",
      "Shape of original feature representation: \n",
      "(1523, 60, 140)\n",
      "Shape of flat feature representation: \n",
      "(1523, 8400)\n",
      "Shape of X_test for submission:\n",
      "(1523, 8400)\n",
      "SUCCESS!\n",
      "Number of rows in the submission test set (should be 1,523): \n"
     ]
    }
   ],
   "source": [
    "X_test_data, X_test_submission = process_raw_data(submission_l_file, submission_ci_path, my_random_seed=72, test=True)\n",
    "print(\"Number of rows in the submission test set (should be 1,523): \")"
   ]
  },
  {
   "cell_type": "markdown",
   "metadata": {},
   "source": [
    "### IMPORTANT CHECK: make sure that the number of columns in your training data is the same as the number of columns in this test submission!"
   ]
  },
  {
   "cell_type": "code",
   "execution_count": 15,
   "metadata": {},
   "outputs": [
    {
     "name": "stdout",
     "output_type": "stream",
     "text": [
      "(5068, 8400)\n",
      "(1523, 8400)\n"
     ]
    },
    {
     "name": "stderr",
     "output_type": "stream",
     "text": [
      "C:\\ProgramData\\Anaconda3\\envs\\deeplearning\\lib\\site-packages\\ipykernel\\ipkernel.py:287: DeprecationWarning: `should_run_async` will not call `transform_cell` automatically in the future. Please pass the result to `transformed_cell` argument and any exception that happen during thetransform in `preprocessing_exc_tuple` in IPython 7.17 and above.\n",
      "  and should_run_async(code)\n"
     ]
    }
   ],
   "source": [
    "print(data_train.shape)\n",
    "print(X_test_data.shape)"
   ]
  },
  {
   "cell_type": "markdown",
   "metadata": {},
   "source": [
    "Both the training set and submission test set have 525 columns. Success!"
   ]
  },
  {
   "cell_type": "markdown",
   "metadata": {},
   "source": [
    "---\n",
    "\n",
    "Choose a *single* model for your submission. In this code, I am choosing the Perceptron model fit, which is in the prc object. But you should choose the model that is performing the best for you!"
   ]
  },
  {
   "cell_type": "code",
   "execution_count": 16,
   "metadata": {},
   "outputs": [
    {
     "name": "stderr",
     "output_type": "stream",
     "text": [
      "C:\\ProgramData\\Anaconda3\\envs\\deeplearning\\lib\\site-packages\\ipykernel\\ipkernel.py:287: DeprecationWarning: `should_run_async` will not call `transform_cell` automatically in the future. Please pass the result to `transformed_cell` argument and any exception that happen during thetransform in `preprocessing_exc_tuple` in IPython 7.17 and above.\n",
      "  and should_run_async(code)\n"
     ]
    },
    {
     "name": "stdout",
     "output_type": "stream",
     "text": [
      "0.014445173998686802\n"
     ]
    }
   ],
   "source": [
    "# concatenate predictions to the id\n",
    "X_test_submission[\"prediction\"] = nn.predict(X_test_data)\n",
    "# look at the proportion of positive predictions\n",
    "print(X_test_submission['prediction'].mean())"
   ]
  },
  {
   "cell_type": "markdown",
   "metadata": {},
   "source": [
    "This is the proportion of predictions that have predicted that there is an airplane in the image."
   ]
  },
  {
   "cell_type": "code",
   "execution_count": 17,
   "metadata": {},
   "outputs": [
    {
     "name": "stdout",
     "output_type": "stream",
     "text": [
      "(1523, 2)\n"
     ]
    },
    {
     "name": "stderr",
     "output_type": "stream",
     "text": [
      "C:\\ProgramData\\Anaconda3\\envs\\deeplearning\\lib\\site-packages\\ipykernel\\ipkernel.py:287: DeprecationWarning: `should_run_async` will not call `transform_cell` automatically in the future. Please pass the result to `transformed_cell` argument and any exception that happen during thetransform in `preprocessing_exc_tuple` in IPython 7.17 and above.\n",
      "  and should_run_async(code)\n"
     ]
    }
   ],
   "source": [
    "print(X_test_submission.shape) # should be (1523, 2)"
   ]
  },
  {
   "cell_type": "code",
   "execution_count": 18,
   "metadata": {},
   "outputs": [
    {
     "name": "stderr",
     "output_type": "stream",
     "text": [
      "C:\\ProgramData\\Anaconda3\\envs\\deeplearning\\lib\\site-packages\\ipykernel\\ipkernel.py:287: DeprecationWarning: `should_run_async` will not call `transform_cell` automatically in the future. Please pass the result to `transformed_cell` argument and any exception that happen during thetransform in `preprocessing_exc_tuple` in IPython 7.17 and above.\n",
      "  and should_run_async(code)\n"
     ]
    }
   ],
   "source": [
    "# export submission file as pdf\n",
    "# CHANGE FILE PATH: \n",
    "X_test_submission.to_csv('airplane_submission.csv', index=False)"
   ]
  },
  {
   "cell_type": "code",
   "execution_count": null,
   "metadata": {},
   "outputs": [],
   "source": []
  }
 ],
 "metadata": {
  "kernelspec": {
   "display_name": "Python 3",
   "language": "python",
   "name": "python3"
  },
  "language_info": {
   "codemirror_mode": {
    "name": "ipython",
    "version": 3
   },
   "file_extension": ".py",
   "mimetype": "text/x-python",
   "name": "python",
   "nbconvert_exporter": "python",
   "pygments_lexer": "ipython3",
   "version": "3.7.9"
  }
 },
 "nbformat": 4,
 "nbformat_minor": 2
}
