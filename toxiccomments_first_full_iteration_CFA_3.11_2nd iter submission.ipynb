{
 "cells": [
  {
   "cell_type": "markdown",
   "metadata": {},
   "source": [
    "# Toxic comments\n",
    "\n",
    "This notebook takes you though a complete iteration of Machine Learning Assignment 1 - Toxic comments. The assignment details (including links to download the data) can be found [here](https://docs.google.com/document/d/1WGYw99e5q6j5V0Zrf2HveagU6URt_kVvdR8B9HYQ99E/edit?usp=sharing). "
   ]
  },
  {
   "cell_type": "code",
   "execution_count": 143,
   "metadata": {
    "scrolled": true
   },
   "outputs": [],
   "source": [
    "# all imports and magic commands\n",
    "import numpy as np\n",
    "import pandas as pd\n",
    "import matplotlib.pyplot as plt\n",
    "from my_measures import BinaryClassificationPerformance\n",
    "from sklearn.feature_extraction.text import HashingVectorizer\n",
    "from sklearn.feature_extraction.text import CountVectorizer\n",
    "from sklearn.feature_extraction.text import TfidfTransformer\n",
    "from scipy.sparse import csr_matrix, hstack\n",
    "from sklearn.preprocessing import MinMaxScaler\n",
    "from sklearn.preprocessing import StandardScaler\n",
    "from sklearn.preprocessing import PolynomialFeatures\n",
    "from sklearn.kernel_approximation import RBFSampler\n",
    "from sklearn.model_selection import train_test_split\n",
    "%matplotlib inline"
   ]
  },
  {
   "cell_type": "markdown",
   "metadata": {},
   "source": [
    "### IMPORTANT!!! Make sure you are using `BinaryClassificationPerformance` v1.02"
   ]
  },
  {
   "cell_type": "code",
   "execution_count": null,
   "metadata": {
    "scrolled": true
   },
   "outputs": [],
   "source": [
    "help(BinaryClassificationPerformance)"
   ]
  },
  {
   "cell_type": "markdown",
   "metadata": {},
   "source": [
    "# Function for feature building and extraction on natural language data"
   ]
  },
  {
   "cell_type": "code",
   "execution_count": 186,
   "metadata": {
    "scrolled": true
   },
   "outputs": [],
   "source": [
    "# function that takes raw data and completes all preprocessing required before model fits\n",
    "def process_raw_data(fn, my_random_seed, test=False):\n",
    "    toxic_data = pd.read_csv(fn)\n",
    "    if (not test):\n",
    "        # add an indicator for any toxic, severe toxic, obscene, threat, insult, or indentity hate\n",
    "        toxic_data['any_toxic'] = (toxic_data['toxic'] + toxic_data['severe_toxic'] + toxic_data['obscene'] + toxic_data['threat'] + toxic_data['insult'] + toxic_data['identity_hate'] > 0)\n",
    "    print(\"toxic_data is:\", type(toxic_data))\n",
    "    print(\"toxic_data has\", toxic_data.shape[0], \"rows and\", toxic_data.shape[1], \"columns\", \"\\n\")\n",
    "    print(\"the data types for each of the columns in toxic_data:\")\n",
    "    print(toxic_data.dtypes, \"\\n\")\n",
    "    print(\"the first 5 rows in toxic_data:\")\n",
    "    print(toxic_data.head(5))\n",
    "\n",
    "    if (not test):\n",
    "        print(\"The rate of 'toxic' Wikipedia comments in the dataset: \")\n",
    "        print(toxic_data['any_toxic'].mean())\n",
    "\n",
    "    if (not test): # fit_transform()\n",
    "        hv = HashingVectorizer(n_features=2 ** 12, alternate_sign=False, \n",
    "                               ngram_range=(1,2), \n",
    "                               stop_words='english')       \n",
    "        X_hv = hv.fit_transform(toxic_data.comment_text)\n",
    "        fitted_transformations.append(hv)\n",
    "        print(\"Shape of HashingVectorizer X:\")\n",
    "        print(X_hv.shape)\n",
    "    else: # transform() \n",
    "        X_hv = fitted_transformations[0].transform(toxic_data.comment_text)\n",
    "        print(\"Shape of HashingVectorizer X:\")\n",
    "        print(X_hv.shape)\n",
    "    # submission condition is test: what's the diff between test and not test here?  \n",
    "    # 'fitted_transformations.append' vs. '.transform'.  Why in the test condition does transform the data\n",
    "    # \"fit\" computes the mean and std to be used for later scaling. (just a computation) \n",
    "    # \"transform\" uses a previously computed mean and std to autoscale the data\n",
    "        \n",
    "    if (not test):\n",
    "        chv = HashingVectorizer(n_features=2 ** 12, alternate_sign=False, \n",
    "                                analyzer='char_wb', ngram_range=(2,4))\n",
    "        X_chv = chv.fit_transform(toxic_data.comment_text)\n",
    "        fitted_transformations.append(chv)\n",
    "        print(\"Shape of HashingVectorizer char n_gram X:\")\n",
    "        print(X_chv.shape)\n",
    "    else:\n",
    "        X_chv = fitted_transformations[1].transform(toxic_data.comment_text)\n",
    "        print(\"Shape of HashingVectorizer char n_gram X:\")\n",
    "        print(X_chv.shape)\n",
    "    \n",
    "#     X_cv = hstack([X_hv, X_chv])\n",
    "#     print(\"Shape of Vectorizer combined X:\")\n",
    "#     print(X_cv.shape)\n",
    "    \n",
    "    # http://scikit-learn.org/stable/modules/generated/sklearn.feature_extraction.text.TfidfTransformer.html\n",
    "#     if (not test):\n",
    "#         transformer = TfidfTransformer()\n",
    "#         X_tfidf = transformer.fit_transform(X_cv)\n",
    "#         fitted_transformations.append(transformer)\n",
    "#     else:\n",
    "#         X_tfidf = fitted_transformations[1].transform(X_cv)\n",
    "    \n",
    "    if (not test):\n",
    "        transformer = TfidfTransformer()\n",
    "        X_tfidf = transformer.fit_transform(X_hv)\n",
    "        fitted_transformations.append(transformer)\n",
    "    else:\n",
    "        X_tfidf = fitted_transformations[2].transform(X_hv)\n",
    "\n",
    "    # character n-grams   \n",
    "    if (not test):\n",
    "        transformer_chv = TfidfTransformer()\n",
    "        X_tfidf_chv = transformer_chv.fit_transform(X_chv)\n",
    "        fitted_transformations.append(transformer_chv)\n",
    "    else:\n",
    "        X_tfidf_chv = fitted_transformations[3].transform(X_chv)\n",
    "    \n",
    "    # create additional quantitative features\n",
    "\n",
    "    # what does the form toxic_data['comment_text'] mean?\n",
    "    toxic_data['char_count'] = toxic_data['comment_text'].str.len()\n",
    "    toxic_data['Caps_count'] = toxic_data['comment_text'].str.count(r'[A-Z]')\n",
    "    toxic_data['Caps_ratio'] = pow((toxic_data['Caps_count']+1)/toxic_data['char_count'], 3)\n",
    "    \n",
    "    toxic_data['word_count'] = toxic_data['comment_text'].str.split(' ').str.len()\n",
    "    toxic_data['char_ratio'] = toxic_data['char_count']/toxic_data['word_count']\n",
    "    \n",
    "    toxic_data['punc_count_p'] = toxic_data['comment_text'].str.count(\"\\.\")\n",
    "    toxic_data['punc_count_exc'] = toxic_data['comment_text'].str.count(\"\\!\")\n",
    "    toxic_data['punc_count_q'] = toxic_data['comment_text'].str.count(\"\\?\")\n",
    "    toxic_data['punc_count_c'] = toxic_data['comment_text'].str.count(\"\\,\")\n",
    "    toxic_data['punc_count_a'] = toxic_data['comment_text'].str.count(\"\\*\")\n",
    "    toxic_data['punc_count_s'] = toxic_data['comment_text'].str.count(\"\\;\")\n",
    "    \n",
    "    toxic_data['punc_count'] = toxic_data['punc_count_s'] + toxic_data['punc_count_a'] + toxic_data['punc_count_c'] + toxic_data['punc_count_p'] + toxic_data['punc_count_exc'] + toxic_data['punc_count_q']\n",
    "    toxic_data['punc_ratio'] = toxic_data['punc_count']/toxic_data['word_count']\n",
    "    toxic_data['punc_exc_ratio'] = (toxic_data['punc_count_exc']+0.1) / (toxic_data['punc_count']+0.1)\n",
    "    toxic_data['punc_q_ratio'] = (toxic_data['punc_count_q']+0.1) / (toxic_data['punc_count']+0.1)\n",
    "    \n",
    "    toxic_data['Capsword_ratio'] = (toxic_data['Caps_count'] + toxic_data['punc_count'])/toxic_data['word_count']\n",
    "    \n",
    "    toxic_data['spaces_count'] = toxic_data['comment_text'].str.count(\" \")\n",
    "    toxic_data['spaces_ratio'] = toxic_data['spaces_count']/toxic_data['char_count']\n",
    "    toxic_data['spaceswords_ratio'] = toxic_data['spaces_count']/toxic_data['word_count']\n",
    "    \n",
    "    # count the number of consecutive caps letters\n",
    "    toxic_data['consCaps_count'] = toxic_data['comment_text'].str.count(r'[A-Z]{3}')\n",
    "    toxic_data['consCaps_ratio'] = toxic_data['consCaps_count']/toxic_data['char_count']\n",
    "    toxic_data['consCapsword_ratio'] = toxic_data['consCaps_count']/toxic_data['word_count']\n",
    "    \n",
    "#     toxic_data['word_count_f'] =(toxic_data['comment_text'].str.lower().str.count(\"fuck\"))\n",
    "#     toxic_data['word_count_s'] =(toxic_data['comment_text'].str.lower().str.count(\"shit\"))\n",
    "#     toxic_data['word_count_h'] =(toxic_data['comment_text'].str.lower().str.count(\"hell\"))\n",
    "    \n",
    "    # current count: 22 quant features\n",
    "    X_quant_features = toxic_data[[\"consCaps_count\", \"consCaps_ratio\", \"consCapsword_ratio\", \"punc_q_ratio\", \"punc_exc_ratio\", \"punc_count_s\", \"punc_count_a\", \"punc_count_c\", \"spaceswords_ratio\", \"spaces_ratio\", \"spaces_count\", \"char_count\", \"Caps_count\", \"Caps_ratio\", \"word_count\", \"char_ratio\", \"punc_count_p\", \"punc_count_exc\", \"punc_count_q\", \"punc_count\", \"punc_ratio\", \"Capsword_ratio\"]]\n",
    "    # for specific quant_feat\n",
    "#     X_quant_features = toxic_data[[\"char_count\"]]\n",
    "    print(\"Look at a few rows of the new quantitative features: \")\n",
    "    print(X_quant_features.head(10))\n",
    "        \n",
    "    # Combine all quantitative features into a single sparse matrix\n",
    "    X_quant_features_csr = csr_matrix(X_quant_features)\n",
    "    # hstack wo char n-grams\n",
    "#     X_combined = hstack([X_tfidf, X_quant_features_csr])\n",
    "    X_combined = hstack([X_tfidf, X_tfidf_chv, X_quant_features_csr])\n",
    "    X_matrix = csr_matrix(X_combined) # convert to sparse matrix\n",
    "    print(\"Size of combined bag of words and new quantitative variables matrix:\")\n",
    "    print(X_matrix.shape)\n",
    "     \n",
    "        \n",
    "    # Create `X`, scaled matrix of features\n",
    "    # feature scaling\n",
    "    if (not test):\n",
    "        sc = StandardScaler(with_mean=False)\n",
    "        X = sc.fit_transform(X_matrix)\n",
    "        fitted_transformations.append(sc)\n",
    "        print(X.shape)\n",
    "        y = toxic_data['any_toxic']\n",
    "    else:\n",
    "        X = fitted_transformations[4].transform(X_matrix)\n",
    "        print(X.shape)\n",
    "        \n",
    "\n",
    "    # Create Training and Test Sets\n",
    "    # enter an integer for the random_state parameter; any integer will work\n",
    "    if (test):\n",
    "        X_submission_test = X\n",
    "        print(\"Shape of X_test for submission:\")\n",
    "        print(X_submission_test.shape)\n",
    "        print('SUCCESS!')\n",
    "        return(toxic_data, X_submission_test)\n",
    "    else: \n",
    "        X_train, X_test, y_train, y_test, X_raw_train, X_raw_test = train_test_split(X, y, toxic_data, test_size=0.2, random_state=my_random_seed)\n",
    "        print(\"Shape of X_train and X_test:\")\n",
    "        print(X_train.shape)\n",
    "        print(X_test.shape)\n",
    "        print(\"Shape of y_train and y_test:\")\n",
    "        print(y_train.shape)\n",
    "        print(y_test.shape)\n",
    "        print(\"Shape of X_raw_train and X_raw_test:\")\n",
    "        print(X_raw_train.shape)\n",
    "        print(X_raw_test.shape)\n",
    "        print('SUCCESS!')\n",
    "        return(X_train, X_test, y_train, y_test, X_raw_train, X_raw_test)"
   ]
  },
  {
   "cell_type": "markdown",
   "metadata": {},
   "source": [
    "# Create training and test sets from function"
   ]
  },
  {
   "cell_type": "code",
   "execution_count": 187,
   "metadata": {
    "scrolled": false
   },
   "outputs": [
    {
     "name": "stdout",
     "output_type": "stream",
     "text": [
      "toxic_data is: <class 'pandas.core.frame.DataFrame'>\n",
      "toxic_data has 159571 rows and 9 columns \n",
      "\n",
      "the data types for each of the columns in toxic_data:\n",
      "id               object\n",
      "comment_text     object\n",
      "toxic             int64\n",
      "severe_toxic      int64\n",
      "obscene           int64\n",
      "threat            int64\n",
      "insult            int64\n",
      "identity_hate     int64\n",
      "any_toxic          bool\n",
      "dtype: object \n",
      "\n",
      "the first 5 rows in toxic_data:\n",
      "                 id                                       comment_text  toxic  \\\n",
      "0  0000997932d777bf  Explanation\\nWhy the edits made under my usern...      0   \n",
      "1  000103f0d9cfb60f  D'aww! He matches this background colour I'm s...      0   \n",
      "2  000113f07ec002fd  Hey man, I'm really not trying to edit war. It...      0   \n",
      "3  0001b41b1c6bb37e  \"\\nMore\\nI can't make any real suggestions on ...      0   \n",
      "4  0001d958c54c6e35  You, sir, are my hero. Any chance you remember...      0   \n",
      "\n",
      "   severe_toxic  obscene  threat  insult  identity_hate  any_toxic  \n",
      "0             0        0       0       0              0      False  \n",
      "1             0        0       0       0              0      False  \n",
      "2             0        0       0       0              0      False  \n",
      "3             0        0       0       0              0      False  \n",
      "4             0        0       0       0              0      False  \n",
      "The rate of 'toxic' Wikipedia comments in the dataset: \n",
      "0.10167887648758234\n",
      "Shape of HashingVectorizer X:\n",
      "(159571, 4096)\n",
      "Shape of HashingVectorizer char n_gram X:\n",
      "(159571, 4096)\n",
      "Look at a few rows of the new quantitative features: \n",
      "   consCaps_count  consCaps_ratio  consCapsword_ratio  punc_q_ratio  \\\n",
      "0               1        0.003788            0.023810      0.154930   \n",
      "1               1        0.008929            0.055556      0.019608   \n",
      "2               0        0.000000            0.000000      0.024390   \n",
      "3               0        0.000000            0.000000      0.019608   \n",
      "4               0        0.000000            0.000000      0.268293   \n",
      "5               0        0.000000            0.000000      0.047619   \n",
      "6              10        0.227273            1.250000      1.000000   \n",
      "7               0        0.000000            0.000000      0.032258   \n",
      "8               0        0.000000            0.000000      0.108911   \n",
      "9               0        0.000000            0.000000      1.000000   \n",
      "\n",
      "   punc_exc_ratio  punc_count_s  punc_count_a  punc_count_c  \\\n",
      "0        0.014085             0             0             1   \n",
      "1        0.215686             0             0             2   \n",
      "2        0.024390             0             0             1   \n",
      "3        0.019608             0             0             2   \n",
      "4        0.024390             0             0             2   \n",
      "5        0.047619             0             0             1   \n",
      "6        1.000000             0             0             0   \n",
      "7        0.032258             0             0             1   \n",
      "8        0.009901             0             0             2   \n",
      "9        1.000000             0             0             0   \n",
      "\n",
      "   spaceswords_ratio  spaces_ratio  ...  Caps_count  Caps_ratio  word_count  \\\n",
      "0           0.976190      0.155303  ...          17    0.000317          42   \n",
      "1           0.944444      0.151786  ...           8    0.000519          18   \n",
      "2           0.976190      0.175966  ...           4    0.000010          42   \n",
      "3           0.991071      0.178457  ...          11    0.000007         112   \n",
      "4           0.923077      0.179104  ...           2    0.000090          13   \n",
      "5           0.916667      0.169231  ...           1    0.000029          12   \n",
      "6           0.875000      0.159091  ...          37    0.644159           8   \n",
      "7           0.952381      0.173913  ...           4    0.000082          21   \n",
      "8           0.987952      0.173729  ...           7    0.000005          83   \n",
      "9           0.916667      0.157143  ...           2    0.000079          12   \n",
      "\n",
      "   char_ratio  punc_count_p  punc_count_exc  punc_count_q  punc_count  \\\n",
      "0    6.285714             5               0             1           7   \n",
      "1    6.222222             2               1             0           5   \n",
      "2    5.547619             3               0             0           4   \n",
      "3    5.553571             3               0             0           5   \n",
      "4    5.153846             1               0             1           4   \n",
      "5    5.416667             1               0             0           2   \n",
      "6    5.500000             0               0             0           0   \n",
      "7    5.476190             2               0             0           3   \n",
      "8    5.686747             7               0             1          10   \n",
      "9    5.833333             0               0             0           0   \n",
      "\n",
      "   punc_ratio  Capsword_ratio  \n",
      "0    0.166667        0.571429  \n",
      "1    0.277778        0.722222  \n",
      "2    0.095238        0.190476  \n",
      "3    0.044643        0.142857  \n",
      "4    0.307692        0.461538  \n",
      "5    0.166667        0.250000  \n",
      "6    0.000000        4.625000  \n",
      "7    0.142857        0.333333  \n",
      "8    0.120482        0.204819  \n",
      "9    0.000000        0.166667  \n",
      "\n",
      "[10 rows x 22 columns]\n",
      "Size of combined bag of words and new quantitative variables matrix:\n",
      "(159571, 8214)\n",
      "(159571, 8214)\n",
      "Shape of X_train and X_test:\n",
      "(127656, 8214)\n",
      "(31915, 8214)\n",
      "Shape of y_train and y_test:\n",
      "(127656,)\n",
      "(31915,)\n",
      "Shape of X_raw_train and X_raw_test:\n",
      "(127656, 31)\n",
      "(31915, 31)\n",
      "SUCCESS!\n",
      "Number of fits stored in `fitted_transformations` list: \n",
      "5\n"
     ]
    }
   ],
   "source": [
    "# create an empty list to store any use of fit_transform() to transform() later\n",
    "# it is a global list to store model and feature extraction fits\n",
    "fitted_transformations = []\n",
    "\n",
    "# CHANGE FILE PATH and my_random_seed number (any integer other than 74 will do): \n",
    "X_train, X_test, y_train, y_test, X_raw_train, X_raw_test = process_raw_data(fn='/Users/Charles/Desktop/ML/A1/toxiccomments_train.csv', my_random_seed=36)\n",
    "\n",
    "print(\"Number of fits stored in `fitted_transformations` list: \")\n",
    "print(len(fitted_transformations))"
   ]
  },
  {
   "cell_type": "markdown",
   "metadata": {},
   "source": [
    "# Fit (and tune) Various Models"
   ]
  },
  {
   "cell_type": "markdown",
   "metadata": {},
   "source": [
    "### MODEL: SGD Classifier experiments"
   ]
  },
  {
   "cell_type": "code",
   "execution_count": 9,
   "metadata": {
    "scrolled": true
   },
   "outputs": [
    {
     "name": "stdout",
     "output_type": "stream",
     "text": [
      "{'Pos': 12951, 'Neg': 114705, 'TP': 9927, 'TN': 112625, 'FP': 2080, 'FN': 3024, 'Accuracy': 0.960017547157987, 'Precision': 0.8267677188306821, 'Recall': 0.7665045170257123, 'desc': 'sgd_train'}\n"
     ]
    }
   ],
   "source": [
    "from sklearn import linear_model\n",
    "sgd = linear_model.SGDClassifier(loss='perceptron', learning_rate='invscaling', eta0=0.00000000000001, average=True)\n",
    "sgd.fit(X_train, y_train)\n",
    "\n",
    "sgd_performance_train = BinaryClassificationPerformance(sgd.predict(X_train), y_train, 'sgd_train')\n",
    "sgd_performance_train.compute_measures()\n",
    "print(sgd_performance_train.performance_measures)"
   ]
  },
  {
   "cell_type": "code",
   "execution_count": 10,
   "metadata": {
    "scrolled": true
   },
   "outputs": [
    {
     "name": "stdout",
     "output_type": "stream",
     "text": [
      "{'Pos': 3274, 'Neg': 28641, 'TP': 2287, 'TN': 27679, 'FP': 962, 'FN': 987, 'Accuracy': 0.9389315368948771, 'Precision': 0.7039088950446292, 'Recall': 0.6985339034819792, 'desc': 'sgd_test'}\n",
      "True Positive Rate:\n",
      "69.85339034819792\n",
      "False Positive Rate:\n",
      "3.3588212702070455\n",
      "False Negative Rate:\n",
      "30.146609651802077\n"
     ]
    }
   ],
   "source": [
    "# sgd quick test\n",
    "sgd_performance_test = BinaryClassificationPerformance(sgd.predict(X_test), y_test, 'sgd_test')\n",
    "sgd_performance_test.compute_measures()\n",
    "print(sgd_performance_test.performance_measures)\n",
    "print(\"True Positive Rate:\")\n",
    "print(sgd_performance_test.performance_measures['TP'] / sgd_performance_test.performance_measures['Pos'] * 100)\n",
    "print(\"False Positive Rate:\")\n",
    "print(sgd_performance_test.performance_measures['FP'] / sgd_performance_test.performance_measures['Neg'] * 100)\n",
    "print(\"False Negative Rate:\")\n",
    "print(sgd_performance_test.performance_measures['FN'] / sgd_performance_test.performance_measures['Pos'] * 100)"
   ]
  },
  {
   "cell_type": "markdown",
   "metadata": {},
   "source": [
    "### MODEL: ordinary least squares"
   ]
  },
  {
   "cell_type": "code",
   "execution_count": null,
   "metadata": {
    "scrolled": true
   },
   "outputs": [],
   "source": [
    "from sklearn import linear_model\n",
    "ols = linear_model.SGDClassifier(loss=\"squared_loss\")\n",
    "ols.fit(X_train, y_train)\n",
    "\n",
    "ols_performance_train = BinaryClassificationPerformance(ols.predict(X_train), y_train, 'ols_train')\n",
    "ols_performance_train.compute_measures()\n",
    "print(ols_performance_train.performance_measures)\n",
    "print(\"False Positive Rate:\")\n",
    "print(ols_performance_train.performance_measures['FP'] / ols_performance_train.performance_measures['Neg'])\n",
    "print(\"True Positive Rate:\")\n",
    "print(ols_performance_train.performance_measures['TP'] / ols_performance_train.performance_measures['Pos'])"
   ]
  },
  {
   "cell_type": "markdown",
   "metadata": {},
   "source": [
    "### MODEL: SVM, linear"
   ]
  },
  {
   "cell_type": "code",
   "execution_count": 44,
   "metadata": {
    "scrolled": true
   },
   "outputs": [
    {
     "name": "stdout",
     "output_type": "stream",
     "text": [
      "{'Pos': 12951, 'Neg': 114705, 'TP': 12930, 'TN': 114603, 'FP': 102, 'FN': 21, 'Accuracy': 0.9990364730212445, 'Precision': 0.9921731123388582, 'Recall': 0.9983785035904563, 'desc': 'svm_train'}\n",
      "False Positive Rate:\n",
      "0.0008892376095200733\n",
      "True Positive Rate:\n",
      "0.9983785035904563\n"
     ]
    }
   ],
   "source": [
    "from sklearn import linear_model\n",
    "svm = linear_model.SGDClassifier()\n",
    "svm.fit(X_train, y_train)\n",
    "\n",
    "svm_performance_train = BinaryClassificationPerformance(svm.predict(X_train), y_train, 'svm_train')\n",
    "svm_performance_train.compute_measures()\n",
    "print(svm_performance_train.performance_measures)\n",
    "print(\"False Positive Rate:\")\n",
    "print(svm_performance_train.performance_measures['FP'] / svm_performance_train.performance_measures['Neg'])\n",
    "print(\"True Positive Rate:\")\n",
    "print(svm_performance_train.performance_measures['TP'] / svm_performance_train.performance_measures['Pos'])"
   ]
  },
  {
   "cell_type": "markdown",
   "metadata": {},
   "source": [
    "### MODEL: SVC"
   ]
  },
  {
   "cell_type": "code",
   "execution_count": 6,
   "metadata": {
    "scrolled": true
   },
   "outputs": [
    {
     "name": "stderr",
     "output_type": "stream",
     "text": [
      "C:\\ProgramData\\Anaconda3\\lib\\site-packages\\sklearn\\svm\\_base.py:976: ConvergenceWarning: Liblinear failed to converge, increase the number of iterations.\n",
      "  warnings.warn(\"Liblinear failed to converge, increase \"\n"
     ]
    },
    {
     "name": "stdout",
     "output_type": "stream",
     "text": [
      "{'Pos': 12951, 'Neg': 114705, 'TP': 12931, 'TN': 114526, 'FP': 179, 'FN': 20, 'Accuracy': 0.9984411230181112, 'Precision': 0.9863463005339436, 'Recall': 0.9984557177051965, 'desc': 'svc_train_0'}\n",
      "False Positive Rate:\n",
      "0.0015605248245499324\n",
      "True Positive Rate:\n",
      "0.9984557177051965\n"
     ]
    }
   ],
   "source": [
    "from sklearn.svm import LinearSVC\n",
    "svc_0 = LinearSVC(C=1.0)\n",
    "svc_0.fit(X_train, y_train)\n",
    "\n",
    "svc_performance_train_0 = BinaryClassificationPerformance(svc_0.predict(X_train), y_train, 'svc_train_0')\n",
    "svc_performance_train_0.compute_measures()\n",
    "print(svc_performance_train_0.performance_measures)\n",
    "print(\"False Positive Rate:\")\n",
    "print(svc_performance_train_0.performance_measures['FP'] / svc_performance_train_0.performance_measures['Neg'])\n",
    "print(\"True Positive Rate:\")\n",
    "print(svc_performance_train_0.performance_measures['TP'] / svc_performance_train_0.performance_measures['Pos'])"
   ]
  },
  {
   "cell_type": "markdown",
   "metadata": {},
   "source": [
    "### MODEL: logistic regression"
   ]
  },
  {
   "cell_type": "code",
   "execution_count": 63,
   "metadata": {
    "scrolled": true
   },
   "outputs": [
    {
     "name": "stdout",
     "output_type": "stream",
     "text": [
      "{'Pos': 12951, 'Neg': 114705, 'TP': 0, 'TN': 114705, 'FP': 0, 'FN': 12951, 'Accuracy': 0.8985476593344613, 'Precision': nan, 'Recall': 0.0, 'desc': 'lgs_train_0.9'}\n"
     ]
    },
    {
     "name": "stderr",
     "output_type": "stream",
     "text": [
      "C:\\Users\\Charles\\Desktop\\ML\\A1\\my_measures.py:25: RuntimeWarning: invalid value encountered in longlong_scalars\n",
      "  self.performance_measures['Precision'] = self.performance_measures['TP'] / (self.performance_measures['TP'] + self.performance_measures['FP'])\n"
     ]
    }
   ],
   "source": [
    "from sklearn import linear_model\n",
    "lgs_p9 = linear_model.SGDClassifier(loss='log', penalty='elasticnet', alpha=0.9)\n",
    "lgs_p9.fit(X_train, y_train)\n",
    "\n",
    "lgs_performance_train_p9 = BinaryClassificationPerformance(lgs_p9.predict(X_train), y_train, 'lgs_train_0.9')\n",
    "lgs_performance_train_p9.compute_measures()\n",
    "print(lgs_performance_train_p9.performance_measures)"
   ]
  },
  {
   "cell_type": "code",
   "execution_count": 64,
   "metadata": {
    "scrolled": true
   },
   "outputs": [
    {
     "name": "stdout",
     "output_type": "stream",
     "text": [
      "{'Pos': 12951, 'Neg': 114705, 'TP': 4, 'TN': 114703, 'FP': 2, 'FN': 12947, 'Accuracy': 0.898563326439807, 'Precision': 0.6666666666666666, 'Recall': 0.000308856458960698, 'desc': 'lgs_train_0.5'}\n"
     ]
    }
   ],
   "source": [
    "from sklearn import linear_model\n",
    "lgs_p5 = linear_model.SGDClassifier(loss='log', penalty='elasticnet', alpha=0.5)\n",
    "lgs_p5.fit(X_train, y_train)\n",
    "\n",
    "lgs_performance_train_p5 = BinaryClassificationPerformance(lgs_p5.predict(X_train), y_train, 'lgs_train_0.5')\n",
    "lgs_performance_train_p5.compute_measures()\n",
    "print(lgs_performance_train_p5.performance_measures)"
   ]
  },
  {
   "cell_type": "code",
   "execution_count": 65,
   "metadata": {
    "scrolled": true
   },
   "outputs": [
    {
     "name": "stdout",
     "output_type": "stream",
     "text": [
      "{'Pos': 12951, 'Neg': 114705, 'TP': 2916, 'TN': 114641, 'FP': 64, 'FN': 10035, 'Accuracy': 0.9208889515573103, 'Precision': 0.978523489932886, 'Recall': 0.22515635858234886, 'desc': 'lgs_train_n1'}\n"
     ]
    }
   ],
   "source": [
    "from sklearn import linear_model\n",
    "lgs_n1 = linear_model.SGDClassifier(loss='log', penalty='elasticnet', alpha=0.1)\n",
    "lgs_n1.fit(X_train, y_train)\n",
    "\n",
    "lgs_performance_train_n1 = BinaryClassificationPerformance(lgs_n1.predict(X_train), y_train, 'lgs_train_n1')\n",
    "lgs_performance_train_n1.compute_measures()\n",
    "print(lgs_performance_train_n1.performance_measures)"
   ]
  },
  {
   "cell_type": "code",
   "execution_count": 188,
   "metadata": {
    "scrolled": true
   },
   "outputs": [
    {
     "name": "stdout",
     "output_type": "stream",
     "text": [
      "{'Pos': 12951, 'Neg': 114705, 'TP': 10461, 'TN': 113304, 'FP': 1401, 'FN': 2490, 'Accuracy': 0.9695196465501034, 'Precision': 0.8818917551846231, 'Recall': 0.8077368542969655, 'desc': 'lgs_train_n3'}\n"
     ]
    }
   ],
   "source": [
    "from sklearn import linear_model\n",
    "lgs_n3 = linear_model.SGDClassifier(loss='log', penalty='elasticnet', alpha=0.001)\n",
    "lgs_n3.fit(X_train, y_train)\n",
    "\n",
    "lgs_performance_train_n3 = BinaryClassificationPerformance(lgs_n3.predict(X_train), y_train, 'lgs_train_n3')\n",
    "lgs_performance_train_n3.compute_measures()\n",
    "print(lgs_performance_train_n3.performance_measures)"
   ]
  },
  {
   "cell_type": "code",
   "execution_count": 189,
   "metadata": {
    "scrolled": true
   },
   "outputs": [
    {
     "name": "stdout",
     "output_type": "stream",
     "text": [
      "{'Pos': 12951, 'Neg': 114705, 'TP': 11794, 'TN': 110129, 'FP': 4576, 'FN': 1157, 'Accuracy': 0.9550902425267908, 'Precision': 0.7204642638973733, 'Recall': 0.9106632692456181, 'desc': 'lgs_train_n5'}\n"
     ]
    }
   ],
   "source": [
    "from sklearn import linear_model\n",
    "lgs_n5 = linear_model.SGDClassifier(loss='log', penalty='elasticnet', alpha=0.00001)\n",
    "lgs_n5.fit(X_train, y_train)\n",
    "\n",
    "lgs_performance_train_n5 = BinaryClassificationPerformance(lgs_n5.predict(X_train), y_train, 'lgs_train_n5')\n",
    "lgs_performance_train_n5.compute_measures()\n",
    "print(lgs_performance_train_n5.performance_measures)"
   ]
  },
  {
   "cell_type": "code",
   "execution_count": 190,
   "metadata": {
    "scrolled": true
   },
   "outputs": [
    {
     "name": "stdout",
     "output_type": "stream",
     "text": [
      "{'Pos': 12951, 'Neg': 114705, 'TP': 11269, 'TN': 111806, 'FP': 2899, 'FN': 1682, 'Accuracy': 0.9641144952058658, 'Precision': 0.7953839638622248, 'Recall': 0.8701258590070264, 'desc': 'lgs_train_n7'}\n"
     ]
    }
   ],
   "source": [
    "from sklearn import linear_model\n",
    "lgs_n7 = linear_model.SGDClassifier(loss='log', penalty='elasticnet', alpha=0.0000001)\n",
    "lgs_n7.fit(X_train, y_train)\n",
    "\n",
    "lgs_performance_train_n7 = BinaryClassificationPerformance(lgs_n7.predict(X_train), y_train, 'lgs_train_n7')\n",
    "lgs_performance_train_n7.compute_measures()\n",
    "print(lgs_performance_train_n7.performance_measures)"
   ]
  },
  {
   "cell_type": "code",
   "execution_count": 191,
   "metadata": {
    "scrolled": true
   },
   "outputs": [
    {
     "name": "stdout",
     "output_type": "stream",
     "text": [
      "{'Pos': 12951, 'Neg': 114705, 'TP': 11409, 'TN': 111551, 'FP': 3154, 'FN': 1542, 'Accuracy': 0.9632136366484928, 'Precision': 0.7834237451074642, 'Recall': 0.8809358350706509, 'desc': 'lgs_train_n9'}\n"
     ]
    }
   ],
   "source": [
    "from sklearn import linear_model\n",
    "lgs_n9 = linear_model.SGDClassifier(loss='log', penalty='elasticnet', alpha=0.000000001)\n",
    "lgs_n9.fit(X_train, y_train)\n",
    "\n",
    "lgs_performance_train_n9 = BinaryClassificationPerformance(lgs_n9.predict(X_train), y_train, 'lgs_train_n9')\n",
    "lgs_performance_train_n9.compute_measures()\n",
    "print(lgs_performance_train_n9.performance_measures)"
   ]
  },
  {
   "cell_type": "code",
   "execution_count": 192,
   "metadata": {
    "scrolled": true
   },
   "outputs": [
    {
     "name": "stdout",
     "output_type": "stream",
     "text": [
      "{'Pos': 12951, 'Neg': 114705, 'TP': 10645, 'TN': 112871, 'FP': 1834, 'FN': 2306, 'Accuracy': 0.9675690919345742, 'Precision': 0.853033095600609, 'Recall': 0.8219442514091576, 'desc': 'lgs_train_n11'}\n"
     ]
    }
   ],
   "source": [
    "from sklearn import linear_model\n",
    "lgs_n11 = linear_model.SGDClassifier(loss='log', penalty='elasticnet', alpha=0.00000000001)\n",
    "lgs_n11.fit(X_train, y_train)\n",
    "\n",
    "lgs_performance_train_n11 = BinaryClassificationPerformance(lgs_n11.predict(X_train), y_train, 'lgs_train_n11')\n",
    "lgs_performance_train_n11.compute_measures()\n",
    "print(lgs_performance_train_n11.performance_measures)"
   ]
  },
  {
   "cell_type": "code",
   "execution_count": 193,
   "metadata": {
    "scrolled": true
   },
   "outputs": [
    {
     "name": "stdout",
     "output_type": "stream",
     "text": [
      "{'Pos': 12951, 'Neg': 114705, 'TP': 11040, 'TN': 111843, 'FP': 2862, 'FN': 1911, 'Accuracy': 0.9626104530926866, 'Precision': 0.7941303409581355, 'Recall': 0.8524438267315265, 'desc': 'lgs_train_n13'}\n"
     ]
    }
   ],
   "source": [
    "from sklearn import linear_model\n",
    "lgs_n13 = linear_model.SGDClassifier(loss='log', penalty='elasticnet', alpha=0.0000000000001)\n",
    "lgs_n13.fit(X_train, y_train)\n",
    "\n",
    "lgs_performance_train_n13 = BinaryClassificationPerformance(lgs_n13.predict(X_train), y_train, 'lgs_train_n13')\n",
    "lgs_performance_train_n13.compute_measures()\n",
    "print(lgs_performance_train_n13.performance_measures)"
   ]
  },
  {
   "cell_type": "markdown",
   "metadata": {},
   "source": [
    "### MODEL: logistic regression, l2 penalty"
   ]
  },
  {
   "cell_type": "code",
   "execution_count": 72,
   "metadata": {
    "scrolled": true
   },
   "outputs": [],
   "source": [
    "# # l2 penalty\n",
    "# from sklearn import linear_model\n",
    "# lgs_n7 = linear_model.SGDClassifier(loss='log', penalty='l2', alpha=0.0000001)\n",
    "# lgs_n7.fit(X_train, y_train)\n",
    "\n",
    "# lgs_performance_train_n7 = BinaryClassificationPerformance(lgs_n7.predict(X_train), y_train, 'lgs_train_n7')\n",
    "# lgs_performance_train_n7.compute_measures()\n",
    "# print(lgs_performance_train_n7.performance_measures)"
   ]
  },
  {
   "cell_type": "code",
   "execution_count": 54,
   "metadata": {
    "scrolled": true
   },
   "outputs": [
    {
     "name": "stdout",
     "output_type": "stream",
     "text": [
      "{'Pos': 12951, 'Neg': 114705, 'TP': 10649, 'TN': 113019, 'FP': 1686, 'FN': 2302, 'Accuracy': 0.968759791940841, 'Precision': 0.8633157681394407, 'Recall': 0.8222531078681183, 'desc': 'lgs_train_n8'}\n"
     ]
    }
   ],
   "source": [
    "from sklearn import linear_model\n",
    "lgs_n8 = linear_model.SGDClassifier(loss='log', penalty='l2', alpha=0.00000001)\n",
    "lgs_n8.fit(X_train, y_train)\n",
    "\n",
    "lgs_performance_train_n8 = BinaryClassificationPerformance(lgs_n8.predict(X_train), y_train, 'lgs_train_n8')\n",
    "lgs_performance_train_n8.compute_measures()\n",
    "print(lgs_performance_train_n8.performance_measures)"
   ]
  },
  {
   "cell_type": "code",
   "execution_count": 55,
   "metadata": {
    "scrolled": true
   },
   "outputs": [
    {
     "name": "stdout",
     "output_type": "stream",
     "text": [
      "{'Pos': 12951, 'Neg': 114705, 'TP': 11136, 'TN': 112250, 'FP': 2455, 'FN': 1815, 'Accuracy': 0.9665507300871091, 'Precision': 0.8193657567507909, 'Recall': 0.8598563817465833, 'desc': 'lgs_train_n9'}\n"
     ]
    }
   ],
   "source": [
    "from sklearn import linear_model\n",
    "lgs_n9 = linear_model.SGDClassifier(loss='log', penalty='l2', alpha=0.000000001)\n",
    "lgs_n9.fit(X_train, y_train)\n",
    "\n",
    "lgs_performance_train_n9 = BinaryClassificationPerformance(lgs_n9.predict(X_train), y_train, 'lgs_train_n9')\n",
    "lgs_performance_train_n9.compute_measures()\n",
    "print(lgs_performance_train_n9.performance_measures)"
   ]
  },
  {
   "cell_type": "code",
   "execution_count": 56,
   "metadata": {
    "scrolled": true
   },
   "outputs": [
    {
     "name": "stdout",
     "output_type": "stream",
     "text": [
      "{'Pos': 12951, 'Neg': 114705, 'TP': 10581, 'TN': 113044, 'FP': 1661, 'FN': 2370, 'Accuracy': 0.9684229491759102, 'Precision': 0.8643195556281653, 'Recall': 0.8170025480657864, 'desc': 'lgs_train_n10'}\n"
     ]
    }
   ],
   "source": [
    "from sklearn import linear_model\n",
    "lgs_n10 = linear_model.SGDClassifier(loss='log', penalty='l2', alpha=0.0000000001)\n",
    "lgs_n10.fit(X_train, y_train)\n",
    "\n",
    "lgs_performance_train_n10 = BinaryClassificationPerformance(lgs_n10.predict(X_train), y_train, 'lgs_train_n10')\n",
    "lgs_performance_train_n10.compute_measures()\n",
    "print(lgs_performance_train_n10.performance_measures)"
   ]
  },
  {
   "cell_type": "code",
   "execution_count": 57,
   "metadata": {
    "scrolled": true
   },
   "outputs": [
    {
     "name": "stdout",
     "output_type": "stream",
     "text": [
      "{'Pos': 3274, 'Neg': 28641, 'TP': 2388, 'TN': 27553, 'FP': 1088, 'FN': 886, 'Accuracy': 0.938148206172646, 'Precision': 0.6869965477560415, 'Recall': 0.7293830177153329, 'desc': 'lgs_test_n7'}\n",
      "False Positive Rate:\n",
      "0.037987500436437276\n",
      "True Positive Rate:\n",
      "0.7293830177153329\n"
     ]
    }
   ],
   "source": [
    "# quick test\n",
    "lgs_performance_test_n7 = BinaryClassificationPerformance(lgs_n7.predict(X_test), y_test, 'lgs_test_n7')\n",
    "lgs_performance_test_n7.compute_measures()\n",
    "print(lgs_performance_test_n7.performance_measures)\n",
    "print(\"False Positive Rate:\")\n",
    "print(lgs_performance_test_n7.performance_measures['FP'] / lgs_performance_test_n7.performance_measures['Neg'])\n",
    "print(\"True Positive Rate:\")\n",
    "print(lgs_performance_test_n7.performance_measures['TP'] / lgs_performance_test_n7.performance_measures['Pos'])"
   ]
  },
  {
   "cell_type": "code",
   "execution_count": 58,
   "metadata": {
    "scrolled": true
   },
   "outputs": [
    {
     "name": "stdout",
     "output_type": "stream",
     "text": [
      "{'Pos': 3274, 'Neg': 28641, 'TP': 2354, 'TN': 27678, 'FP': 963, 'FN': 920, 'Accuracy': 0.9409995300015667, 'Precision': 0.7096774193548387, 'Recall': 0.7189981673793525, 'desc': 'lgs_test_n8'}\n",
      "False Positive Rate:\n",
      "0.03362312768408924\n",
      "True Positive Rate:\n",
      "0.7189981673793525\n"
     ]
    }
   ],
   "source": [
    "# quick test\n",
    "lgs_performance_test_n8 = BinaryClassificationPerformance(lgs_n8.predict(X_test), y_test, 'lgs_test_n8')\n",
    "lgs_performance_test_n8.compute_measures()\n",
    "print(lgs_performance_test_n8.performance_measures)\n",
    "print(\"False Positive Rate:\")\n",
    "print(lgs_performance_test_n8.performance_measures['FP'] / lgs_performance_test_n8.performance_measures['Neg'])\n",
    "print(\"True Positive Rate:\")\n",
    "print(lgs_performance_test_n8.performance_measures['TP'] / lgs_performance_test_n8.performance_measures['Pos'])"
   ]
  },
  {
   "cell_type": "code",
   "execution_count": 59,
   "metadata": {
    "scrolled": true
   },
   "outputs": [
    {
     "name": "stdout",
     "output_type": "stream",
     "text": [
      "{'Pos': 3274, 'Neg': 28641, 'TP': 2405, 'TN': 27432, 'FP': 1209, 'FN': 869, 'Accuracy': 0.9348895503681655, 'Precision': 0.6654676258992805, 'Recall': 0.7345754428833231, 'desc': 'lgs_test_n9'}\n",
      "False Positive Rate:\n",
      "0.042212213260710174\n",
      "True Positive Rate:\n",
      "0.7345754428833231\n"
     ]
    }
   ],
   "source": [
    "# quick test\n",
    "lgs_performance_test_n9 = BinaryClassificationPerformance(lgs_n9.predict(X_test), y_test, 'lgs_test_n9')\n",
    "lgs_performance_test_n9.compute_measures()\n",
    "print(lgs_performance_test_n9.performance_measures)\n",
    "print(\"False Positive Rate:\")\n",
    "print(lgs_performance_test_n9.performance_measures['FP'] / lgs_performance_test_n9.performance_measures['Neg'])\n",
    "print(\"True Positive Rate:\")\n",
    "print(lgs_performance_test_n9.performance_measures['TP'] / lgs_performance_test_n9.performance_measures['Pos'])"
   ]
  },
  {
   "cell_type": "code",
   "execution_count": 60,
   "metadata": {
    "scrolled": true
   },
   "outputs": [
    {
     "name": "stdout",
     "output_type": "stream",
     "text": [
      "{'Pos': 3274, 'Neg': 28641, 'TP': 2325, 'TN': 27755, 'FP': 886, 'FN': 949, 'Accuracy': 0.9425035249882501, 'Precision': 0.7240734973528495, 'Recall': 0.7101405009163103, 'desc': 'lgs_test_n10'}\n",
      "False Positive Rate:\n",
      "0.030934674068642854\n",
      "True Positive Rate:\n",
      "0.7101405009163103\n"
     ]
    }
   ],
   "source": [
    "# quick test\n",
    "lgs_performance_test_n10 = BinaryClassificationPerformance(lgs_n10.predict(X_test), y_test, 'lgs_test_n10')\n",
    "lgs_performance_test_n10.compute_measures()\n",
    "print(lgs_performance_test_n10.performance_measures)\n",
    "print(\"False Positive Rate:\")\n",
    "print(lgs_performance_test_n10.performance_measures['FP'] / lgs_performance_test_n10.performance_measures['Neg'])\n",
    "print(\"True Positive Rate:\")\n",
    "print(lgs_performance_test_n10.performance_measures['TP'] / lgs_performance_test_n10.performance_measures['Pos'])"
   ]
  },
  {
   "cell_type": "markdown",
   "metadata": {},
   "source": [
    "### MODEL: Naive Bayes"
   ]
  },
  {
   "cell_type": "code",
   "execution_count": 67,
   "metadata": {
    "scrolled": true
   },
   "outputs": [
    {
     "ename": "ValueError",
     "evalue": "Negative values in data passed to MultinomialNB (input X)",
     "output_type": "error",
     "traceback": [
      "\u001b[1;31m---------------------------------------------------------------------------\u001b[0m",
      "\u001b[1;31mValueError\u001b[0m                                Traceback (most recent call last)",
      "\u001b[1;32m<ipython-input-67-1935235cd253>\u001b[0m in \u001b[0;36m<module>\u001b[1;34m\u001b[0m\n\u001b[0;32m      1\u001b[0m \u001b[1;32mfrom\u001b[0m \u001b[0msklearn\u001b[0m\u001b[1;33m.\u001b[0m\u001b[0mnaive_bayes\u001b[0m \u001b[1;32mimport\u001b[0m \u001b[0mMultinomialNB\u001b[0m\u001b[1;33m\u001b[0m\u001b[1;33m\u001b[0m\u001b[0m\n\u001b[0;32m      2\u001b[0m \u001b[0mnbs\u001b[0m \u001b[1;33m=\u001b[0m \u001b[0mMultinomialNB\u001b[0m\u001b[1;33m(\u001b[0m\u001b[1;33m)\u001b[0m\u001b[1;33m\u001b[0m\u001b[1;33m\u001b[0m\u001b[0m\n\u001b[1;32m----> 3\u001b[1;33m \u001b[0mnbs\u001b[0m\u001b[1;33m.\u001b[0m\u001b[0mfit\u001b[0m\u001b[1;33m(\u001b[0m\u001b[0mX_train\u001b[0m\u001b[1;33m,\u001b[0m \u001b[0my_train\u001b[0m\u001b[1;33m)\u001b[0m\u001b[1;33m\u001b[0m\u001b[1;33m\u001b[0m\u001b[0m\n\u001b[0m\u001b[0;32m      4\u001b[0m \u001b[1;33m\u001b[0m\u001b[0m\n\u001b[0;32m      5\u001b[0m \u001b[0mnbs_performance_train\u001b[0m \u001b[1;33m=\u001b[0m \u001b[0mBinaryClassificationPerformance\u001b[0m\u001b[1;33m(\u001b[0m\u001b[0mnbs\u001b[0m\u001b[1;33m.\u001b[0m\u001b[0mpredict\u001b[0m\u001b[1;33m(\u001b[0m\u001b[0mX_train\u001b[0m\u001b[1;33m)\u001b[0m\u001b[1;33m,\u001b[0m \u001b[0my_train\u001b[0m\u001b[1;33m,\u001b[0m \u001b[1;34m'nbs_train'\u001b[0m\u001b[1;33m)\u001b[0m\u001b[1;33m\u001b[0m\u001b[1;33m\u001b[0m\u001b[0m\n",
      "\u001b[1;32mC:\\ProgramData\\Anaconda3\\lib\\site-packages\\sklearn\\naive_bayes.py\u001b[0m in \u001b[0;36mfit\u001b[1;34m(self, X, y, sample_weight)\u001b[0m\n\u001b[0;32m    639\u001b[0m \u001b[1;33m\u001b[0m\u001b[0m\n\u001b[0;32m    640\u001b[0m         \u001b[0mself\u001b[0m\u001b[1;33m.\u001b[0m\u001b[0m_init_counters\u001b[0m\u001b[1;33m(\u001b[0m\u001b[0mn_effective_classes\u001b[0m\u001b[1;33m,\u001b[0m \u001b[0mn_features\u001b[0m\u001b[1;33m)\u001b[0m\u001b[1;33m\u001b[0m\u001b[1;33m\u001b[0m\u001b[0m\n\u001b[1;32m--> 641\u001b[1;33m         \u001b[0mself\u001b[0m\u001b[1;33m.\u001b[0m\u001b[0m_count\u001b[0m\u001b[1;33m(\u001b[0m\u001b[0mX\u001b[0m\u001b[1;33m,\u001b[0m \u001b[0mY\u001b[0m\u001b[1;33m)\u001b[0m\u001b[1;33m\u001b[0m\u001b[1;33m\u001b[0m\u001b[0m\n\u001b[0m\u001b[0;32m    642\u001b[0m         \u001b[0malpha\u001b[0m \u001b[1;33m=\u001b[0m \u001b[0mself\u001b[0m\u001b[1;33m.\u001b[0m\u001b[0m_check_alpha\u001b[0m\u001b[1;33m(\u001b[0m\u001b[1;33m)\u001b[0m\u001b[1;33m\u001b[0m\u001b[1;33m\u001b[0m\u001b[0m\n\u001b[0;32m    643\u001b[0m         \u001b[0mself\u001b[0m\u001b[1;33m.\u001b[0m\u001b[0m_update_feature_log_prob\u001b[0m\u001b[1;33m(\u001b[0m\u001b[0malpha\u001b[0m\u001b[1;33m)\u001b[0m\u001b[1;33m\u001b[0m\u001b[1;33m\u001b[0m\u001b[0m\n",
      "\u001b[1;32mC:\\ProgramData\\Anaconda3\\lib\\site-packages\\sklearn\\naive_bayes.py\u001b[0m in \u001b[0;36m_count\u001b[1;34m(self, X, Y)\u001b[0m\n\u001b[0;32m    761\u001b[0m     \u001b[1;32mdef\u001b[0m \u001b[0m_count\u001b[0m\u001b[1;33m(\u001b[0m\u001b[0mself\u001b[0m\u001b[1;33m,\u001b[0m \u001b[0mX\u001b[0m\u001b[1;33m,\u001b[0m \u001b[0mY\u001b[0m\u001b[1;33m)\u001b[0m\u001b[1;33m:\u001b[0m\u001b[1;33m\u001b[0m\u001b[1;33m\u001b[0m\u001b[0m\n\u001b[0;32m    762\u001b[0m         \u001b[1;34m\"\"\"Count and smooth feature occurrences.\"\"\"\u001b[0m\u001b[1;33m\u001b[0m\u001b[1;33m\u001b[0m\u001b[0m\n\u001b[1;32m--> 763\u001b[1;33m         \u001b[0mcheck_non_negative\u001b[0m\u001b[1;33m(\u001b[0m\u001b[0mX\u001b[0m\u001b[1;33m,\u001b[0m \u001b[1;34m\"MultinomialNB (input X)\"\u001b[0m\u001b[1;33m)\u001b[0m\u001b[1;33m\u001b[0m\u001b[1;33m\u001b[0m\u001b[0m\n\u001b[0m\u001b[0;32m    764\u001b[0m         \u001b[0mself\u001b[0m\u001b[1;33m.\u001b[0m\u001b[0mfeature_count_\u001b[0m \u001b[1;33m+=\u001b[0m \u001b[0msafe_sparse_dot\u001b[0m\u001b[1;33m(\u001b[0m\u001b[0mY\u001b[0m\u001b[1;33m.\u001b[0m\u001b[0mT\u001b[0m\u001b[1;33m,\u001b[0m \u001b[0mX\u001b[0m\u001b[1;33m)\u001b[0m\u001b[1;33m\u001b[0m\u001b[1;33m\u001b[0m\u001b[0m\n\u001b[0;32m    765\u001b[0m         \u001b[0mself\u001b[0m\u001b[1;33m.\u001b[0m\u001b[0mclass_count_\u001b[0m \u001b[1;33m+=\u001b[0m \u001b[0mY\u001b[0m\u001b[1;33m.\u001b[0m\u001b[0msum\u001b[0m\u001b[1;33m(\u001b[0m\u001b[0maxis\u001b[0m\u001b[1;33m=\u001b[0m\u001b[1;36m0\u001b[0m\u001b[1;33m)\u001b[0m\u001b[1;33m\u001b[0m\u001b[1;33m\u001b[0m\u001b[0m\n",
      "\u001b[1;32mC:\\ProgramData\\Anaconda3\\lib\\site-packages\\sklearn\\utils\\validation.py\u001b[0m in \u001b[0;36mcheck_non_negative\u001b[1;34m(X, whom)\u001b[0m\n\u001b[0;32m   1045\u001b[0m \u001b[1;33m\u001b[0m\u001b[0m\n\u001b[0;32m   1046\u001b[0m     \u001b[1;32mif\u001b[0m \u001b[0mX_min\u001b[0m \u001b[1;33m<\u001b[0m \u001b[1;36m0\u001b[0m\u001b[1;33m:\u001b[0m\u001b[1;33m\u001b[0m\u001b[1;33m\u001b[0m\u001b[0m\n\u001b[1;32m-> 1047\u001b[1;33m         \u001b[1;32mraise\u001b[0m \u001b[0mValueError\u001b[0m\u001b[1;33m(\u001b[0m\u001b[1;34m\"Negative values in data passed to %s\"\u001b[0m \u001b[1;33m%\u001b[0m \u001b[0mwhom\u001b[0m\u001b[1;33m)\u001b[0m\u001b[1;33m\u001b[0m\u001b[1;33m\u001b[0m\u001b[0m\n\u001b[0m\u001b[0;32m   1048\u001b[0m \u001b[1;33m\u001b[0m\u001b[0m\n\u001b[0;32m   1049\u001b[0m \u001b[1;33m\u001b[0m\u001b[0m\n",
      "\u001b[1;31mValueError\u001b[0m: Negative values in data passed to MultinomialNB (input X)"
     ]
    }
   ],
   "source": [
    "from sklearn.naive_bayes import MultinomialNB\n",
    "nbs = MultinomialNB()\n",
    "nbs.fit(X_train, y_train)\n",
    "\n",
    "nbs_performance_train = BinaryClassificationPerformance(nbs.predict(X_train), y_train, 'nbs_train')\n",
    "nbs_performance_train.compute_measures()\n",
    "print(nbs_performance_train.performance_measures)\n",
    "print(\"False Positive Rate:\")\n",
    "print(nbs_performance_train.performance_measures['FP'] / nbs_performance_train.performance_measures['Neg'])\n",
    "print(\"True Positive Rate:\")\n",
    "print(nbs_performance_train.performance_measures['TP'] / nbs_performance_train.performance_measures['Pos'])"
   ]
  },
  {
   "cell_type": "code",
   "execution_count": 54,
   "metadata": {
    "scrolled": true
   },
   "outputs": [
    {
     "ename": "TypeError",
     "evalue": "A sparse matrix was passed, but dense data is required. Use X.toarray() to convert to a dense numpy array.",
     "output_type": "error",
     "traceback": [
      "\u001b[1;31m---------------------------------------------------------------------------\u001b[0m",
      "\u001b[1;31mTypeError\u001b[0m                                 Traceback (most recent call last)",
      "\u001b[1;32m<ipython-input-54-aedb9918b11d>\u001b[0m in \u001b[0;36m<module>\u001b[1;34m\u001b[0m\n\u001b[0;32m      1\u001b[0m \u001b[1;32mfrom\u001b[0m \u001b[0msklearn\u001b[0m\u001b[1;33m.\u001b[0m\u001b[0mnaive_bayes\u001b[0m \u001b[1;32mimport\u001b[0m \u001b[0mGaussianNB\u001b[0m\u001b[1;33m\u001b[0m\u001b[1;33m\u001b[0m\u001b[0m\n\u001b[0;32m      2\u001b[0m \u001b[0mgnb\u001b[0m \u001b[1;33m=\u001b[0m \u001b[0mGaussianNB\u001b[0m\u001b[1;33m(\u001b[0m\u001b[1;33m)\u001b[0m\u001b[1;33m\u001b[0m\u001b[1;33m\u001b[0m\u001b[0m\n\u001b[1;32m----> 3\u001b[1;33m \u001b[0mgnb\u001b[0m\u001b[1;33m.\u001b[0m\u001b[0mfit\u001b[0m\u001b[1;33m(\u001b[0m\u001b[0mX_train\u001b[0m\u001b[1;33m,\u001b[0m \u001b[0my_train\u001b[0m\u001b[1;33m)\u001b[0m\u001b[1;33m\u001b[0m\u001b[1;33m\u001b[0m\u001b[0m\n\u001b[0m\u001b[0;32m      4\u001b[0m \u001b[1;33m\u001b[0m\u001b[0m\n\u001b[0;32m      5\u001b[0m \u001b[0mgnb_performance_train\u001b[0m \u001b[1;33m=\u001b[0m \u001b[0mBinaryClassificationPerformance\u001b[0m\u001b[1;33m(\u001b[0m\u001b[0mgnb\u001b[0m\u001b[1;33m.\u001b[0m\u001b[0mpredict\u001b[0m\u001b[1;33m(\u001b[0m\u001b[0mX_train\u001b[0m\u001b[1;33m)\u001b[0m\u001b[1;33m,\u001b[0m \u001b[0my_train\u001b[0m\u001b[1;33m,\u001b[0m \u001b[1;34m'gnb_train'\u001b[0m\u001b[1;33m)\u001b[0m\u001b[1;33m\u001b[0m\u001b[1;33m\u001b[0m\u001b[0m\n",
      "\u001b[1;32mC:\\ProgramData\\Anaconda3\\lib\\site-packages\\sklearn\\naive_bayes.py\u001b[0m in \u001b[0;36mfit\u001b[1;34m(self, X, y, sample_weight)\u001b[0m\n\u001b[0;32m    208\u001b[0m         \u001b[0mself\u001b[0m \u001b[1;33m:\u001b[0m \u001b[0mobject\u001b[0m\u001b[1;33m\u001b[0m\u001b[1;33m\u001b[0m\u001b[0m\n\u001b[0;32m    209\u001b[0m         \"\"\"\n\u001b[1;32m--> 210\u001b[1;33m         \u001b[0mX\u001b[0m\u001b[1;33m,\u001b[0m \u001b[0my\u001b[0m \u001b[1;33m=\u001b[0m \u001b[0mself\u001b[0m\u001b[1;33m.\u001b[0m\u001b[0m_validate_data\u001b[0m\u001b[1;33m(\u001b[0m\u001b[0mX\u001b[0m\u001b[1;33m,\u001b[0m \u001b[0my\u001b[0m\u001b[1;33m)\u001b[0m\u001b[1;33m\u001b[0m\u001b[1;33m\u001b[0m\u001b[0m\n\u001b[0m\u001b[0;32m    211\u001b[0m         \u001b[0my\u001b[0m \u001b[1;33m=\u001b[0m \u001b[0mcolumn_or_1d\u001b[0m\u001b[1;33m(\u001b[0m\u001b[0my\u001b[0m\u001b[1;33m,\u001b[0m \u001b[0mwarn\u001b[0m\u001b[1;33m=\u001b[0m\u001b[1;32mTrue\u001b[0m\u001b[1;33m)\u001b[0m\u001b[1;33m\u001b[0m\u001b[1;33m\u001b[0m\u001b[0m\n\u001b[0;32m    212\u001b[0m         return self._partial_fit(X, y, np.unique(y), _refit=True,\n",
      "\u001b[1;32mC:\\ProgramData\\Anaconda3\\lib\\site-packages\\sklearn\\base.py\u001b[0m in \u001b[0;36m_validate_data\u001b[1;34m(self, X, y, reset, validate_separately, **check_params)\u001b[0m\n\u001b[0;32m    430\u001b[0m                 \u001b[0my\u001b[0m \u001b[1;33m=\u001b[0m \u001b[0mcheck_array\u001b[0m\u001b[1;33m(\u001b[0m\u001b[0my\u001b[0m\u001b[1;33m,\u001b[0m \u001b[1;33m**\u001b[0m\u001b[0mcheck_y_params\u001b[0m\u001b[1;33m)\u001b[0m\u001b[1;33m\u001b[0m\u001b[1;33m\u001b[0m\u001b[0m\n\u001b[0;32m    431\u001b[0m             \u001b[1;32melse\u001b[0m\u001b[1;33m:\u001b[0m\u001b[1;33m\u001b[0m\u001b[1;33m\u001b[0m\u001b[0m\n\u001b[1;32m--> 432\u001b[1;33m                 \u001b[0mX\u001b[0m\u001b[1;33m,\u001b[0m \u001b[0my\u001b[0m \u001b[1;33m=\u001b[0m \u001b[0mcheck_X_y\u001b[0m\u001b[1;33m(\u001b[0m\u001b[0mX\u001b[0m\u001b[1;33m,\u001b[0m \u001b[0my\u001b[0m\u001b[1;33m,\u001b[0m \u001b[1;33m**\u001b[0m\u001b[0mcheck_params\u001b[0m\u001b[1;33m)\u001b[0m\u001b[1;33m\u001b[0m\u001b[1;33m\u001b[0m\u001b[0m\n\u001b[0m\u001b[0;32m    433\u001b[0m             \u001b[0mout\u001b[0m \u001b[1;33m=\u001b[0m \u001b[0mX\u001b[0m\u001b[1;33m,\u001b[0m \u001b[0my\u001b[0m\u001b[1;33m\u001b[0m\u001b[1;33m\u001b[0m\u001b[0m\n\u001b[0;32m    434\u001b[0m \u001b[1;33m\u001b[0m\u001b[0m\n",
      "\u001b[1;32mC:\\ProgramData\\Anaconda3\\lib\\site-packages\\sklearn\\utils\\validation.py\u001b[0m in \u001b[0;36minner_f\u001b[1;34m(*args, **kwargs)\u001b[0m\n\u001b[0;32m     71\u001b[0m                           FutureWarning)\n\u001b[0;32m     72\u001b[0m         \u001b[0mkwargs\u001b[0m\u001b[1;33m.\u001b[0m\u001b[0mupdate\u001b[0m\u001b[1;33m(\u001b[0m\u001b[1;33m{\u001b[0m\u001b[0mk\u001b[0m\u001b[1;33m:\u001b[0m \u001b[0marg\u001b[0m \u001b[1;32mfor\u001b[0m \u001b[0mk\u001b[0m\u001b[1;33m,\u001b[0m \u001b[0marg\u001b[0m \u001b[1;32min\u001b[0m \u001b[0mzip\u001b[0m\u001b[1;33m(\u001b[0m\u001b[0msig\u001b[0m\u001b[1;33m.\u001b[0m\u001b[0mparameters\u001b[0m\u001b[1;33m,\u001b[0m \u001b[0margs\u001b[0m\u001b[1;33m)\u001b[0m\u001b[1;33m}\u001b[0m\u001b[1;33m)\u001b[0m\u001b[1;33m\u001b[0m\u001b[1;33m\u001b[0m\u001b[0m\n\u001b[1;32m---> 73\u001b[1;33m         \u001b[1;32mreturn\u001b[0m \u001b[0mf\u001b[0m\u001b[1;33m(\u001b[0m\u001b[1;33m**\u001b[0m\u001b[0mkwargs\u001b[0m\u001b[1;33m)\u001b[0m\u001b[1;33m\u001b[0m\u001b[1;33m\u001b[0m\u001b[0m\n\u001b[0m\u001b[0;32m     74\u001b[0m     \u001b[1;32mreturn\u001b[0m \u001b[0minner_f\u001b[0m\u001b[1;33m\u001b[0m\u001b[1;33m\u001b[0m\u001b[0m\n\u001b[0;32m     75\u001b[0m \u001b[1;33m\u001b[0m\u001b[0m\n",
      "\u001b[1;32mC:\\ProgramData\\Anaconda3\\lib\\site-packages\\sklearn\\utils\\validation.py\u001b[0m in \u001b[0;36mcheck_X_y\u001b[1;34m(X, y, accept_sparse, accept_large_sparse, dtype, order, copy, force_all_finite, ensure_2d, allow_nd, multi_output, ensure_min_samples, ensure_min_features, y_numeric, estimator)\u001b[0m\n\u001b[0;32m    794\u001b[0m         \u001b[1;32mraise\u001b[0m \u001b[0mValueError\u001b[0m\u001b[1;33m(\u001b[0m\u001b[1;34m\"y cannot be None\"\u001b[0m\u001b[1;33m)\u001b[0m\u001b[1;33m\u001b[0m\u001b[1;33m\u001b[0m\u001b[0m\n\u001b[0;32m    795\u001b[0m \u001b[1;33m\u001b[0m\u001b[0m\n\u001b[1;32m--> 796\u001b[1;33m     X = check_array(X, accept_sparse=accept_sparse,\n\u001b[0m\u001b[0;32m    797\u001b[0m                     \u001b[0maccept_large_sparse\u001b[0m\u001b[1;33m=\u001b[0m\u001b[0maccept_large_sparse\u001b[0m\u001b[1;33m,\u001b[0m\u001b[1;33m\u001b[0m\u001b[1;33m\u001b[0m\u001b[0m\n\u001b[0;32m    798\u001b[0m                     \u001b[0mdtype\u001b[0m\u001b[1;33m=\u001b[0m\u001b[0mdtype\u001b[0m\u001b[1;33m,\u001b[0m \u001b[0morder\u001b[0m\u001b[1;33m=\u001b[0m\u001b[0morder\u001b[0m\u001b[1;33m,\u001b[0m \u001b[0mcopy\u001b[0m\u001b[1;33m=\u001b[0m\u001b[0mcopy\u001b[0m\u001b[1;33m,\u001b[0m\u001b[1;33m\u001b[0m\u001b[1;33m\u001b[0m\u001b[0m\n",
      "\u001b[1;32mC:\\ProgramData\\Anaconda3\\lib\\site-packages\\sklearn\\utils\\validation.py\u001b[0m in \u001b[0;36minner_f\u001b[1;34m(*args, **kwargs)\u001b[0m\n\u001b[0;32m     71\u001b[0m                           FutureWarning)\n\u001b[0;32m     72\u001b[0m         \u001b[0mkwargs\u001b[0m\u001b[1;33m.\u001b[0m\u001b[0mupdate\u001b[0m\u001b[1;33m(\u001b[0m\u001b[1;33m{\u001b[0m\u001b[0mk\u001b[0m\u001b[1;33m:\u001b[0m \u001b[0marg\u001b[0m \u001b[1;32mfor\u001b[0m \u001b[0mk\u001b[0m\u001b[1;33m,\u001b[0m \u001b[0marg\u001b[0m \u001b[1;32min\u001b[0m \u001b[0mzip\u001b[0m\u001b[1;33m(\u001b[0m\u001b[0msig\u001b[0m\u001b[1;33m.\u001b[0m\u001b[0mparameters\u001b[0m\u001b[1;33m,\u001b[0m \u001b[0margs\u001b[0m\u001b[1;33m)\u001b[0m\u001b[1;33m}\u001b[0m\u001b[1;33m)\u001b[0m\u001b[1;33m\u001b[0m\u001b[1;33m\u001b[0m\u001b[0m\n\u001b[1;32m---> 73\u001b[1;33m         \u001b[1;32mreturn\u001b[0m \u001b[0mf\u001b[0m\u001b[1;33m(\u001b[0m\u001b[1;33m**\u001b[0m\u001b[0mkwargs\u001b[0m\u001b[1;33m)\u001b[0m\u001b[1;33m\u001b[0m\u001b[1;33m\u001b[0m\u001b[0m\n\u001b[0m\u001b[0;32m     74\u001b[0m     \u001b[1;32mreturn\u001b[0m \u001b[0minner_f\u001b[0m\u001b[1;33m\u001b[0m\u001b[1;33m\u001b[0m\u001b[0m\n\u001b[0;32m     75\u001b[0m \u001b[1;33m\u001b[0m\u001b[0m\n",
      "\u001b[1;32mC:\\ProgramData\\Anaconda3\\lib\\site-packages\\sklearn\\utils\\validation.py\u001b[0m in \u001b[0;36mcheck_array\u001b[1;34m(array, accept_sparse, accept_large_sparse, dtype, order, copy, force_all_finite, ensure_2d, allow_nd, ensure_min_samples, ensure_min_features, estimator)\u001b[0m\n\u001b[0;32m    574\u001b[0m     \u001b[1;32mif\u001b[0m \u001b[0msp\u001b[0m\u001b[1;33m.\u001b[0m\u001b[0missparse\u001b[0m\u001b[1;33m(\u001b[0m\u001b[0marray\u001b[0m\u001b[1;33m)\u001b[0m\u001b[1;33m:\u001b[0m\u001b[1;33m\u001b[0m\u001b[1;33m\u001b[0m\u001b[0m\n\u001b[0;32m    575\u001b[0m         \u001b[0m_ensure_no_complex_data\u001b[0m\u001b[1;33m(\u001b[0m\u001b[0marray\u001b[0m\u001b[1;33m)\u001b[0m\u001b[1;33m\u001b[0m\u001b[1;33m\u001b[0m\u001b[0m\n\u001b[1;32m--> 576\u001b[1;33m         array = _ensure_sparse_format(array, accept_sparse=accept_sparse,\n\u001b[0m\u001b[0;32m    577\u001b[0m                                       \u001b[0mdtype\u001b[0m\u001b[1;33m=\u001b[0m\u001b[0mdtype\u001b[0m\u001b[1;33m,\u001b[0m \u001b[0mcopy\u001b[0m\u001b[1;33m=\u001b[0m\u001b[0mcopy\u001b[0m\u001b[1;33m,\u001b[0m\u001b[1;33m\u001b[0m\u001b[1;33m\u001b[0m\u001b[0m\n\u001b[0;32m    578\u001b[0m                                       \u001b[0mforce_all_finite\u001b[0m\u001b[1;33m=\u001b[0m\u001b[0mforce_all_finite\u001b[0m\u001b[1;33m,\u001b[0m\u001b[1;33m\u001b[0m\u001b[1;33m\u001b[0m\u001b[0m\n",
      "\u001b[1;32mC:\\ProgramData\\Anaconda3\\lib\\site-packages\\sklearn\\utils\\validation.py\u001b[0m in \u001b[0;36m_ensure_sparse_format\u001b[1;34m(spmatrix, accept_sparse, dtype, copy, force_all_finite, accept_large_sparse)\u001b[0m\n\u001b[0;32m    352\u001b[0m \u001b[1;33m\u001b[0m\u001b[0m\n\u001b[0;32m    353\u001b[0m     \u001b[1;32mif\u001b[0m \u001b[0maccept_sparse\u001b[0m \u001b[1;32mis\u001b[0m \u001b[1;32mFalse\u001b[0m\u001b[1;33m:\u001b[0m\u001b[1;33m\u001b[0m\u001b[1;33m\u001b[0m\u001b[0m\n\u001b[1;32m--> 354\u001b[1;33m         raise TypeError('A sparse matrix was passed, but dense '\n\u001b[0m\u001b[0;32m    355\u001b[0m                         \u001b[1;34m'data is required. Use X.toarray() to '\u001b[0m\u001b[1;33m\u001b[0m\u001b[1;33m\u001b[0m\u001b[0m\n\u001b[0;32m    356\u001b[0m                         'convert to a dense numpy array.')\n",
      "\u001b[1;31mTypeError\u001b[0m: A sparse matrix was passed, but dense data is required. Use X.toarray() to convert to a dense numpy array."
     ]
    }
   ],
   "source": [
    "from sklearn.naive_bayes import GaussianNB\n",
    "gnb = GaussianNB()\n",
    "gnb.fit(X_train, y_train)\n",
    "\n",
    "gnb_performance_train = BinaryClassificationPerformance(gnb.predict(X_train), y_train, 'gnb_train')\n",
    "gnb_performance_train.compute_measures()\n",
    "print(gnb_performance_train.performance_measures)"
   ]
  },
  {
   "cell_type": "code",
   "execution_count": 48,
   "metadata": {
    "scrolled": true
   },
   "outputs": [
    {
     "ename": "ValueError",
     "evalue": "Negative values in data passed to ComplementNB (input X)",
     "output_type": "error",
     "traceback": [
      "\u001b[1;31m---------------------------------------------------------------------------\u001b[0m",
      "\u001b[1;31mValueError\u001b[0m                                Traceback (most recent call last)",
      "\u001b[1;32m<ipython-input-48-92fcb90562f9>\u001b[0m in \u001b[0;36m<module>\u001b[1;34m\u001b[0m\n\u001b[0;32m      2\u001b[0m \u001b[1;32mfrom\u001b[0m \u001b[0msklearn\u001b[0m\u001b[1;33m.\u001b[0m\u001b[0mnaive_bayes\u001b[0m \u001b[1;32mimport\u001b[0m \u001b[0mComplementNB\u001b[0m\u001b[1;33m\u001b[0m\u001b[1;33m\u001b[0m\u001b[0m\n\u001b[0;32m      3\u001b[0m \u001b[0mcnb\u001b[0m \u001b[1;33m=\u001b[0m \u001b[0mComplementNB\u001b[0m\u001b[1;33m(\u001b[0m\u001b[0malpha\u001b[0m\u001b[1;33m=\u001b[0m\u001b[1;36m1\u001b[0m\u001b[1;33m,\u001b[0m \u001b[0mnorm\u001b[0m\u001b[1;33m=\u001b[0m\u001b[1;32mTrue\u001b[0m\u001b[1;33m)\u001b[0m\u001b[1;33m\u001b[0m\u001b[1;33m\u001b[0m\u001b[0m\n\u001b[1;32m----> 4\u001b[1;33m \u001b[0mcnb\u001b[0m\u001b[1;33m.\u001b[0m\u001b[0mfit\u001b[0m\u001b[1;33m(\u001b[0m\u001b[0mX_train\u001b[0m\u001b[1;33m,\u001b[0m \u001b[0my_train\u001b[0m\u001b[1;33m)\u001b[0m\u001b[1;33m\u001b[0m\u001b[1;33m\u001b[0m\u001b[0m\n\u001b[0m\u001b[0;32m      5\u001b[0m \u001b[1;33m\u001b[0m\u001b[0m\n\u001b[0;32m      6\u001b[0m \u001b[0mcnb_performance_train\u001b[0m \u001b[1;33m=\u001b[0m \u001b[0mBinaryClassificationPerformance\u001b[0m\u001b[1;33m(\u001b[0m\u001b[0mcnb\u001b[0m\u001b[1;33m.\u001b[0m\u001b[0mpredict\u001b[0m\u001b[1;33m(\u001b[0m\u001b[0mX_train\u001b[0m\u001b[1;33m)\u001b[0m\u001b[1;33m,\u001b[0m \u001b[0my_train\u001b[0m\u001b[1;33m,\u001b[0m \u001b[1;34m'cnb_train'\u001b[0m\u001b[1;33m)\u001b[0m\u001b[1;33m\u001b[0m\u001b[1;33m\u001b[0m\u001b[0m\n",
      "\u001b[1;32mC:\\ProgramData\\Anaconda3\\lib\\site-packages\\sklearn\\naive_bayes.py\u001b[0m in \u001b[0;36mfit\u001b[1;34m(self, X, y, sample_weight)\u001b[0m\n\u001b[0;32m    639\u001b[0m \u001b[1;33m\u001b[0m\u001b[0m\n\u001b[0;32m    640\u001b[0m         \u001b[0mself\u001b[0m\u001b[1;33m.\u001b[0m\u001b[0m_init_counters\u001b[0m\u001b[1;33m(\u001b[0m\u001b[0mn_effective_classes\u001b[0m\u001b[1;33m,\u001b[0m \u001b[0mn_features\u001b[0m\u001b[1;33m)\u001b[0m\u001b[1;33m\u001b[0m\u001b[1;33m\u001b[0m\u001b[0m\n\u001b[1;32m--> 641\u001b[1;33m         \u001b[0mself\u001b[0m\u001b[1;33m.\u001b[0m\u001b[0m_count\u001b[0m\u001b[1;33m(\u001b[0m\u001b[0mX\u001b[0m\u001b[1;33m,\u001b[0m \u001b[0mY\u001b[0m\u001b[1;33m)\u001b[0m\u001b[1;33m\u001b[0m\u001b[1;33m\u001b[0m\u001b[0m\n\u001b[0m\u001b[0;32m    642\u001b[0m         \u001b[0malpha\u001b[0m \u001b[1;33m=\u001b[0m \u001b[0mself\u001b[0m\u001b[1;33m.\u001b[0m\u001b[0m_check_alpha\u001b[0m\u001b[1;33m(\u001b[0m\u001b[1;33m)\u001b[0m\u001b[1;33m\u001b[0m\u001b[1;33m\u001b[0m\u001b[0m\n\u001b[0;32m    643\u001b[0m         \u001b[0mself\u001b[0m\u001b[1;33m.\u001b[0m\u001b[0m_update_feature_log_prob\u001b[0m\u001b[1;33m(\u001b[0m\u001b[0malpha\u001b[0m\u001b[1;33m)\u001b[0m\u001b[1;33m\u001b[0m\u001b[1;33m\u001b[0m\u001b[0m\n",
      "\u001b[1;32mC:\\ProgramData\\Anaconda3\\lib\\site-packages\\sklearn\\naive_bayes.py\u001b[0m in \u001b[0;36m_count\u001b[1;34m(self, X, Y)\u001b[0m\n\u001b[0;32m    868\u001b[0m     \u001b[1;32mdef\u001b[0m \u001b[0m_count\u001b[0m\u001b[1;33m(\u001b[0m\u001b[0mself\u001b[0m\u001b[1;33m,\u001b[0m \u001b[0mX\u001b[0m\u001b[1;33m,\u001b[0m \u001b[0mY\u001b[0m\u001b[1;33m)\u001b[0m\u001b[1;33m:\u001b[0m\u001b[1;33m\u001b[0m\u001b[1;33m\u001b[0m\u001b[0m\n\u001b[0;32m    869\u001b[0m         \u001b[1;34m\"\"\"Count feature occurrences.\"\"\"\u001b[0m\u001b[1;33m\u001b[0m\u001b[1;33m\u001b[0m\u001b[0m\n\u001b[1;32m--> 870\u001b[1;33m         \u001b[0mcheck_non_negative\u001b[0m\u001b[1;33m(\u001b[0m\u001b[0mX\u001b[0m\u001b[1;33m,\u001b[0m \u001b[1;34m\"ComplementNB (input X)\"\u001b[0m\u001b[1;33m)\u001b[0m\u001b[1;33m\u001b[0m\u001b[1;33m\u001b[0m\u001b[0m\n\u001b[0m\u001b[0;32m    871\u001b[0m         \u001b[0mself\u001b[0m\u001b[1;33m.\u001b[0m\u001b[0mfeature_count_\u001b[0m \u001b[1;33m+=\u001b[0m \u001b[0msafe_sparse_dot\u001b[0m\u001b[1;33m(\u001b[0m\u001b[0mY\u001b[0m\u001b[1;33m.\u001b[0m\u001b[0mT\u001b[0m\u001b[1;33m,\u001b[0m \u001b[0mX\u001b[0m\u001b[1;33m)\u001b[0m\u001b[1;33m\u001b[0m\u001b[1;33m\u001b[0m\u001b[0m\n\u001b[0;32m    872\u001b[0m         \u001b[0mself\u001b[0m\u001b[1;33m.\u001b[0m\u001b[0mclass_count_\u001b[0m \u001b[1;33m+=\u001b[0m \u001b[0mY\u001b[0m\u001b[1;33m.\u001b[0m\u001b[0msum\u001b[0m\u001b[1;33m(\u001b[0m\u001b[0maxis\u001b[0m\u001b[1;33m=\u001b[0m\u001b[1;36m0\u001b[0m\u001b[1;33m)\u001b[0m\u001b[1;33m\u001b[0m\u001b[1;33m\u001b[0m\u001b[0m\n",
      "\u001b[1;32mC:\\ProgramData\\Anaconda3\\lib\\site-packages\\sklearn\\utils\\validation.py\u001b[0m in \u001b[0;36mcheck_non_negative\u001b[1;34m(X, whom)\u001b[0m\n\u001b[0;32m   1045\u001b[0m \u001b[1;33m\u001b[0m\u001b[0m\n\u001b[0;32m   1046\u001b[0m     \u001b[1;32mif\u001b[0m \u001b[0mX_min\u001b[0m \u001b[1;33m<\u001b[0m \u001b[1;36m0\u001b[0m\u001b[1;33m:\u001b[0m\u001b[1;33m\u001b[0m\u001b[1;33m\u001b[0m\u001b[0m\n\u001b[1;32m-> 1047\u001b[1;33m         \u001b[1;32mraise\u001b[0m \u001b[0mValueError\u001b[0m\u001b[1;33m(\u001b[0m\u001b[1;34m\"Negative values in data passed to %s\"\u001b[0m \u001b[1;33m%\u001b[0m \u001b[0mwhom\u001b[0m\u001b[1;33m)\u001b[0m\u001b[1;33m\u001b[0m\u001b[1;33m\u001b[0m\u001b[0m\n\u001b[0m\u001b[0;32m   1048\u001b[0m \u001b[1;33m\u001b[0m\u001b[0m\n\u001b[0;32m   1049\u001b[0m \u001b[1;33m\u001b[0m\u001b[0m\n",
      "\u001b[1;31mValueError\u001b[0m: Negative values in data passed to ComplementNB (input X)"
     ]
    }
   ],
   "source": [
    "# Complement Naive Bayes\n",
    "from sklearn.naive_bayes import ComplementNB\n",
    "cnb = ComplementNB(alpha=1, norm=True)\n",
    "cnb.fit(X_train, y_train)\n",
    "\n",
    "cnb_performance_train = BinaryClassificationPerformance(cnb.predict(X_train), y_train, 'cnb_train')\n",
    "cnb_performance_train.compute_measures()\n",
    "print(cnb_performance_train.performance_measures)\n",
    "print(\"False Positive Rate:\")\n",
    "print(cnb_performance_train.performance_measures['FP'] / cnb_performance_train.performance_measures['Neg'])\n",
    "print(\"True Positive Rate:\")\n",
    "print(cnb_performance_train.performance_measures['TP'] / cnb_performance_train.performance_measures['Pos'])"
   ]
  },
  {
   "cell_type": "markdown",
   "metadata": {},
   "source": [
    "### MODEL: Alternative Models"
   ]
  },
  {
   "cell_type": "code",
   "execution_count": 34,
   "metadata": {
    "scrolled": true
   },
   "outputs": [
    {
     "ename": "KeyboardInterrupt",
     "evalue": "",
     "output_type": "error",
     "traceback": [
      "\u001b[1;31m---------------------------------------------------------------------------\u001b[0m",
      "\u001b[1;31mKeyboardInterrupt\u001b[0m                         Traceback (most recent call last)",
      "\u001b[1;32m<ipython-input-34-300d1c4d1ac1>\u001b[0m in \u001b[0;36m<module>\u001b[1;34m\u001b[0m\n\u001b[0;32m      4\u001b[0m \u001b[0mknb\u001b[0m\u001b[1;33m.\u001b[0m\u001b[0mfit\u001b[0m\u001b[1;33m(\u001b[0m\u001b[0mX_train\u001b[0m\u001b[1;33m,\u001b[0m \u001b[0my_train\u001b[0m\u001b[1;33m)\u001b[0m\u001b[1;33m\u001b[0m\u001b[1;33m\u001b[0m\u001b[0m\n\u001b[0;32m      5\u001b[0m \u001b[1;33m\u001b[0m\u001b[0m\n\u001b[1;32m----> 6\u001b[1;33m \u001b[0mknb_performance_train\u001b[0m \u001b[1;33m=\u001b[0m \u001b[0mBinaryClassificationPerformance\u001b[0m\u001b[1;33m(\u001b[0m\u001b[0mknb\u001b[0m\u001b[1;33m.\u001b[0m\u001b[0mpredict\u001b[0m\u001b[1;33m(\u001b[0m\u001b[0mX_train\u001b[0m\u001b[1;33m)\u001b[0m\u001b[1;33m,\u001b[0m \u001b[0my_train\u001b[0m\u001b[1;33m,\u001b[0m \u001b[1;34m'knb_train'\u001b[0m\u001b[1;33m)\u001b[0m\u001b[1;33m\u001b[0m\u001b[1;33m\u001b[0m\u001b[0m\n\u001b[0m\u001b[0;32m      7\u001b[0m \u001b[0mknb_performance_train\u001b[0m\u001b[1;33m.\u001b[0m\u001b[0mcompute_measures\u001b[0m\u001b[1;33m(\u001b[0m\u001b[1;33m)\u001b[0m\u001b[1;33m\u001b[0m\u001b[1;33m\u001b[0m\u001b[0m\n\u001b[0;32m      8\u001b[0m \u001b[0mprint\u001b[0m\u001b[1;33m(\u001b[0m\u001b[0mknb_performance_train\u001b[0m\u001b[1;33m.\u001b[0m\u001b[0mperformance_measures\u001b[0m\u001b[1;33m)\u001b[0m\u001b[1;33m\u001b[0m\u001b[1;33m\u001b[0m\u001b[0m\n",
      "\u001b[1;32mC:\\ProgramData\\Anaconda3\\lib\\site-packages\\sklearn\\neighbors\\_classification.py\u001b[0m in \u001b[0;36mpredict\u001b[1;34m(self, X)\u001b[0m\n\u001b[0;32m    173\u001b[0m         \u001b[0mX\u001b[0m \u001b[1;33m=\u001b[0m \u001b[0mcheck_array\u001b[0m\u001b[1;33m(\u001b[0m\u001b[0mX\u001b[0m\u001b[1;33m,\u001b[0m \u001b[0maccept_sparse\u001b[0m\u001b[1;33m=\u001b[0m\u001b[1;34m'csr'\u001b[0m\u001b[1;33m)\u001b[0m\u001b[1;33m\u001b[0m\u001b[1;33m\u001b[0m\u001b[0m\n\u001b[0;32m    174\u001b[0m \u001b[1;33m\u001b[0m\u001b[0m\n\u001b[1;32m--> 175\u001b[1;33m         \u001b[0mneigh_dist\u001b[0m\u001b[1;33m,\u001b[0m \u001b[0mneigh_ind\u001b[0m \u001b[1;33m=\u001b[0m \u001b[0mself\u001b[0m\u001b[1;33m.\u001b[0m\u001b[0mkneighbors\u001b[0m\u001b[1;33m(\u001b[0m\u001b[0mX\u001b[0m\u001b[1;33m)\u001b[0m\u001b[1;33m\u001b[0m\u001b[1;33m\u001b[0m\u001b[0m\n\u001b[0m\u001b[0;32m    176\u001b[0m         \u001b[0mclasses_\u001b[0m \u001b[1;33m=\u001b[0m \u001b[0mself\u001b[0m\u001b[1;33m.\u001b[0m\u001b[0mclasses_\u001b[0m\u001b[1;33m\u001b[0m\u001b[1;33m\u001b[0m\u001b[0m\n\u001b[0;32m    177\u001b[0m         \u001b[0m_y\u001b[0m \u001b[1;33m=\u001b[0m \u001b[0mself\u001b[0m\u001b[1;33m.\u001b[0m\u001b[0m_y\u001b[0m\u001b[1;33m\u001b[0m\u001b[1;33m\u001b[0m\u001b[0m\n",
      "\u001b[1;32mC:\\ProgramData\\Anaconda3\\lib\\site-packages\\sklearn\\neighbors\\_base.py\u001b[0m in \u001b[0;36mkneighbors\u001b[1;34m(self, X, n_neighbors, return_distance)\u001b[0m\n\u001b[0;32m    639\u001b[0m                 \u001b[0mkwds\u001b[0m \u001b[1;33m=\u001b[0m \u001b[0mself\u001b[0m\u001b[1;33m.\u001b[0m\u001b[0meffective_metric_params_\u001b[0m\u001b[1;33m\u001b[0m\u001b[1;33m\u001b[0m\u001b[0m\n\u001b[0;32m    640\u001b[0m \u001b[1;33m\u001b[0m\u001b[0m\n\u001b[1;32m--> 641\u001b[1;33m             chunked_results = list(pairwise_distances_chunked(\n\u001b[0m\u001b[0;32m    642\u001b[0m                 \u001b[0mX\u001b[0m\u001b[1;33m,\u001b[0m \u001b[0mself\u001b[0m\u001b[1;33m.\u001b[0m\u001b[0m_fit_X\u001b[0m\u001b[1;33m,\u001b[0m \u001b[0mreduce_func\u001b[0m\u001b[1;33m=\u001b[0m\u001b[0mreduce_func\u001b[0m\u001b[1;33m,\u001b[0m\u001b[1;33m\u001b[0m\u001b[1;33m\u001b[0m\u001b[0m\n\u001b[0;32m    643\u001b[0m                 \u001b[0mmetric\u001b[0m\u001b[1;33m=\u001b[0m\u001b[0mself\u001b[0m\u001b[1;33m.\u001b[0m\u001b[0meffective_metric_\u001b[0m\u001b[1;33m,\u001b[0m \u001b[0mn_jobs\u001b[0m\u001b[1;33m=\u001b[0m\u001b[0mn_jobs\u001b[0m\u001b[1;33m,\u001b[0m\u001b[1;33m\u001b[0m\u001b[1;33m\u001b[0m\u001b[0m\n",
      "\u001b[1;32mC:\\ProgramData\\Anaconda3\\lib\\site-packages\\sklearn\\metrics\\pairwise.py\u001b[0m in \u001b[0;36mpairwise_distances_chunked\u001b[1;34m(X, Y, reduce_func, metric, n_jobs, working_memory, **kwds)\u001b[0m\n\u001b[0;32m   1610\u001b[0m         \u001b[1;32melse\u001b[0m\u001b[1;33m:\u001b[0m\u001b[1;33m\u001b[0m\u001b[1;33m\u001b[0m\u001b[0m\n\u001b[0;32m   1611\u001b[0m             \u001b[0mX_chunk\u001b[0m \u001b[1;33m=\u001b[0m \u001b[0mX\u001b[0m\u001b[1;33m[\u001b[0m\u001b[0msl\u001b[0m\u001b[1;33m]\u001b[0m\u001b[1;33m\u001b[0m\u001b[1;33m\u001b[0m\u001b[0m\n\u001b[1;32m-> 1612\u001b[1;33m         D_chunk = pairwise_distances(X_chunk, Y, metric=metric,\n\u001b[0m\u001b[0;32m   1613\u001b[0m                                      n_jobs=n_jobs, **kwds)\n\u001b[0;32m   1614\u001b[0m         if ((X is Y or Y is None)\n",
      "\u001b[1;32mC:\\ProgramData\\Anaconda3\\lib\\site-packages\\sklearn\\utils\\validation.py\u001b[0m in \u001b[0;36minner_f\u001b[1;34m(*args, **kwargs)\u001b[0m\n\u001b[0;32m     71\u001b[0m                           FutureWarning)\n\u001b[0;32m     72\u001b[0m         \u001b[0mkwargs\u001b[0m\u001b[1;33m.\u001b[0m\u001b[0mupdate\u001b[0m\u001b[1;33m(\u001b[0m\u001b[1;33m{\u001b[0m\u001b[0mk\u001b[0m\u001b[1;33m:\u001b[0m \u001b[0marg\u001b[0m \u001b[1;32mfor\u001b[0m \u001b[0mk\u001b[0m\u001b[1;33m,\u001b[0m \u001b[0marg\u001b[0m \u001b[1;32min\u001b[0m \u001b[0mzip\u001b[0m\u001b[1;33m(\u001b[0m\u001b[0msig\u001b[0m\u001b[1;33m.\u001b[0m\u001b[0mparameters\u001b[0m\u001b[1;33m,\u001b[0m \u001b[0margs\u001b[0m\u001b[1;33m)\u001b[0m\u001b[1;33m}\u001b[0m\u001b[1;33m)\u001b[0m\u001b[1;33m\u001b[0m\u001b[1;33m\u001b[0m\u001b[0m\n\u001b[1;32m---> 73\u001b[1;33m         \u001b[1;32mreturn\u001b[0m \u001b[0mf\u001b[0m\u001b[1;33m(\u001b[0m\u001b[1;33m**\u001b[0m\u001b[0mkwargs\u001b[0m\u001b[1;33m)\u001b[0m\u001b[1;33m\u001b[0m\u001b[1;33m\u001b[0m\u001b[0m\n\u001b[0m\u001b[0;32m     74\u001b[0m     \u001b[1;32mreturn\u001b[0m \u001b[0minner_f\u001b[0m\u001b[1;33m\u001b[0m\u001b[1;33m\u001b[0m\u001b[0m\n\u001b[0;32m     75\u001b[0m \u001b[1;33m\u001b[0m\u001b[0m\n",
      "\u001b[1;32mC:\\ProgramData\\Anaconda3\\lib\\site-packages\\sklearn\\metrics\\pairwise.py\u001b[0m in \u001b[0;36mpairwise_distances\u001b[1;34m(X, Y, metric, n_jobs, force_all_finite, **kwds)\u001b[0m\n\u001b[0;32m   1773\u001b[0m         \u001b[0mfunc\u001b[0m \u001b[1;33m=\u001b[0m \u001b[0mpartial\u001b[0m\u001b[1;33m(\u001b[0m\u001b[0mdistance\u001b[0m\u001b[1;33m.\u001b[0m\u001b[0mcdist\u001b[0m\u001b[1;33m,\u001b[0m \u001b[0mmetric\u001b[0m\u001b[1;33m=\u001b[0m\u001b[0mmetric\u001b[0m\u001b[1;33m,\u001b[0m \u001b[1;33m**\u001b[0m\u001b[0mkwds\u001b[0m\u001b[1;33m)\u001b[0m\u001b[1;33m\u001b[0m\u001b[1;33m\u001b[0m\u001b[0m\n\u001b[0;32m   1774\u001b[0m \u001b[1;33m\u001b[0m\u001b[0m\n\u001b[1;32m-> 1775\u001b[1;33m     \u001b[1;32mreturn\u001b[0m \u001b[0m_parallel_pairwise\u001b[0m\u001b[1;33m(\u001b[0m\u001b[0mX\u001b[0m\u001b[1;33m,\u001b[0m \u001b[0mY\u001b[0m\u001b[1;33m,\u001b[0m \u001b[0mfunc\u001b[0m\u001b[1;33m,\u001b[0m \u001b[0mn_jobs\u001b[0m\u001b[1;33m,\u001b[0m \u001b[1;33m**\u001b[0m\u001b[0mkwds\u001b[0m\u001b[1;33m)\u001b[0m\u001b[1;33m\u001b[0m\u001b[1;33m\u001b[0m\u001b[0m\n\u001b[0m\u001b[0;32m   1776\u001b[0m \u001b[1;33m\u001b[0m\u001b[0m\n\u001b[0;32m   1777\u001b[0m \u001b[1;33m\u001b[0m\u001b[0m\n",
      "\u001b[1;32mC:\\ProgramData\\Anaconda3\\lib\\site-packages\\sklearn\\metrics\\pairwise.py\u001b[0m in \u001b[0;36m_parallel_pairwise\u001b[1;34m(X, Y, func, n_jobs, **kwds)\u001b[0m\n\u001b[0;32m   1357\u001b[0m \u001b[1;33m\u001b[0m\u001b[0m\n\u001b[0;32m   1358\u001b[0m     \u001b[1;32mif\u001b[0m \u001b[0meffective_n_jobs\u001b[0m\u001b[1;33m(\u001b[0m\u001b[0mn_jobs\u001b[0m\u001b[1;33m)\u001b[0m \u001b[1;33m==\u001b[0m \u001b[1;36m1\u001b[0m\u001b[1;33m:\u001b[0m\u001b[1;33m\u001b[0m\u001b[1;33m\u001b[0m\u001b[0m\n\u001b[1;32m-> 1359\u001b[1;33m         \u001b[1;32mreturn\u001b[0m \u001b[0mfunc\u001b[0m\u001b[1;33m(\u001b[0m\u001b[0mX\u001b[0m\u001b[1;33m,\u001b[0m \u001b[0mY\u001b[0m\u001b[1;33m,\u001b[0m \u001b[1;33m**\u001b[0m\u001b[0mkwds\u001b[0m\u001b[1;33m)\u001b[0m\u001b[1;33m\u001b[0m\u001b[1;33m\u001b[0m\u001b[0m\n\u001b[0m\u001b[0;32m   1360\u001b[0m \u001b[1;33m\u001b[0m\u001b[0m\n\u001b[0;32m   1361\u001b[0m     \u001b[1;31m# enforce a threading backend to prevent data communication overhead\u001b[0m\u001b[1;33m\u001b[0m\u001b[1;33m\u001b[0m\u001b[1;33m\u001b[0m\u001b[0m\n",
      "\u001b[1;32mC:\\ProgramData\\Anaconda3\\lib\\site-packages\\sklearn\\utils\\validation.py\u001b[0m in \u001b[0;36minner_f\u001b[1;34m(*args, **kwargs)\u001b[0m\n\u001b[0;32m     71\u001b[0m                           FutureWarning)\n\u001b[0;32m     72\u001b[0m         \u001b[0mkwargs\u001b[0m\u001b[1;33m.\u001b[0m\u001b[0mupdate\u001b[0m\u001b[1;33m(\u001b[0m\u001b[1;33m{\u001b[0m\u001b[0mk\u001b[0m\u001b[1;33m:\u001b[0m \u001b[0marg\u001b[0m \u001b[1;32mfor\u001b[0m \u001b[0mk\u001b[0m\u001b[1;33m,\u001b[0m \u001b[0marg\u001b[0m \u001b[1;32min\u001b[0m \u001b[0mzip\u001b[0m\u001b[1;33m(\u001b[0m\u001b[0msig\u001b[0m\u001b[1;33m.\u001b[0m\u001b[0mparameters\u001b[0m\u001b[1;33m,\u001b[0m \u001b[0margs\u001b[0m\u001b[1;33m)\u001b[0m\u001b[1;33m}\u001b[0m\u001b[1;33m)\u001b[0m\u001b[1;33m\u001b[0m\u001b[1;33m\u001b[0m\u001b[0m\n\u001b[1;32m---> 73\u001b[1;33m         \u001b[1;32mreturn\u001b[0m \u001b[0mf\u001b[0m\u001b[1;33m(\u001b[0m\u001b[1;33m**\u001b[0m\u001b[0mkwargs\u001b[0m\u001b[1;33m)\u001b[0m\u001b[1;33m\u001b[0m\u001b[1;33m\u001b[0m\u001b[0m\n\u001b[0m\u001b[0;32m     74\u001b[0m     \u001b[1;32mreturn\u001b[0m \u001b[0minner_f\u001b[0m\u001b[1;33m\u001b[0m\u001b[1;33m\u001b[0m\u001b[0m\n\u001b[0;32m     75\u001b[0m \u001b[1;33m\u001b[0m\u001b[0m\n",
      "\u001b[1;32mC:\\ProgramData\\Anaconda3\\lib\\site-packages\\sklearn\\metrics\\pairwise.py\u001b[0m in \u001b[0;36meuclidean_distances\u001b[1;34m(X, Y, Y_norm_squared, squared, X_norm_squared)\u001b[0m\n\u001b[0;32m    307\u001b[0m     \u001b[1;32melse\u001b[0m\u001b[1;33m:\u001b[0m\u001b[1;33m\u001b[0m\u001b[1;33m\u001b[0m\u001b[0m\n\u001b[0;32m    308\u001b[0m         \u001b[1;31m# if dtype is already float64, no need to chunk and upcast\u001b[0m\u001b[1;33m\u001b[0m\u001b[1;33m\u001b[0m\u001b[1;33m\u001b[0m\u001b[0m\n\u001b[1;32m--> 309\u001b[1;33m         \u001b[0mdistances\u001b[0m \u001b[1;33m=\u001b[0m \u001b[1;33m-\u001b[0m \u001b[1;36m2\u001b[0m \u001b[1;33m*\u001b[0m \u001b[0msafe_sparse_dot\u001b[0m\u001b[1;33m(\u001b[0m\u001b[0mX\u001b[0m\u001b[1;33m,\u001b[0m \u001b[0mY\u001b[0m\u001b[1;33m.\u001b[0m\u001b[0mT\u001b[0m\u001b[1;33m,\u001b[0m \u001b[0mdense_output\u001b[0m\u001b[1;33m=\u001b[0m\u001b[1;32mTrue\u001b[0m\u001b[1;33m)\u001b[0m\u001b[1;33m\u001b[0m\u001b[1;33m\u001b[0m\u001b[0m\n\u001b[0m\u001b[0;32m    310\u001b[0m         \u001b[0mdistances\u001b[0m \u001b[1;33m+=\u001b[0m \u001b[0mXX\u001b[0m\u001b[1;33m\u001b[0m\u001b[1;33m\u001b[0m\u001b[0m\n\u001b[0;32m    311\u001b[0m         \u001b[0mdistances\u001b[0m \u001b[1;33m+=\u001b[0m \u001b[0mYY\u001b[0m\u001b[1;33m\u001b[0m\u001b[1;33m\u001b[0m\u001b[0m\n",
      "\u001b[1;32mC:\\ProgramData\\Anaconda3\\lib\\site-packages\\sklearn\\utils\\validation.py\u001b[0m in \u001b[0;36minner_f\u001b[1;34m(*args, **kwargs)\u001b[0m\n\u001b[0;32m     71\u001b[0m                           FutureWarning)\n\u001b[0;32m     72\u001b[0m         \u001b[0mkwargs\u001b[0m\u001b[1;33m.\u001b[0m\u001b[0mupdate\u001b[0m\u001b[1;33m(\u001b[0m\u001b[1;33m{\u001b[0m\u001b[0mk\u001b[0m\u001b[1;33m:\u001b[0m \u001b[0marg\u001b[0m \u001b[1;32mfor\u001b[0m \u001b[0mk\u001b[0m\u001b[1;33m,\u001b[0m \u001b[0marg\u001b[0m \u001b[1;32min\u001b[0m \u001b[0mzip\u001b[0m\u001b[1;33m(\u001b[0m\u001b[0msig\u001b[0m\u001b[1;33m.\u001b[0m\u001b[0mparameters\u001b[0m\u001b[1;33m,\u001b[0m \u001b[0margs\u001b[0m\u001b[1;33m)\u001b[0m\u001b[1;33m}\u001b[0m\u001b[1;33m)\u001b[0m\u001b[1;33m\u001b[0m\u001b[1;33m\u001b[0m\u001b[0m\n\u001b[1;32m---> 73\u001b[1;33m         \u001b[1;32mreturn\u001b[0m \u001b[0mf\u001b[0m\u001b[1;33m(\u001b[0m\u001b[1;33m**\u001b[0m\u001b[0mkwargs\u001b[0m\u001b[1;33m)\u001b[0m\u001b[1;33m\u001b[0m\u001b[1;33m\u001b[0m\u001b[0m\n\u001b[0m\u001b[0;32m     74\u001b[0m     \u001b[1;32mreturn\u001b[0m \u001b[0minner_f\u001b[0m\u001b[1;33m\u001b[0m\u001b[1;33m\u001b[0m\u001b[0m\n\u001b[0;32m     75\u001b[0m \u001b[1;33m\u001b[0m\u001b[0m\n",
      "\u001b[1;32mC:\\ProgramData\\Anaconda3\\lib\\site-packages\\sklearn\\utils\\extmath.py\u001b[0m in \u001b[0;36msafe_sparse_dot\u001b[1;34m(a, b, dense_output)\u001b[0m\n\u001b[0;32m    151\u001b[0m             \u001b[0mret\u001b[0m \u001b[1;33m=\u001b[0m \u001b[0mnp\u001b[0m\u001b[1;33m.\u001b[0m\u001b[0mdot\u001b[0m\u001b[1;33m(\u001b[0m\u001b[0ma\u001b[0m\u001b[1;33m,\u001b[0m \u001b[0mb\u001b[0m\u001b[1;33m)\u001b[0m\u001b[1;33m\u001b[0m\u001b[1;33m\u001b[0m\u001b[0m\n\u001b[0;32m    152\u001b[0m     \u001b[1;32melse\u001b[0m\u001b[1;33m:\u001b[0m\u001b[1;33m\u001b[0m\u001b[1;33m\u001b[0m\u001b[0m\n\u001b[1;32m--> 153\u001b[1;33m         \u001b[0mret\u001b[0m \u001b[1;33m=\u001b[0m \u001b[0ma\u001b[0m \u001b[1;33m@\u001b[0m \u001b[0mb\u001b[0m\u001b[1;33m\u001b[0m\u001b[1;33m\u001b[0m\u001b[0m\n\u001b[0m\u001b[0;32m    154\u001b[0m \u001b[1;33m\u001b[0m\u001b[0m\n\u001b[0;32m    155\u001b[0m     if (sparse.issparse(a) and sparse.issparse(b)\n",
      "\u001b[1;32mC:\\ProgramData\\Anaconda3\\lib\\site-packages\\scipy\\sparse\\base.py\u001b[0m in \u001b[0;36m__matmul__\u001b[1;34m(self, other)\u001b[0m\n\u001b[0;32m    558\u001b[0m             raise ValueError(\"Scalar operands are not allowed, \"\n\u001b[0;32m    559\u001b[0m                              \"use '*' instead\")\n\u001b[1;32m--> 560\u001b[1;33m         \u001b[1;32mreturn\u001b[0m \u001b[0mself\u001b[0m\u001b[1;33m.\u001b[0m\u001b[0m__mul__\u001b[0m\u001b[1;33m(\u001b[0m\u001b[0mother\u001b[0m\u001b[1;33m)\u001b[0m\u001b[1;33m\u001b[0m\u001b[1;33m\u001b[0m\u001b[0m\n\u001b[0m\u001b[0;32m    561\u001b[0m \u001b[1;33m\u001b[0m\u001b[0m\n\u001b[0;32m    562\u001b[0m     \u001b[1;32mdef\u001b[0m \u001b[0m__rmatmul__\u001b[0m\u001b[1;33m(\u001b[0m\u001b[0mself\u001b[0m\u001b[1;33m,\u001b[0m \u001b[0mother\u001b[0m\u001b[1;33m)\u001b[0m\u001b[1;33m:\u001b[0m\u001b[1;33m\u001b[0m\u001b[1;33m\u001b[0m\u001b[0m\n",
      "\u001b[1;32mC:\\ProgramData\\Anaconda3\\lib\\site-packages\\scipy\\sparse\\base.py\u001b[0m in \u001b[0;36m__mul__\u001b[1;34m(self, other)\u001b[0m\n\u001b[0;32m    478\u001b[0m             \u001b[1;32mif\u001b[0m \u001b[0mself\u001b[0m\u001b[1;33m.\u001b[0m\u001b[0mshape\u001b[0m\u001b[1;33m[\u001b[0m\u001b[1;36m1\u001b[0m\u001b[1;33m]\u001b[0m \u001b[1;33m!=\u001b[0m \u001b[0mother\u001b[0m\u001b[1;33m.\u001b[0m\u001b[0mshape\u001b[0m\u001b[1;33m[\u001b[0m\u001b[1;36m0\u001b[0m\u001b[1;33m]\u001b[0m\u001b[1;33m:\u001b[0m\u001b[1;33m\u001b[0m\u001b[1;33m\u001b[0m\u001b[0m\n\u001b[0;32m    479\u001b[0m                 \u001b[1;32mraise\u001b[0m \u001b[0mValueError\u001b[0m\u001b[1;33m(\u001b[0m\u001b[1;34m'dimension mismatch'\u001b[0m\u001b[1;33m)\u001b[0m\u001b[1;33m\u001b[0m\u001b[1;33m\u001b[0m\u001b[0m\n\u001b[1;32m--> 480\u001b[1;33m             \u001b[1;32mreturn\u001b[0m \u001b[0mself\u001b[0m\u001b[1;33m.\u001b[0m\u001b[0m_mul_sparse_matrix\u001b[0m\u001b[1;33m(\u001b[0m\u001b[0mother\u001b[0m\u001b[1;33m)\u001b[0m\u001b[1;33m\u001b[0m\u001b[1;33m\u001b[0m\u001b[0m\n\u001b[0m\u001b[0;32m    481\u001b[0m \u001b[1;33m\u001b[0m\u001b[0m\n\u001b[0;32m    482\u001b[0m         \u001b[1;31m# If it's a list or whatever, treat it like a matrix\u001b[0m\u001b[1;33m\u001b[0m\u001b[1;33m\u001b[0m\u001b[1;33m\u001b[0m\u001b[0m\n",
      "\u001b[1;32mC:\\ProgramData\\Anaconda3\\lib\\site-packages\\scipy\\sparse\\compressed.py\u001b[0m in \u001b[0;36m_mul_sparse_matrix\u001b[1;34m(self, other)\u001b[0m\n\u001b[0;32m    518\u001b[0m \u001b[1;33m\u001b[0m\u001b[0m\n\u001b[0;32m    519\u001b[0m         \u001b[0mfn\u001b[0m \u001b[1;33m=\u001b[0m \u001b[0mgetattr\u001b[0m\u001b[1;33m(\u001b[0m\u001b[0m_sparsetools\u001b[0m\u001b[1;33m,\u001b[0m \u001b[0mself\u001b[0m\u001b[1;33m.\u001b[0m\u001b[0mformat\u001b[0m \u001b[1;33m+\u001b[0m \u001b[1;34m'_matmat'\u001b[0m\u001b[1;33m)\u001b[0m\u001b[1;33m\u001b[0m\u001b[1;33m\u001b[0m\u001b[0m\n\u001b[1;32m--> 520\u001b[1;33m         fn(M, N, np.asarray(self.indptr, dtype=idx_dtype),\n\u001b[0m\u001b[0;32m    521\u001b[0m            \u001b[0mnp\u001b[0m\u001b[1;33m.\u001b[0m\u001b[0masarray\u001b[0m\u001b[1;33m(\u001b[0m\u001b[0mself\u001b[0m\u001b[1;33m.\u001b[0m\u001b[0mindices\u001b[0m\u001b[1;33m,\u001b[0m \u001b[0mdtype\u001b[0m\u001b[1;33m=\u001b[0m\u001b[0midx_dtype\u001b[0m\u001b[1;33m)\u001b[0m\u001b[1;33m,\u001b[0m\u001b[1;33m\u001b[0m\u001b[1;33m\u001b[0m\u001b[0m\n\u001b[0;32m    522\u001b[0m            \u001b[0mself\u001b[0m\u001b[1;33m.\u001b[0m\u001b[0mdata\u001b[0m\u001b[1;33m,\u001b[0m\u001b[1;33m\u001b[0m\u001b[1;33m\u001b[0m\u001b[0m\n",
      "\u001b[1;31mKeyboardInterrupt\u001b[0m: "
     ]
    }
   ],
   "source": [
    "# K Neighbors Classifier\n",
    "# too long runtime\n",
    "from sklearn import neighbors\n",
    "knb = neighbors.KNeighborsClassifier(n_neighbors=2)\n",
    "knb.fit(X_train, y_train)\n",
    "\n",
    "knb_performance_train = BinaryClassificationPerformance(knb.predict(X_train), y_train, 'knb_train')\n",
    "knb_performance_train.compute_measures()\n",
    "print(knb_performance_train.performance_measures)"
   ]
  },
  {
   "cell_type": "code",
   "execution_count": 30,
   "metadata": {
    "scrolled": true
   },
   "outputs": [
    {
     "name": "stdout",
     "output_type": "stream",
     "text": [
      "{'Pos': 12951, 'Neg': 114705, 'TP': 12344, 'TN': 114565, 'FP': 140, 'FN': 607, 'Accuracy': 0.9941483361534122, 'Precision': 0.9887856456264018, 'Recall': 0.9531310323527141, 'desc': 'pac_train'}\n",
      "False Positive Rate:\n",
      "0.0012205222091451985\n",
      "True Positive Rate:\n",
      "0.9531310323527141\n"
     ]
    }
   ],
   "source": [
    "# Passive Aggressive Classifier\n",
    "from sklearn import linear.model\n",
    "pac = linear_model.PassiveAggressiveClassifier(loss='squared_hinge', C=0.000001)\n",
    "pac.fit(X_train, y_train)\n",
    "\n",
    "pac_performance_train = BinaryClassificationPerformance(pac.predict(X_train), y_train, 'pac_train')\n",
    "pac_performance_train.compute_measures()\n",
    "print(pac_performance_train.performance_measures)\n",
    "print(\"False Positive Rate:\")\n",
    "print(pac_performance_train.performance_measures['FP'] / pac_performance_train.performance_measures['Neg'])\n",
    "print(\"True Positive Rate:\")\n",
    "print(pac_performance_train.performance_measures['TP'] / pac_performance_train.performance_measures['Pos'])"
   ]
  },
  {
   "cell_type": "code",
   "execution_count": 31,
   "metadata": {
    "scrolled": true
   },
   "outputs": [
    {
     "name": "stdout",
     "output_type": "stream",
     "text": [
      "{'Pos': 3274, 'Neg': 28641, 'TP': 2333, 'TN': 28193, 'FP': 448, 'FN': 941, 'Accuracy': 0.9564781450728498, 'Precision': 0.8389068680330817, 'Recall': 0.7125839951130116, 'desc': 'pac_test'}\n",
      "False Positive Rate:\n",
      "0.01564191194441535\n",
      "True Positive Rate:\n",
      "0.7125839951130116\n"
     ]
    }
   ],
   "source": [
    "# PAC quick test\n",
    "pac_performance_test = BinaryClassificationPerformance(pac.predict(X_test), y_test, 'pac_test')\n",
    "pac_performance_test.compute_measures()\n",
    "print(pac_performance_test.performance_measures)\n",
    "print(\"False Positive Rate:\")\n",
    "print(pac_performance_test.performance_measures['FP'] / pac_performance_test.performance_measures['Neg'])\n",
    "print(\"True Positive Rate:\")\n",
    "print(pac_performance_test.performance_measures['TP'] / pac_performance_test.performance_measures['Pos'])"
   ]
  },
  {
   "cell_type": "markdown",
   "metadata": {},
   "source": [
    "### MODEL: Perceptron"
   ]
  },
  {
   "cell_type": "code",
   "execution_count": 8,
   "metadata": {
    "scrolled": true
   },
   "outputs": [
    {
     "name": "stdout",
     "output_type": "stream",
     "text": [
      "{'Pos': 12951, 'Neg': 114705, 'TP': 12918, 'TN': 114626, 'FP': 79, 'FN': 33, 'Accuracy': 0.9991226421006455, 'Precision': 0.9939216742325152, 'Recall': 0.9974519342135743, 'desc': 'pcp_train'}\n",
      "False Positive Rate:\n",
      "0.0006887232465890763\n",
      "True Positive Rate:\n",
      "0.9974519342135743\n"
     ]
    }
   ],
   "source": [
    "# multilayer perceptron\n",
    "from sklearn import neural_network\n",
    "mlp = neural_network.MLPClassifier()\n",
    "mlp.fit(X_train, y_train)\n",
    "\n",
    "mlp_performance_train = BinaryClassificationPerformance(mlp.predict(X_train), y_train, 'mlp_train')\n",
    "mlp_performance_train.compute_measures()\n",
    "print(mlp_performance_train.performance_measures)"
   ]
  },
  {
   "cell_type": "code",
   "execution_count": 8,
   "metadata": {
    "scrolled": true
   },
   "outputs": [
    {
     "name": "stdout",
     "output_type": "stream",
     "text": [
      "{'Pos': 12951, 'Neg': 114705, 'TP': 12918, 'TN': 114626, 'FP': 79, 'FN': 33, 'Accuracy': 0.9991226421006455, 'Precision': 0.9939216742325152, 'Recall': 0.9974519342135743, 'desc': 'pcp_train'}\n",
      "False Positive Rate:\n",
      "0.0006887232465890763\n",
      "True Positive Rate:\n",
      "0.9974519342135743\n"
     ]
    }
   ],
   "source": [
    "# direct linear_model.perceptron\n",
    "from sklearn import linear_model\n",
    "pcp = linear_model.Perceptron(penalty='l1', alpha=.00001)\n",
    "pcp.fit(X_train, y_train)\n",
    "\n",
    "pcp_performance_train = BinaryClassificationPerformance(pcp.predict(X_train), y_train, 'pcp_train')\n",
    "pcp_performance_train.compute_measures()\n",
    "print(pcp_performance_train.performance_measures)\n",
    "print(\"False Positive Rate:\")\n",
    "print(pcp_performance_train.performance_measures['FP'] / pcp_performance_train.performance_measures['Neg'])\n",
    "print(\"True Positive Rate:\")\n",
    "print(pcp_performance_train.performance_measures['TP'] / pcp_performance_train.performance_measures['Pos'])"
   ]
  },
  {
   "cell_type": "code",
   "execution_count": 5,
   "metadata": {
    "scrolled": true
   },
   "outputs": [
    {
     "name": "stdout",
     "output_type": "stream",
     "text": [
      "{'Pos': 12951, 'Neg': 114705, 'TP': 12896, 'TN': 114681, 'FP': 24, 'FN': 55, 'Accuracy': 0.9993811493388481, 'Precision': 0.9981424148606811, 'Recall': 0.9957532236892904, 'desc': 'prc_train'}\n",
      "False Positive Rate:\n",
      "0.00020923237871060547\n",
      "True Positive Rate:\n",
      "0.9957532236892904\n"
     ]
    }
   ],
   "source": [
    "from sklearn import linear_model\n",
    "prc = linear_model.SGDClassifier(loss='perceptron')\n",
    "prc.fit(X_train, y_train)\n",
    "\n",
    "prc_performance_train = BinaryClassificationPerformance(prc.predict(X_train), y_train, 'prc_train')\n",
    "prc_performance_train.compute_measures()\n",
    "print(prc_performance_train.performance_measures)\n",
    "print(\"False Positive Rate:\")\n",
    "print(prc_performance_train.performance_measures['FP'] / prc_performance_train.performance_measures['Neg'])\n",
    "print(\"True Positive Rate:\")\n",
    "print(prc_performance_train.performance_measures['TP'] / prc_performance_train.performance_measures['Pos'])"
   ]
  },
  {
   "cell_type": "markdown",
   "metadata": {},
   "source": [
    "### MODEL: Ridge Regression Classifier"
   ]
  },
  {
   "cell_type": "code",
   "execution_count": null,
   "metadata": {
    "scrolled": true
   },
   "outputs": [],
   "source": [
    "from sklearn import linear_model\n",
    "rdg = linear_model.RidgeClassifier(alpha=1.0)\n",
    "rdg.fit(X_train, y_train)\n",
    "\n",
    "rdg_performance_train = BinaryClassificationPerformance(rdg.predict(X_train), y_train, 'tr0')\n",
    "rdg_performance_train.compute_measures()\n",
    "print(rdg_performance_train.performance_measures)"
   ]
  },
  {
   "cell_type": "markdown",
   "metadata": {},
   "source": [
    "### MODEL: Random Forest Classifier"
   ]
  },
  {
   "cell_type": "code",
   "execution_count": null,
   "metadata": {
    "scrolled": true
   },
   "outputs": [],
   "source": [
    "from sklearn.ensemble import RandomForestClassifier\n",
    "rdf_60 = RandomForestClassifier(max_depth=60, random_state=0)\n",
    "# manipulate max_depth\n",
    "rdf_60.fit(X_train, y_train)\n",
    "\n",
    "rdf_performance_train_60 = BinaryClassificationPerformance(rdf_60.predict(X_train), y_train, 'rdf_train_60')\n",
    "rdf_performance_train_60.compute_measures()\n",
    "print(rdf_performance_train_60.performance_measures)"
   ]
  },
  {
   "cell_type": "markdown",
   "metadata": {},
   "source": [
    "### ROC plot to compare performance of various models and fits"
   ]
  },
  {
   "cell_type": "code",
   "execution_count": null,
   "metadata": {
    "scrolled": true
   },
   "outputs": [],
   "source": [
    "fits = [ols_performance_train, svm_performance_train, lgs_performance_train, nbs_performance_train, prc_performance_train]\n",
    "\n",
    "for fit in fits:\n",
    "    plt.plot(fit.performance_measures['FP'] / fit.performance_measures['Neg'], \n",
    "             fit.performance_measures['TP'] / fit.performance_measures['Pos'], 'bo')\n",
    "    plt.text(fit.performance_measures['FP'] / fit.performance_measures['Neg'], \n",
    "             fit.performance_measures['TP'] / fit.performance_measures['Pos'], fit.desc)\n",
    "plt.axis([0, 1, 0, 1])\n",
    "plt.title('ROC plot: training set')\n",
    "plt.xlabel('False positive rate')\n",
    "plt.ylabel('True positive rate')\n",
    "plt.show()"
   ]
  },
  {
   "cell_type": "markdown",
   "metadata": {},
   "source": [
    "### looking at reviews based on their classification\n",
    "\n",
    "Let's say we decide that Ordinary Least Squares (OLS) Regression is the best model for generalization. Let's take a look at some of the reviews and try to make a (subjective) determination of whether it's generalizing well. "
   ]
  },
  {
   "cell_type": "markdown",
   "metadata": {},
   "source": [
    "### let's look at some examples of each classification:"
   ]
  },
  {
   "cell_type": "code",
   "execution_count": null,
   "metadata": {
    "scrolled": true
   },
   "outputs": [],
   "source": [
    "# false positives\n",
    "\n",
    "print(\"Examples of false positives:\")\n",
    "\n",
    "import random, time\n",
    "\n",
    "for i in range(0, len(nbs_predictions)):\n",
    "    if (nbs_predictions[i] == 1):\n",
    "        if (X_raw_train.iloc[i]['any_toxic'] == 0):\n",
    "            if (random.uniform(0, 1) < 0.05): # to print only 5% of the false positives\n",
    "                print(i)\n",
    "                print(X_raw_train.iloc[i]['comment_text'])\n",
    "                print('* * * * * * * * * ')\n"
   ]
  },
  {
   "cell_type": "code",
   "execution_count": null,
   "metadata": {
    "scrolled": true
   },
   "outputs": [],
   "source": [
    "# true positives\n",
    "\n",
    "print(\"Examples of true positives:\")\n",
    "\n",
    "import random, time\n",
    "\n",
    "for i in range(0, len(nbs_predictions)):\n",
    "    if (ols_predictions[i] == 1):\n",
    "        if (X_raw_train.iloc[i]['any_toxic'] == 1):\n",
    "            if (random.uniform(0, 1) < 0.05): # to print only 5% of the false positives\n",
    "                print(i)\n",
    "                print(X_raw_train.iloc[i]['comment_text'])\n",
    "                print('* * * * * * * * * ')\n"
   ]
  },
  {
   "cell_type": "code",
   "execution_count": null,
   "metadata": {
    "scrolled": true
   },
   "outputs": [],
   "source": [
    "# false negatives\n",
    "\n",
    "print(\"Examples of false negatives:\")\n",
    "\n",
    "import random, time\n",
    "\n",
    "for i in range(0, len(nbs_predictions)):\n",
    "    if (nbs_predictions[i] == 0):\n",
    "    # model predicts negative\n",
    "        if (X_raw_train.iloc[i]['any_toxic'] == 1):\n",
    "        # but training data says should have been positive; thus, false negative\n",
    "            if (random.uniform(0, 1) < 0.05): # to print only 5% of the false positives\n",
    "                print(i)\n",
    "                print(X_raw_train.iloc[i]['comment_text'])\n",
    "                print('* * * * * * * * * ')\n"
   ]
  },
  {
   "cell_type": "markdown",
   "metadata": {},
   "source": [
    "---\n",
    "\n",
    "# <span style=\"color:red\">WARNING: Don't look at test set performance too much!</span>\n",
    "\n",
    "---\n",
    "\n",
    "The following cells show performance on your test set. Do not look at this too often! "
   ]
  },
  {
   "cell_type": "markdown",
   "metadata": {},
   "source": [
    "# Look at performance on the test set"
   ]
  },
  {
   "cell_type": "markdown",
   "metadata": {},
   "source": [
    "### MODEL: ordinary least squares"
   ]
  },
  {
   "cell_type": "code",
   "execution_count": null,
   "metadata": {
    "scrolled": true
   },
   "outputs": [],
   "source": [
    "sgd_performance_test = BinaryClassificationPerformance(sgd.predict(X_test), y_test, 'sgd_test')\n",
    "sgd_performance_test.compute_measures()\n",
    "print(sgd_performance_test.performance_measures)\n",
    "print(\"True Positive Rate:\")\n",
    "print(sgd_performance_test.performance_measures['TP'] / sgd_performance_test.performance_measures['Pos'] * 100)\n",
    "print(\"False Positive Rate:\")\n",
    "print(sgd_performance_test.performance_measures['FP'] / sgd_performance_test.performance_measures['Neg'] * 100)\n",
    "print(\"False Negative Rate:\")\n",
    "print(sgd_performance_test.performance_measures['FN'] / sgd_performance_test.performance_measures['Pos'] * 100)"
   ]
  },
  {
   "cell_type": "markdown",
   "metadata": {},
   "source": [
    "### MODEL: ordinary least squares"
   ]
  },
  {
   "cell_type": "code",
   "execution_count": null,
   "metadata": {
    "scrolled": true
   },
   "outputs": [],
   "source": [
    "ols_performance_test = BinaryClassificationPerformance(ols.predict(X_test), y_test, 'ols_test')\n",
    "ols_performance_test.compute_measures()\n",
    "print(ols_performance_test.performance_measures)\n",
    "print(\"False Positive Rate:\")\n",
    "print(ols_performance_test.performance_measures['FP'] / ols_performance_test.performance_measures['Neg'])\n",
    "print(\"True Positive Rate:\")\n",
    "print(ols_performance_test.performance_measures['TP'] / ols_performance_test.performance_measures['Pos'])"
   ]
  },
  {
   "cell_type": "markdown",
   "metadata": {},
   "source": [
    "### MODEL: SVM, linear"
   ]
  },
  {
   "cell_type": "code",
   "execution_count": 46,
   "metadata": {
    "scrolled": true
   },
   "outputs": [
    {
     "name": "stdout",
     "output_type": "stream",
     "text": [
      "{'Pos': 3274, 'Neg': 28641, 'TP': 2385, 'TN': 27685, 'FP': 956, 'FN': 889, 'Accuracy': 0.9421901926993577, 'Precision': 0.7138581263094882, 'Recall': 0.7284667073915699, 'desc': 'svm_test'}\n",
      "False Positive Rate:\n",
      "0.03337872280995775\n",
      "True Positive Rate:\n",
      "0.7284667073915699\n"
     ]
    }
   ],
   "source": [
    "svm_performance_test = BinaryClassificationPerformance(svm.predict(X_test), y_test, 'svm_test')\n",
    "svm_performance_test.compute_measures()\n",
    "print(svm_performance_test.performance_measures)\n",
    "print(\"False Positive Rate:\")\n",
    "print(svm_performance_test.performance_measures['FP'] / svm_performance_test.performance_measures['Neg'])\n",
    "print(\"True Positive Rate:\")\n",
    "print(svm_performance_test.performance_measures['TP'] / svm_performance_test.performance_measures['Pos'])"
   ]
  },
  {
   "cell_type": "markdown",
   "metadata": {},
   "source": [
    "### MODEL: SVC"
   ]
  },
  {
   "cell_type": "code",
   "execution_count": 47,
   "metadata": {
    "scrolled": true
   },
   "outputs": [
    {
     "name": "stdout",
     "output_type": "stream",
     "text": [
      "{'Pos': 3274, 'Neg': 28641, 'TP': 2339, 'TN': 27547, 'FP': 1094, 'FN': 935, 'Accuracy': 0.936424878583738, 'Precision': 0.6813282842994466, 'Recall': 0.7144166157605376, 'desc': 'svc_test_0'}\n",
      "False Positive Rate:\n",
      "0.03819699032854998\n",
      "True Positive Rate:\n",
      "0.7144166157605376\n"
     ]
    }
   ],
   "source": [
    "svc_performance_test_0 = BinaryClassificationPerformance(svc_0.predict(X_test), y_test, 'svc_test_0')\n",
    "svc_performance_test_0.compute_measures()\n",
    "print(svc_performance_test_0.performance_measures)\n",
    "print(\"False Positive Rate:\")\n",
    "print(svc_performance_test_0.performance_measures['FP'] / svc_performance_test_0.performance_measures['Neg'])\n",
    "print(\"True Positive Rate:\")\n",
    "print(svc_performance_test_0.performance_measures['TP'] / svc_performance_test_0.performance_measures['Pos'])"
   ]
  },
  {
   "cell_type": "markdown",
   "metadata": {},
   "source": [
    "### MODEL: logistic regression"
   ]
  },
  {
   "cell_type": "code",
   "execution_count": 89,
   "metadata": {
    "scrolled": true
   },
   "outputs": [
    {
     "name": "stdout",
     "output_type": "stream",
     "text": [
      "{'Pos': 3274, 'Neg': 28641, 'TP': 0, 'TN': 28641, 'FP': 0, 'FN': 3274, 'Accuracy': 0.8974150086166379, 'Precision': nan, 'Recall': 0.0, 'desc': 'lgs_test_0.9'}\n",
      "False Positive Rate:\n",
      "0.0\n",
      "True Positive Rate:\n",
      "0.0\n"
     ]
    },
    {
     "name": "stderr",
     "output_type": "stream",
     "text": [
      "C:\\Users\\Charles\\Desktop\\ML\\A1\\my_measures.py:25: RuntimeWarning: invalid value encountered in longlong_scalars\n",
      "  self.performance_measures['Precision'] = self.performance_measures['TP'] / (self.performance_measures['TP'] + self.performance_measures['FP'])\n"
     ]
    }
   ],
   "source": [
    "lgs_performance_test_p9 = BinaryClassificationPerformance(lgs_p9.predict(X_test), y_test, 'lgs_test_0.9')\n",
    "lgs_performance_test_p9.compute_measures()\n",
    "print(lgs_performance_test_p9.performance_measures)\n",
    "print(\"False Positive Rate:\")\n",
    "print(lgs_performance_test_p9.performance_measures['FP'] / lgs_performance_test_p9.performance_measures['Neg'])\n",
    "print(\"True Positive Rate:\")\n",
    "print(lgs_performance_test_p9.performance_measures['TP'] / lgs_performance_test_p9.performance_measures['Pos'])"
   ]
  },
  {
   "cell_type": "code",
   "execution_count": 90,
   "metadata": {
    "scrolled": true
   },
   "outputs": [
    {
     "name": "stdout",
     "output_type": "stream",
     "text": [
      "{'Pos': 3274, 'Neg': 28641, 'TP': 2, 'TN': 28640, 'FP': 1, 'FN': 3272, 'Accuracy': 0.8974463418455272, 'Precision': 0.6666666666666666, 'Recall': 0.0006108735491753207, 'desc': 'lgs_test_0.5'}\n",
      "False Positive Rate:\n",
      "3.491498201878426e-05\n",
      "True Positive Rate:\n",
      "0.0006108735491753207\n"
     ]
    }
   ],
   "source": [
    "lgs_performance_test_p5 = BinaryClassificationPerformance(lgs_p5.predict(X_test), y_test, 'lgs_test_0.5')\n",
    "lgs_performance_test_p5.compute_measures()\n",
    "print(lgs_performance_test_p5.performance_measures)\n",
    "print(\"False Positive Rate:\")\n",
    "print(lgs_performance_test_p5.performance_measures['FP'] / lgs_performance_test_p5.performance_measures['Neg'])\n",
    "print(\"True Positive Rate:\")\n",
    "print(lgs_performance_test_p5.performance_measures['TP'] / lgs_performance_test_p5.performance_measures['Pos'])"
   ]
  },
  {
   "cell_type": "code",
   "execution_count": 91,
   "metadata": {
    "scrolled": true
   },
   "outputs": [
    {
     "name": "stdout",
     "output_type": "stream",
     "text": [
      "{'Pos': 3274, 'Neg': 28641, 'TP': 745, 'TN': 28632, 'FP': 9, 'FN': 2529, 'Accuracy': 0.9204762650791164, 'Precision': 0.9880636604774535, 'Recall': 0.22755039706780697, 'desc': 'lgs_test_n1'}\n",
      "False Positive Rate:\n",
      "0.00031423483816905834\n",
      "True Positive Rate:\n",
      "0.22755039706780697\n"
     ]
    }
   ],
   "source": [
    "lgs_performance_test_n1 = BinaryClassificationPerformance(lgs_n1.predict(X_test), y_test, 'lgs_test_n1')\n",
    "lgs_performance_test_n1.compute_measures()\n",
    "print(lgs_performance_test_n1.performance_measures)\n",
    "print(\"False Positive Rate:\")\n",
    "print(lgs_performance_test_n1.performance_measures['FP'] / lgs_performance_test_n1.performance_measures['Neg'])\n",
    "print(\"True Positive Rate:\")\n",
    "print(lgs_performance_test_n1.performance_measures['TP'] / lgs_performance_test_n1.performance_measures['Pos'])"
   ]
  },
  {
   "cell_type": "code",
   "execution_count": 194,
   "metadata": {
    "scrolled": true
   },
   "outputs": [
    {
     "name": "stdout",
     "output_type": "stream",
     "text": [
      "{'Pos': 3274, 'Neg': 28641, 'TP': 2383, 'TN': 28058, 'FP': 583, 'FN': 891, 'Accuracy': 0.9538148206172646, 'Precision': 0.8034389750505732, 'Recall': 0.7278558338423946, 'desc': 'lgs_test_n3'}\n",
      "False Positive Rate:\n",
      "0.020355434516951224\n",
      "True Positive Rate:\n",
      "0.7278558338423946\n"
     ]
    }
   ],
   "source": [
    "lgs_performance_test_n3 = BinaryClassificationPerformance(lgs_n3.predict(X_test), y_test, 'lgs_test_n3')\n",
    "lgs_performance_test_n3.compute_measures()\n",
    "print(lgs_performance_test_n3.performance_measures)\n",
    "print(\"False Positive Rate:\")\n",
    "print(lgs_performance_test_n3.performance_measures['FP'] / lgs_performance_test_n3.performance_measures['Neg'])\n",
    "print(\"True Positive Rate:\")\n",
    "print(lgs_performance_test_n3.performance_measures['TP'] / lgs_performance_test_n3.performance_measures['Pos'])"
   ]
  },
  {
   "cell_type": "code",
   "execution_count": 195,
   "metadata": {
    "scrolled": true
   },
   "outputs": [
    {
     "name": "stdout",
     "output_type": "stream",
     "text": [
      "{'Pos': 3274, 'Neg': 28641, 'TP': 2556, 'TN': 26949, 'FP': 1692, 'FN': 718, 'Accuracy': 0.9244869183769387, 'Precision': 0.6016949152542372, 'Recall': 0.7806963958460599, 'desc': 'lgs_test_n5'}\n",
      "False Positive Rate:\n",
      "0.05907614957578297\n",
      "True Positive Rate:\n",
      "0.7806963958460599\n"
     ]
    }
   ],
   "source": [
    "lgs_performance_test_n5 = BinaryClassificationPerformance(lgs_n5.predict(X_test), y_test, 'lgs_test_n5')\n",
    "lgs_performance_test_n5.compute_measures()\n",
    "print(lgs_performance_test_n5.performance_measures)\n",
    "print(\"False Positive Rate:\")\n",
    "print(lgs_performance_test_n5.performance_measures['FP'] / lgs_performance_test_n5.performance_measures['Neg'])\n",
    "print(\"True Positive Rate:\")\n",
    "print(lgs_performance_test_n5.performance_measures['TP'] / lgs_performance_test_n5.performance_measures['Pos'])"
   ]
  },
  {
   "cell_type": "code",
   "execution_count": 196,
   "metadata": {
    "scrolled": true
   },
   "outputs": [
    {
     "name": "stdout",
     "output_type": "stream",
     "text": [
      "{'Pos': 3274, 'Neg': 28641, 'TP': 2435, 'TN': 27314, 'FP': 1327, 'FN': 839, 'Accuracy': 0.9321322262259126, 'Precision': 0.6472620946305156, 'Recall': 0.7437385461209529, 'desc': 'lgs_test_n7'}\n",
      "False Positive Rate:\n",
      "0.04633218113892671\n",
      "True Positive Rate:\n",
      "0.7437385461209529\n"
     ]
    }
   ],
   "source": [
    "lgs_performance_test_n7 = BinaryClassificationPerformance(lgs_n7.predict(X_test), y_test, 'lgs_test_n7')\n",
    "lgs_performance_test_n7.compute_measures()\n",
    "print(lgs_performance_test_n7.performance_measures)\n",
    "print(\"False Positive Rate:\")\n",
    "print(lgs_performance_test_n7.performance_measures['FP'] / lgs_performance_test_n7.performance_measures['Neg'])\n",
    "print(\"True Positive Rate:\")\n",
    "print(lgs_performance_test_n7.performance_measures['TP'] / lgs_performance_test_n7.performance_measures['Pos'])"
   ]
  },
  {
   "cell_type": "code",
   "execution_count": 197,
   "metadata": {
    "scrolled": true
   },
   "outputs": [
    {
     "name": "stdout",
     "output_type": "stream",
     "text": [
      "{'Pos': 3274, 'Neg': 28641, 'TP': 2458, 'TN': 27269, 'FP': 1372, 'FN': 816, 'Accuracy': 0.9314428951903494, 'Precision': 0.64177545691906, 'Recall': 0.7507635919364691, 'desc': 'lgs_test_n9'}\n",
      "False Positive Rate:\n",
      "0.047903355329772\n",
      "True Positive Rate:\n",
      "0.7507635919364691\n"
     ]
    }
   ],
   "source": [
    "lgs_performance_test_n9 = BinaryClassificationPerformance(lgs_n9.predict(X_test), y_test, 'lgs_test_n9')\n",
    "lgs_performance_test_n9.compute_measures()\n",
    "print(lgs_performance_test_n9.performance_measures)\n",
    "print(\"False Positive Rate:\")\n",
    "print(lgs_performance_test_n9.performance_measures['FP'] / lgs_performance_test_n9.performance_measures['Neg'])\n",
    "print(\"True Positive Rate:\")\n",
    "print(lgs_performance_test_n9.performance_measures['TP'] / lgs_performance_test_n9.performance_measures['Pos'])"
   ]
  },
  {
   "cell_type": "code",
   "execution_count": 198,
   "metadata": {
    "scrolled": true
   },
   "outputs": [
    {
     "name": "stdout",
     "output_type": "stream",
     "text": [
      "{'Pos': 3274, 'Neg': 28641, 'TP': 2335, 'TN': 27645, 'FP': 996, 'FN': 939, 'Accuracy': 0.9393702020993263, 'Precision': 0.7009906934854399, 'Recall': 0.713194868662187, 'desc': 'lgs_test_n11'}\n",
      "False Positive Rate:\n",
      "0.034775322090709125\n",
      "True Positive Rate:\n",
      "0.713194868662187\n"
     ]
    }
   ],
   "source": [
    "lgs_performance_test_n11 = BinaryClassificationPerformance(lgs_n11.predict(X_test), y_test, 'lgs_test_n11')\n",
    "lgs_performance_test_n11.compute_measures()\n",
    "print(lgs_performance_test_n11.performance_measures)\n",
    "print(\"False Positive Rate:\")\n",
    "print(lgs_performance_test_n11.performance_measures['FP'] / lgs_performance_test_n11.performance_measures['Neg'])\n",
    "print(\"True Positive Rate:\")\n",
    "print(lgs_performance_test_n11.performance_measures['TP'] / lgs_performance_test_n11.performance_measures['Pos'])"
   ]
  },
  {
   "cell_type": "code",
   "execution_count": 199,
   "metadata": {
    "scrolled": true
   },
   "outputs": [
    {
     "name": "stdout",
     "output_type": "stream",
     "text": [
      "{'Pos': 3274, 'Neg': 28641, 'TP': 2424, 'TN': 27390, 'FP': 1251, 'FN': 850, 'Accuracy': 0.934168886103713, 'Precision': 0.6595918367346939, 'Recall': 0.7403787416004887, 'desc': 'lgs_test_n13'}\n",
      "False Positive Rate:\n",
      "0.04367864250549911\n",
      "True Positive Rate:\n",
      "0.7403787416004887\n"
     ]
    }
   ],
   "source": [
    "lgs_performance_test_n13 = BinaryClassificationPerformance(lgs_n13.predict(X_test), y_test, 'lgs_test_n13')\n",
    "lgs_performance_test_n13.compute_measures()\n",
    "print(lgs_performance_test_n13.performance_measures)\n",
    "print(\"False Positive Rate:\")\n",
    "print(lgs_performance_test_n13.performance_measures['FP'] / lgs_performance_test_n13.performance_measures['Neg'])\n",
    "print(\"True Positive Rate:\")\n",
    "print(lgs_performance_test_n13.performance_measures['TP'] / lgs_performance_test_n13.performance_measures['Pos'])"
   ]
  },
  {
   "cell_type": "markdown",
   "metadata": {},
   "source": [
    "###### MODEL: Naive Bayes"
   ]
  },
  {
   "cell_type": "code",
   "execution_count": null,
   "metadata": {
    "scrolled": true
   },
   "outputs": [],
   "source": [
    "nbs_performance_test = BinaryClassificationPerformance(nbs.predict(X_test), y_test, 'nbs_test')\n",
    "nbs_performance_test.compute_measures()\n",
    "print(nbs_performance_test.performance_measures)\n",
    "print(\"True Positive Rate:\")\n",
    "print(nbs_performance_test.performance_measures['TP'] / nbs_performance_test.performance_measures['Pos'] * 100)\n",
    "print(\"False Positive Rate:\")\n",
    "print(nbs_performance_test.performance_measures['FP'] / nbs_performance_test.performance_measures['Neg'] * 100)\n",
    "print(\"False Negative Rate:\")\n",
    "print(nbs_performance_test.performance_measures['FN'] / nbs_performance_test.performance_measures['Pos'] * 100)"
   ]
  },
  {
   "cell_type": "code",
   "execution_count": null,
   "metadata": {
    "scrolled": true
   },
   "outputs": [],
   "source": [
    "# Complement NB\n",
    "cnb_performance_test = BinaryClassificationPerformance(cnb.predict(X_test), y_test, 'cnb_test')\n",
    "cnb_performance_test.compute_measures()\n",
    "print(cnb_performance_test.performance_measures)\n",
    "print(\"True Positive Rate:\")\n",
    "print(cnb_performance_test.performance_measures['TP'] / cnb_performance_test.performance_measures['Pos'] * 100)\n",
    "print(\"False Positive Rate:\")\n",
    "print(cnb_performance_test.performance_measures['FP'] / cnb_performance_test.performance_measures['Neg'] * 100)\n",
    "print(\"False Negative Rate:\")\n",
    "print(cnb_performance_test.performance_measures['FN'] / cnb_performance_test.performance_measures['Pos'] * 100)"
   ]
  },
  {
   "cell_type": "markdown",
   "metadata": {},
   "source": [
    "### MODEL: Perceptron"
   ]
  },
  {
   "cell_type": "code",
   "execution_count": 12,
   "metadata": {
    "scrolled": true
   },
   "outputs": [
    {
     "name": "stdout",
     "output_type": "stream",
     "text": [
      "{'Pos': 3274, 'Neg': 28641, 'TP': 2359, 'TN': 27827, 'FP': 814, 'FN': 915, 'Accuracy': 0.9458248472505092, 'Precision': 0.7434604475260006, 'Recall': 0.7205253512522908, 'desc': 'pac_test'}\n",
      "False Positive Rate:\n",
      "0.02842079536329039\n",
      "True Positive Rate:\n",
      "0.7205253512522908\n"
     ]
    }
   ],
   "source": [
    "pac_performance_test = BinaryClassificationPerformance(pac.predict(X_test), y_test, 'pac_test')\n",
    "pac_performance_test.compute_measures()\n",
    "print(pac_performance_test.performance_measures)\n",
    "print(\"False Positive Rate:\")\n",
    "print(pac_performance_test.performance_measures['FP'] / pac_performance_test.performance_measures['Neg'])\n",
    "print(\"True Positive Rate:\")\n",
    "print(pac_performance_test.performance_measures['TP'] / pac_performance_test.performance_measures['Pos'])"
   ]
  },
  {
   "cell_type": "code",
   "execution_count": 9,
   "metadata": {
    "scrolled": true
   },
   "outputs": [
    {
     "name": "stdout",
     "output_type": "stream",
     "text": [
      "{'Pos': 3274, 'Neg': 28641, 'TP': 2371, 'TN': 27763, 'FP': 878, 'FN': 903, 'Accuracy': 0.9441955193482688, 'Precision': 0.7297630040012312, 'Recall': 0.7241905925473427, 'desc': 'pcp_test'}\n",
      "False Positive Rate:\n",
      "0.030655354212492582\n",
      "True Positive Rate:\n",
      "0.7241905925473427\n"
     ]
    }
   ],
   "source": [
    "pcp_performance_test = BinaryClassificationPerformance(pcp.predict(X_test), y_test, 'pcp_test')\n",
    "pcp_performance_test.compute_measures()\n",
    "print(pcp_performance_test.performance_measures)\n",
    "print(\"False Positive Rate:\")\n",
    "print(pcp_performance_test.performance_measures['FP'] / pcp_performance_test.performance_measures['Neg'])\n",
    "print(\"True Positive Rate:\")\n",
    "print(pcp_performance_test.performance_measures['TP'] / pcp_performance_test.performance_measures['Pos'])"
   ]
  },
  {
   "cell_type": "code",
   "execution_count": 6,
   "metadata": {
    "scrolled": true
   },
   "outputs": [
    {
     "name": "stdout",
     "output_type": "stream",
     "text": [
      "{'Pos': 3274, 'Neg': 28641, 'TP': 2336, 'TN': 27557, 'FP': 1084, 'FN': 938, 'Accuracy': 0.9366442111859627, 'Precision': 0.6830409356725147, 'Recall': 0.7135003054367746, 'desc': 'prc_test'}\n",
      "False Positive Rate:\n",
      "0.03784784050836214\n",
      "True Positive Rate:\n",
      "0.7135003054367746\n"
     ]
    }
   ],
   "source": [
    "prc_performance_test = BinaryClassificationPerformance(prc.predict(X_test), y_test, 'prc_test')\n",
    "prc_performance_test.compute_measures()\n",
    "print(prc_performance_test.performance_measures)\n",
    "print(\"False Positive Rate:\")\n",
    "print(prc_performance_test.performance_measures['FP'] / prc_performance_test.performance_measures['Neg'])\n",
    "print(\"True Positive Rate:\")\n",
    "print(prc_performance_test.performance_measures['TP'] / prc_performance_test.performance_measures['Pos'])"
   ]
  },
  {
   "cell_type": "markdown",
   "metadata": {},
   "source": [
    "### MODEL: Ridge Regression Classifier"
   ]
  },
  {
   "cell_type": "code",
   "execution_count": null,
   "metadata": {
    "scrolled": true
   },
   "outputs": [],
   "source": [
    "rdg_performance_test = BinaryClassificationPerformance(rdg.predict(X_test), y_test, 'test_0')\n",
    "rdg_performance_test.compute_measures()\n",
    "print(rdg_performance_test.performance_measures)"
   ]
  },
  {
   "cell_type": "markdown",
   "metadata": {},
   "source": [
    "### MODEL: Random Forest Classifier"
   ]
  },
  {
   "cell_type": "code",
   "execution_count": null,
   "metadata": {
    "scrolled": true
   },
   "outputs": [],
   "source": [
    "rdf_performance_test_20 = BinaryClassificationPerformance(rdf_20.predict(X_test), y_test, 'rdf_test_20')\n",
    "rdf_performance_test_20.compute_measures()\n",
    "print(rdf_performance_test_20.performance_measures)"
   ]
  },
  {
   "cell_type": "markdown",
   "metadata": {},
   "source": [
    "### ROC plot to compare performance of various models and fits"
   ]
  },
  {
   "cell_type": "code",
   "execution_count": null,
   "metadata": {
    "scrolled": true
   },
   "outputs": [],
   "source": [
    "fits = [svm_performance_test, lgs_performance_test, nbs_performance_test, prc_performance_test]\n",
    "\n",
    "for fit in fits:\n",
    "    plt.plot(fit.performance_measures['FP'] / fit.performance_measures['Neg'], \n",
    "             fit.performance_measures['TP'] / fit.performance_measures['Pos'], 'bo')\n",
    "    plt.text(fit.performance_measures['FP'] / fit.performance_measures['Neg'], \n",
    "             fit.performance_measures['TP'] / fit.performance_measures['Pos'], fit.desc)\n",
    "plt.axis([0, .125, 0.685, 0.79])\n",
    "plt.title('ROC plot: test set')\n",
    "plt.xlabel('False positive rate')\n",
    "plt.ylabel('True positive rate')\n",
    "plt.rcParams['figure.figsize'] = (15, 15)\n",
    "plt.show()"
   ]
  },
  {
   "cell_type": "markdown",
   "metadata": {},
   "source": [
    "### ROC plot: test NB"
   ]
  },
  {
   "cell_type": "code",
   "execution_count": null,
   "metadata": {},
   "outputs": [],
   "source": [
    "fits = [nbs_performance_test, cnb_performance_test]\n",
    "\n",
    "for fit in fits:\n",
    "    plt.plot(fit.performance_measures['FP'] / fit.performance_measures['Neg'], \n",
    "             fit.performance_measures['TP'] / fit.performance_measures['Pos'], 'rx')\n",
    "    plt.text(fit.performance_measures['FP'] / fit.performance_measures['Neg'], \n",
    "             fit.performance_measures['TP'] / fit.performance_measures['Pos'], fit.desc)\n",
    "    \n",
    "# fits = [nbs_performance_train, nbs_performance_train_1, nbs_performance_train_3, nbs_performance_train_5, nbs_performance_train_n1, nbs_performance_train_n3, nbs_performance_train_n5, nbs_performance_train_n7]\n",
    "\n",
    "# for fit in fits:\n",
    "#     plt.plot(fit.performance_measures['FP'] / fit.performance_measures['Neg'], \n",
    "#              fit.performance_measures['TP'] / fit.performance_measures['Pos'], 'bo')\n",
    "#     plt.text(fit.performance_measures['FP'] / fit.performance_measures['Neg'], \n",
    "#              fit.performance_measures['TP'] / fit.performance_measures['Pos'], fit.desc)    \n",
    "\n",
    "plt.axis([0, 1, 0, 1])\n",
    "plt.title('ROC plot: test set')\n",
    "plt.xlabel('False positive rate')\n",
    "plt.ylabel('True positive rate')\n",
    "plt.rcParams['figure.figsize'] = (15, 15)\n",
    "plt.show()"
   ]
  },
  {
   "cell_type": "code",
   "execution_count": 250,
   "metadata": {},
   "outputs": [
    {
     "data": {
      "image/png": "[encoded data removed]",
      "text/plain": [
       "<Figure size 1080x1080 with 1 Axes>"
      ]
     },
     "metadata": {
      "needs_background": "light"
     },
     "output_type": "display_data"
    }
   ],
   "source": [
    "fits = [lgs_performance_test_n10, lgs_performance_test_n9, lgs_performance_test_n8, lgs_performance_test_n7]\n",
    "\n",
    "for fit in fits:\n",
    "    plt.plot(fit.performance_measures['FP'] / fit.performance_measures['Neg'], \n",
    "             fit.performance_measures['TP'] / fit.performance_measures['Pos'], 'rx')\n",
    "    plt.text(fit.performance_measures['FP'] / fit.performance_measures['Neg'], \n",
    "             fit.performance_measures['TP'] / fit.performance_measures['Pos'], fit.desc)\n",
    "    \n",
    "# fits = [nbs_performance_train, nbs_performance_train_1, nbs_performance_train_3, nbs_performance_train_n1, nbs_performance_train_n3, nbs_performance_train_n5, nbs_performance_train_n7]\n",
    "\n",
    "# for fit in fits:\n",
    "#     plt.plot(fit.performance_measures['FP'] / fit.performance_measures['Neg'], \n",
    "#              fit.performance_measures['TP'] / fit.performance_measures['Pos'], 'bo')\n",
    "#     plt.text(fit.performance_measures['FP'] / fit.performance_measures['Neg'], \n",
    "#              fit.performance_measures['TP'] / fit.performance_measures['Pos'], fit.desc)    \n",
    "\n",
    "plt.axis([0, 0.07, 0, 1])\n",
    "plt.title('ROC plot: test set')\n",
    "plt.xlabel('False positive rate')\n",
    "plt.ylabel('True positive rate')\n",
    "plt.rcParams['figure.figsize'] = (15, 15)\n",
    "plt.grid(b=True)\n",
    "plt.show()"
   ]
  },
  {
   "cell_type": "markdown",
   "metadata": {},
   "source": [
    "---\n",
    "\n",
    "# <span style=\"color:red\">SUBMISSION</span>\n",
    "\n",
    "---"
   ]
  },
  {
   "cell_type": "code",
   "execution_count": 200,
   "metadata": {},
   "outputs": [
    {
     "name": "stdout",
     "output_type": "stream",
     "text": [
      "toxic_data is: <class 'pandas.core.frame.DataFrame'>\n",
      "toxic_data has 153164 rows and 2 columns \n",
      "\n",
      "the data types for each of the columns in toxic_data:\n",
      "id              object\n",
      "comment_text    object\n",
      "dtype: object \n",
      "\n",
      "the first 5 rows in toxic_data:\n",
      "                 id                                       comment_text\n",
      "0  00001cee341fdb12  Yo bitch Ja Rule is more succesful then you'll...\n",
      "1  0000247867823ef7  == From RfC == \\n\\n The title is fine as it is...\n",
      "2  00013b17ad220c46  \" \\n\\n == Sources == \\n\\n * Zawe Ashton on Lap...\n",
      "3  00017563c3f7919a  :If you have a look back at the source, the in...\n",
      "4  00017695ad8997eb          I don't anonymously edit articles at all.\n",
      "Shape of HashingVectorizer X:\n",
      "(153164, 4096)\n",
      "Shape of HashingVectorizer char n_gram X:\n",
      "(153164, 4096)\n",
      "Look at a few rows of the new quantitative features: \n",
      "   consCaps_count  consCaps_ratio  consCapsword_ratio  punc_q_ratio  \\\n",
      "0               0        0.000000            0.000000      0.009009   \n",
      "1               1        0.020000            0.076923      0.047619   \n",
      "2               0        0.000000            0.000000      0.090909   \n",
      "3               0        0.000000            0.000000      0.024390   \n",
      "4               0        0.000000            0.000000      0.090909   \n",
      "5               0        0.000000            0.000000      0.047619   \n",
      "6               0        0.000000            0.000000      0.019608   \n",
      "7               0        0.000000            0.000000      0.090909   \n",
      "8               8        0.014388            0.073394      0.009901   \n",
      "9               0        0.000000            0.000000      0.019608   \n",
      "\n",
      "   punc_exc_ratio  punc_count_s  punc_count_a  punc_count_c  \\\n",
      "0        0.009009             0             0             1   \n",
      "1        0.047619             0             0             1   \n",
      "2        0.090909             0             1             0   \n",
      "3        0.024390             0             0             1   \n",
      "4        0.090909             0             0             0   \n",
      "5        0.047619             0             0             0   \n",
      "6        0.019608             0             0             1   \n",
      "7        0.090909             0             0             0   \n",
      "8        0.009901             0             0             1   \n",
      "9        0.019608             0             0             5   \n",
      "\n",
      "   spaceswords_ratio  spaces_ratio  ...  Caps_count  Caps_ratio  word_count  \\\n",
      "0           0.986111      0.193460  ...           4    0.000003          72   \n",
      "1           0.923077      0.240000  ...           7    0.004096          13   \n",
      "2           0.937500      0.277778  ...           4    0.000794          16   \n",
      "3           0.973684      0.180488  ...           4    0.000015          38   \n",
      "4           0.857143      0.146341  ...           1    0.000116           7   \n",
      "5           0.937500      0.156250  ...           2    0.000031          16   \n",
      "6           0.967742      0.170455  ...           5    0.000040          31   \n",
      "7           0.833333      0.156250  ...           1    0.000244           6   \n",
      "8           0.990826      0.194245  ...          41    0.000431         109   \n",
      "9           0.975610      0.178571  ...           7    0.000046          41   \n",
      "\n",
      "   char_ratio  punc_count_p  punc_count_exc  punc_count_q  punc_count  \\\n",
      "0    5.097222            10               0             0          11   \n",
      "1    3.846154             1               0             0           2   \n",
      "2    3.375000             0               0             0           1   \n",
      "3    5.394737             3               0             0           4   \n",
      "4    5.857143             1               0             0           1   \n",
      "5    6.000000             2               0             0           2   \n",
      "6    5.677419             4               0             0           5   \n",
      "7    5.333333             1               0             0           1   \n",
      "8    5.100917             9               0             0          10   \n",
      "9    5.463415             0               0             0           5   \n",
      "\n",
      "   punc_ratio  Capsword_ratio  \n",
      "0    0.152778        0.208333  \n",
      "1    0.153846        0.692308  \n",
      "2    0.062500        0.312500  \n",
      "3    0.105263        0.210526  \n",
      "4    0.142857        0.285714  \n",
      "5    0.125000        0.250000  \n",
      "6    0.161290        0.322581  \n",
      "7    0.166667        0.333333  \n",
      "8    0.091743        0.467890  \n",
      "9    0.121951        0.292683  \n",
      "\n",
      "[10 rows x 22 columns]\n",
      "Size of combined bag of words and new quantitative variables matrix:\n",
      "(153164, 8214)\n",
      "(153164, 8214)\n",
      "Shape of X_test for submission:\n",
      "(153164, 8214)\n",
      "SUCCESS!\n",
      "Number of rows in the submission test set (should be 153,164): \n"
     ]
    }
   ],
   "source": [
    "# read in test data for submission\n",
    "# CHANGE FILE PATH and my_random_seed number (any integer other than 74 will do): \n",
    "raw_data, X_test_submission = process_raw_data(fn='/Users/Charles/Desktop/ML/A1/toxiccomments_test.csv', my_random_seed=36, test=True)\n",
    "print(\"Number of rows in the submission test set (should be 153,164): \")"
   ]
  },
  {
   "cell_type": "code",
   "execution_count": null,
   "metadata": {
    "scrolled": true
   },
   "outputs": [],
   "source": [
    "# for 2 HashingV passed through respective tfidf transformer and then hstacked with quantfeat: AttributeError: lower not found\n",
    "# for 2 HashingV hstacked and passed through tfidf transformer: TypeError: 'coo_matrix' object is not subscriptable"
   ]
  },
  {
   "cell_type": "markdown",
   "metadata": {},
   "source": [
    "---\n",
    "\n",
    "Choose a <span style=\"color:red\">*single*</span> model for your submission. In this code, I am choosing the Ordinary Least Squares model fit, which is in the `ols` object. But you should choose the model that is performing the best for you! "
   ]
  },
  {
   "cell_type": "code",
   "execution_count": 202,
   "metadata": {
    "scrolled": true
   },
   "outputs": [
    {
     "name": "stdout",
     "output_type": "stream",
     "text": [
      "0.25276827452926276\n"
     ]
    }
   ],
   "source": [
    "# store the id from the raw data\n",
    "my_submission = pd.DataFrame(raw_data[\"id\"])\n",
    "# concatenate predictions to the id\n",
    "my_submission[\"prediction\"] = lgs_n5.predict(X_test_submission)\n",
    "# look at the proportion of positive predictions\n",
    "print(my_submission['prediction'].mean())"
   ]
  },
  {
   "cell_type": "code",
   "execution_count": 203,
   "metadata": {
    "scrolled": false
   },
   "outputs": [
    {
     "data": {
      "text/html": [
       "<div>\n",
       "<style scoped>\n",
       "    .dataframe tbody tr th:only-of-type {\n",
       "        vertical-align: middle;\n",
       "    }\n",
       "\n",
       "    .dataframe tbody tr th {\n",
       "        vertical-align: top;\n",
       "    }\n",
       "\n",
       "    .dataframe thead th {\n",
       "        text-align: right;\n",
       "    }\n",
       "</style>\n",
       "<table border=\"1\" class=\"dataframe\">\n",
       "  <thead>\n",
       "    <tr style=\"text-align: right;\">\n",
       "      <th></th>\n",
       "      <th>id</th>\n",
       "      <th>comment_text</th>\n",
       "      <th>char_count</th>\n",
       "      <th>Caps_count</th>\n",
       "      <th>Caps_ratio</th>\n",
       "      <th>word_count</th>\n",
       "      <th>char_ratio</th>\n",
       "      <th>punc_count_p</th>\n",
       "      <th>punc_count_exc</th>\n",
       "      <th>punc_count_q</th>\n",
       "      <th>...</th>\n",
       "      <th>punc_ratio</th>\n",
       "      <th>punc_exc_ratio</th>\n",
       "      <th>punc_q_ratio</th>\n",
       "      <th>Capsword_ratio</th>\n",
       "      <th>spaces_count</th>\n",
       "      <th>spaces_ratio</th>\n",
       "      <th>spaceswords_ratio</th>\n",
       "      <th>consCaps_count</th>\n",
       "      <th>consCaps_ratio</th>\n",
       "      <th>consCapsword_ratio</th>\n",
       "    </tr>\n",
       "  </thead>\n",
       "  <tbody>\n",
       "    <tr>\n",
       "      <th>0</th>\n",
       "      <td>00001cee341fdb12</td>\n",
       "      <td>Yo bitch Ja Rule is more succesful then you'll...</td>\n",
       "      <td>367</td>\n",
       "      <td>4</td>\n",
       "      <td>0.000003</td>\n",
       "      <td>72</td>\n",
       "      <td>5.097222</td>\n",
       "      <td>10</td>\n",
       "      <td>0</td>\n",
       "      <td>0</td>\n",
       "      <td>...</td>\n",
       "      <td>0.152778</td>\n",
       "      <td>0.009009</td>\n",
       "      <td>0.009009</td>\n",
       "      <td>0.208333</td>\n",
       "      <td>71</td>\n",
       "      <td>0.193460</td>\n",
       "      <td>0.986111</td>\n",
       "      <td>0</td>\n",
       "      <td>0.00</td>\n",
       "      <td>0.000000</td>\n",
       "    </tr>\n",
       "    <tr>\n",
       "      <th>1</th>\n",
       "      <td>0000247867823ef7</td>\n",
       "      <td>== From RfC == \\n\\n The title is fine as it is...</td>\n",
       "      <td>50</td>\n",
       "      <td>7</td>\n",
       "      <td>0.004096</td>\n",
       "      <td>13</td>\n",
       "      <td>3.846154</td>\n",
       "      <td>1</td>\n",
       "      <td>0</td>\n",
       "      <td>0</td>\n",
       "      <td>...</td>\n",
       "      <td>0.153846</td>\n",
       "      <td>0.047619</td>\n",
       "      <td>0.047619</td>\n",
       "      <td>0.692308</td>\n",
       "      <td>12</td>\n",
       "      <td>0.240000</td>\n",
       "      <td>0.923077</td>\n",
       "      <td>1</td>\n",
       "      <td>0.02</td>\n",
       "      <td>0.076923</td>\n",
       "    </tr>\n",
       "    <tr>\n",
       "      <th>2</th>\n",
       "      <td>00013b17ad220c46</td>\n",
       "      <td>\" \\n\\n == Sources == \\n\\n * Zawe Ashton on Lap...</td>\n",
       "      <td>54</td>\n",
       "      <td>4</td>\n",
       "      <td>0.000794</td>\n",
       "      <td>16</td>\n",
       "      <td>3.375000</td>\n",
       "      <td>0</td>\n",
       "      <td>0</td>\n",
       "      <td>0</td>\n",
       "      <td>...</td>\n",
       "      <td>0.062500</td>\n",
       "      <td>0.090909</td>\n",
       "      <td>0.090909</td>\n",
       "      <td>0.312500</td>\n",
       "      <td>15</td>\n",
       "      <td>0.277778</td>\n",
       "      <td>0.937500</td>\n",
       "      <td>0</td>\n",
       "      <td>0.00</td>\n",
       "      <td>0.000000</td>\n",
       "    </tr>\n",
       "    <tr>\n",
       "      <th>3</th>\n",
       "      <td>00017563c3f7919a</td>\n",
       "      <td>:If you have a look back at the source, the in...</td>\n",
       "      <td>205</td>\n",
       "      <td>4</td>\n",
       "      <td>0.000015</td>\n",
       "      <td>38</td>\n",
       "      <td>5.394737</td>\n",
       "      <td>3</td>\n",
       "      <td>0</td>\n",
       "      <td>0</td>\n",
       "      <td>...</td>\n",
       "      <td>0.105263</td>\n",
       "      <td>0.024390</td>\n",
       "      <td>0.024390</td>\n",
       "      <td>0.210526</td>\n",
       "      <td>37</td>\n",
       "      <td>0.180488</td>\n",
       "      <td>0.973684</td>\n",
       "      <td>0</td>\n",
       "      <td>0.00</td>\n",
       "      <td>0.000000</td>\n",
       "    </tr>\n",
       "    <tr>\n",
       "      <th>4</th>\n",
       "      <td>00017695ad8997eb</td>\n",
       "      <td>I don't anonymously edit articles at all.</td>\n",
       "      <td>41</td>\n",
       "      <td>1</td>\n",
       "      <td>0.000116</td>\n",
       "      <td>7</td>\n",
       "      <td>5.857143</td>\n",
       "      <td>1</td>\n",
       "      <td>0</td>\n",
       "      <td>0</td>\n",
       "      <td>...</td>\n",
       "      <td>0.142857</td>\n",
       "      <td>0.090909</td>\n",
       "      <td>0.090909</td>\n",
       "      <td>0.285714</td>\n",
       "      <td>6</td>\n",
       "      <td>0.146341</td>\n",
       "      <td>0.857143</td>\n",
       "      <td>0</td>\n",
       "      <td>0.00</td>\n",
       "      <td>0.000000</td>\n",
       "    </tr>\n",
       "  </tbody>\n",
       "</table>\n",
       "<p>5 rows × 24 columns</p>\n",
       "</div>"
      ],
      "text/plain": [
       "                 id                                       comment_text  \\\n",
       "0  00001cee341fdb12  Yo bitch Ja Rule is more succesful then you'll...   \n",
       "1  0000247867823ef7  == From RfC == \\n\\n The title is fine as it is...   \n",
       "2  00013b17ad220c46  \" \\n\\n == Sources == \\n\\n * Zawe Ashton on Lap...   \n",
       "3  00017563c3f7919a  :If you have a look back at the source, the in...   \n",
       "4  00017695ad8997eb          I don't anonymously edit articles at all.   \n",
       "\n",
       "   char_count  Caps_count  Caps_ratio  word_count  char_ratio  punc_count_p  \\\n",
       "0         367           4    0.000003          72    5.097222            10   \n",
       "1          50           7    0.004096          13    3.846154             1   \n",
       "2          54           4    0.000794          16    3.375000             0   \n",
       "3         205           4    0.000015          38    5.394737             3   \n",
       "4          41           1    0.000116           7    5.857143             1   \n",
       "\n",
       "   punc_count_exc  punc_count_q  ...  punc_ratio  punc_exc_ratio  \\\n",
       "0               0             0  ...    0.152778        0.009009   \n",
       "1               0             0  ...    0.153846        0.047619   \n",
       "2               0             0  ...    0.062500        0.090909   \n",
       "3               0             0  ...    0.105263        0.024390   \n",
       "4               0             0  ...    0.142857        0.090909   \n",
       "\n",
       "   punc_q_ratio  Capsword_ratio  spaces_count  spaces_ratio  \\\n",
       "0      0.009009        0.208333            71      0.193460   \n",
       "1      0.047619        0.692308            12      0.240000   \n",
       "2      0.090909        0.312500            15      0.277778   \n",
       "3      0.024390        0.210526            37      0.180488   \n",
       "4      0.090909        0.285714             6      0.146341   \n",
       "\n",
       "   spaceswords_ratio  consCaps_count  consCaps_ratio  consCapsword_ratio  \n",
       "0           0.986111               0            0.00            0.000000  \n",
       "1           0.923077               1            0.02            0.076923  \n",
       "2           0.937500               0            0.00            0.000000  \n",
       "3           0.973684               0            0.00            0.000000  \n",
       "4           0.857143               0            0.00            0.000000  \n",
       "\n",
       "[5 rows x 24 columns]"
      ]
     },
     "execution_count": 203,
     "metadata": {},
     "output_type": "execute_result"
    }
   ],
   "source": [
    "raw_data.head()"
   ]
  },
  {
   "cell_type": "code",
   "execution_count": 204,
   "metadata": {
    "scrolled": true
   },
   "outputs": [
    {
     "data": {
      "text/html": [
       "<div>\n",
       "<style scoped>\n",
       "    .dataframe tbody tr th:only-of-type {\n",
       "        vertical-align: middle;\n",
       "    }\n",
       "\n",
       "    .dataframe tbody tr th {\n",
       "        vertical-align: top;\n",
       "    }\n",
       "\n",
       "    .dataframe thead th {\n",
       "        text-align: right;\n",
       "    }\n",
       "</style>\n",
       "<table border=\"1\" class=\"dataframe\">\n",
       "  <thead>\n",
       "    <tr style=\"text-align: right;\">\n",
       "      <th></th>\n",
       "      <th>id</th>\n",
       "      <th>prediction</th>\n",
       "    </tr>\n",
       "  </thead>\n",
       "  <tbody>\n",
       "    <tr>\n",
       "      <th>0</th>\n",
       "      <td>00001cee341fdb12</td>\n",
       "      <td>True</td>\n",
       "    </tr>\n",
       "    <tr>\n",
       "      <th>1</th>\n",
       "      <td>0000247867823ef7</td>\n",
       "      <td>False</td>\n",
       "    </tr>\n",
       "    <tr>\n",
       "      <th>2</th>\n",
       "      <td>00013b17ad220c46</td>\n",
       "      <td>False</td>\n",
       "    </tr>\n",
       "    <tr>\n",
       "      <th>3</th>\n",
       "      <td>00017563c3f7919a</td>\n",
       "      <td>False</td>\n",
       "    </tr>\n",
       "    <tr>\n",
       "      <th>4</th>\n",
       "      <td>00017695ad8997eb</td>\n",
       "      <td>False</td>\n",
       "    </tr>\n",
       "  </tbody>\n",
       "</table>\n",
       "</div>"
      ],
      "text/plain": [
       "                 id  prediction\n",
       "0  00001cee341fdb12        True\n",
       "1  0000247867823ef7       False\n",
       "2  00013b17ad220c46       False\n",
       "3  00017563c3f7919a       False\n",
       "4  00017695ad8997eb       False"
      ]
     },
     "execution_count": 204,
     "metadata": {},
     "output_type": "execute_result"
    }
   ],
   "source": [
    "my_submission.head()"
   ]
  },
  {
   "cell_type": "code",
   "execution_count": 205,
   "metadata": {
    "scrolled": true
   },
   "outputs": [
    {
     "data": {
      "text/plain": [
       "(153164, 2)"
      ]
     },
     "execution_count": 205,
     "metadata": {},
     "output_type": "execute_result"
    }
   ],
   "source": [
    "my_submission.shape"
   ]
  },
  {
   "cell_type": "code",
   "execution_count": 206,
   "metadata": {
    "scrolled": true
   },
   "outputs": [],
   "source": [
    "# export submission file as pdf\n",
    "# CHANGE FILE PATH: \n",
    "my_submission.to_csv('/Users/Charles/Desktop/ML/A1/toxiccomments_submission_2.csv', index=False)"
   ]
  },
  {
   "cell_type": "markdown",
   "metadata": {},
   "source": [
    "# Submit to Canvas: 1) the CSV file that was written in the previous cell and 2) the url to the repository (GitHub or other) that contains your code and documentation"
   ]
  }
 ],
 "metadata": {
  "kernelspec": {
   "display_name": "Python 3",
   "language": "python",
   "name": "python3"
  },
  "language_info": {
   "codemirror_mode": {
    "name": "ipython",
    "version": 3
   },
   "file_extension": ".py",
   "mimetype": "text/x-python",
   "name": "python",
   "nbconvert_exporter": "python",
   "pygments_lexer": "ipython3",
   "version": "3.8.3"
  }
 },
 "nbformat": 4,
 "nbformat_minor": 2
}
