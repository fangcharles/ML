{
 "cells": [
  {
   "cell_type": "markdown",
   "metadata": {},
   "source": [
    "# Toxic comments\n",
    "\n",
    "This notebook takes you though a complete iteration of Machine Learning Assignment 1 - Toxic comments. The assignment details (including links to download the data) can be found [here](https://docs.google.com/document/d/1WGYw99e5q6j5V0Zrf2HveagU6URt_kVvdR8B9HYQ99E/edit?usp=sharing). "
   ]
  },
  {
   "cell_type": "code",
   "execution_count": 13,
   "metadata": {},
   "outputs": [],
   "source": [
    "# all imports and magic commands\n",
    "import numpy as np\n",
    "import pandas as pd\n",
    "import matplotlib.pyplot as plt\n",
    "from my_measures import BinaryClassificationPerformance\n",
    "from sklearn.feature_extraction.text import HashingVectorizer\n",
    "from sklearn.feature_extraction.text import TfidfTransformer\n",
    "from scipy.sparse import csr_matrix, hstack\n",
    "from sklearn.preprocessing import StandardScaler\n",
    "from sklearn.preprocessing import PolynomialFeatures\n",
    "from sklearn.kernel_approximation import RBFSampler\n",
    "from sklearn.model_selection import train_test_split\n",
    "%matplotlib inline"
   ]
  },
  {
   "cell_type": "markdown",
   "metadata": {},
   "source": [
    "### IMPORTANT!!! Make sure you are using `BinaryClassificationPerformance` v1.02"
   ]
  },
  {
   "cell_type": "code",
   "execution_count": null,
   "metadata": {},
   "outputs": [],
   "source": [
    "help(BinaryClassificationPerformance)"
   ]
  },
  {
   "cell_type": "markdown",
   "metadata": {},
   "source": [
    "# Function for feature building and extraction on natural language data"
   ]
  },
  {
   "cell_type": "code",
   "execution_count": 17,
   "metadata": {},
   "outputs": [],
   "source": [
    "# function that takes raw data and completes all preprocessing required before model fits\n",
    "def process_raw_data(fn, my_random_seed, test=False):\n",
    "    toxic_data = pd.read_csv(fn)\n",
    "    if (not test):\n",
    "        # add an indicator for any toxic, severe toxic, obscene, threat, insult, or indentity hate\n",
    "        toxic_data['any_toxic'] = (toxic_data['toxic'] + toxic_data['severe_toxic'] + toxic_data['obscene'] + toxic_data['threat'] + toxic_data['insult'] + toxic_data['identity_hate'] > 0)\n",
    "    print(\"toxic_data is:\", type(toxic_data))\n",
    "    print(\"toxic_data has\", toxic_data.shape[0], \"rows and\", toxic_data.shape[1], \"columns\", \"\\n\")\n",
    "    print(\"the data types for each of the columns in toxic_data:\")\n",
    "    print(toxic_data.dtypes, \"\\n\")\n",
    "    print(\"the first 5 rows in toxic_data:\")\n",
    "    print(toxic_data.head(5))\n",
    "\n",
    "    if (not test):\n",
    "        print(\"The rate of 'toxic' Wikipedia comments in the dataset: \")\n",
    "        print(toxic_data['any_toxic'].mean())\n",
    "\n",
    "    if (not test): # fit_transform()\n",
    "        hv = HashingVectorizer(n_features=2 ** 18, alternate_sign=False, ngram_range=(1,2), stop_words='english')       \n",
    "        X_hv = hv.fit_transform(toxic_data.comment_text)\n",
    "        fitted_transformations.append(hv)\n",
    "        print(\"Shape of HashingVectorizer X:\")\n",
    "        print(X_hv.shape)\n",
    "    else: # transform() \n",
    "        X_hv = fitted_transformations[0].transform(toxic_data.comment_text)\n",
    "        print(\"Shape of HashingVectorizer X:\")\n",
    "        print(X_hv.shape)\n",
    "    # submission condition is test: what's the diff between test and not test here?  \n",
    "    # 'fitted_transformations.append' vs. '.transform'.  Why in the test condition does transform the data\n",
    "    # \"fit\" computes the mean and std to be used for later scaling. (just a computation) \n",
    "    # \"transform\" uses a previously computed mean and std to autoscale the data\n",
    "        \n",
    "    if (not test):\n",
    "        chv = HashingVectorizer(n_features=2 ** 18, alternate_sign=False, analyzer='char_wb', ngram_range=(2,4))\n",
    "        X_chv = chv.fit_transform(toxic_data.comment_text)\n",
    "        fitted_transformations.append(chv)\n",
    "        print(\"Shape of HashingVectorizer char n_gram X:\")\n",
    "        print(X_chv.shape)\n",
    "    else:\n",
    "        X_chv = fitted_transformations[1].transform(toxic_data.comment_text)\n",
    "        print(\"Shape of HashingVectorizer char n_gram X:\")\n",
    "        print(X_chv.shape)\n",
    "    \n",
    "#     X_cv = hstack([X_hv, X_chv])\n",
    "#     print(\"Shape of Vectorizer combined X:\")\n",
    "#     print(X_cv.shape)\n",
    "    \n",
    "    # http://scikit-learn.org/stable/modules/generated/sklearn.feature_extraction.text.TfidfTransformer.html\n",
    "#     if (not test):\n",
    "#         transformer = TfidfTransformer()\n",
    "#         X_tfidf = transformer.fit_transform(X_cv)\n",
    "#         fitted_transformations.append(transformer)\n",
    "#     else:\n",
    "#         X_tfidf = fitted_transformations[1].transform(X_cv)\n",
    "    \n",
    "    if (not test):\n",
    "        transformer = TfidfTransformer()\n",
    "        X_tfidf = transformer.fit_transform(X_hv)\n",
    "        fitted_transformations.append(transformer)\n",
    "    else:\n",
    "        X_tfidf = fitted_transformations[2].transform(X_hv)\n",
    "\n",
    "    #    \n",
    "    if (not test):\n",
    "        transformer_chv = TfidfTransformer()\n",
    "        X_tfidf_chv = transformer_chv.fit_transform(X_chv)\n",
    "        fitted_transformations.append(transformer_chv)\n",
    "    else:\n",
    "        X_tfidf_chv = fitted_transformations[3].transform(X_chv)\n",
    "    \n",
    "    # create additional quantitative features\n",
    "\n",
    "    # what does the form toxic_data['comment_text'] mean?\n",
    "    toxic_data['char_count'] = toxic_data['comment_text'].str.len()\n",
    "    toxic_data['Caps_count'] = toxic_data['comment_text'].str.count(r'[A-Z]')\n",
    "    toxic_data['Caps_ratio'] = pow((toxic_data['Caps_count']+1)/toxic_data['char_count'], 3)\n",
    "    \n",
    "    toxic_data['word_count'] = toxic_data['comment_text'].str.split(' ').str.len()\n",
    "    toxic_data['char_ratio'] = toxic_data['char_count']/toxic_data['word_count']\n",
    "    \n",
    "    toxic_data['punc_count_p'] = toxic_data['comment_text'].str.count(\"\\.\")\n",
    "    toxic_data['punc_count_exc'] = toxic_data['comment_text'].str.count(\"\\!\")\n",
    "    toxic_data['punc_count_q'] = toxic_data['comment_text'].str.count(\"\\?\")\n",
    "    \n",
    "    toxic_data['punc_count'] = toxic_data['punc_count_p'] + toxic_data['punc_count_exc'] + toxic_data['punc_count_q']\n",
    "    toxic_data['punc_ratio'] = toxic_data['punc_count']/toxic_data['word_count']\n",
    "    \n",
    "    toxic_data['Capsword_ratio'] = (toxic_data['Caps_count'] + toxic_data['punc_count'])/toxic_data['word_count']\n",
    "    \n",
    "    toxic_data['spaces_count'] = toxic_data['comment_text'].str.count(\" \")\n",
    "    toxic_data['spaces_ratio'] = toxic_data['spaces_count']/toxic_data['char_count']\n",
    "    toxic_data['spaceswords_ratio'] = toxic_data['spaces_count']/toxic_data['word_count']\n",
    "    \n",
    "    # count the number of consecutive caps letters\n",
    "    toxic_data['consCaps_count'] = toxic_data['comment_text'].str.count(r'[A-Z]{3}')\n",
    "    toxic_data['consCaps_ratio'] = toxic_data['consCaps_count']/toxic_data['char_count']\n",
    "    toxic_data['consCapsword_ratio'] = toxic_data['consCaps_count']/toxic_data['word_count']\n",
    "    \n",
    "    # current count: 17 quant features\n",
    "    X_quant_features = toxic_data[[\"consCapsword_ratio\", \"consCaps_ratio\", \"consCaps_count\", \"spaceswords_ratio\", \"spaces_ratio\", \"spaces_count\", \"char_count\", \"Caps_count\", \"Caps_ratio\", \"word_count\", \"char_ratio\", \"punc_count_p\", \"punc_count_exc\", \"punc_count_q\", \"punc_count\", \"punc_ratio\", \"Capsword_ratio\"]]\n",
    "    print(\"Look at a few rows of the new quantitative features: \")\n",
    "    print(X_quant_features.head(10))\n",
    "    \n",
    "    # Combine all quantitative features into a single sparse matrix\n",
    "    X_quant_features_csr = csr_matrix(X_quant_features)\n",
    "#     X_combined = hstack([X_tfidf, X_quant_features_csr])\n",
    "    X_combined = hstack([X_tfidf, X_tfidf_chv, X_quant_features_csr])\n",
    "    X_matrix = csr_matrix(X_combined) # convert to sparse matrix\n",
    "    print(\"Size of combined bag of words and new quantitative variables matrix:\")\n",
    "    print(X_matrix.shape)\n",
    "    \n",
    "    # Create `X`, scaled matrix of features\n",
    "    # feature scaling\n",
    "    if (not test):\n",
    "        sc = StandardScaler(with_mean=False)\n",
    "        X = sc.fit_transform(X_matrix)\n",
    "        fitted_transformations.append(sc)\n",
    "        print(X.shape)\n",
    "        y = toxic_data['any_toxic']\n",
    "    else:\n",
    "        X = fitted_transformations[4].transform(X_matrix)\n",
    "        print(X.shape)\n",
    "    \n",
    "\n",
    "#     # polynomialregression\n",
    "#     if (not test):\n",
    "#         poly = PolynomialFeatures(degree=2, interaction_only=True, order='F')\n",
    "#         X = poly.fit_transform(X_matrix)\n",
    "#         fitted_transformations.append(poly)\n",
    "#         print(X.shape)\n",
    "#         y = toxic_data['any_toxic']\n",
    "#     else:\n",
    "#         X = fitted_transformations[4].transform(X_matrix)\n",
    "#         print(X.shape)\n",
    "    \n",
    "    \n",
    "    # Create Training and Test Sets\n",
    "    # enter an integer for the random_state parameter; any integer will work\n",
    "    if (test):\n",
    "        X_submission_test = X\n",
    "        print(\"Shape of X_test for submission:\")\n",
    "        print(X_submission_test.shape)\n",
    "        print('SUCCESS!')\n",
    "        return(toxic_data, X_submission_test)\n",
    "    else: \n",
    "        X_train, X_test, y_train, y_test, X_raw_train, X_raw_test = train_test_split(X, y, toxic_data, test_size=0.05, random_state=my_random_seed)\n",
    "        print(\"Shape of X_train and X_test:\")\n",
    "        print(X_train.shape)\n",
    "        print(X_test.shape)\n",
    "        print(\"Shape of y_train and y_test:\")\n",
    "        print(y_train.shape)\n",
    "        print(y_test.shape)\n",
    "        print(\"Shape of X_raw_train and X_raw_test:\")\n",
    "        print(X_raw_train.shape)\n",
    "        print(X_raw_test.shape)\n",
    "        print('SUCCESS!')\n",
    "        return(X_train, X_test, y_train, y_test, X_raw_train, X_raw_test)"
   ]
  },
  {
   "cell_type": "markdown",
   "metadata": {},
   "source": [
    "# Create training and test sets from function"
   ]
  },
  {
   "cell_type": "code",
   "execution_count": 18,
   "metadata": {},
   "outputs": [
    {
     "name": "stdout",
     "output_type": "stream",
     "text": [
      "toxic_data is: <class 'pandas.core.frame.DataFrame'>\n",
      "toxic_data has 159571 rows and 9 columns \n",
      "\n",
      "the data types for each of the columns in toxic_data:\n",
      "id               object\n",
      "comment_text     object\n",
      "toxic             int64\n",
      "severe_toxic      int64\n",
      "obscene           int64\n",
      "threat            int64\n",
      "insult            int64\n",
      "identity_hate     int64\n",
      "any_toxic          bool\n",
      "dtype: object \n",
      "\n",
      "the first 5 rows in toxic_data:\n",
      "                 id                                       comment_text  toxic  \\\n",
      "0  0000997932d777bf  Explanation\\nWhy the edits made under my usern...      0   \n",
      "1  000103f0d9cfb60f  D'aww! He matches this background colour I'm s...      0   \n",
      "2  000113f07ec002fd  Hey man, I'm really not trying to edit war. It...      0   \n",
      "3  0001b41b1c6bb37e  \"\\nMore\\nI can't make any real suggestions on ...      0   \n",
      "4  0001d958c54c6e35  You, sir, are my hero. Any chance you remember...      0   \n",
      "\n",
      "   severe_toxic  obscene  threat  insult  identity_hate  any_toxic  \n",
      "0             0        0       0       0              0      False  \n",
      "1             0        0       0       0              0      False  \n",
      "2             0        0       0       0              0      False  \n",
      "3             0        0       0       0              0      False  \n",
      "4             0        0       0       0              0      False  \n",
      "The rate of 'toxic' Wikipedia comments in the dataset: \n",
      "0.10167887648758234\n",
      "Shape of HashingVectorizer X:\n",
      "(159571, 262144)\n",
      "Shape of HashingVectorizer char n_gram X:\n",
      "(159571, 262144)\n",
      "Look at a few rows of the new quantitative features: \n",
      "   consCapsword_ratio  consCaps_ratio  consCaps_count  spaceswords_ratio  \\\n",
      "0            0.023810        0.003788               1           0.976190   \n",
      "1            0.055556        0.008929               1           0.944444   \n",
      "2            0.000000        0.000000               0           0.976190   \n",
      "3            0.000000        0.000000               0           0.991071   \n",
      "4            0.000000        0.000000               0           0.923077   \n",
      "5            0.000000        0.000000               0           0.916667   \n",
      "6            1.250000        0.227273              10           0.875000   \n",
      "7            0.000000        0.000000               0           0.952381   \n",
      "8            0.000000        0.000000               0           0.987952   \n",
      "9            0.000000        0.000000               0           0.916667   \n",
      "\n",
      "   spaces_ratio  spaces_count  char_count  Caps_count  Caps_ratio  word_count  \\\n",
      "0      0.155303            41         264          17    0.000317          42   \n",
      "1      0.151786            17         112           8    0.000519          18   \n",
      "2      0.175966            41         233           4    0.000010          42   \n",
      "3      0.178457           111         622          11    0.000007         112   \n",
      "4      0.179104            12          67           2    0.000090          13   \n",
      "5      0.169231            11          65           1    0.000029          12   \n",
      "6      0.159091             7          44          37    0.644159           8   \n",
      "7      0.173913            20         115           4    0.000082          21   \n",
      "8      0.173729            82         472           7    0.000005          83   \n",
      "9      0.157143            11          70           2    0.000079          12   \n",
      "\n",
      "   char_ratio  punc_count_p  punc_count_exc  punc_count_q  punc_count  \\\n",
      "0    6.285714             5               0             1           6   \n",
      "1    6.222222             2               1             0           3   \n",
      "2    5.547619             3               0             0           3   \n",
      "3    5.553571             3               0             0           3   \n",
      "4    5.153846             1               0             1           2   \n",
      "5    5.416667             1               0             0           1   \n",
      "6    5.500000             0               0             0           0   \n",
      "7    5.476190             2               0             0           2   \n",
      "8    5.686747             7               0             1           8   \n",
      "9    5.833333             0               0             0           0   \n",
      "\n",
      "   punc_ratio  Capsword_ratio  \n",
      "0    0.142857        0.547619  \n",
      "1    0.166667        0.611111  \n",
      "2    0.071429        0.166667  \n",
      "3    0.026786        0.125000  \n",
      "4    0.153846        0.307692  \n",
      "5    0.083333        0.166667  \n",
      "6    0.000000        4.625000  \n",
      "7    0.095238        0.285714  \n",
      "8    0.096386        0.180723  \n",
      "9    0.000000        0.166667  \n",
      "Size of combined bag of words and new quantitative variables matrix:\n",
      "(159571, 524305)\n",
      "(159571, 524305)\n",
      "Shape of X_train and X_test:\n",
      "(151592, 524305)\n",
      "(7979, 524305)\n",
      "Shape of y_train and y_test:\n",
      "(151592,)\n",
      "(7979,)\n",
      "Shape of X_raw_train and X_raw_test:\n",
      "(151592, 26)\n",
      "(7979, 26)\n",
      "SUCCESS!\n",
      "Number of fits stored in `fitted_transformations` list: \n",
      "5\n",
      "Wall time: 5min 33s\n"
     ]
    }
   ],
   "source": [
    "%%time\n",
    "# create an empty list to store any use of fit_transform() to transform() later\n",
    "# it is a global list to store model and feature extraction fits\n",
    "fitted_transformations = []\n",
    "\n",
    "# CHANGE FILE PATH and my_random_seed number (any integer other than 74 will do): \n",
    "X_train, X_test, y_train, y_test, X_raw_train, X_raw_test = process_raw_data(fn='/Users/Charles/Desktop/ML/A1/toxiccomments_train.csv', my_random_seed=36)\n",
    "\n",
    "print(\"Number of fits stored in `fitted_transformations` list: \")\n",
    "print(len(fitted_transformations))"
   ]
  },
  {
   "cell_type": "markdown",
   "metadata": {},
   "source": [
    "# Fit (and tune) Various Models"
   ]
  },
  {
   "cell_type": "markdown",
   "metadata": {},
   "source": [
    "### MODEL: ordinary least squares"
   ]
  },
  {
   "cell_type": "code",
   "execution_count": null,
   "metadata": {},
   "outputs": [],
   "source": [
    "from sklearn import linear_model\n",
    "ols = linear_model.SGDClassifier(loss=\"squared_loss\")\n",
    "ols.fit(X_train, y_train)\n",
    "\n",
    "ols_performance_train = BinaryClassificationPerformance(ols.predict(X_train), y_train, 'ols_train')\n",
    "ols_performance_train.compute_measures()\n",
    "print(ols_performance_train.performance_measures)\n",
    "print(\"False Positive Rate:\")\n",
    "print(ols_performance_train.performance_measures['FP'] / ols_performance_train.performance_measures['Neg'])\n",
    "print(\"True Positive Rate:\")\n",
    "print(ols_performance_train.performance_measures['TP'] / ols_performance_train.performance_measures['Pos'])"
   ]
  },
  {
   "cell_type": "markdown",
   "metadata": {},
   "source": [
    "### MODEL: SVM, linear"
   ]
  },
  {
   "cell_type": "code",
   "execution_count": 12,
   "metadata": {},
   "outputs": [
    {
     "name": "stdout",
     "output_type": "stream",
     "text": [
      "{'Pos': 12951, 'Neg': 114705, 'TP': 12162, 'TN': 113071, 'FP': 1634, 'FN': 789, 'Accuracy': 0.9810193018737858, 'Precision': 0.8815598724267903, 'Recall': 0.9390780634700023, 'desc': 'svm_train'}\n",
      "False Positive Rate:\n",
      "0.014245237783880389\n",
      "True Positive Rate:\n",
      "0.9390780634700023\n"
     ]
    }
   ],
   "source": [
    "from sklearn import linear_model\n",
    "svm = linear_model.SGDClassifier()\n",
    "svm.fit(X_train, y_train)\n",
    "\n",
    "svm_performance_train = BinaryClassificationPerformance(svm.predict(X_train), y_train, 'svm_train')\n",
    "svm_performance_train.compute_measures()\n",
    "print(svm_performance_train.performance_measures)\n",
    "print(\"False Positive Rate:\")\n",
    "print(svm_performance_train.performance_measures['FP'] / svm_performance_train.performance_measures['Neg'])\n",
    "print(\"True Positive Rate:\")\n",
    "print(svm_performance_train.performance_measures['TP'] / svm_performance_train.performance_measures['Pos'])"
   ]
  },
  {
   "cell_type": "markdown",
   "metadata": {},
   "source": [
    "### MODEL: logistic regression"
   ]
  },
  {
   "cell_type": "code",
   "execution_count": 49,
   "metadata": {},
   "outputs": [
    {
     "name": "stdout",
     "output_type": "stream",
     "text": [
      "{'Pos': 12951, 'Neg': 114705, 'TP': 9587, 'TN': 112736, 'FP': 1969, 'FN': 3364, 'Accuracy': 0.958223663595914, 'Precision': 0.8296123226029768, 'Recall': 0.740251718014053, 'desc': 'lgs_train'}\n",
      "False Positive Rate:\n",
      "0.017165773070049257\n",
      "True Positive Rate:\n",
      "0.740251718014053\n"
     ]
    }
   ],
   "source": [
    "from sklearn import linear_model\n",
    "lgs = linear_model.SGDClassifier(loss='log')\n",
    "lgs.fit(X_train, y_train)\n",
    "\n",
    "lgs_performance_train = BinaryClassificationPerformance(lgs.predict(X_train), y_train, 'lgs_train')\n",
    "lgs_performance_train.compute_measures()\n",
    "print(lgs_performance_train.performance_measures)\n",
    "print(\"False Positive Rate:\")\n",
    "print(lgs_performance_train.performance_measures['FP'] / lgs_performance_train.performance_measures['Neg'])\n",
    "print(\"True Positive Rate:\")\n",
    "print(lgs_performance_train.performance_measures['TP'] / lgs_performance_train.performance_measures['Pos'])"
   ]
  },
  {
   "cell_type": "code",
   "execution_count": 103,
   "metadata": {},
   "outputs": [
    {
     "name": "stderr",
     "output_type": "stream",
     "text": [
      "C:\\ProgramData\\Anaconda3\\envs\\deeplearning\\lib\\site-packages\\sklearn\\linear_model\\_logistic.py:764: ConvergenceWarning: lbfgs failed to converge (status=1):\n",
      "STOP: TOTAL NO. of ITERATIONS REACHED LIMIT.\n",
      "\n",
      "Increase the number of iterations (max_iter) or scale the data as shown in:\n",
      "    https://scikit-learn.org/stable/modules/preprocessing.html\n",
      "Please also refer to the documentation for alternative solver options:\n",
      "    https://scikit-learn.org/stable/modules/linear_model.html#logistic-regression\n",
      "  extra_warning_msg=_LOGISTIC_SOLVER_CONVERGENCE_MSG)\n"
     ]
    },
    {
     "name": "stdout",
     "output_type": "stream",
     "text": [
      "Wall time: 1min 28s\n"
     ]
    }
   ],
   "source": [
    "%%time\n",
    "# lgr\n",
    "from sklearn import linear_model\n",
    "lgr = linear_model.LogisticRegression(multi_class='multinomial', random_state=1)\n",
    "lgr.fit(X2_train, y2_train)\n",
    "\n",
    "lgr_performance_train = BinaryClassificationPerformance(lgr.predict(X2_train), y2_train, 'lgr_train')\n",
    "lgr_performance_train.compute_measures()"
   ]
  },
  {
   "cell_type": "markdown",
   "metadata": {},
   "source": [
    "### MODEL: Naive Bayes"
   ]
  },
  {
   "cell_type": "code",
   "execution_count": 104,
   "metadata": {},
   "outputs": [
    {
     "name": "stdout",
     "output_type": "stream",
     "text": [
      "Wall time: 878 ms\n"
     ]
    }
   ],
   "source": [
    "%%time\n",
    "from sklearn.naive_bayes import MultinomialNB\n",
    "nbs = MultinomialNB(alpha=0.01)\n",
    "nbs.fit(X2_train, y2_train)\n",
    "\n",
    "nbs_performance_train = BinaryClassificationPerformance(nbs.predict(X2_train), y2_train, 'nbs_train')\n",
    "nbs_performance_train.compute_measures()"
   ]
  },
  {
   "cell_type": "code",
   "execution_count": 105,
   "metadata": {},
   "outputs": [
    {
     "name": "stdout",
     "output_type": "stream",
     "text": [
      "Wall time: 950 ms\n"
     ]
    }
   ],
   "source": [
    "%%time\n",
    "# Complement Naive Bayes\n",
    "from sklearn.naive_bayes import ComplementNB\n",
    "cnb = ComplementNB(alpha=0.00001, norm=True)\n",
    "cnb.fit(X2_train, y2_train)\n",
    "\n",
    "cnb_performance_train = BinaryClassificationPerformance(cnb.predict(X2_train), y2_train, 'cnb_train')\n",
    "cnb_performance_train.compute_measures()"
   ]
  },
  {
   "cell_type": "markdown",
   "metadata": {},
   "source": [
    "### MODEL: Perceptron"
   ]
  },
  {
   "cell_type": "code",
   "execution_count": 46,
   "metadata": {},
   "outputs": [
    {
     "name": "stdout",
     "output_type": "stream",
     "text": [
      "{'Pos': 12951, 'Neg': 114705, 'TP': 8107, 'TN': 113326, 'FP': 1379, 'FN': 4844, 'Accuracy': 0.9512518017171148, 'Precision': 0.8546278726544381, 'Recall': 0.6259748281985947, 'desc': 'prc_train'}\n",
      "False Positive Rate:\n",
      "0.012022143760080206\n",
      "True Positive Rate:\n",
      "0.6259748281985947\n"
     ]
    }
   ],
   "source": [
    "from sklearn import linear_model\n",
    "prc = linear_model.SGDClassifier(loss='perceptron')\n",
    "prc.fit(X_train, y_train)\n",
    "\n",
    "prc_performance_train = BinaryClassificationPerformance(prc.predict(X_train), y_train, 'prc_train')\n",
    "prc_performance_train.compute_measures()\n",
    "print(prc_performance_train.performance_measures)\n",
    "print(\"False Positive Rate:\")\n",
    "print(prc_performance_train.performance_measures['FP'] / prc_performance_train.performance_measures['Neg'])\n",
    "print(\"True Positive Rate:\")\n",
    "print(prc_performance_train.performance_measures['TP'] / prc_performance_train.performance_measures['Pos'])"
   ]
  },
  {
   "cell_type": "code",
   "execution_count": 37,
   "metadata": {},
   "outputs": [
    {
     "name": "stderr",
     "output_type": "stream",
     "text": [
      "C:\\ProgramData\\Anaconda3\\envs\\deeplearning\\lib\\site-packages\\sklearn\\neural_network\\_multilayer_perceptron.py:587: UserWarning: Training interrupted by user.\n",
      "  warnings.warn(\"Training interrupted by user.\")\n"
     ]
    },
    {
     "name": "stdout",
     "output_type": "stream",
     "text": [
      "Wall time: 2min 2s\n"
     ]
    }
   ],
   "source": [
    "%%time\n",
    "# multilayer perceptron\n",
    "# too much runtime\n",
    "from sklearn import neural_network\n",
    "mlp = neural_network.MLPClassifier(hidden_layer_sizes=(2, 4))\n",
    "mlp.fit(X_train, y_train)\n",
    "\n",
    "mlp_performance_train = BinaryClassificationPerformance(mlp.predict(X_train), y_train, 'mlp_train')\n",
    "mlp_performance_train.compute_measures()"
   ]
  },
  {
   "cell_type": "markdown",
   "metadata": {},
   "source": [
    "### MODEL: Ridge Regression Classifier"
   ]
  },
  {
   "cell_type": "code",
   "execution_count": 19,
   "metadata": {},
   "outputs": [
    {
     "name": "stderr",
     "output_type": "stream",
     "text": [
      "C:\\ProgramData\\Anaconda3\\envs\\deeplearning\\lib\\site-packages\\sklearn\\linear_model\\_ridge.py:556: UserWarning: \"sag\" solver requires many iterations to fit an intercept with sparse inputs. Either set the solver to \"auto\" or \"sparse_cg\", or set a low \"tol\" and a high \"max_iter\" (especially if inputs are not standardized).\n",
      "  '\"sag\" solver requires many iterations to fit '\n"
     ]
    },
    {
     "name": "stdout",
     "output_type": "stream",
     "text": [
      "{'Pos': 15388, 'Neg': 136204, 'TP': 15320, 'TN': 124853, 'FP': 11351, 'FN': 68, 'Accuracy': 0.9246728059528208, 'Precision': 0.5744066589179259, 'Recall': 0.9955809721861191, 'desc': 'rdg'}\n",
      "Wall time: 1min 27s\n"
     ]
    }
   ],
   "source": [
    "%%time\n",
    "from sklearn import linear_model\n",
    "rdg = linear_model.RidgeClassifier(alpha=25, normalize=True, solver='sag')\n",
    "rdg.fit(X_train, y_train)\n",
    "\n",
    "rdg_performance_train = BinaryClassificationPerformance(rdg.predict(X_train), y_train, 'rdg')\n",
    "rdg_performance_train.compute_measures()\n",
    "print(rdg_performance_train.performance_measures)"
   ]
  },
  {
   "cell_type": "code",
   "execution_count": null,
   "metadata": {},
   "outputs": [],
   "source": [
    "%%time\n",
    "from sklearn import linear_model\n",
    "rdg_2p5 = linear_model.RidgeClassifier(alpha=2.5, normalize=True, solver='sag')\n",
    "rdg_2p5.fit(X_train, y_train)\n",
    "\n",
    "rdg_performance_train_2p5 = BinaryClassificationPerformance(rdg_2p5.predict(X_train), y_train, 'rdg_2p5')\n",
    "rdg_performance_train_2p5.compute_measures()\n",
    "print(rdg_performance_train_2p5.performance_measures)"
   ]
  },
  {
   "cell_type": "code",
   "execution_count": null,
   "metadata": {},
   "outputs": [],
   "source": [
    "%%time\n",
    "from sklearn import linear_model\n",
    "rdg_5 = linear_model.RidgeClassifier(alpha=5, normalize=True, solver='sag')\n",
    "rdg_5.fit(X_train, y_train)\n",
    "\n",
    "rdg_performance_train_5 = BinaryClassificationPerformance(rdg_5.predict(X_train), y_train, 'rdg_5')\n",
    "rdg_performance_train_5.compute_measures()"
   ]
  },
  {
   "cell_type": "code",
   "execution_count": 33,
   "metadata": {},
   "outputs": [
    {
     "name": "stderr",
     "output_type": "stream",
     "text": [
      "C:\\ProgramData\\Anaconda3\\envs\\deeplearning\\lib\\site-packages\\sklearn\\linear_model\\_ridge.py:556: UserWarning: \"sag\" solver requires many iterations to fit an intercept with sparse inputs. Either set the solver to \"auto\" or \"sparse_cg\", or set a low \"tol\" and a high \"max_iter\" (especially if inputs are not standardized).\n",
      "  '\"sag\" solver requires many iterations to fit '\n"
     ]
    },
    {
     "name": "stdout",
     "output_type": "stream",
     "text": [
      "Wall time: 3min 1s\n"
     ]
    }
   ],
   "source": [
    "%%time\n",
    "from sklearn import linear_model\n",
    "rdg_7p5 = linear_model.RidgeClassifier(alpha=7.5, normalize=True, solver='sag')\n",
    "rdg_7p5.fit(X_train, y_train)\n",
    "\n",
    "rdg_performance_train_7p5 = BinaryClassificationPerformance(rdg_7p5.predict(X_train), y_train, 'rdg_7p5')\n",
    "rdg_performance_train_7p5.compute_measures()"
   ]
  },
  {
   "cell_type": "code",
   "execution_count": 31,
   "metadata": {},
   "outputs": [
    {
     "name": "stderr",
     "output_type": "stream",
     "text": [
      "C:\\ProgramData\\Anaconda3\\envs\\deeplearning\\lib\\site-packages\\sklearn\\linear_model\\_ridge.py:556: UserWarning: \"sag\" solver requires many iterations to fit an intercept with sparse inputs. Either set the solver to \"auto\" or \"sparse_cg\", or set a low \"tol\" and a high \"max_iter\" (especially if inputs are not standardized).\n",
      "  '\"sag\" solver requires many iterations to fit '\n"
     ]
    },
    {
     "name": "stdout",
     "output_type": "stream",
     "text": [
      "Wall time: 3min 10s\n"
     ]
    }
   ],
   "source": [
    "%%time\n",
    "from sklearn import linear_model\n",
    "rdg_10 = linear_model.RidgeClassifier(alpha=10, normalize=True, solver='sag')\n",
    "rdg_10.fit(X_train, y_train)\n",
    "\n",
    "rdg_performance_train_10 = BinaryClassificationPerformance(rdg_10.predict(X_train), y_train, 'rdg_10')\n",
    "rdg_performance_train_10.compute_measures()"
   ]
  },
  {
   "cell_type": "code",
   "execution_count": 23,
   "metadata": {},
   "outputs": [
    {
     "name": "stderr",
     "output_type": "stream",
     "text": [
      "C:\\ProgramData\\Anaconda3\\envs\\deeplearning\\lib\\site-packages\\sklearn\\linear_model\\_ridge.py:556: UserWarning: \"sag\" solver requires many iterations to fit an intercept with sparse inputs. Either set the solver to \"auto\" or \"sparse_cg\", or set a low \"tol\" and a high \"max_iter\" (especially if inputs are not standardized).\n",
      "  '\"sag\" solver requires many iterations to fit '\n"
     ]
    },
    {
     "name": "stdout",
     "output_type": "stream",
     "text": [
      "Wall time: 3min 11s\n"
     ]
    }
   ],
   "source": [
    "%%time\n",
    "from sklearn import linear_model\n",
    "rdg_15 = linear_model.RidgeClassifier(alpha=15, normalize=True, solver='sag')\n",
    "rdg_15.fit(X_train, y_train)\n",
    "\n",
    "rdg_performance_train_15 = BinaryClassificationPerformance(rdg_15.predict(X_train), y_train, 'rdg_15')\n",
    "rdg_performance_train_15.compute_measures()"
   ]
  },
  {
   "cell_type": "code",
   "execution_count": 24,
   "metadata": {},
   "outputs": [
    {
     "name": "stderr",
     "output_type": "stream",
     "text": [
      "C:\\ProgramData\\Anaconda3\\envs\\deeplearning\\lib\\site-packages\\sklearn\\linear_model\\_ridge.py:556: UserWarning: \"sag\" solver requires many iterations to fit an intercept with sparse inputs. Either set the solver to \"auto\" or \"sparse_cg\", or set a low \"tol\" and a high \"max_iter\" (especially if inputs are not standardized).\n",
      "  '\"sag\" solver requires many iterations to fit '\n"
     ]
    },
    {
     "name": "stdout",
     "output_type": "stream",
     "text": [
      "Wall time: 2min 2s\n"
     ]
    }
   ],
   "source": [
    "%%time\n",
    "from sklearn import linear_model\n",
    "rdg_20 = linear_model.RidgeClassifier(alpha=20, normalize=True, solver='sag')\n",
    "rdg_20.fit(X_train, y_train)\n",
    "\n",
    "rdg_performance_train_20 = BinaryClassificationPerformance(rdg_20.predict(X_train), y_train, 'rdg_20')\n",
    "rdg_performance_train_20.compute_measures()"
   ]
  },
  {
   "cell_type": "code",
   "execution_count": null,
   "metadata": {},
   "outputs": [],
   "source": [
    "%%time\n",
    "from sklearn import linear_model\n",
    "rdg_25 = linear_model.RidgeClassifier(alpha=25, normalize=True, solver='sag')\n",
    "rdg_25.fit(X_train, y_train)\n",
    "\n",
    "rdg_performance_train_25 = BinaryClassificationPerformance(rdg_25.predict(X_train), y_train, 'rdg_25')\n",
    "rdg_performance_train_25.compute_measures()\n",
    "print(rdg_performance_train_25.performance_measures)"
   ]
  },
  {
   "cell_type": "code",
   "execution_count": null,
   "metadata": {},
   "outputs": [],
   "source": [
    "%%time\n",
    "from sklearn import linear_model\n",
    "rdg_30 = linear_model.RidgeClassifier(alpha=30, normalize=True, solver='sag')\n",
    "rdg_30.fit(X_train, y_train)\n",
    "\n",
    "rdg_performance_train_30 = BinaryClassificationPerformance(rdg_30.predict(X_train), y_train, 'rdg_30')\n",
    "rdg_performance_train_30.compute_measures()"
   ]
  },
  {
   "cell_type": "code",
   "execution_count": null,
   "metadata": {},
   "outputs": [],
   "source": [
    "%%time\n",
    "from sklearn import linear_model\n",
    "rdg_35 = linear_model.RidgeClassifier(alpha=35, normalize=True, solver='sag')\n",
    "rdg_35.fit(X_train, y_train)\n",
    "\n",
    "rdg_performance_train_35 = BinaryClassificationPerformance(rdg_35.predict(X_train), y_train, 'rdg_35')\n",
    "rdg_performance_train_35.compute_measures()"
   ]
  },
  {
   "cell_type": "code",
   "execution_count": null,
   "metadata": {},
   "outputs": [],
   "source": [
    "%%time\n",
    "from sklearn import linear_model\n",
    "rdg_40 = linear_model.RidgeClassifier(alpha=40, normalize=True, solver='sag')\n",
    "rdg_40.fit(X_train, y_train)\n",
    "\n",
    "rdg_performance_train_40 = BinaryClassificationPerformance(rdg_40.predict(X_train), y_train, 'rdg_40')\n",
    "rdg_performance_train_40.compute_measures()"
   ]
  },
  {
   "cell_type": "markdown",
   "metadata": {},
   "source": [
    "### MODEL: Random Forest Classifier"
   ]
  },
  {
   "cell_type": "code",
   "execution_count": 63,
   "metadata": {},
   "outputs": [
    {
     "name": "stdout",
     "output_type": "stream",
     "text": [
      "{'Pos': 12951, 'Neg': 114705, 'TP': 0, 'TN': 114705, 'FP': 0, 'FN': 12951, 'Accuracy': 0.8985476593344613, 'Precision': nan, 'Recall': 0.0, 'desc': 'rdf_train'}\n"
     ]
    },
    {
     "name": "stderr",
     "output_type": "stream",
     "text": [
      "C:\\Users\\Charles\\Desktop\\ML\\A1\\my_measures.py:25: RuntimeWarning: invalid value encountered in longlong_scalars\n",
      "  self.performance_measures['Precision'] = self.performance_measures['TP'] / (self.performance_measures['TP'] + self.performance_measures['FP'])\n"
     ]
    }
   ],
   "source": [
    "from sklearn.ensemble import RandomForestClassifier\n",
    "rdf = RandomForestClassifier(max_depth=2, random_state=0)\n",
    "# manipulate max_depth\n",
    "rdf.fit(X_train, y_train)\n",
    "\n",
    "rdf_performance_train = BinaryClassificationPerformance(rdf.predict(X_train), y_train, 'rdf_train')\n",
    "rdf_performance_train.compute_measures()\n",
    "print(rdf_performance_train.performance_measures)"
   ]
  },
  {
   "cell_type": "markdown",
   "metadata": {},
   "source": [
    "### ROC plot to compare performance of various models and fits"
   ]
  },
  {
   "cell_type": "code",
   "execution_count": null,
   "metadata": {
    "scrolled": false
   },
   "outputs": [],
   "source": [
    "fits = [ols_performance_train, svm_performance_train, lgs_performance_train, nbs_performance_train, prc_performance_train]\n",
    "\n",
    "for fit in fits:\n",
    "    plt.plot(fit.performance_measures['FP'] / fit.performance_measures['Neg'], \n",
    "             fit.performance_measures['TP'] / fit.performance_measures['Pos'], 'bo')\n",
    "    plt.text(fit.performance_measures['FP'] / fit.performance_measures['Neg'], \n",
    "             fit.performance_measures['TP'] / fit.performance_measures['Pos'], fit.desc)\n",
    "plt.axis([0, 1, 0, 1])\n",
    "plt.title('ROC plot: training set')\n",
    "plt.xlabel('False positive rate')\n",
    "plt.ylabel('True positive rate')\n",
    "plt.show()"
   ]
  },
  {
   "cell_type": "code",
   "execution_count": null,
   "metadata": {
    "scrolled": false
   },
   "outputs": [],
   "source": [
    "fits = [rdg_performance_train, rdg_performance_train_1, rdg_performance_train_2, rdg_performance_train_7, rdg_performance_train_9, rdg_performance_train_13, rdg_performance_train_19]\n",
    "\n",
    "for fit in fits:\n",
    "    plt.plot(fit.performance_measures['FP'] / fit.performance_measures['Neg'], \n",
    "             fit.performance_measures['TP'] / fit.performance_measures['Pos'], 'bo')\n",
    "    plt.text(fit.performance_measures['FP'] / fit.performance_measures['Neg'], \n",
    "             fit.performance_measures['TP'] / fit.performance_measures['Pos'], fit.desc)\n",
    "plt.axis([0.000415, 0.00043, 0.961, .963])\n",
    "plt.title('ROC plot Ridge Regression: training set')\n",
    "plt.xlabel('False positive rate')\n",
    "plt.ylabel('True positive rate')\n",
    "plt.show()"
   ]
  },
  {
   "cell_type": "markdown",
   "metadata": {},
   "source": [
    "### looking at reviews based on their classification\n",
    "\n",
    "Let's say we decide that Ordinary Least Squares (OLS) Regression is the best model for generalization. Let's take a look at some of the reviews and try to make a (subjective) determination of whether it's generalizing well. "
   ]
  },
  {
   "cell_type": "markdown",
   "metadata": {},
   "source": [
    "### let's look at some false positives:"
   ]
  },
  {
   "cell_type": "code",
   "execution_count": 81,
   "metadata": {},
   "outputs": [],
   "source": [
    "nbs_predictions = nbs.predict(X_train)"
   ]
  },
  {
   "cell_type": "code",
   "execution_count": null,
   "metadata": {},
   "outputs": [],
   "source": [
    "# false positives\n",
    "\n",
    "print(\"Examples of false positives:\")\n",
    "\n",
    "import random, time\n",
    "\n",
    "for i in range(0, len(nbs_predictions)):\n",
    "    if (nbs_predictions[i] == 1):\n",
    "        if (X_raw_train.iloc[i]['any_toxic'] == 0):\n",
    "            if (random.uniform(0, 1) < 0.05): # to print only 5% of the false positives\n",
    "                print(i)\n",
    "                print(X_raw_train.iloc[i]['comment_text'])\n",
    "                print('* * * * * * * * * ')\n"
   ]
  },
  {
   "cell_type": "code",
   "execution_count": null,
   "metadata": {},
   "outputs": [],
   "source": [
    "# true positives\n",
    "\n",
    "print(\"Examples of true positives:\")\n",
    "\n",
    "import random, time\n",
    "\n",
    "for i in range(0, len(nbs_predictions)):\n",
    "    if (ols_predictions[i] == 1):\n",
    "        if (X_raw_train.iloc[i]['any_toxic'] == 1):\n",
    "            if (random.uniform(0, 1) < 0.05): # to print only 5% of the false positives\n",
    "                print(i)\n",
    "                print(X_raw_train.iloc[i]['comment_text'])\n",
    "                print('* * * * * * * * * ')\n"
   ]
  },
  {
   "cell_type": "code",
   "execution_count": null,
   "metadata": {},
   "outputs": [],
   "source": [
    "# false negatives\n",
    "\n",
    "print(\"Examples of false negatives:\")\n",
    "\n",
    "import random, time\n",
    "\n",
    "for i in range(0, len(nbs_predictions)):\n",
    "    if (nbs_predictions[i] == 0):\n",
    "    # model predicts negative\n",
    "        if (X_raw_train.iloc[i]['any_toxic'] == 1):\n",
    "        # but training data says should have been positive; thus, false negative\n",
    "            if (random.uniform(0, 1) < 0.05): # to print only 5% of the false positives\n",
    "                print(i)\n",
    "                print(X_raw_train.iloc[i]['comment_text'])\n",
    "                print('* * * * * * * * * ')\n"
   ]
  },
  {
   "cell_type": "markdown",
   "metadata": {},
   "source": [
    "---\n",
    "\n",
    "# <span style=\"color:red\">WARNING: Don't look at test set performance too much!</span>\n",
    "\n",
    "---\n",
    "\n",
    "The following cells show performance on your test set. Do not look at this too often! "
   ]
  },
  {
   "cell_type": "markdown",
   "metadata": {},
   "source": [
    "# Look at performance on the test set"
   ]
  },
  {
   "cell_type": "markdown",
   "metadata": {},
   "source": [
    "### MODEL: ordinary least squares"
   ]
  },
  {
   "cell_type": "code",
   "execution_count": 70,
   "metadata": {},
   "outputs": [
    {
     "name": "stdout",
     "output_type": "stream",
     "text": [
      "{'Pos': 3274, 'Neg': 28641, 'TP': 1486, 'TN': 15056, 'FP': 13585, 'FN': 1788, 'Accuracy': 0.518314272285759, 'Precision': 0.09859996018844137, 'Recall': 0.4538790470372633, 'desc': 'ols_test'}\n",
      "False Positive Rate:\n",
      "0.4743200307251842\n",
      "True Positive Rate:\n",
      "0.4538790470372633\n"
     ]
    }
   ],
   "source": [
    "ols_performance_test = BinaryClassificationPerformance(ols.predict(X_test), y_test, 'ols_test')\n",
    "ols_performance_test.compute_measures()\n",
    "print(ols_performance_test.performance_measures)\n",
    "print(\"False Positive Rate:\")\n",
    "print(ols_performance_test.performance_measures['FP'] / ols_performance_test.performance_measures['Neg'])\n",
    "print(\"True Positive Rate:\")\n",
    "print(ols_performance_test.performance_measures['TP'] / ols_performance_test.performance_measures['Pos'])"
   ]
  },
  {
   "cell_type": "markdown",
   "metadata": {},
   "source": [
    "### MODEL: SVM, linear"
   ]
  },
  {
   "cell_type": "code",
   "execution_count": 16,
   "metadata": {},
   "outputs": [
    {
     "name": "stdout",
     "output_type": "stream",
     "text": [
      "{'Pos': 3274, 'Neg': 28641, 'TP': 2486, 'TN': 27403, 'FP': 1238, 'FN': 788, 'Accuracy': 0.9365188782704058, 'Precision': 0.667561761546724, 'Recall': 0.7593158216249236, 'desc': 'svm_test'}\n",
      "False Positive Rate:\n",
      "0.043224747739254915\n",
      "True Positive Rate:\n",
      "0.7593158216249236\n"
     ]
    }
   ],
   "source": [
    "svm_performance_test = BinaryClassificationPerformance(svm.predict(X_test), y_test, 'svm_test')\n",
    "svm_performance_test.compute_measures()\n",
    "print(svm_performance_test.performance_measures)\n",
    "print(\"False Positive Rate:\")\n",
    "print(svm_performance_test.performance_measures['FP'] / svm_performance_test.performance_measures['Neg'])\n",
    "print(\"True Positive Rate:\")\n",
    "print(svm_performance_test.performance_measures['TP'] / svm_performance_test.performance_measures['Pos'])"
   ]
  },
  {
   "cell_type": "markdown",
   "metadata": {},
   "source": [
    "### MODEL: logistic regression"
   ]
  },
  {
   "cell_type": "code",
   "execution_count": null,
   "metadata": {},
   "outputs": [],
   "source": [
    "lgs_performance_test = BinaryClassificationPerformance(lgs.predict(X_test), y_test, 'lgs_test')\n",
    "lgs_performance_test.compute_measures()\n",
    "print(lgs_performance_test.performance_measures)\n",
    "print(\"False Positive Rate:\")\n",
    "print(lgs_performance_test.performance_measures['FP'] / lgs_performance_test.performance_measures['Neg'])\n",
    "print(\"True Positive Rate:\")\n",
    "print(lgs_performance_test.performance_measures['TP'] / lgs_performance_test.performance_measures['Pos'])"
   ]
  },
  {
   "cell_type": "code",
   "execution_count": 108,
   "metadata": {},
   "outputs": [
    {
     "name": "stdout",
     "output_type": "stream",
     "text": [
      "{'Pos': 3274, 'Neg': 28641, 'TP': 2355, 'TN': 27952, 'FP': 689, 'FN': 919, 'Accuracy': 0.9496161679461068, 'Precision': 0.7736530880420499, 'Recall': 0.7193036041539401, 'desc': 'lgr_test'}\n",
      "False Positive Rate:\n",
      "0.024056422610942357\n",
      "True Positive Rate:\n",
      "0.7193036041539401\n"
     ]
    }
   ],
   "source": [
    "lgr_performance_test = BinaryClassificationPerformance(lgr.predict(X2_test), y2_test, 'lgr_test')\n",
    "lgr_performance_test.compute_measures()\n",
    "print(lgr_performance_test.performance_measures)\n",
    "print(\"False Positive Rate:\")\n",
    "print(lgr_performance_test.performance_measures['FP'] / lgr_performance_test.performance_measures['Neg'])\n",
    "print(\"True Positive Rate:\")\n",
    "print(lgr_performance_test.performance_measures['TP'] / lgr_performance_test.performance_measures['Pos'])"
   ]
  },
  {
   "cell_type": "markdown",
   "metadata": {},
   "source": [
    "### MODEL: Naive Bayes"
   ]
  },
  {
   "cell_type": "code",
   "execution_count": 109,
   "metadata": {},
   "outputs": [
    {
     "name": "stdout",
     "output_type": "stream",
     "text": [
      "{'Pos': 3274, 'Neg': 28641, 'TP': 2704, 'TN': 25715, 'FP': 2926, 'FN': 570, 'Accuracy': 0.8904590318032273, 'Precision': 0.4802841918294849, 'Recall': 0.8259010384850336, 'desc': 'nbs_test'}\n",
      "False Positive Rate:\n",
      "0.10216123738696274\n",
      "True Positive Rate:\n",
      "0.8259010384850336\n"
     ]
    }
   ],
   "source": [
    "nbs_performance_test = BinaryClassificationPerformance(nbs.predict(X2_test), y2_test, 'nbs_test')\n",
    "nbs_performance_test.compute_measures()\n",
    "print(nbs_performance_test.performance_measures)\n",
    "print(\"False Positive Rate:\")\n",
    "print(nbs_performance_test.performance_measures['FP'] / nbs_performance_test.performance_measures['Neg'])\n",
    "print(\"True Positive Rate:\")\n",
    "print(nbs_performance_test.performance_measures['TP'] / nbs_performance_test.performance_measures['Pos'])"
   ]
  },
  {
   "cell_type": "code",
   "execution_count": 110,
   "metadata": {},
   "outputs": [
    {
     "name": "stdout",
     "output_type": "stream",
     "text": [
      "{'Pos': 3274, 'Neg': 28641, 'TP': 3145, 'TN': 19410, 'FP': 9231, 'FN': 129, 'Accuracy': 0.7067209775967414, 'Precision': 0.2541208791208791, 'Recall': 0.9605986560781918, 'desc': 'cnb_test'}\n",
      "True Positive Rate:\n",
      "96.05986560781918\n",
      "False Positive Rate:\n",
      "32.230019901539755\n",
      "False Negative Rate:\n",
      "3.9401343921808185\n"
     ]
    }
   ],
   "source": [
    "# Complement NB\n",
    "cnb_performance_test = BinaryClassificationPerformance(cnb.predict(X2_test), y2_test, 'cnb_test')\n",
    "cnb_performance_test.compute_measures()\n",
    "print(cnb_performance_test.performance_measures)\n",
    "print(\"True Positive Rate:\")\n",
    "print(cnb_performance_test.performance_measures['TP'] / cnb_performance_test.performance_measures['Pos'] * 100)\n",
    "print(\"False Positive Rate:\")\n",
    "print(cnb_performance_test.performance_measures['FP'] / cnb_performance_test.performance_measures['Neg'] * 100)\n",
    "print(\"False Negative Rate:\")\n",
    "print(cnb_performance_test.performance_measures['FN'] / cnb_performance_test.performance_measures['Pos'] * 100)"
   ]
  },
  {
   "cell_type": "markdown",
   "metadata": {},
   "source": [
    "### MODEL: Perceptron"
   ]
  },
  {
   "cell_type": "code",
   "execution_count": 54,
   "metadata": {},
   "outputs": [
    {
     "name": "stdout",
     "output_type": "stream",
     "text": [
      "{'Pos': 3274, 'Neg': 28641, 'TP': 1963, 'TN': 28170, 'FP': 471, 'FN': 1311, 'Accuracy': 0.9441641861193796, 'Precision': 0.8064913722267871, 'Recall': 0.5995723885155773, 'desc': 'prc_test'}\n",
      "False Positive Rate:\n",
      "0.016444956530847387\n",
      "True Positive Rate:\n",
      "0.5995723885155773\n"
     ]
    }
   ],
   "source": [
    "prc_performance_test = BinaryClassificationPerformance(prc.predict(X_test), y_test, 'prc_test')\n",
    "prc_performance_test.compute_measures()\n",
    "print(prc_performance_test.performance_measures)\n",
    "print(\"False Positive Rate:\")\n",
    "print(prc_performance_test.performance_measures['FP'] / prc_performance_test.performance_measures['Neg'])\n",
    "print(\"True Positive Rate:\")\n",
    "print(prc_performance_test.performance_measures['TP'] / prc_performance_test.performance_measures['Pos'])"
   ]
  },
  {
   "cell_type": "markdown",
   "metadata": {},
   "source": [
    "### MODEL: Ensemble"
   ]
  },
  {
   "cell_type": "code",
   "execution_count": 112,
   "metadata": {},
   "outputs": [
    {
     "name": "stderr",
     "output_type": "stream",
     "text": [
      "C:\\ProgramData\\Anaconda3\\envs\\deeplearning\\lib\\site-packages\\sklearn\\linear_model\\_ridge.py:556: UserWarning: \"sag\" solver requires many iterations to fit an intercept with sparse inputs. Either set the solver to \"auto\" or \"sparse_cg\", or set a low \"tol\" and a high \"max_iter\" (especially if inputs are not standardized).\n",
      "  '\"sag\" solver requires many iterations to fit '\n"
     ]
    },
    {
     "name": "stdout",
     "output_type": "stream",
     "text": [
      "Wall time: 17.5 s\n"
     ]
    }
   ],
   "source": [
    "%%time\n",
    "from sklearn.ensemble import VotingClassifier\n",
    "estimators = [('nbs', nbs), ('cnb', cnb), ('rdg', rdg)]\n",
    "esb3 = VotingClassifier(estimators, voting='hard')\n",
    "esb3.fit(X2_train, y2_train)\n",
    "\n",
    "esb3_performance_train = BinaryClassificationPerformance(esb3.predict(X2_train), y2_train, 'esb3_train')\n",
    "esb3_performance_train.compute_measures()"
   ]
  },
  {
   "cell_type": "code",
   "execution_count": 113,
   "metadata": {},
   "outputs": [
    {
     "name": "stdout",
     "output_type": "stream",
     "text": [
      "{'Pos': 3274, 'Neg': 28641, 'TP': 2901, 'TN': 25104, 'FP': 3537, 'FN': 373, 'Accuracy': 0.8774870750430832, 'Precision': 0.4506057781919851, 'Recall': 0.8860720830788027, 'desc': 'esb3_test'}\n",
      "True Positive Rate:\n",
      "88.60720830788027\n",
      "False Positive Rate:\n",
      "12.349429140043993\n"
     ]
    }
   ],
   "source": [
    "esb3_performance_test = BinaryClassificationPerformance(esb3.predict(X2_test), y2_test, 'esb3_test')\n",
    "esb3_performance_test.compute_measures()\n",
    "print(esb3_performance_test.performance_measures)\n",
    "print(\"True Positive Rate:\")\n",
    "print(esb3_performance_test.performance_measures['TP'] / esb3_performance_test.performance_measures['Pos'] *100)\n",
    "print(\"False Positive Rate:\")\n",
    "print(esb3_performance_test.performance_measures['FP'] / esb3_performance_test.performance_measures['Neg'] *100)"
   ]
  },
  {
   "cell_type": "markdown",
   "metadata": {},
   "source": [
    "### MODEL: Ridge Regression Classifier"
   ]
  },
  {
   "cell_type": "code",
   "execution_count": 25,
   "metadata": {},
   "outputs": [
    {
     "name": "stdout",
     "output_type": "stream",
     "text": [
      "{'Pos': 837, 'Neg': 7142, 'TP': 783, 'TN': 6358, 'FP': 784, 'FN': 54, 'Accuracy': 0.894974307557338, 'Precision': 0.49968091895341415, 'Recall': 0.9354838709677419, 'desc': 'rdg_test'}\n",
      "True Positive Rate:\n",
      "93.54838709677419\n",
      "False Positive Rate:\n",
      "10.977317278073368\n",
      "False Negative Rate:\n",
      "6.451612903225806\n"
     ]
    }
   ],
   "source": [
    "rdg_performance_test = BinaryClassificationPerformance(rdg.predict(X_test), y_test, 'rdg_test')\n",
    "rdg_performance_test.compute_measures()\n",
    "print(rdg_performance_test.performance_measures)\n",
    "print(\"True Positive Rate:\")\n",
    "print(rdg_performance_test.performance_measures['TP'] / rdg_performance_test.performance_measures['Pos'] * 100)\n",
    "print(\"False Positive Rate:\")\n",
    "print(rdg_performance_test.performance_measures['FP'] / rdg_performance_test.performance_measures['Neg'] * 100)\n",
    "print(\"False Negative Rate:\")\n",
    "print(rdg_performance_test.performance_measures['FN'] / rdg_performance_test.performance_measures['Pos'] * 100)"
   ]
  },
  {
   "cell_type": "code",
   "execution_count": null,
   "metadata": {},
   "outputs": [],
   "source": [
    "rdg_performance_test_2p5 = BinaryClassificationPerformance(rdg_2p5.predict(X_test), y_test, 'rdg_test_2p5')\n",
    "rdg_performance_test_2p5.compute_measures()\n",
    "print(\"True Positive Rate:\")\n",
    "print(rdg_performance_test_2p5.performance_measures['TP'] / rdg_performance_test_2p5.performance_measures['Pos'] * 100)\n",
    "print(\"False Positive Rate:\")\n",
    "print(rdg_performance_test_2p5.performance_measures['FP'] / rdg_performance_test_2p5.performance_measures['Neg'] * 100)\n",
    "print(\"False Negative Rate:\")\n",
    "print(rdg_performance_test_2p5.performance_measures['FN'] / rdg_performance_test_2p5.performance_measures['Pos'] * 100)"
   ]
  },
  {
   "cell_type": "code",
   "execution_count": null,
   "metadata": {},
   "outputs": [],
   "source": [
    "rdg_performance_test_5 = BinaryClassificationPerformance(rdg_5.predict(X_test), y_test, 'rdg_test_5')\n",
    "rdg_performance_test_5.compute_measures()\n",
    "print(\"True Positive Rate:\")\n",
    "print(rdg_performance_test_5.performance_measures['TP'] / rdg_performance_test_5.performance_measures['Pos'] * 100)\n",
    "print(\"False Positive Rate:\")\n",
    "print(rdg_performance_test_5.performance_measures['FP'] / rdg_performance_test_5.performance_measures['Neg'] * 100)\n",
    "print(\"False Negative Rate:\")\n",
    "print(rdg_performance_test_5.performance_measures['FN'] / rdg_performance_test_5.performance_measures['Pos'] * 100)"
   ]
  },
  {
   "cell_type": "code",
   "execution_count": 35,
   "metadata": {},
   "outputs": [
    {
     "name": "stdout",
     "output_type": "stream",
     "text": [
      "True Positive Rate:\n",
      "98.2078853046595\n",
      "False Positive Rate:\n",
      "18.16017922150658\n",
      "False Negative Rate:\n",
      "1.7921146953405016\n"
     ]
    }
   ],
   "source": [
    "rdg_performance_test_7p5 = BinaryClassificationPerformance(rdg_7p5.predict(X_test), y_test, 'rdg_test_7p5')\n",
    "rdg_performance_test_7p5.compute_measures()\n",
    "print(\"True Positive Rate:\")\n",
    "print(rdg_performance_test_7p5.performance_measures['TP'] / rdg_performance_test_7p5.performance_measures['Pos'] * 100)\n",
    "print(\"False Positive Rate:\")\n",
    "print(rdg_performance_test_7p5.performance_measures['FP'] / rdg_performance_test_7p5.performance_measures['Neg'] * 100)\n",
    "print(\"False Negative Rate:\")\n",
    "print(rdg_performance_test_7p5.performance_measures['FN'] / rdg_performance_test_7p5.performance_measures['Pos'] * 100)"
   ]
  },
  {
   "cell_type": "code",
   "execution_count": 32,
   "metadata": {},
   "outputs": [
    {
     "name": "stdout",
     "output_type": "stream",
     "text": [
      "True Positive Rate:\n",
      "97.84946236559139\n",
      "False Positive Rate:\n",
      "16.185942313077568\n",
      "False Negative Rate:\n",
      "2.1505376344086025\n"
     ]
    }
   ],
   "source": [
    "rdg_performance_test_10 = BinaryClassificationPerformance(rdg_10.predict(X_test), y_test, 'rdg_test_10')\n",
    "rdg_performance_test_10.compute_measures()\n",
    "print(\"True Positive Rate:\")\n",
    "print(rdg_performance_test_10.performance_measures['TP'] / rdg_performance_test_10.performance_measures['Pos'] * 100)\n",
    "print(\"False Positive Rate:\")\n",
    "print(rdg_performance_test_10.performance_measures['FP'] / rdg_performance_test_10.performance_measures['Neg'] * 100)\n",
    "print(\"False Negative Rate:\")\n",
    "print(rdg_performance_test_10.performance_measures['FN'] / rdg_performance_test_10.performance_measures['Pos'] * 100)"
   ]
  },
  {
   "cell_type": "code",
   "execution_count": 26,
   "metadata": {},
   "outputs": [
    {
     "name": "stdout",
     "output_type": "stream",
     "text": [
      "True Positive Rate:\n",
      "96.1768219832736\n",
      "False Positive Rate:\n",
      "13.679641556986837\n",
      "False Negative Rate:\n",
      "3.823178016726404\n"
     ]
    }
   ],
   "source": [
    "rdg_performance_test_15 = BinaryClassificationPerformance(rdg_15.predict(X_test), y_test, 'rdg_test_15')\n",
    "rdg_performance_test_15.compute_measures()\n",
    "print(\"True Positive Rate:\")\n",
    "print(rdg_performance_test_15.performance_measures['TP'] / rdg_performance_test_15.performance_measures['Pos'] * 100)\n",
    "print(\"False Positive Rate:\")\n",
    "print(rdg_performance_test_15.performance_measures['FP'] / rdg_performance_test_15.performance_measures['Neg'] * 100)\n",
    "print(\"False Negative Rate:\")\n",
    "print(rdg_performance_test_15.performance_measures['FN'] / rdg_performance_test_15.performance_measures['Pos'] * 100)"
   ]
  },
  {
   "cell_type": "code",
   "execution_count": 28,
   "metadata": {},
   "outputs": [
    {
     "name": "stdout",
     "output_type": "stream",
     "text": [
      "True Positive Rate:\n",
      "94.98207885304659\n",
      "False Positive Rate:\n",
      "12.11145337440493\n",
      "False Negative Rate:\n",
      "5.017921146953405\n"
     ]
    }
   ],
   "source": [
    "rdg_performance_test_20 = BinaryClassificationPerformance(rdg_20.predict(X_test), y_test, 'rdg_test_20')\n",
    "rdg_performance_test_20.compute_measures()\n",
    "print(\"True Positive Rate:\")\n",
    "print(rdg_performance_test_20.performance_measures['TP'] / rdg_performance_test_20.performance_measures['Pos'] * 100)\n",
    "print(\"False Positive Rate:\")\n",
    "print(rdg_performance_test_20.performance_measures['FP'] / rdg_performance_test_20.performance_measures['Neg'] * 100)\n",
    "print(\"False Negative Rate:\")\n",
    "print(rdg_performance_test_20.performance_measures['FN'] / rdg_performance_test_20.performance_measures['Pos'] * 100)"
   ]
  },
  {
   "cell_type": "code",
   "execution_count": 28,
   "metadata": {},
   "outputs": [
    {
     "name": "stdout",
     "output_type": "stream",
     "text": [
      "{'Pos': 3274, 'Neg': 28641, 'TP': 2910, 'TN': 25960, 'FP': 2681, 'FN': 364, 'Accuracy': 0.9045903180322732, 'Precision': 0.5204793417993203, 'Recall': 0.8888210140500916, 'desc': 'rdg_test_25'}\n",
      "True Positive Rate:\n",
      "88.88210140500917\n",
      "False Positive Rate:\n",
      "9.36070667923606\n",
      "False Negative Rate:\n",
      "11.117898594990837\n"
     ]
    }
   ],
   "source": [
    "rdg_performance_test_25 = BinaryClassificationPerformance(rdg_25.predict(X_test), y_test, 'rdg_test_25')\n",
    "rdg_performance_test_25.compute_measures()\n",
    "print(rdg_performance_test_25.performance_measures)\n",
    "print(\"True Positive Rate:\")\n",
    "print(rdg_performance_test_25.performance_measures['TP'] / rdg_performance_test_25.performance_measures['Pos'] * 100)\n",
    "print(\"False Positive Rate:\")\n",
    "print(rdg_performance_test_25.performance_measures['FP'] / rdg_performance_test_25.performance_measures['Neg'] * 100)\n",
    "print(\"False Negative Rate:\")\n",
    "print(rdg_performance_test_25.performance_measures['FN'] / rdg_performance_test_25.performance_measures['Pos'] * 100)"
   ]
  },
  {
   "cell_type": "code",
   "execution_count": 29,
   "metadata": {},
   "outputs": [
    {
     "name": "stdout",
     "output_type": "stream",
     "text": [
      "{'Pos': 3274, 'Neg': 28641, 'TP': 2843, 'TN': 26281, 'FP': 2360, 'FN': 431, 'Accuracy': 0.9125489581701395, 'Precision': 0.5464155295022103, 'Recall': 0.8683567501527184, 'desc': 'rdg_test_30'}\n",
      "True Positive Rate:\n",
      "86.83567501527185\n",
      "False Positive Rate:\n",
      "8.239935756433086\n",
      "False Negative Rate:\n",
      "13.164324984728163\n"
     ]
    }
   ],
   "source": [
    "rdg_performance_test_30 = BinaryClassificationPerformance(rdg_30.predict(X_test), y_test, 'rdg_test_30')\n",
    "rdg_performance_test_30.compute_measures()\n",
    "print(rdg_performance_test_30.performance_measures)\n",
    "print(\"True Positive Rate:\")\n",
    "print(rdg_performance_test_30.performance_measures['TP'] / rdg_performance_test_30.performance_measures['Pos'] * 100)\n",
    "print(\"False Positive Rate:\")\n",
    "print(rdg_performance_test_30.performance_measures['FP'] / rdg_performance_test_30.performance_measures['Neg'] * 100)\n",
    "print(\"False Negative Rate:\")\n",
    "print(rdg_performance_test_30.performance_measures['FN'] / rdg_performance_test_30.performance_measures['Pos'] * 100)"
   ]
  },
  {
   "cell_type": "code",
   "execution_count": 14,
   "metadata": {},
   "outputs": [
    {
     "name": "stdout",
     "output_type": "stream",
     "text": [
      "{'Pos': 3274, 'Neg': 28641, 'TP': 2783, 'TN': 26513, 'FP': 2128, 'FN': 491, 'Accuracy': 0.9179382735390882, 'Precision': 0.5666870291183058, 'Recall': 0.8500305436774588, 'desc': 'rdg_test_35'}\n",
      "True Positive Rate:\n",
      "85.00305436774588\n",
      "False Positive Rate:\n",
      "7.429908173597291\n",
      "False Negative Rate:\n",
      "14.996945632254125\n"
     ]
    }
   ],
   "source": [
    "rdg_performance_test_35 = BinaryClassificationPerformance(rdg_35.predict(X_test), y_test, 'rdg_test_35')\n",
    "rdg_performance_test_35.compute_measures()\n",
    "print(rdg_performance_test_35.performance_measures)\n",
    "print(\"True Positive Rate:\")\n",
    "print(rdg_performance_test_35.performance_measures['TP'] / rdg_performance_test_35.performance_measures['Pos'] * 100)\n",
    "print(\"False Positive Rate:\")\n",
    "print(rdg_performance_test_35.performance_measures['FP'] / rdg_performance_test_35.performance_measures['Neg'] * 100)\n",
    "print(\"False Negative Rate:\")\n",
    "print(rdg_performance_test_35.performance_measures['FN'] / rdg_performance_test_35.performance_measures['Pos'] * 100)"
   ]
  },
  {
   "cell_type": "code",
   "execution_count": 15,
   "metadata": {},
   "outputs": [
    {
     "name": "stdout",
     "output_type": "stream",
     "text": [
      "{'Pos': 3274, 'Neg': 28641, 'TP': 2731, 'TN': 26729, 'FP': 1912, 'FN': 543, 'Accuracy': 0.9230769230769231, 'Precision': 0.5881972862373466, 'Recall': 0.8341478313989005, 'desc': 'rdg_test_40'}\n",
      "True Positive Rate:\n",
      "83.41478313989005\n",
      "False Positive Rate:\n",
      "6.675744561991551\n",
      "False Negative Rate:\n",
      "16.58521686010996\n"
     ]
    }
   ],
   "source": [
    "rdg_performance_test_40 = BinaryClassificationPerformance(rdg_40.predict(X_test), y_test, 'rdg_test_40')\n",
    "rdg_performance_test_40.compute_measures()\n",
    "print(rdg_performance_test_40.performance_measures)\n",
    "print(\"True Positive Rate:\")\n",
    "print(rdg_performance_test_40.performance_measures['TP'] / rdg_performance_test_40.performance_measures['Pos'] * 100)\n",
    "print(\"False Positive Rate:\")\n",
    "print(rdg_performance_test_40.performance_measures['FP'] / rdg_performance_test_40.performance_measures['Neg'] * 100)\n",
    "print(\"False Negative Rate:\")\n",
    "print(rdg_performance_test_40.performance_measures['FN'] / rdg_performance_test_40.performance_measures['Pos'] * 100)"
   ]
  },
  {
   "cell_type": "markdown",
   "metadata": {},
   "source": [
    "### MODEL: Random Forest Classifier"
   ]
  },
  {
   "cell_type": "code",
   "execution_count": null,
   "metadata": {},
   "outputs": [],
   "source": [
    "# rdf_performance_test = BinaryClassificationPerformance(rdf.predict(X_test), y_test, 'rdf_test')\n",
    "# rdf_performance_test.compute_measures()\n",
    "# print(rdf_performance_test.performance_measures)"
   ]
  },
  {
   "cell_type": "markdown",
   "metadata": {},
   "source": [
    "### ROC plot to compare performance of various models and fits"
   ]
  },
  {
   "cell_type": "code",
   "execution_count": 114,
   "metadata": {},
   "outputs": [
    {
     "data": {
      "image/png": "[encoded data removed]",
      "text/plain": [
       "<Figure size 432x288 with 1 Axes>"
      ]
     },
     "metadata": {
      "needs_background": "light"
     },
     "output_type": "display_data"
    }
   ],
   "source": [
    "fits = [rdg_performance_test, nbs_performance_test, cnb_performance_test, lgr_performance_test, esb3_performance_test]\n",
    "\n",
    "for fit in fits:\n",
    "    plt.plot(fit.performance_measures['FP'] / fit.performance_measures['Neg'], \n",
    "             fit.performance_measures['TP'] / fit.performance_measures['Pos'], 'bo')\n",
    "    plt.text(fit.performance_measures['FP'] / fit.performance_measures['Neg'], \n",
    "             fit.performance_measures['TP'] / fit.performance_measures['Pos'], fit.desc)\n",
    "    \n",
    "# fits = [rdg_performance_train, rdg_performance_train_1, rdg_performance_train_2, rdg_performance_train_5, rdg_performance_train_7, rdg_performance_train_9]\n",
    "\n",
    "# for fit in fits:\n",
    "#     plt.plot(fit.performance_measures['FP'] / fit.performance_measures['Neg'], \n",
    "#              fit.performance_measures['TP'] / fit.performance_measures['Pos'], 'rx')\n",
    "#     plt.text(fit.performance_measures['FP'] / fit.performance_measures['Neg'], \n",
    "#              fit.performance_measures['TP'] / fit.performance_measures['Pos'], fit.desc)    \n",
    "\n",
    "plt.axis([0, 1, 0, 1])\n",
    "plt.title('ROC plot: test set')\n",
    "plt.xlabel('False positive rate')\n",
    "plt.ylabel('True positive rate')\n",
    "plt.rcParams['figure.figsize'] = (15, 15)\n",
    "plt.grid(b=True)\n",
    "plt.show()"
   ]
  },
  {
   "cell_type": "code",
   "execution_count": 37,
   "metadata": {},
   "outputs": [
    {
     "data": {
      "image/png": "[encoded data removed]",
      "text/plain": [
       "<Figure size 1080x1080 with 1 Axes>"
      ]
     },
     "metadata": {
      "needs_background": "light"
     },
     "output_type": "display_data"
    }
   ],
   "source": [
    "# rdg plot\n",
    "fits = [rdg_performance_test, rdg_performance_test_7p5, rdg_performance_test_10, rdg_performance_test_15, rdg_performance_test_20]\n",
    "\n",
    "for fit in fits:\n",
    "    plt.plot(fit.performance_measures['FP'] / fit.performance_measures['Neg'], \n",
    "             fit.performance_measures['TP'] / fit.performance_measures['Pos'], 'bo')\n",
    "    plt.text(fit.performance_measures['FP'] / fit.performance_measures['Neg'], \n",
    "             fit.performance_measures['TP'] / fit.performance_measures['Pos'], fit.desc)\n",
    "    \n",
    "# fits = [rdg_performance_train, rdg_performance_train_1, rdg_performance_train_2, rdg_performance_train_5, rdg_performance_train_7, rdg_performance_train_9]\n",
    "\n",
    "# for fit in fits:\n",
    "#     plt.plot(fit.performance_measures['FP'] / fit.performance_measures['Neg'], \n",
    "#              fit.performance_measures['TP'] / fit.performance_measures['Pos'], 'rx')\n",
    "#     plt.text(fit.performance_measures['FP'] / fit.performance_measures['Neg'], \n",
    "#              fit.performance_measures['TP'] / fit.performance_measures['Pos'], fit.desc)    \n",
    "\n",
    "plt.axis([0, 1, 0, 1])\n",
    "plt.title('ROC plot: test set')\n",
    "plt.xlabel('False positive rate')\n",
    "plt.ylabel('True positive rate')\n",
    "plt.rcParams['figure.figsize'] = (15, 15)\n",
    "plt.grid(b=True)\n",
    "plt.show()"
   ]
  },
  {
   "cell_type": "markdown",
   "metadata": {},
   "source": [
    "---\n",
    "\n",
    "# <span style=\"color:red\">SUBMISSION</span>\n",
    "\n",
    "---"
   ]
  },
  {
   "cell_type": "code",
   "execution_count": 38,
   "metadata": {},
   "outputs": [
    {
     "name": "stdout",
     "output_type": "stream",
     "text": [
      "toxic_data is: <class 'pandas.core.frame.DataFrame'>\n",
      "toxic_data has 153164 rows and 2 columns \n",
      "\n",
      "the data types for each of the columns in toxic_data:\n",
      "id              object\n",
      "comment_text    object\n",
      "dtype: object \n",
      "\n",
      "the first 5 rows in toxic_data:\n",
      "                 id                                       comment_text\n",
      "0  00001cee341fdb12  Yo bitch Ja Rule is more succesful then you'll...\n",
      "1  0000247867823ef7  == From RfC == \\n\\n The title is fine as it is...\n",
      "2  00013b17ad220c46  \" \\n\\n == Sources == \\n\\n * Zawe Ashton on Lap...\n",
      "3  00017563c3f7919a  :If you have a look back at the source, the in...\n",
      "4  00017695ad8997eb          I don't anonymously edit articles at all.\n",
      "Shape of HashingVectorizer X:\n",
      "(153164, 262144)\n",
      "Shape of HashingVectorizer char n_gram X:\n",
      "(153164, 262144)\n",
      "Look at a few rows of the new quantitative features: \n",
      "   consCapsword_ratio  consCaps_ratio  consCaps_count  spaceswords_ratio  \\\n",
      "0            0.000000        0.000000               0           0.986111   \n",
      "1            0.076923        0.020000               1           0.923077   \n",
      "2            0.000000        0.000000               0           0.937500   \n",
      "3            0.000000        0.000000               0           0.973684   \n",
      "4            0.000000        0.000000               0           0.857143   \n",
      "5            0.000000        0.000000               0           0.937500   \n",
      "6            0.000000        0.000000               0           0.967742   \n",
      "7            0.000000        0.000000               0           0.833333   \n",
      "8            0.073394        0.014388               8           0.990826   \n",
      "9            0.000000        0.000000               0           0.975610   \n",
      "\n",
      "   spaces_ratio  spaces_count  char_count  Caps_count  Caps_ratio  word_count  \\\n",
      "0      0.193460            71         367           4    0.000003          72   \n",
      "1      0.240000            12          50           7    0.004096          13   \n",
      "2      0.277778            15          54           4    0.000794          16   \n",
      "3      0.180488            37         205           4    0.000015          38   \n",
      "4      0.146341             6          41           1    0.000116           7   \n",
      "5      0.156250            15          96           2    0.000031          16   \n",
      "6      0.170455            30         176           5    0.000040          31   \n",
      "7      0.156250             5          32           1    0.000244           6   \n",
      "8      0.194245           108         556          41    0.000431         109   \n",
      "9      0.178571            40         224           7    0.000046          41   \n",
      "\n",
      "   char_ratio  punc_count_p  punc_count_exc  punc_count_q  punc_count  \\\n",
      "0    5.097222            10               0             0          10   \n",
      "1    3.846154             1               0             0           1   \n",
      "2    3.375000             0               0             0           0   \n",
      "3    5.394737             3               0             0           3   \n",
      "4    5.857143             1               0             0           1   \n",
      "5    6.000000             2               0             0           2   \n",
      "6    5.677419             4               0             0           4   \n",
      "7    5.333333             1               0             0           1   \n",
      "8    5.100917             9               0             0           9   \n",
      "9    5.463415             0               0             0           0   \n",
      "\n",
      "   punc_ratio  Capsword_ratio  \n",
      "0    0.138889        0.194444  \n",
      "1    0.076923        0.615385  \n",
      "2    0.000000        0.250000  \n",
      "3    0.078947        0.184211  \n",
      "4    0.142857        0.285714  \n",
      "5    0.125000        0.250000  \n",
      "6    0.129032        0.290323  \n",
      "7    0.166667        0.333333  \n",
      "8    0.082569        0.458716  \n",
      "9    0.000000        0.170732  \n",
      "Size of combined bag of words and new quantitative variables matrix:\n",
      "(153164, 524305)\n",
      "(153164, 524305)\n",
      "Shape of X_test for submission:\n",
      "(153164, 524305)\n",
      "SUCCESS!\n",
      "Number of rows in the submission test set (should be 153,164): \n",
      "Wall time: 3min 47s\n"
     ]
    }
   ],
   "source": [
    "%%time\n",
    "# read in test data for submission\n",
    "# CHANGE FILE PATH and my_random_seed number (any integer other than 74 will do): \n",
    "raw_data, X_test_submission = process_raw_data(fn='/Users/Charles/Desktop/ML/A1/toxiccomments_test.csv', my_random_seed=36, test=True)\n",
    "print(\"Number of rows in the submission test set (should be 153,164): \")"
   ]
  },
  {
   "cell_type": "markdown",
   "metadata": {},
   "source": [
    "---\n",
    "\n",
    "Choose a <span style=\"color:red\">*single*</span> model for your submission. In this code, I am choosing the Ordinary Least Squares model fit, which is in the `ols` object. But you should choose the model that is performing the best for you! "
   ]
  },
  {
   "cell_type": "code",
   "execution_count": 124,
   "metadata": {},
   "outputs": [],
   "source": [
    "# store the id from the raw data\n",
    "my_submission2 = pd.DataFrame(raw_data2[\"id\"])\n",
    "# concatenate predictions to the id\n",
    "my_submission2[\"esb\"] = esb3.predict(X2_test_submission)\n",
    "# look at the proportion of positive predictions\n",
    "# print(my_submission['prediction'].mean())\n",
    "\n",
    "my_submission2[\"nbs\"] = nbs.predict(X2_test_submission)\n",
    "\n",
    "my_submission2[\"cnb\"] = cnb.predict(X2_test_submission)\n",
    "\n",
    "my_submission2[\"lgr\"] = lgr.predict(X2_test_submission)\n",
    "\n",
    "my_submission = pd.DataFrame(raw_data[\"id\"])\n",
    "\n",
    "my_submission[\"rdg\"] = rdg.predict(X_test_submission)\n",
    "\n",
    "# print(my_submission[\"rdg\"].head())"
   ]
  },
  {
   "cell_type": "code",
   "execution_count": null,
   "metadata": {},
   "outputs": [],
   "source": [
    "print(my_submission.shape)\n",
    "print(my_submission2.shape)\n",
    "m1 = pd.concat([my_submission2, my_submission[\"rdg\"]], axis=1)\n",
    "# print(m1.head(50))\n",
    "# [\"prediction_esb\", \"prediction_nbs\", \"prediction_cnb\", \"prediction_lgr\", \"prediction_rdg\"]\n",
    "m1[\"Ensemble\"] = m1[\"esb\"]*0.03 + m1[\"rdg\"]*1.02 + m1[\"nbs\"]*0.99 + m1[\"cnb\"]*0.98 + m1[\"lgr\"]*0.98\n",
    "m1[\"ens_int\"] = (m1[\"Ensemble\"]>2).astype(int)\n",
    "# print(Ensemble.head(50))\n",
    "# print(m1[\"ens_int\"].head(50))\n",
    "m1[\"prediction_ens\"] = m1[\"ens_int\"].replace({0: \"False\", 1: \"True\"})\n",
    "# print(ens.head(50))\n",
    "my_final = pd.concat([m1[\"id\"], m1[\"prediction_ens\"]], axis=1)\n",
    "print(my_final.head(10))\n",
    "# my_final = my_final.rename(columns={0: \"prediction_ens\"}, inplace=True"
   ]
  },
  {
   "cell_type": "code",
   "execution_count": null,
   "metadata": {},
   "outputs": [],
   "source": [
    "my_final.head(10)\n",
    "# my_submission.to_csv('/Users/Charles/Desktop/ML/A1/toxiccomments_ensemble.csv', index=False)"
   ]
  },
  {
   "cell_type": "code",
   "execution_count": null,
   "metadata": {},
   "outputs": [],
   "source": [
    "my_final.shape"
   ]
  },
  {
   "cell_type": "code",
   "execution_count": 134,
   "metadata": {},
   "outputs": [],
   "source": [
    "# export submission file as pdf\n",
    "# CHANGE FILE PATH: \n",
    "my_final.to_csv('/Users/Charles/Desktop/ML/A1/toxiccomments_5th_submission.csv', index=False)"
   ]
  },
  {
   "cell_type": "markdown",
   "metadata": {},
   "source": [
    "---\n",
    "\n",
    "# <span style=\"color:red\">SUBMISSION</span>\n",
    "\n",
    "---"
   ]
  },
  {
   "cell_type": "code",
   "execution_count": 39,
   "metadata": {},
   "outputs": [
    {
     "name": "stdout",
     "output_type": "stream",
     "text": [
      "0.39923872450445275\n"
     ]
    }
   ],
   "source": [
    "# store the id from the raw data\n",
    "my_submission = pd.DataFrame(raw_data[\"id\"])\n",
    "# concatenate predictions to the id\n",
    "my_submission[\"prediction\"] = rdg_10.predict(X_test_submission)\n",
    "# look at the proportion of positive predictions\n",
    "print(my_submission['prediction'].mean())"
   ]
  },
  {
   "cell_type": "code",
   "execution_count": 40,
   "metadata": {},
   "outputs": [
    {
     "data": {
      "text/html": [
       "<div>\n",
       "<style scoped>\n",
       "    .dataframe tbody tr th:only-of-type {\n",
       "        vertical-align: middle;\n",
       "    }\n",
       "\n",
       "    .dataframe tbody tr th {\n",
       "        vertical-align: top;\n",
       "    }\n",
       "\n",
       "    .dataframe thead th {\n",
       "        text-align: right;\n",
       "    }\n",
       "</style>\n",
       "<table border=\"1\" class=\"dataframe\">\n",
       "  <thead>\n",
       "    <tr style=\"text-align: right;\">\n",
       "      <th></th>\n",
       "      <th>id</th>\n",
       "      <th>comment_text</th>\n",
       "      <th>char_count</th>\n",
       "      <th>Caps_count</th>\n",
       "      <th>Caps_ratio</th>\n",
       "      <th>word_count</th>\n",
       "      <th>char_ratio</th>\n",
       "      <th>punc_count_p</th>\n",
       "      <th>punc_count_exc</th>\n",
       "      <th>punc_count_q</th>\n",
       "      <th>punc_count</th>\n",
       "      <th>punc_ratio</th>\n",
       "      <th>Capsword_ratio</th>\n",
       "      <th>spaces_count</th>\n",
       "      <th>spaces_ratio</th>\n",
       "      <th>spaceswords_ratio</th>\n",
       "      <th>consCaps_count</th>\n",
       "      <th>consCaps_ratio</th>\n",
       "      <th>consCapsword_ratio</th>\n",
       "    </tr>\n",
       "  </thead>\n",
       "  <tbody>\n",
       "    <tr>\n",
       "      <th>0</th>\n",
       "      <td>00001cee341fdb12</td>\n",
       "      <td>Yo bitch Ja Rule is more succesful then you'll...</td>\n",
       "      <td>367</td>\n",
       "      <td>4</td>\n",
       "      <td>0.000003</td>\n",
       "      <td>72</td>\n",
       "      <td>5.097222</td>\n",
       "      <td>10</td>\n",
       "      <td>0</td>\n",
       "      <td>0</td>\n",
       "      <td>10</td>\n",
       "      <td>0.138889</td>\n",
       "      <td>0.194444</td>\n",
       "      <td>71</td>\n",
       "      <td>0.193460</td>\n",
       "      <td>0.986111</td>\n",
       "      <td>0</td>\n",
       "      <td>0.00</td>\n",
       "      <td>0.000000</td>\n",
       "    </tr>\n",
       "    <tr>\n",
       "      <th>1</th>\n",
       "      <td>0000247867823ef7</td>\n",
       "      <td>== From RfC == \\n\\n The title is fine as it is...</td>\n",
       "      <td>50</td>\n",
       "      <td>7</td>\n",
       "      <td>0.004096</td>\n",
       "      <td>13</td>\n",
       "      <td>3.846154</td>\n",
       "      <td>1</td>\n",
       "      <td>0</td>\n",
       "      <td>0</td>\n",
       "      <td>1</td>\n",
       "      <td>0.076923</td>\n",
       "      <td>0.615385</td>\n",
       "      <td>12</td>\n",
       "      <td>0.240000</td>\n",
       "      <td>0.923077</td>\n",
       "      <td>1</td>\n",
       "      <td>0.02</td>\n",
       "      <td>0.076923</td>\n",
       "    </tr>\n",
       "    <tr>\n",
       "      <th>2</th>\n",
       "      <td>00013b17ad220c46</td>\n",
       "      <td>\" \\n\\n == Sources == \\n\\n * Zawe Ashton on Lap...</td>\n",
       "      <td>54</td>\n",
       "      <td>4</td>\n",
       "      <td>0.000794</td>\n",
       "      <td>16</td>\n",
       "      <td>3.375000</td>\n",
       "      <td>0</td>\n",
       "      <td>0</td>\n",
       "      <td>0</td>\n",
       "      <td>0</td>\n",
       "      <td>0.000000</td>\n",
       "      <td>0.250000</td>\n",
       "      <td>15</td>\n",
       "      <td>0.277778</td>\n",
       "      <td>0.937500</td>\n",
       "      <td>0</td>\n",
       "      <td>0.00</td>\n",
       "      <td>0.000000</td>\n",
       "    </tr>\n",
       "    <tr>\n",
       "      <th>3</th>\n",
       "      <td>00017563c3f7919a</td>\n",
       "      <td>:If you have a look back at the source, the in...</td>\n",
       "      <td>205</td>\n",
       "      <td>4</td>\n",
       "      <td>0.000015</td>\n",
       "      <td>38</td>\n",
       "      <td>5.394737</td>\n",
       "      <td>3</td>\n",
       "      <td>0</td>\n",
       "      <td>0</td>\n",
       "      <td>3</td>\n",
       "      <td>0.078947</td>\n",
       "      <td>0.184211</td>\n",
       "      <td>37</td>\n",
       "      <td>0.180488</td>\n",
       "      <td>0.973684</td>\n",
       "      <td>0</td>\n",
       "      <td>0.00</td>\n",
       "      <td>0.000000</td>\n",
       "    </tr>\n",
       "    <tr>\n",
       "      <th>4</th>\n",
       "      <td>00017695ad8997eb</td>\n",
       "      <td>I don't anonymously edit articles at all.</td>\n",
       "      <td>41</td>\n",
       "      <td>1</td>\n",
       "      <td>0.000116</td>\n",
       "      <td>7</td>\n",
       "      <td>5.857143</td>\n",
       "      <td>1</td>\n",
       "      <td>0</td>\n",
       "      <td>0</td>\n",
       "      <td>1</td>\n",
       "      <td>0.142857</td>\n",
       "      <td>0.285714</td>\n",
       "      <td>6</td>\n",
       "      <td>0.146341</td>\n",
       "      <td>0.857143</td>\n",
       "      <td>0</td>\n",
       "      <td>0.00</td>\n",
       "      <td>0.000000</td>\n",
       "    </tr>\n",
       "  </tbody>\n",
       "</table>\n",
       "</div>"
      ],
      "text/plain": [
       "                 id                                       comment_text  \\\n",
       "0  00001cee341fdb12  Yo bitch Ja Rule is more succesful then you'll...   \n",
       "1  0000247867823ef7  == From RfC == \\n\\n The title is fine as it is...   \n",
       "2  00013b17ad220c46  \" \\n\\n == Sources == \\n\\n * Zawe Ashton on Lap...   \n",
       "3  00017563c3f7919a  :If you have a look back at the source, the in...   \n",
       "4  00017695ad8997eb          I don't anonymously edit articles at all.   \n",
       "\n",
       "   char_count  Caps_count  Caps_ratio  word_count  char_ratio  punc_count_p  \\\n",
       "0         367           4    0.000003          72    5.097222            10   \n",
       "1          50           7    0.004096          13    3.846154             1   \n",
       "2          54           4    0.000794          16    3.375000             0   \n",
       "3         205           4    0.000015          38    5.394737             3   \n",
       "4          41           1    0.000116           7    5.857143             1   \n",
       "\n",
       "   punc_count_exc  punc_count_q  punc_count  punc_ratio  Capsword_ratio  \\\n",
       "0               0             0          10    0.138889        0.194444   \n",
       "1               0             0           1    0.076923        0.615385   \n",
       "2               0             0           0    0.000000        0.250000   \n",
       "3               0             0           3    0.078947        0.184211   \n",
       "4               0             0           1    0.142857        0.285714   \n",
       "\n",
       "   spaces_count  spaces_ratio  spaceswords_ratio  consCaps_count  \\\n",
       "0            71      0.193460           0.986111               0   \n",
       "1            12      0.240000           0.923077               1   \n",
       "2            15      0.277778           0.937500               0   \n",
       "3            37      0.180488           0.973684               0   \n",
       "4             6      0.146341           0.857143               0   \n",
       "\n",
       "   consCaps_ratio  consCapsword_ratio  \n",
       "0            0.00            0.000000  \n",
       "1            0.02            0.076923  \n",
       "2            0.00            0.000000  \n",
       "3            0.00            0.000000  \n",
       "4            0.00            0.000000  "
      ]
     },
     "execution_count": 40,
     "metadata": {},
     "output_type": "execute_result"
    }
   ],
   "source": [
    "raw_data.head()"
   ]
  },
  {
   "cell_type": "code",
   "execution_count": 41,
   "metadata": {},
   "outputs": [
    {
     "data": {
      "text/html": [
       "<div>\n",
       "<style scoped>\n",
       "    .dataframe tbody tr th:only-of-type {\n",
       "        vertical-align: middle;\n",
       "    }\n",
       "\n",
       "    .dataframe tbody tr th {\n",
       "        vertical-align: top;\n",
       "    }\n",
       "\n",
       "    .dataframe thead th {\n",
       "        text-align: right;\n",
       "    }\n",
       "</style>\n",
       "<table border=\"1\" class=\"dataframe\">\n",
       "  <thead>\n",
       "    <tr style=\"text-align: right;\">\n",
       "      <th></th>\n",
       "      <th>id</th>\n",
       "      <th>prediction</th>\n",
       "    </tr>\n",
       "  </thead>\n",
       "  <tbody>\n",
       "    <tr>\n",
       "      <th>0</th>\n",
       "      <td>00001cee341fdb12</td>\n",
       "      <td>True</td>\n",
       "    </tr>\n",
       "    <tr>\n",
       "      <th>1</th>\n",
       "      <td>0000247867823ef7</td>\n",
       "      <td>False</td>\n",
       "    </tr>\n",
       "    <tr>\n",
       "      <th>2</th>\n",
       "      <td>00013b17ad220c46</td>\n",
       "      <td>True</td>\n",
       "    </tr>\n",
       "    <tr>\n",
       "      <th>3</th>\n",
       "      <td>00017563c3f7919a</td>\n",
       "      <td>False</td>\n",
       "    </tr>\n",
       "    <tr>\n",
       "      <th>4</th>\n",
       "      <td>00017695ad8997eb</td>\n",
       "      <td>False</td>\n",
       "    </tr>\n",
       "    <tr>\n",
       "      <th>5</th>\n",
       "      <td>0001ea8717f6de06</td>\n",
       "      <td>False</td>\n",
       "    </tr>\n",
       "    <tr>\n",
       "      <th>6</th>\n",
       "      <td>00024115d4cbde0f</td>\n",
       "      <td>False</td>\n",
       "    </tr>\n",
       "    <tr>\n",
       "      <th>7</th>\n",
       "      <td>000247e83dcc1211</td>\n",
       "      <td>True</td>\n",
       "    </tr>\n",
       "    <tr>\n",
       "      <th>8</th>\n",
       "      <td>00025358d4737918</td>\n",
       "      <td>False</td>\n",
       "    </tr>\n",
       "    <tr>\n",
       "      <th>9</th>\n",
       "      <td>00026d1092fe71cc</td>\n",
       "      <td>False</td>\n",
       "    </tr>\n",
       "  </tbody>\n",
       "</table>\n",
       "</div>"
      ],
      "text/plain": [
       "                 id  prediction\n",
       "0  00001cee341fdb12        True\n",
       "1  0000247867823ef7       False\n",
       "2  00013b17ad220c46        True\n",
       "3  00017563c3f7919a       False\n",
       "4  00017695ad8997eb       False\n",
       "5  0001ea8717f6de06       False\n",
       "6  00024115d4cbde0f       False\n",
       "7  000247e83dcc1211        True\n",
       "8  00025358d4737918       False\n",
       "9  00026d1092fe71cc       False"
      ]
     },
     "execution_count": 41,
     "metadata": {},
     "output_type": "execute_result"
    }
   ],
   "source": [
    "my_submission.head(10)"
   ]
  },
  {
   "cell_type": "code",
   "execution_count": 42,
   "metadata": {},
   "outputs": [
    {
     "data": {
      "text/plain": [
       "(153164, 2)"
      ]
     },
     "execution_count": 42,
     "metadata": {},
     "output_type": "execute_result"
    }
   ],
   "source": [
    "my_submission.shape"
   ]
  },
  {
   "cell_type": "code",
   "execution_count": 43,
   "metadata": {},
   "outputs": [],
   "source": [
    "# export submission file as pdf\n",
    "# CHANGE FILE PATH: \n",
    "my_submission.to_csv('/Users/Charles/Desktop/ML/A1/toxiccomments_finalsubmission.csv', index=False)"
   ]
  },
  {
   "cell_type": "markdown",
   "metadata": {},
   "source": [
    "# Submit to Canvas: 1) the CSV file that was written in the previous cell and 2) the url to the repository (GitHub or other) that contains your code and documentation"
   ]
  }
 ],
 "metadata": {
  "kernelspec": {
   "display_name": "Python 3",
   "language": "python",
   "name": "python3"
  },
  "language_info": {
   "codemirror_mode": {
    "name": "ipython",
    "version": 3
   },
   "file_extension": ".py",
   "mimetype": "text/x-python",
   "name": "python",
   "nbconvert_exporter": "python",
   "pygments_lexer": "ipython3",
   "version": "3.7.9"
  }
 },
 "nbformat": 4,
 "nbformat_minor": 2
}
